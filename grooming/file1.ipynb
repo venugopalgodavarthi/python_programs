{
 "cells": [
  {
   "cell_type": "code",
   "execution_count": 1,
   "metadata": {},
   "outputs": [
    {
     "data": {
      "text/plain": [
       "107"
      ]
     },
     "execution_count": 1,
     "metadata": {},
     "output_type": "execute_result"
    }
   ],
   "source": [
    "st=\"It is a phenomenon of making a class as a collection so that we can use looping statements as a collection.\"\n",
    "\n",
    "def length(coll):\n",
    "    count=0\n",
    "    for i in coll:\n",
    "        count+=1\n",
    "    return count\n",
    "length(st)\n"
   ]
  },
  {
   "cell_type": "code",
   "execution_count": 2,
   "metadata": {},
   "outputs": [
    {
     "data": {
      "text/plain": [
       "86"
      ]
     },
     "execution_count": 2,
     "metadata": {},
     "output_type": "execute_result"
    }
   ],
   "source": [
    "def length(coll):\n",
    "    count=0\n",
    "    for i in coll:\n",
    "        if 'a'<=i<='z' or 'A'<=i<='Z':\n",
    "            count+=1\n",
    "    return count\n",
    "length(st)"
   ]
  },
  {
   "cell_type": "code",
   "execution_count": 3,
   "metadata": {},
   "outputs": [
    {
     "data": {
      "text/plain": [
       "21"
      ]
     },
     "execution_count": 3,
     "metadata": {},
     "output_type": "execute_result"
    }
   ],
   "source": [
    "def length(coll):\n",
    "    count=0\n",
    "    for i in coll:\n",
    "        if i==\" \":\n",
    "            count+=1\n",
    "    return count+1\n",
    "length(st)"
   ]
  },
  {
   "cell_type": "code",
   "execution_count": 14,
   "metadata": {},
   "outputs": [
    {
     "name": "stdout",
     "output_type": "stream",
     "text": [
      "collection.\n"
     ]
    }
   ],
   "source": [
    "st=\"It is a phenomenon of  making a class as a collection so that we can use looping statements as a collection.\"\n",
    "def split(coll):\n",
    "    l=[]\n",
    "    s=''\n",
    "    for i in coll:\n",
    "        if i!=\" \":\n",
    "            s+=i\n",
    "        else:\n",
    "            if s!=\"\":\n",
    "                l+=[s]\n",
    "                s=\"\"\n",
    "    l+=[s]\n",
    "    return l\n",
    "res=split(st)\n",
    "\n",
    "max=\"\"\n",
    "for i in res:\n",
    "    if len(max)<len(i):\n",
    "        max=i\n",
    "print(max)\n"
   ]
  },
  {
   "cell_type": "code",
   "execution_count": 46,
   "metadata": {},
   "outputs": [
    {
     "name": "stdout",
     "output_type": "stream",
     "text": [
      "['collection', 'collect', 'collecting', 'collected', 'collective', 'collet', 'collecter']\n",
      "colle\n"
     ]
    }
   ],
   "source": [
    "#extract the common prefix from the all the words.\n",
    "\n",
    "st=\"collection collect collecting collected collective collet collecter\"\n",
    "res=split(st)\n",
    "print(res)\n",
    "\n",
    "\n",
    "p=0\n",
    "s=res[0][p]\n",
    "while p<=10:\n",
    "    count=0\n",
    "    for i in res:\n",
    "        if s[p]==i[p]:\n",
    "            count+=1\n",
    "    p+=1\n",
    "    if count==len(res):\n",
    "        s+=res[0][p]\n",
    "    else:\n",
    "        break\n",
    "print(s[:-1])\n",
    "    \n",
    "\n"
   ]
  },
  {
   "cell_type": "code",
   "execution_count": 54,
   "metadata": {},
   "outputs": [
    {
     "name": "stdout",
     "output_type": "stream",
     "text": [
      "['collection', 'collect', 'collecting123', 'coll2ected', 'collective', 'collet', 'collecter']\n",
      "coll\n",
      "collecting123\n"
     ]
    }
   ],
   "source": [
    "#extract the common prefix from the all the words.\n",
    "\n",
    "st=\"collection collect collecting123 coll2ected collective collet collecter\"\n",
    "res=split(st)\n",
    "print(res)\n",
    "p=0\n",
    "max=\"\"\n",
    "s=res[0][p]\n",
    "while p<=len(res):\n",
    "    count=0\n",
    "    for i in res:\n",
    "        if s[p]==i[p]:\n",
    "            count+=1\n",
    "    p+=1\n",
    "    if count==len(res):\n",
    "        s+=res[0][p]\n",
    "    else:\n",
    "        break\n",
    "    if len(max)<len(res[p]):\n",
    "        max=res[p]\n",
    "print(s[:-1])\n",
    "print(max)\n",
    "    "
   ]
  },
  {
   "cell_type": "code",
   "execution_count": 56,
   "metadata": {},
   "outputs": [
    {
     "name": "stdout",
     "output_type": "stream",
     "text": [
      "['collection', 'collect', 'collecting123', 'coll2ected', 'collective', 'collet', 'collecter']\n",
      "coll\n",
      "collecting123\n"
     ]
    }
   ],
   "source": [
    "#extract the common prefix from the all the words.\n",
    "\n",
    "st=\"collection collect collecting123 coll2ected collective collet collecter\"\n",
    "res=split(st)\n",
    "print(res)\n",
    "p=0\n",
    "\n",
    "s=res[0][p]\n",
    "while p<=len(res):\n",
    "    count=0\n",
    "    for i in res:\n",
    "        if s[p]==i[p]:\n",
    "            count+=1\n",
    "    p+=1\n",
    "    if count==len(res):\n",
    "        s+=res[0][p]\n",
    "    else:\n",
    "        break\n",
    "    \n",
    "print(s[:-1])\n",
    "max=\"\"\n",
    "for i in res:\n",
    "    if len(max)<len(i):\n",
    "        max=i\n",
    "print(max)"
   ]
  },
  {
   "cell_type": "code",
   "execution_count": 59,
   "metadata": {},
   "outputs": [
    {
     "name": "stdout",
     "output_type": "stream",
     "text": [
      "a b c\n",
      "a c b\n",
      "b a c\n",
      "b c a\n",
      "c a b\n",
      "c b a\n"
     ]
    }
   ],
   "source": [
    "s=\"abc\"\n",
    "for i in s:\n",
    "    for j in s:\n",
    "        for k in s:\n",
    "            if i!=j and j!=k and i!=k:\n",
    "                print(i,j,k)"
   ]
  },
  {
   "cell_type": "code",
   "execution_count": 67,
   "metadata": {},
   "outputs": [
    {
     "name": "stdout",
     "output_type": "stream",
     "text": [
      "[('a', 'b', 'c'), ('a', 'c', 'b'), ('b', 'a', 'c'), ('b', 'c', 'a'), ('c', 'a', 'b'), ('c', 'b', 'a')]\n"
     ]
    }
   ],
   "source": [
    "import itertools\n",
    "\n",
    "s='abc'\n",
    "res=itertools.permutations(s)\n",
    "print(list(res))"
   ]
  },
  {
   "cell_type": "code",
   "execution_count": 73,
   "metadata": {},
   "outputs": [
    {
     "name": "stdout",
     "output_type": "stream",
     "text": [
      "abcba\n",
      "bcb\n",
      "klmomlk\n",
      "lmoml\n",
      "mom\n"
     ]
    }
   ],
   "source": [
    "#extract the palindromes from the string.\n",
    "s=\"abcbaihjklmomlkgfdj\"\n",
    "j=0\n",
    "while j<len(s):\n",
    "    i=0\n",
    "    while i<len(s):\n",
    "        if len(s[j:i+1])>2 and  s[j:i+1]==s[j:i+1][::-1] :\n",
    "            print(s[j:i+1])\n",
    "        i+=1\n",
    "    j+=1"
   ]
  },
  {
   "cell_type": "code",
   "execution_count": 77,
   "metadata": {},
   "outputs": [
    {
     "name": "stdout",
     "output_type": "stream",
     "text": [
      "palindrome\n"
     ]
    }
   ],
   "source": [
    "s=\"madam\"\n",
    "start=0\n",
    "end=-1\n",
    "while start<len(s)//2:\n",
    "    if s[start]!=s[end]:\n",
    "        print(\"invalid\")\n",
    "        break\n",
    "    start+=1\n",
    "    end-=1\n",
    "else:\n",
    "    print(\"palindrome\")\n",
    "        \n"
   ]
  },
  {
   "cell_type": "code",
   "execution_count": 120,
   "metadata": {},
   "outputs": [
    {
     "name": "stdout",
     "output_type": "stream",
     "text": [
      "(\n",
      "(\n",
      "{\n",
      "valid\n"
     ]
    }
   ],
   "source": [
    "s=\"(({}))\"\n",
    "start=0\n",
    "end=-1\n",
    "while start<len(s)//2:\n",
    "    print(s[start])\n",
    "    if s[start]=='[' and s[end]==']':\n",
    "        pass\n",
    "    elif s[start]=='(' and s[end]==')':\n",
    "        pass\n",
    "    elif s[start]=='{' and s[end]=='}':\n",
    "        pass\n",
    "    else:\n",
    "        print(\"invalid\")\n",
    "        break\n",
    "    start+=1\n",
    "    end-=1\n",
    "else:\n",
    "    print(\"valid\")"
   ]
  },
  {
   "cell_type": "code",
   "execution_count": 126,
   "metadata": {},
   "outputs": [
    {
     "name": "stdout",
     "output_type": "stream",
     "text": [
      "i\n",
      "ma\n",
      "os\n",
      "i ma os yppah\n"
     ]
    }
   ],
   "source": [
    "st=\"i am so happy\"\n",
    "\"i ma os yppah\"\n",
    "\n",
    "s=\"\"\n",
    "res=\"\"\n",
    "i=0\n",
    "while i<len(st):\n",
    "    if st[i]!=\" \":\n",
    "        s=st[i]+s\n",
    "    else:\n",
    "        print(s)\n",
    "        res=res+s+st[i]\n",
    "        s=\"\"\n",
    "    i+=1\n",
    "res=res+s\n",
    "print(res)\n",
    "\n"
   ]
  },
  {
   "cell_type": "code",
   "execution_count": 130,
   "metadata": {},
   "outputs": [
    {
     "name": "stdout",
     "output_type": "stream",
     "text": [
      "pythonisanos\n",
      "pythonisano\n",
      "pythonisan\n",
      "pythonisa\n",
      "pythonis\n",
      "pythoni\n",
      "python\n",
      "pytho\n",
      "pyth\n",
      "pyt\n",
      "py\n",
      "p\n",
      "\n"
     ]
    }
   ],
   "source": [
    "res='pythonisanosi'\n",
    "for i in range(0,len(res)):\n",
    "    print(res[:-i-1])\n"
   ]
  },
  {
   "cell_type": "code",
   "execution_count": 144,
   "metadata": {},
   "outputs": [
    {
     "name": "stdout",
     "output_type": "stream",
     "text": [
      "pythonisa\n"
     ]
    }
   ],
   "source": [
    "#wap to find out the largest substring without duplicate character.\n",
    "#i/p      pythonisanosi\n",
    "\n",
    "t='pythonisanosi'\n",
    "max=\"\"\n",
    "for i in range(0,len(t)):\n",
    "    s=t[:-i-1]\n",
    "    res=\"\"\n",
    "    for j in s:\n",
    "        if j not in res:\n",
    "            res+=j\n",
    "    if len(s)==len(res):\n",
    "        if len(max)<len(s):\n",
    "            max=s\n",
    "print(max)\n"
   ]
  },
  {
   "cell_type": "code",
   "execution_count": 137,
   "metadata": {},
   "outputs": [
    {
     "name": "stdout",
     "output_type": "stream",
     "text": [
      "True\n"
     ]
    }
   ],
   "source": [
    "s='python'\n",
    "res=\"\"\n",
    "for i in s:\n",
    "    if i not in res:\n",
    "        res+=i \n",
    "if len(s)==len(res):\n",
    "    print(True)"
   ]
  }
 ],
 "metadata": {
  "kernelspec": {
   "display_name": "Python 3",
   "language": "python",
   "name": "python3"
  },
  "language_info": {
   "codemirror_mode": {
    "name": "ipython",
    "version": 3
   },
   "file_extension": ".py",
   "mimetype": "text/x-python",
   "name": "python",
   "nbconvert_exporter": "python",
   "pygments_lexer": "ipython3",
   "version": "3.11.4"
  },
  "orig_nbformat": 4
 },
 "nbformat": 4,
 "nbformat_minor": 2
}
