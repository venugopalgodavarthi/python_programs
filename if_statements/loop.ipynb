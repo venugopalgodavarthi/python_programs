{
 "cells": [
  {
   "cell_type": "code",
   "execution_count": 1,
   "metadata": {},
   "outputs": [
    {
     "name": "stdout",
     "output_type": "stream",
     "text": [
      "hello world\n",
      "hello world\n",
      "hello world\n",
      "hello world\n",
      "hello world\n"
     ]
    }
   ],
   "source": [
    "start=1\n",
    "end=5\n",
    "up=1\n",
    "while start<=end:\n",
    "    print(\"hello world\")\n",
    "    start+=up\n"
   ]
  },
  {
   "cell_type": "code",
   "execution_count": 2,
   "metadata": {},
   "outputs": [
    {
     "name": "stdout",
     "output_type": "stream",
     "text": [
      "1\n",
      "2\n",
      "3\n",
      "4\n",
      "5\n",
      "6\n",
      "7\n",
      "8\n",
      "9\n",
      "10\n"
     ]
    }
   ],
   "source": [
    "start=1\n",
    "end=10\n",
    "up=1\n",
    "while start<=end:\n",
    "    print(start)\n",
    "    start+=up"
   ]
  },
  {
   "cell_type": "code",
   "execution_count": 3,
   "metadata": {},
   "outputs": [
    {
     "name": "stdout",
     "output_type": "stream",
     "text": [
      "8\n",
      "7\n",
      "6\n",
      "5\n",
      "4\n",
      "3\n"
     ]
    }
   ],
   "source": [
    "start=8\n",
    "end=3\n",
    "up=-1\n",
    "while start>=end:\n",
    "    print(start)\n",
    "    start+=up"
   ]
  },
  {
   "cell_type": "code",
   "execution_count": 4,
   "metadata": {},
   "outputs": [
    {
     "name": "stdout",
     "output_type": "stream",
     "text": [
      "21\n",
      "23\n",
      "25\n",
      "27\n",
      "29\n",
      "31\n",
      "33\n",
      "35\n",
      "37\n",
      "39\n",
      "41\n",
      "43\n",
      "45\n",
      "47\n",
      "49\n"
     ]
    }
   ],
   "source": [
    "start=20\n",
    "end=50\n",
    "up=1\n",
    "while start<=end:\n",
    "    if start%2!=0:\n",
    "        print(start)\n",
    "    start+=up"
   ]
  },
  {
   "cell_type": "code",
   "execution_count": 13,
   "metadata": {},
   "outputs": [
    {
     "name": "stdout",
     "output_type": "stream",
     "text": [
      "212325272931333537394143454749"
     ]
    }
   ],
   "source": [
    "start=20\n",
    "end=50\n",
    "up=1\n",
    "while start<=end:\n",
    "    if start%2!=0:\n",
    "        print(start)\n",
    "    start+=up"
   ]
  },
  {
   "cell_type": "code",
   "execution_count": 14,
   "metadata": {},
   "outputs": [
    {
     "name": "stdout",
     "output_type": "stream",
     "text": [
      "21\n",
      "42\n",
      "63\n",
      "84\n"
     ]
    }
   ],
   "source": [
    "start=8\n",
    "end=100\n",
    "up=1\n",
    "while start<=end:\n",
    "    if start%3==0 and start%7==0:\n",
    "        print(start)\n",
    "    start+=up"
   ]
  },
  {
   "cell_type": "code",
   "execution_count": 15,
   "metadata": {},
   "outputs": [
    {
     "name": "stdout",
     "output_type": "stream",
     "text": [
      "1\n",
      "5\n",
      "25\n"
     ]
    }
   ],
   "source": [
    "start=1\n",
    "end=25\n",
    "up=1\n",
    "while start<=end:\n",
    "    if end%start==0:\n",
    "        print(start)\n",
    "    start+=up"
   ]
  },
  {
   "cell_type": "code",
   "execution_count": 18,
   "metadata": {},
   "outputs": [
    {
     "name": "stdout",
     "output_type": "stream",
     "text": [
      "[1, 5, 25]\n"
     ]
    }
   ],
   "source": [
    "start=1\n",
    "end=25\n",
    "up=1\n",
    "li=[]\n",
    "while start<=end:\n",
    "    if end%start==0:\n",
    "        li+=[start]\n",
    "    start+=up\n",
    "print(li)\n"
   ]
  },
  {
   "cell_type": "code",
   "execution_count": 36,
   "metadata": {},
   "outputs": [
    {
     "data": {
      "text/plain": [
       "True"
      ]
     },
     "execution_count": 36,
     "metadata": {},
     "output_type": "execute_result"
    }
   ],
   "source": [
    "l=[1,2,3]\n",
    "u=l\n",
    "l is u"
   ]
  },
  {
   "cell_type": "code",
   "execution_count": 9,
   "metadata": {},
   "outputs": [
    {
     "name": "stdout",
     "output_type": "stream",
     "text": [
      "hello\n",
      "'world\n",
      "5"
     ]
    }
   ],
   "source": [
    "#WAP to extract the all the character from given string.\n",
    "st=\"hello\\n'world\\n5\"\n",
    "start=0\n",
    "end=len(st)\n",
    "up=1\n",
    "while start<end:\n",
    "    print(st[start],end=\"\")\n",
    "    start+=up\n",
    "    "
   ]
  },
  {
   "cell_type": "code",
   "execution_count": null,
   "metadata": {},
   "outputs": [],
   "source": []
  },
  {
   "cell_type": "code",
   "execution_count": 10,
   "metadata": {},
   "outputs": [
    {
     "name": "stdout",
     "output_type": "stream",
     "text": [
      "3\n"
     ]
    }
   ],
   "source": [
    "#WAP to count the number of lines in given string.\n",
    "st=\"hello\\nworld\\n564\"\n",
    "start=0\n",
    "end=len(st)\n",
    "up=1\n",
    "count=0\n",
    "while start<end:\n",
    "    if st[start]=='\\n':\n",
    "        count+=1\n",
    "    start+=up\n",
    "print(count+1)"
   ]
  },
  {
   "cell_type": "code",
   "execution_count": 11,
   "metadata": {},
   "outputs": [
    {
     "name": "stdout",
     "output_type": "stream",
     "text": [
      "2\n"
     ]
    }
   ],
   "source": [
    "# WAP to count the number of new lines in given string.\n",
    "st = \"hello\\nworld\\n564\"\n",
    "start = 0\n",
    "end = len(st)\n",
    "up = 1\n",
    "count = 0\n",
    "while start < end:\n",
    "    if st[start] == '\\n':\n",
    "        count += 1\n",
    "    start += up\n",
    "print(count)\n"
   ]
  },
  {
   "cell_type": "code",
   "execution_count": 12,
   "metadata": {},
   "outputs": [
    {
     "name": "stdout",
     "output_type": "stream",
     "text": [
      "10\n"
     ]
    }
   ],
   "source": [
    "# WAP to count the number of alphabets in given string.\n",
    "st = \"hello\\nworld\\n564\"\n",
    "start = 0\n",
    "end = len(st)\n",
    "up = 1\n",
    "count = 0\n",
    "while start < end:\n",
    "    if 'A'<=st[start]<='Z' or 'a'<=st[start]<='z':\n",
    "        count += 1\n",
    "    start += up\n",
    "print(count)\n"
   ]
  },
  {
   "cell_type": "code",
   "execution_count": 14,
   "metadata": {},
   "outputs": [
    {
     "name": "stdout",
     "output_type": "stream",
     "text": [
      "10\n",
      "20\n",
      "a\n",
      "b\n",
      "c\n",
      "[10, 20]\n",
      "(50, 60)\n"
     ]
    }
   ],
   "source": [
    "# WAP to extract the all the data items in given list.\n",
    "li=[10,20,\"a\",'b','c',[10,20],(50,60)]\n",
    "start=0\n",
    "end=len(li)\n",
    "up=1\n",
    "while start<end:\n",
    "    print(li[start])\n",
    "    start+=up\n"
   ]
  },
  {
   "cell_type": "code",
   "execution_count": null,
   "metadata": {},
   "outputs": [],
   "source": []
  },
  {
   "cell_type": "code",
   "execution_count": 15,
   "metadata": {},
   "outputs": [
    {
     "name": "stdout",
     "output_type": "stream",
     "text": [
      "3\n"
     ]
    }
   ],
   "source": [
    "# WAP to count the number of strings in given list.\n",
    "li = [10, 20, \"a\", 'b', 'c', [10, 20], (50, 60)]\n",
    "start=0\n",
    "end=len(li)\n",
    "up=1\n",
    "count=0\n",
    "while start<end:\n",
    "    if type(li[start])==str:\n",
    "        count+=1\n",
    "    start+=up\n",
    "print(count)\n"
   ]
  },
  {
   "cell_type": "code",
   "execution_count": 16,
   "metadata": {},
   "outputs": [
    {
     "name": "stdout",
     "output_type": "stream",
     "text": [
      "abc\n"
     ]
    }
   ],
   "source": [
    "# WAP to cancat all the strings in given list.\n",
    "li = [10, 20, \"a\", 'b', 'c', [10, 20], (50, 60)]\n",
    "start=0\n",
    "end=len(li)\n",
    "up=1\n",
    "st=\"\"\n",
    "while start<end:\n",
    "    if type(li[start])==str:\n",
    "        st=st+li[start]\n",
    "    start+=up\n",
    "print(st)\n"
   ]
  },
  {
   "cell_type": "code",
   "execution_count": 19,
   "metadata": {},
   "outputs": [
    {
     "name": "stdout",
     "output_type": "stream",
     "text": [
      "b\n",
      "c\n",
      "20\n",
      "a\n",
      "(50, 60)\n",
      "10\n"
     ]
    }
   ],
   "source": [
    "# WAP to extract the all the data items in given set.\n",
    "s = {10, 20, \"a\", 'b', 'c', (50, 60)}\n",
    "s=tuple(s)\n",
    "start=0\n",
    "end=len(s)\n",
    "up=1\n",
    "while start<end:\n",
    "    print(s[start])\n",
    "    start+=up\n"
   ]
  },
  {
   "cell_type": "code",
   "execution_count": 23,
   "metadata": {},
   "outputs": [
    {
     "name": "stdout",
     "output_type": "stream",
     "text": [
      "{'10': 50, 'hello': 'bye', (10,): ['pys', 'qsp'], 15.06: 1506}\n",
      "['10', 'hello', (10,), 15.06]\n"
     ]
    }
   ],
   "source": [
    "# WAP to extract the all the keys in given dict.\n",
    "d={'10':50,\"hello\":'bye',(10,):[\"pys\",\"qsp\"],15.06:1506}\n",
    "print(d)\n",
    "print(list(d))"
   ]
  },
  {
   "cell_type": "code",
   "execution_count": 25,
   "metadata": {},
   "outputs": [
    {
     "name": "stdout",
     "output_type": "stream",
     "text": [
      "50\n",
      "bye\n",
      "['pys', 'qsp']\n",
      "1506\n"
     ]
    }
   ],
   "source": [
    "# WAP to extract the all the values in given dict.\n",
    "d = {'10': 50, \"hello\": 'bye', (10,): [\"pys\", \"qsp\"], 15.06: 1506}\n",
    "l=list(d)\n",
    "start=0\n",
    "end=len(l)\n",
    "up=1\n",
    "while start<end:\n",
    "    print(d[l[start]])\n",
    "    start+=up\n",
    "\n",
    "\n"
   ]
  },
  {
   "cell_type": "code",
   "execution_count": 27,
   "metadata": {},
   "outputs": [
    {
     "name": "stdout",
     "output_type": "stream",
     "text": [
      "[50, 'bye', ['pys', 'qsp'], 1506]\n"
     ]
    }
   ],
   "source": [
    "# WAP to extract and store the all the values in given dict.\n",
    "d = {'10': 50, \"hello\": 'bye', (10,): [\"pys\", \"qsp\"], 15.06: 1506}\n",
    "l=list(d)\n",
    "start=0\n",
    "li=[]\n",
    "while start<len(l):\n",
    "    li+=[d[l[start]]]\n",
    "    start+=1\n",
    "print(li)"
   ]
  },
  {
   "cell_type": "code",
   "execution_count": 26,
   "metadata": {},
   "outputs": [
    {
     "name": "stdout",
     "output_type": "stream",
     "text": [
      "10 50\n",
      "hello bye\n",
      "(10,) ['pys', 'qsp']\n",
      "15.06 1506\n"
     ]
    }
   ],
   "source": [
    "# WAP to extract the all the items in given dict.\n",
    "d = {'10': 50, \"hello\": 'bye', (10,): [\"pys\", \"qsp\"], 15.06: 1506}\n",
    "l=list(d)\n",
    "start=0\n",
    "end=len(l)\n",
    "up=1\n",
    "while start<end:\n",
    "    print(l[start],d[l[start]])\n",
    "    start+=up"
   ]
  },
  {
   "cell_type": "code",
   "execution_count": 29,
   "metadata": {},
   "outputs": [
    {
     "name": "stdout",
     "output_type": "stream",
     "text": [
      "[['10', 50], ['hello', 'bye'], [(10,), ['pys', 'qsp']], [15.06, 1506]]\n"
     ]
    }
   ],
   "source": [
    "# WAP to extract ans store the all the items in given dict.\n",
    "d = {'10': 50, \"hello\": 'bye', (10,): [\"pys\", \"qsp\"], 15.06: 1506}\n",
    "l=list(d)\n",
    "start=0\n",
    "li=[]\n",
    "while start < len(l):\n",
    "    li+=[[l[start],d[l[start]]]]\n",
    "    start+=1\n",
    "print(li)"
   ]
  },
  {
   "cell_type": "code",
   "execution_count": null,
   "metadata": {},
   "outputs": [],
   "source": [
    "# WAP to check whether a given number is a prime number or not if prime print the prime number.\n",
    "a = 2\n",
    "num = 12\n",
    "while num > a:\n",
    "  if num % a == 0 & a != num:\n",
    "    print('not prime')\n",
    "    break\n",
    "  a += 1\n",
    "else:  \n",
    "  print('prime')\n"
   ]
  },
  {
   "cell_type": "code",
   "execution_count": 6,
   "metadata": {},
   "outputs": [
    {
     "name": "stdout",
     "output_type": "stream",
     "text": [
      "raja\n"
     ]
    }
   ],
   "source": [
    "#WAP to convert uppercase to lower case\n",
    "#i/p:'RAJA'\n",
    "#o/p:'raja'\n",
    "\n",
    "st=\"RAJA\"\n",
    "res=\"\"\n",
    "start=0\n",
    "while start<len(st):\n",
    "    res+=chr(ord(st[start])+32)\n",
    "    start+=1\n",
    "print(res)"
   ]
  },
  {
   "cell_type": "code",
   "execution_count": 11,
   "metadata": {},
   "outputs": [
    {
     "name": "stdout",
     "output_type": "stream",
     "text": [
      "RAJA!\"#\u0011\u0012\n",
      "\n"
     ]
    }
   ],
   "source": [
    "# WAP to convert lowercase to uppercase\n",
    "# i/p:'raja'\n",
    "# o/p:'RAJA'\n",
    "\n",
    "st = \"rajaABC12*\"\n",
    "res = \"\"\n",
    "start = 0\n",
    "while start < len(st):\n",
    "    res += chr(ord(st[start])-32)\n",
    "    start += 1\n",
    "print(res)\n"
   ]
  },
  {
   "cell_type": "code",
   "execution_count": 12,
   "metadata": {},
   "outputs": [
    {
     "name": "stdout",
     "output_type": "stream",
     "text": [
      "RAJA12@ABC\n"
     ]
    }
   ],
   "source": [
    "# WAP to convert lowercase to uppercase\n",
    "# i/p:'raja12@ABC'\n",
    "# o/p:'RAJA'\n",
    "\n",
    "st = \"raja12@ABC\"\n",
    "res = \"\"\n",
    "start = 0\n",
    "while start < len(st):\n",
    "    if 'a'<=st[start]<='z':\n",
    "        res += chr(ord(st[start])-32)\n",
    "    else:\n",
    "        res+=st[start]\n",
    "    start += 1\n",
    "print(res)\n"
   ]
  },
  {
   "cell_type": "code",
   "execution_count": 13,
   "metadata": {},
   "outputs": [
    {
     "name": "stdout",
     "output_type": "stream",
     "text": [
      "raja12Aabc+\n"
     ]
    }
   ],
   "source": [
    "#WAP to convert uppercase to lowercase, and if special symbol is there to extract and store the next character instead of special symbol.\n",
    "# i/p:'raja12@ABC'\n",
    "# o/p:'RAJA'\n",
    "\n",
    "st = \"raja12@ABC*\"\n",
    "res = \"\"\n",
    "start = 0\n",
    "while start < len(st):\n",
    "    if 'A' <= st[start] <= 'Z':\n",
    "        res += chr(ord(st[start])+32)\n",
    "    elif not('a'<=st[start]<='z' or '0'<=st[start]<='9'):\n",
    "        res += chr(ord(st[start])+1)\n",
    "    else:\n",
    "        res+=st[start]\n",
    "    start += 1\n",
    "print(res)\n"
   ]
  },
  {
   "cell_type": "code",
   "execution_count": 20,
   "metadata": {},
   "outputs": [
    {
     "name": "stdout",
     "output_type": "stream",
     "text": [
      "raja12aabc+\n"
     ]
    }
   ],
   "source": [
    "# WAP to convert uppercase to lowercase, and if special symbol is there to extract and store the next character instead of special symbol.\n",
    "# i/p:'raja12@ABC*'\n",
    "# o/p:'raja12aabc+'\n",
    "\n",
    "st = \"raja12@ABC*\"\n",
    "res = \"\"\n",
    "start = 0\n",
    "while start < len(st):\n",
    "    if 'A' <= st[start] <= 'Z':\n",
    "        res += chr(ord(st[start])+32)\n",
    "    elif not ('a' <= st[start] <= 'z' or '0' <= st[start] <= '9'):\n",
    "        if 'A' <= chr(ord(st[start])+1)<='Z':\n",
    "            res +=chr((ord(st[start])+1)+32)\n",
    "        else:\n",
    "            res +=chr(ord(st[start])+1)\n",
    "    else:\n",
    "        res += st[start]\n",
    "    start += 1\n",
    "print(res)\n"
   ]
  },
  {
   "cell_type": "code",
   "execution_count": null,
   "metadata": {},
   "outputs": [],
   "source": [
    "# WAP to check whether given string is upper or not, if upper case print given string is uppercase or else to print given string is not a uppercase.\n",
    "\n",
    "# i/p:'RAJA123@'\n",
    "# o/p:given string is uppercase\n",
    "\n",
    "# i/p:'RAJA123@a'\n",
    "# o/p:given string is not a uppercase\n",
    "\n",
    "st = \"RAJA123\"\n",
    "res = \"\"\n",
    "start = 0\n",
    "while start < len(st):\n",
    "    if not ('a' <= st[start] <= 'z'):\n",
    "        res += st[start]\n",
    "    start += 1\n",
    "if st == res:\n",
    "    print(\"given string is upper case\")\n",
    "else:\n",
    "    print(\"given string is not a upper case\")\n"
   ]
  },
  {
   "cell_type": "code",
   "execution_count": 5,
   "metadata": {},
   "outputs": [
    {
     "name": "stdout",
     "output_type": "stream",
     "text": [
      "hello_worldhaii\n"
     ]
    }
   ],
   "source": [
    "#WAP to convert to snake case in given string.\n",
    "st=\"hello worldhaii\"\n",
    "res=\"\"\n",
    "if \" \" in st:\n",
    "    start=0\n",
    "    while start<len(st):\n",
    "        if st[start]==' ':\n",
    "            res+='_'\n",
    "        else:\n",
    "            res+=st[start] \n",
    "        start+=1\n",
    "    print(res)\n",
    "else:\n",
    "    print(st)"
   ]
  },
  {
   "cell_type": "code",
   "execution_count": 8,
   "metadata": {},
   "outputs": [
    {
     "name": "stdout",
     "output_type": "stream",
     "text": [
      "Hello\n"
     ]
    }
   ],
   "source": [
    "# WAP to convert to cap first case in given string. with slicing.\n",
    "\n",
    "st=\"hello\"\n",
    "if 'a'<=st[0]<='z':\n",
    "    res=chr(ord(st[0])-32)+st[1:]\n",
    "    print(res)\n",
    "else:\n",
    "    print(st)\n"
   ]
  },
  {
   "cell_type": "code",
   "execution_count": 12,
   "metadata": {},
   "outputs": [
    {
     "name": "stdout",
     "output_type": "stream",
     "text": [
      "Hello\n"
     ]
    }
   ],
   "source": [
    "# WAP to convert to cap first case in given string. with out slicing.\n",
    "\n",
    "st = \"hello\"\n",
    "if 'a' <= st[0] <= 'z':\n",
    "    res = chr(ord(st[0])-32)\n",
    "    start=1\n",
    "    while start<len(st):\n",
    "        res+=st[start]\n",
    "        start+=1\n",
    "    print(res)\n",
    "else:\n",
    "    print(st)\n"
   ]
  },
  {
   "cell_type": "code",
   "execution_count": 20,
   "metadata": {},
   "outputs": [
    {
     "name": "stdout",
     "output_type": "stream",
     "text": [
      "HeLLo WorlD HaiI133**\n",
      "Hello world haii133**\n"
     ]
    }
   ],
   "source": [
    "#wap convert to capitalize in a given string.\n",
    "st=\"HeLLo WorlD HaiI133**\"\n",
    "print(st)\n",
    "if 'a'<=st[0]<='z':\n",
    "    res=chr(ord(st[0])-32)\n",
    "else:\n",
    "    res=st[0]\n",
    "start=1\n",
    "while start<len(st):\n",
    "    if 'A'<=st[start]<='Z':\n",
    "        res += chr(ord(st[start])+32)\n",
    "    else:\n",
    "        res+=st[start]\n",
    "    start+=1\n",
    "print(res)\n"
   ]
  },
  {
   "cell_type": "code",
   "execution_count": 47,
   "metadata": {},
   "outputs": [
    {
     "name": "stdout",
     "output_type": "stream",
     "text": [
      "heLLo Wor*lD haiI12f bYe\n",
      "1\n",
      "Hello Wor*Ld Haii12F Bye\n"
     ]
    }
   ],
   "source": [
    "# wap convert to title case in a given string.\n",
    "st = \"heLLo Wor*lD haiI12f bYe\"\n",
    "print(st)\n",
    "if 'a' <= st[0] <= 'z':\n",
    "    res = chr(ord(st[0])-32)\n",
    "else:\n",
    "    res = st[0]\n",
    "start = 1\n",
    "while start<len(st):\n",
    "    if not ('A' <= st[start] <= 'Z' or 'a' <= st[start] <= 'z'):\n",
    "        res+=st[start]\n",
    "        if 'a'<=st[start+1]<='z':\n",
    "            res+=chr(ord(st[start+1])-32)\n",
    "            start+=1\n",
    "        elif '0' <= st[start] <= '9':\n",
    "            print(st[start])\n",
    "            if 'a' <= st[start+1] <= 'z':\n",
    "                res += chr(ord(st[start+1])-32)\n",
    "                start += 1\n",
    "        else:\n",
    "            res+=st[start+1]\n",
    "            start += 1\n",
    "    else:\n",
    "        if 'A'<=st[start]<='Z':\n",
    "            res+=chr(ord(st[start])+32)\n",
    "        else:\n",
    "            res+=st[start]\n",
    "    start+=1\n",
    "print(res)\n",
    "\n"
   ]
  },
  {
   "cell_type": "code",
   "execution_count": 48,
   "metadata": {},
   "outputs": [
    {
     "name": "stdout",
     "output_type": "stream",
     "text": [
      "jhgafc juhgfc jugyfgtc juhg\n",
      "jhgfcjhugfc\n",
      "kjhgvc\n",
      ";kljhb\n",
      "lkjhb\n",
      "\n"
     ]
    }
   ],
   "source": [
    "st='''jhgafc juhgfc jugyfgtc juhg\n",
    "jhgfcjhugfc\n",
    "kjhgvc\n",
    ";kljhb\n",
    "lkjhb\n",
    "'''\n",
    "print(st)"
   ]
  },
  {
   "cell_type": "code",
   "execution_count": 49,
   "metadata": {},
   "outputs": [
    {
     "name": "stdout",
     "output_type": "stream",
     "text": [
      "apple\n",
      "bat\n",
      "cat\n",
      "dog\n"
     ]
    }
   ],
   "source": [
    "s='apple\\nbat\\ncat\\ndog'\n",
    "print(s)"
   ]
  },
  {
   "cell_type": "code",
   "execution_count": 13,
   "metadata": {},
   "outputs": [
    {
     "name": "stdout",
     "output_type": "stream",
     "text": [
      "BHCDE\n"
     ]
    }
   ],
   "source": [
    "st=\"HBCDE\"\n",
    "if len(st)>=2 and ord(st[0])+1==ord(st[1]):\n",
    "    res=st[0]+st[1]+st[-2]+st[-1]\n",
    "    print(res)\n",
    "else:\n",
    "    res=st[0:len(st)//2][::-1]+st[len(st)//2:]\n",
    "    print(res)"
   ]
  },
  {
   "cell_type": "code",
   "execution_count": null,
   "metadata": {},
   "outputs": [],
   "source": []
  },
  {
   "cell_type": "code",
   "execution_count": 15,
   "metadata": {},
   "outputs": [
    {
     "name": "stdout",
     "output_type": "stream",
     "text": [
      "{'a': 10, 'd': 500}\n"
     ]
    }
   ],
   "source": [
    "n=\"d\"\n",
    "d={'a':10}\n",
    "if n in d:\n",
    "    print(d[n])\n",
    "else:\n",
    "    d[n]=500\n",
    "    print(d)"
   ]
  },
  {
   "cell_type": "code",
   "execution_count": 17,
   "metadata": {},
   "outputs": [
    {
     "name": "stdout",
     "output_type": "stream",
     "text": [
      "{10, 20, 500}\n"
     ]
    }
   ],
   "source": [
    "s={10,20,20}\n",
    "if type(s)==set:\n",
    "    s=list(s)\n",
    "    s+=[500]\n",
    "    s=set(s)\n",
    "else:\n",
    "    s=set(s)\n",
    "print(s)\n",
    "\n"
   ]
  },
  {
   "cell_type": "code",
   "execution_count": 19,
   "metadata": {},
   "outputs": [
    {
     "name": "stdout",
     "output_type": "stream",
     "text": [
      "PYSPIDERSPYSPIDERSPYSPIDERS\n"
     ]
    }
   ],
   "source": [
    "s=\"PYSPIDERS\"\n",
    "if len(s)>10 and ord(s[0])%5==0 and ord(s[-1])%5==0:\n",
    "    print(ord(s[0]),ord(s[len(s)//2]),ord(s[-1]))\n",
    "else:\n",
    "    print(s*3)\n"
   ]
  },
  {
   "cell_type": "code",
   "execution_count": 24,
   "metadata": {},
   "outputs": [
    {
     "name": "stdout",
     "output_type": "stream",
     "text": [
      "invalid\n"
     ]
    }
   ],
   "source": [
    "n=30\n",
    "if n==1:\n",
    "    print(\"one\")\n",
    "elif n==2:\n",
    "    print(\"two\")\n",
    "elif n == 3:\n",
    "    print(\"Three\")\n",
    "elif n == 4:\n",
    "    print(\"Four\")\n",
    "elif n == 5:\n",
    "    print(\"Five\")\n",
    "else:\n",
    "    print(\"invalid\")\n"
   ]
  },
  {
   "cell_type": "code",
   "execution_count": 28,
   "metadata": {},
   "outputs": [
    {
     "name": "stdout",
     "output_type": "stream",
     "text": [
      "invalid\n"
     ]
    }
   ],
   "source": [
    "d={1:'ONE',2:'TWO',3:'THREE',4:'FOUR',5:'FIVE'}\n",
    "n=50\n",
    "if n in d:\n",
    "    print(d[n])\n",
    "else:\n",
    "    print(\"invalid\")"
   ]
  },
  {
   "cell_type": "code",
   "execution_count": 33,
   "metadata": {},
   "outputs": [
    {
     "name": "stdout",
     "output_type": "stream",
     "text": [
      "FIZZ BIZZ\n"
     ]
    }
   ],
   "source": [
    "n=15\n",
    "if n % 3 == 0 and n % 5 == 0:\n",
    "    print(\"FIZZ BIZZ\")\n",
    "elif n%5==0:\n",
    "    print(\"BIZZ\")\n",
    "elif n%3==0 :\n",
    "    print(\"FIZZ\")\n",
    "else:\n",
    "    print(\"invalid\")"
   ]
  },
  {
   "cell_type": "code",
   "execution_count": 35,
   "metadata": {},
   "outputs": [
    {
     "name": "stdout",
     "output_type": "stream",
     "text": [
      "8\n"
     ]
    }
   ],
   "source": [
    "l=[10,20,30.0]\n",
    "if type(l[0])==int and type(l[-1])==int:\n",
    "    l[0]=l[0]/5\n",
    "    l[-1]=~l[-1]\n",
    "    print(l)\n",
    "else:\n",
    "    print(2**len(l))"
   ]
  },
  {
   "cell_type": "code",
   "execution_count": 38,
   "metadata": {},
   "outputs": [
    {
     "name": "stdout",
     "output_type": "stream",
     "text": [
      "invalid\n"
     ]
    }
   ],
   "source": [
    "st=' '\n",
    "if st in ['A','B','C','d']:\n",
    "    if 'A'<=st<='Z':\n",
    "        print(chr(ord(st)+32))\n",
    "    elif 'a'<=st<='z':\n",
    "        print(chr(ord(st)-32))\n",
    "else:\n",
    "    print(\"invalid\")"
   ]
  },
  {
   "cell_type": "code",
   "execution_count": 40,
   "metadata": {},
   "outputs": [
    {
     "name": "stdout",
     "output_type": "stream",
     "text": [
      "PYSP*D*RS\n"
     ]
    }
   ],
   "source": [
    "#WAP to replace a vowel characters into * in given string.\n",
    "#i/p:\"PYSPIDERS\"\n",
    "#o/p:\"PYSP*D*RS\"\n",
    "st=\"PYSPIDERS\"\n",
    "res=\"\"\n",
    "start=0\n",
    "while start<len(st):\n",
    "    if st[start] in 'AEIOUaeiou':\n",
    "        res+='*'\n",
    "    else:\n",
    "        res+=st[start]\n",
    "    start+=1\n",
    "print(res)\n",
    "\n"
   ]
  },
  {
   "cell_type": "code",
   "execution_count": 42,
   "metadata": {},
   "outputs": [
    {
     "name": "stdout",
     "output_type": "stream",
     "text": [
      "PYSP$D$RS\n"
     ]
    }
   ],
   "source": [
    "# i/p:\"PYSPIDERS\"\n",
    "# o/p:\"PYSP*D*RS\"\n",
    "st = \"PYSPIDERS\"\n",
    "start = 0\n",
    "while start < len(st):\n",
    "    if st[start] in 'AEIOUaeiou':\n",
    "         st=st[:start]+'$'+st[start+1:]\n",
    "    start += 1\n",
    "print(st)\n"
   ]
  },
  {
   "cell_type": "code",
   "execution_count": 46,
   "metadata": {},
   "outputs": [
    {
     "name": "stdout",
     "output_type": "stream",
     "text": [
      "P$SPIDERS\n"
     ]
    }
   ],
   "source": [
    "st = \"PYSPIDERS\"\n",
    "if 'A'<=st[1]<='Z':\n",
    "    st = st[:1]+'$'+st[1+1:]\n",
    "print(st)\n"
   ]
  },
  {
   "cell_type": "code",
   "execution_count": 48,
   "metadata": {},
   "outputs": [
    {
     "name": "stdout",
     "output_type": "stream",
     "text": [
      "PYSPiDeRS\n"
     ]
    }
   ],
   "source": [
    "#I/p:PYSPIDERS\n",
    "#o/p:PYSPiDeRS\n",
    "\n",
    "st=\"PYSPIDeRS\"\n",
    "res=\"\"\n",
    "start=0\n",
    "while start<len(st):\n",
    "    if st[start] in 'AEIOU':\n",
    "        res+=chr(ord(st[start])+32)\n",
    "    else:\n",
    "        res+=st[start]\n",
    "    start+=1\n",
    "print(res)"
   ]
  },
  {
   "cell_type": "code",
   "execution_count": 3,
   "metadata": {},
   "outputs": [
    {
     "name": "stdout",
     "output_type": "stream",
     "text": [
      "['a', 'b', 'c']\n",
      "[10, 20, 20]\n",
      "[10, 20]\n",
      "{'a': 10, 'b': 20}\n"
     ]
    }
   ],
   "source": [
    "d={'a':10,'b':20,'c':20}\n",
    "x=list(d)\n",
    "y=[]\n",
    "start=0\n",
    "while start<len(x):\n",
    "    y+=[d[x[start]]]\n",
    "    start+=1\n",
    "print(x)\n",
    "print(y)\n",
    "u=[]\n",
    "v={}\n",
    "i=0\n",
    "while i<len(y):\n",
    "    if y[i] not in u:\n",
    "        u+=[y[i]]\n",
    "        v[x[i]]=y[i]\n",
    "    i+=1\n",
    "print(u)\n",
    "print(v)"
   ]
  },
  {
   "cell_type": "code",
   "execution_count": 7,
   "metadata": {},
   "outputs": [
    {
     "name": "stdout",
     "output_type": "stream",
     "text": [
      "['person']\n"
     ]
    }
   ],
   "source": [
    "apple=['iphone','iball','ipod']\n",
    "mobile=['vivo','oppo','1plus','iphone']\n",
    "person=['hp','1plus','iphone','ipod','iwatch']\n",
    "l=[]\n",
    "user=\"iwatch\"\n",
    "if user in apple:\n",
    "    l+=['apple']\n",
    "if user in mobile:\n",
    "    l+=['mobile']\n",
    "if user in person:\n",
    "    l+=['person']\n",
    "print(l)\n"
   ]
  },
  {
   "cell_type": "code",
   "execution_count": 15,
   "metadata": {},
   "outputs": [
    {
     "name": "stdout",
     "output_type": "stream",
     "text": [
      "['person']\n"
     ]
    }
   ],
   "source": [
    "apple = ['iphone', 'iball', 'ipod']\n",
    "mobile = ['vivo', 'oppo', '1plus', 'iphone']\n",
    "person = ['hp', '1plus', 'iphone', 'ipod', 'iwatch']\n",
    "a,b,c=len(apple),len(mobile),len(person)\n",
    "user=\"iwatch\"\n",
    "great=None\n",
    "if a>b and a>c:\n",
    "    great=a\n",
    "elif b>c:\n",
    "    great=b\n",
    "else:\n",
    "    great=c\n",
    "apple=(great-a)*[None]+apple\n",
    "mobile=(great-b)*[None]+mobile\n",
    "person=(great-c)*[None]+person\n",
    "l=[]\n",
    "start=0\n",
    "while start<great:\n",
    "    if apple[start]==user:\n",
    "        l+=['apple']\n",
    "    if mobile[start]==user:\n",
    "        l+=['mobile']\n",
    "    if person[start]==user:\n",
    "        l+=['person']\n",
    "    start+=1\n",
    "print(l)"
   ]
  },
  {
   "cell_type": "code",
   "execution_count": 18,
   "metadata": {},
   "outputs": [
    {
     "name": "stdout",
     "output_type": "stream",
     "text": [
      "9\n"
     ]
    }
   ],
   "source": [
    "n=563421898515222\n",
    "temp=n\n",
    "while True:\n",
    "    sum1=0\n",
    "    while temp:\n",
    "        dig=temp%10\n",
    "        sum1+=dig\n",
    "        temp//=10\n",
    "    if sum1>9:\n",
    "        temp=sum1\n",
    "    else:\n",
    "        print(sum1)\n",
    "        break\n",
    "\n"
   ]
  },
  {
   "cell_type": "code",
   "execution_count": 6,
   "metadata": {},
   "outputs": [
    {
     "name": "stdout",
     "output_type": "stream",
     "text": [
      "h 140724871604360 <class 'str'>\n",
      "h 140724871604360 <class 'str'>\n",
      "e 140724871604192 <class 'str'>\n",
      "l 140724871604584 <class 'str'>\n",
      "l 140724871604584 <class 'str'>\n",
      "o 140724871604752 <class 'str'>\n"
     ]
    }
   ],
   "source": [
    "st=\"hello\"\n",
    "print(st[0],id(st[0]),type(st[0]))\n",
    "for i in st:\n",
    "    print(i,id(i),type(i))"
   ]
  },
  {
   "cell_type": "code",
   "execution_count": 9,
   "metadata": {},
   "outputs": [
    {
     "name": "stdout",
     "output_type": "stream",
     "text": [
      "10 140724871558216 <class 'int'>\n",
      "10 140724871558216 <class 'int'>\n",
      "haii 2095178721520 <class 'str'>\n",
      "[10, 20] 2095173125568 <class 'list'>\n",
      "(10, 20) 2095173302912 <class 'tuple'>\n",
      "{15} 2095173281248 <class 'set'>\n",
      "{'a': 10} 2095178590912 <class 'dict'>\n"
     ]
    }
   ],
   "source": [
    "st=[10,\"haii\",[10,20],(10,20),{15},{'a':10}]\n",
    "print(st[0],id(st[0]),type(st[0]))\n",
    "for i in st:\n",
    "    print(i,id(i),type(i))"
   ]
  },
  {
   "cell_type": "code",
   "execution_count": 10,
   "metadata": {},
   "outputs": [
    {
     "name": "stdout",
     "output_type": "stream",
     "text": [
      "10 140724871558216 <class 'int'>\n",
      "10 140724871558216 <class 'int'>\n",
      "hello 2095168566448 <class 'str'>\n",
      "[10, 20] 2095178432000 <class 'list'>\n",
      "(10, 20) 2095178525440 <class 'tuple'>\n",
      "{15} 2095173280800 <class 'set'>\n",
      "{'a': 10} 2095178592320 <class 'dict'>\n"
     ]
    }
   ],
   "source": [
    "st=(10,\"hello\",[10,20],(10,20),{15},{'a':10})\n",
    "print(st[0],id(st[0]),type(st[0]))\n",
    "for i in st:\n",
    "    print(i,id(i),type(i))"
   ]
  },
  {
   "cell_type": "code",
   "execution_count": 15,
   "metadata": {},
   "outputs": [
    {
     "name": "stdout",
     "output_type": "stream",
     "text": [
      "hello 2095168566448 <class 'str'>\n",
      "10 140724871558216 <class 'int'>\n",
      "(10, 20) 2095178906240 <class 'tuple'>\n"
     ]
    }
   ],
   "source": [
    "st={10,\"hello\",(10,20)}\n",
    "for i in st:\n",
    "    print(i,id(i),type(i))"
   ]
  },
  {
   "cell_type": "code",
   "execution_count": 16,
   "metadata": {},
   "outputs": [
    {
     "name": "stdout",
     "output_type": "stream",
     "text": [
      "10 140724871558216 <class 'int'>\n",
      "20 140724871558536 <class 'int'>\n",
      "30 140724871558856 <class 'int'>\n",
      "40 140724871559176 <class 'int'>\n"
     ]
    }
   ],
   "source": [
    "st={10:\"hello\",20:(10,20),30:[10,50],40:{10,50}}\n",
    "for i in st:\n",
    "    print(i,id(i),type(i))"
   ]
  },
  {
   "cell_type": "code",
   "execution_count": 22,
   "metadata": {},
   "outputs": [
    {
     "name": "stdout",
     "output_type": "stream",
     "text": [
      "('hello', 'haii') 2095178460608 <class 'tuple'>\n",
      "(10, 20) 2095178790016 <class 'tuple'>\n",
      "[10, 50] 2095178499648 <class 'list'>\n",
      "{10, 50} 2095173280128 <class 'set'>\n"
     ]
    }
   ],
   "source": [
    "st={10:(\"hello\",'haii'),20:(10,20),30:[10,50],40:{10,50}}\n",
    "for i in st:\n",
    "    print(st[i],id(st[i]),type(st[i]))"
   ]
  },
  {
   "cell_type": "code",
   "execution_count": 23,
   "metadata": {},
   "outputs": [
    {
     "name": "stdout",
     "output_type": "stream",
     "text": [
      "10 ('hello', 'haii')\n",
      "20 (10, 20)\n",
      "30 [10, 50]\n",
      "40 {10, 50}\n"
     ]
    }
   ],
   "source": [
    "st={10:(\"hello\",'haii'),20:(10,20),30:[10,50],40:{10,50}}\n",
    "for i,j in st.items():\n",
    "    print(i,j)\n"
   ]
  },
  {
   "cell_type": "code",
   "execution_count": 27,
   "metadata": {},
   "outputs": [
    {
     "name": "stdout",
     "output_type": "stream",
     "text": [
      "hello world12*\n"
     ]
    }
   ],
   "source": [
    "s=\"\"\n",
    "for i in \"Hello WORld12*\":\n",
    "    if 'A'<=i<='Z':\n",
    "        s+=chr(ord(i)+32)\n",
    "    else:\n",
    "        s+=i\n",
    "print(s)\n"
   ]
  },
  {
   "cell_type": "code",
   "execution_count": 12,
   "metadata": {},
   "outputs": [
    {
     "name": "stdout",
     "output_type": "stream",
     "text": [
      "46\n",
      "10\n",
      "1\n"
     ]
    }
   ],
   "source": [
    "a=1256894722\n",
    "while a>9:\n",
    "    sum=0\n",
    "    while a:\n",
    "        d=a%10\n",
    "        sum=sum+d\n",
    "        a=a//10\n",
    "    if sum>9:\n",
    "        a=sum\n",
    "    print(sum)\n"
   ]
  },
  {
   "cell_type": "code",
   "execution_count": 21,
   "metadata": {},
   "outputs": [
    {
     "name": "stdout",
     "output_type": "stream",
     "text": [
      "17\n",
      "8\n"
     ]
    }
   ],
   "source": [
    "a = 1259\n",
    "while True:\n",
    "    sum = 0\n",
    "    while a:\n",
    "        d = a % 10\n",
    "        sum = sum+d\n",
    "        a = a//10\n",
    "    if sum > 9:\n",
    "        a = sum\n",
    "        print(sum)\n",
    "    else:\n",
    "        print(sum)\n",
    "        break\n",
    "    \n"
   ]
  },
  {
   "cell_type": "code",
   "execution_count": 28,
   "metadata": {},
   "outputs": [
    {
     "name": "stdout",
     "output_type": "stream",
     "text": [
      "6\n"
     ]
    }
   ],
   "source": [
    "#wap to find out factorial of given number.\n",
    "a=1\n",
    "res=1\n",
    "n=eval(input(\"enter the value:\"))\n",
    "while a<=n:\n",
    "    res=res*a\n",
    "    a=a+1\n",
    "print(res)"
   ]
  },
  {
   "cell_type": "code",
   "execution_count": 4,
   "metadata": {},
   "outputs": [
    {
     "name": "stdout",
     "output_type": "stream",
     "text": [
      "6 is not prime number\n"
     ]
    }
   ],
   "source": [
    "#write a program to check whether given number is prime or not.\n",
    "n=6\n",
    "i=1\n",
    "count=0\n",
    "while i<=n:\n",
    "    if n%i==0:\n",
    "        count+=1\n",
    "    i+=1\n",
    "if count==2:\n",
    "    print(n,\"is Prime number\") \n",
    "else:\n",
    "    print(n,\"is not prime number\")"
   ]
  },
  {
   "cell_type": "code",
   "execution_count": null,
   "metadata": {},
   "outputs": [],
   "source": []
  },
  {
   "cell_type": "code",
   "execution_count": 7,
   "metadata": {},
   "outputs": [
    {
     "name": "stdout",
     "output_type": "stream",
     "text": [
      "2 is Prime number\n",
      "3 is Prime number\n",
      "5 is Prime number\n",
      "7 is Prime number\n",
      "11 is Prime number\n",
      "13 is Prime number\n",
      "17 is Prime number\n",
      "19 is Prime number\n",
      "23 is Prime number\n",
      "29 is Prime number\n",
      "31 is Prime number\n",
      "37 is Prime number\n",
      "41 is Prime number\n",
      "43 is Prime number\n",
      "47 is Prime number\n",
      "53 is Prime number\n",
      "59 is Prime number\n",
      "61 is Prime number\n",
      "67 is Prime number\n",
      "71 is Prime number\n",
      "73 is Prime number\n",
      "79 is Prime number\n",
      "83 is Prime number\n",
      "89 is Prime number\n",
      "97 is Prime number\n"
     ]
    }
   ],
   "source": [
    "# WAP to print the series of prime numbers from 1 to nth.\n",
    "start=1\n",
    "end=eval(input(\"enter: \"))\n",
    "while start<=end:\n",
    "    n = start\n",
    "    i = 1\n",
    "    count = 0\n",
    "    while i <= n:\n",
    "        if n % i == 0:\n",
    "            count += 1\n",
    "        i += 1\n",
    "    if count == 2:\n",
    "        print(n, \"is Prime number\")\n",
    "    start+=1\n",
    "\n",
    "\n"
   ]
  },
  {
   "cell_type": "code",
   "execution_count": 3,
   "metadata": {},
   "outputs": [
    {
     "name": "stdout",
     "output_type": "stream",
     "text": [
      "0\n",
      "1\n",
      "1\n",
      "2\n",
      "3\n",
      "5\n",
      "8\n",
      "13\n",
      "21\n",
      "34\n"
     ]
    }
   ],
   "source": [
    "#WAP to print the series of fibonacci series upto nth\n",
    "num=eval(input(\"enter the value\"))\n",
    "m=0\n",
    "n=1\n",
    "print(m)\n",
    "print(n)\n",
    "i=3\n",
    "while i<=num:\n",
    "    c=m+n\n",
    "    m=n\n",
    "    n=c\n",
    "    print(c)\n",
    "    i+=1\n",
    "\n"
   ]
  },
  {
   "cell_type": "code",
   "execution_count": 4,
   "metadata": {},
   "outputs": [
    {
     "name": "stdout",
     "output_type": "stream",
     "text": [
      "1\n",
      "2\n",
      "3\n",
      "4\n",
      "5\n",
      "6\n",
      "7\n",
      "8\n",
      "9\n",
      "153\n",
      "370\n",
      "371\n",
      "407\n",
      "1634\n"
     ]
    }
   ],
   "source": [
    "#WAP to print the series of armstrong numbers from 1 to nth.\n",
    "start=1\n",
    "end=3000\n",
    "while start<=end:\n",
    "    n=start\n",
    "    temp=n\n",
    "    sum=0\n",
    "    pow=len(str(n))\n",
    "    while n:\n",
    "        d=n%10\n",
    "        sum+=d**pow\n",
    "        n=n//10\n",
    "    if sum==temp:\n",
    "        print(temp)\n",
    "    start+=1\n",
    "\n",
    "\n",
    "\n"
   ]
  },
  {
   "cell_type": "code",
   "execution_count": 5,
   "metadata": {},
   "outputs": [
    {
     "name": "stdout",
     "output_type": "stream",
     "text": [
      "145\n",
      "given value is strong number\n"
     ]
    }
   ],
   "source": [
    "#WAP to check whether given number is strong or not.\n",
    "n=145\n",
    "temp=n\n",
    "sum=0\n",
    "while n:\n",
    "    d=n%10\n",
    "    prod=1\n",
    "    start=1\n",
    "    while start<=d:\n",
    "        prod*=start\n",
    "        start+=1\n",
    "    sum+=prod\n",
    "    n=n//10\n",
    "print(sum)\n",
    "if sum==temp:\n",
    "    print(\"given value is strong number\")\n",
    "else:\n",
    "    print(\"given value is not a strong number\")"
   ]
  },
  {
   "cell_type": "code",
   "execution_count": 9,
   "metadata": {},
   "outputs": [
    {
     "name": "stdout",
     "output_type": "stream",
     "text": [
      "a\n",
      "b\n",
      "c\n"
     ]
    }
   ],
   "source": [
    "#wap to convert uppercase to lowercase and display the characters from given string \n",
    "ch='ABC'\n",
    "i=0\n",
    "while i<len(ch):\n",
    "    if 'A'<=ch[i]<='Z':\n",
    "        r=chr(ord(ch[i])+32)\n",
    "        print(r)\n",
    "    else:\n",
    "        print\n",
    "    i+=1\n"
   ]
  },
  {
   "cell_type": "code",
   "execution_count": 10,
   "metadata": {},
   "outputs": [
    {
     "name": "stdout",
     "output_type": "stream",
     "text": [
      "a\n",
      "b\n",
      "c\n",
      "d\n",
      "e\n",
      "f\n"
     ]
    }
   ],
   "source": [
    "#wap to extract and display the all the data items from given string.(forward direction)\n",
    "st=\"abcdef\"\n",
    "start=0\n",
    "end=len(st)\n",
    "while start<end:\n",
    "    print(st[start])\n",
    "    start+=1\n",
    "    "
   ]
  },
  {
   "cell_type": "code",
   "execution_count": 12,
   "metadata": {},
   "outputs": [
    {
     "name": "stdout",
     "output_type": "stream",
     "text": [
      "F\n",
      "E\n",
      "D\n",
      "C\n",
      "B\n",
      "A\n"
     ]
    }
   ],
   "source": [
    "# wap to extract and display the all the data items from given string.(backward/reverse direction)\n",
    "st='ABCDEF'\n",
    "start=-1\n",
    "end=-(len(st))\n",
    "while start>=end:\n",
    "    print(st[start])\n",
    "    start-=1"
   ]
  },
  {
   "cell_type": "code",
   "execution_count": 13,
   "metadata": {},
   "outputs": [
    {
     "name": "stdout",
     "output_type": "stream",
     "text": [
      "F\n",
      "E\n",
      "D\n",
      "C\n",
      "B\n",
      "A\n"
     ]
    }
   ],
   "source": [
    "# wap to extract and display the all the data items from given string.(backward/reverse direction)\n",
    "st='ABCDEF'\n",
    "start=len(st)-1\n",
    "end=0\n",
    "while start>=end:\n",
    "    print(st[start])\n",
    "    start-=1"
   ]
  },
  {
   "cell_type": "code",
   "execution_count": 15,
   "metadata": {},
   "outputs": [
    {
     "name": "stdout",
     "output_type": "stream",
     "text": [
      "A\n",
      "B\n",
      "B\n",
      "L\n",
      "O\n",
      "K\n"
     ]
    }
   ],
   "source": [
    "#wap to extarct and display only uppercase characters from given string.\n",
    "st=\"ABcedjB1#$23LOK\"\n",
    "start=0\n",
    "end=len(st)\n",
    "while start<end:\n",
    "    if 'A'<=st[start]<='Z':\n",
    "        print(st[start])\n",
    "    start+=1"
   ]
  },
  {
   "cell_type": "code",
   "execution_count": 18,
   "metadata": {},
   "outputs": [
    {
     "name": "stdout",
     "output_type": "stream",
     "text": [
      "ooOe\n"
     ]
    }
   ],
   "source": [
    "#wap to extract and concat the vowels from given string.\n",
    "st=\"Color MOde\"\n",
    "ref=\"\"\n",
    "start=0\n",
    "end=len(st)\n",
    "while start<end:\n",
    "    if st[start] in 'AEIOUaeiou':\n",
    "        ref+=st[start]\n",
    "    start+=1\n",
    "print(ref)\n"
   ]
  },
  {
   "cell_type": "code",
   "execution_count": 1,
   "metadata": {},
   "outputs": [
    {
     "name": "stdout",
     "output_type": "stream",
     "text": [
      "PSIQ\n",
      "ypderdp\n",
      "*1254\n"
     ]
    }
   ],
   "source": [
    "#wap to seperate the uppercase and lowercase and other characters from given string and display the values.\n",
    "s=\"PySpIder*1254Qdp\"\n",
    "up=\"\"\n",
    "lc=''\n",
    "sc=\"\"\n",
    "start=0\n",
    "while start<len(s):\n",
    "    if 'A'<=s[start]<='Z':\n",
    "        up+=s[start]\n",
    "    elif 'a'<=s[start]<='z':\n",
    "        lc+=s[start]\n",
    "    else:\n",
    "        sc+=s[start]\n",
    "    start+=1\n",
    "print(up)\n",
    "print(lc)\n",
    "print(sc)"
   ]
  },
  {
   "cell_type": "code",
   "execution_count": 8,
   "metadata": {},
   "outputs": [
    {
     "name": "stdout",
     "output_type": "stream",
     "text": [
      "pyspider*1254qdp\n",
      "pyspider*1254qdp\n"
     ]
    }
   ],
   "source": [
    "#wap to convert uppercase to lowercase from given string.\n",
    "st=\"PySpIder*1254Qdp\"\n",
    "print(st.lower())\n",
    "\n",
    "def uupper(coll):\n",
    "    res=\"\"\n",
    "    start=0\n",
    "    while start<len(coll):\n",
    "        if 'A'<=coll[start]<='Z':\n",
    "            res+=chr(ord(coll[start])+32)\n",
    "        else:\n",
    "            res+=coll[start]\n",
    "        start+=1\n",
    "    return res\n",
    "print(uupper(st))"
   ]
  },
  {
   "cell_type": "code",
   "execution_count": 10,
   "metadata": {},
   "outputs": [
    {
     "name": "stdout",
     "output_type": "stream",
     "text": [
      "PYSPIDER*1254QDP\n",
      "PYSPIDER*1254QDP\n"
     ]
    }
   ],
   "source": [
    "# wap to convert lowercase to uppercase from given string.\n",
    "st = \"PySpIder*1254Qdp\"\n",
    "print(st.upper())\n",
    "\n",
    "\n",
    "def ulower(coll):\n",
    "    res = \"\"\n",
    "    start = 0\n",
    "    while start < len(coll):\n",
    "        if 'a' <= coll[start] <= 'z':\n",
    "            res += chr(ord(coll[start])-32)\n",
    "        else:\n",
    "            res += coll[start]\n",
    "        start += 1\n",
    "    return res\n",
    "\n",
    "\n",
    "print(ulower(st))\n"
   ]
  },
  {
   "cell_type": "code",
   "execution_count": 15,
   "metadata": {},
   "outputs": [
    {
     "name": "stdout",
     "output_type": "stream",
     "text": [
      "True\n",
      "True\n"
     ]
    }
   ],
   "source": [
    "# wap to check whether given string is uppercase or not.\n",
    "st = \"PYSPIDER*1254QDP\"\n",
    "print(st.isupper())\n",
    "\n",
    "def uisupper(coll):\n",
    "    start=0\n",
    "    while start<len(coll):\n",
    "        if 'a'<=coll[start]<='z':\n",
    "            return False\n",
    "        start+=1\n",
    "    return True\n",
    "print(uisupper(st))"
   ]
  },
  {
   "cell_type": "code",
   "execution_count": 19,
   "metadata": {},
   "outputs": [
    {
     "name": "stdout",
     "output_type": "stream",
     "text": [
      "False\n",
      "False\n"
     ]
    }
   ],
   "source": [
    "# wap to check whether given string is lowercase or not.\n",
    "st = \"haii*123hGhgg\"\n",
    "print(st.islower())\n",
    "\n",
    "\n",
    "def uislower(coll):\n",
    "    start = 0\n",
    "    while start < len(coll):\n",
    "        if 'A' <= coll[start] <= 'Z':\n",
    "            return False\n",
    "        start += 1\n",
    "    return True\n",
    "\n",
    "\n",
    "print(uislower(st))\n"
   ]
  },
  {
   "cell_type": "code",
   "execution_count": 21,
   "metadata": {},
   "outputs": [
    {
     "name": "stdout",
     "output_type": "stream",
     "text": [
      "pYsPIdeRS*123\n",
      "pYsPIdeRS*123\n"
     ]
    }
   ],
   "source": [
    "# wap to perform swapcase for given string.\n",
    "st=\"PySpiDErs*123\"\n",
    "print(st.swapcase())\n",
    "\n",
    "def sswapcase(coll):\n",
    "    start=0\n",
    "    st=\"\"\n",
    "    while start<len(coll):\n",
    "        if 'A'<=coll[start]<='Z':\n",
    "            st+=chr(ord(coll[start])+32)\n",
    "        elif 'a'<=coll[start]<='z':\n",
    "            st+=chr(ord(coll[start])-32)\n",
    "        else:\n",
    "            st+=coll[start]\n",
    "        start+=1\n",
    "    return st\n",
    "print(sswapcase(st))\n"
   ]
  },
  {
   "cell_type": "code",
   "execution_count": 29,
   "metadata": {},
   "outputs": [
    {
     "name": "stdout",
     "output_type": "stream",
     "text": [
      "Hello world@hg1pk23\n",
      "Hello world@hg1pk23\n"
     ]
    }
   ],
   "source": [
    "#WAP to convert given string into cap first.\n",
    "s=\"hello WoRLD@HG1pk23\"\n",
    "print(s.capitalize())\n",
    "\n",
    "def capfirst(coll):\n",
    "    st=\"\"\n",
    "    if 'a' <= coll[0] <= 'z':\n",
    "        st += chr(ord(coll[0])-32)\n",
    "    else:\n",
    "        st += coll[0]\n",
    "    start=1\n",
    "    while start<len(coll):\n",
    "        if 'A' <= coll[start] <='Z':\n",
    "            st += chr(ord(coll[start])+32)\n",
    "        else:\n",
    "            st+=coll[start]\n",
    "        start+=1\n",
    "    return st\n",
    "print(capfirst(s))\n",
    "\n",
    "\n"
   ]
  },
  {
   "cell_type": "code",
   "execution_count": 42,
   "metadata": {},
   "outputs": [
    {
     "name": "stdout",
     "output_type": "stream",
     "text": [
      "Hello World Aaii@**Hg1Pk22  Asc\n",
      "Hello World Aaii@**Hg1Pk22  Asc\n"
     ]
    }
   ],
   "source": [
    "# WAP to convert given string into Title case.\n",
    "s=\"Hello WoRLD aAIi@**hG1pk22  asc2\"\n",
    "print(s.title())\n",
    "\n",
    "\n",
    "def utitle(coll):\n",
    "    st=\"\"\n",
    "    if 'a'<=coll[0]<='z':\n",
    "        st+=chr(ord(coll[0])-32)\n",
    "        start=1\n",
    "    elif not ('a' <= coll[0] <= 'z' or 'A' <= coll[0] <= 'Z'):\n",
    "        start=0\n",
    "    else:\n",
    "        st+=coll[0]\n",
    "        start=1\n",
    "    \n",
    "\n",
    "    while start<len(coll):\n",
    "        if 'A'<=coll[start]<='Z':\n",
    "            st+=chr(ord(coll[start])+32)\n",
    "        elif 'a' <= coll[start] <= 'z':\n",
    "            if not ('a' <= coll[start-1] <= 'z' or 'A' <= coll[start-1] <= 'Z'):\n",
    "                st+=chr(ord(coll[start])-32)\n",
    "            else:\n",
    "                st+=coll[start]\n",
    "        else:\n",
    "            if start != len(s)-1:\n",
    "                st+=coll[start]\n",
    "                if 'a'<=coll[start+1]<='z':\n",
    "                    st += chr(ord(coll[start+1])-32)\n",
    "                    start+=1\n",
    "                else:\n",
    "                    st +=coll[start+1]\n",
    "                    start+=1\n",
    "            else:\n",
    "                st+=coll[start]\n",
    "        start+=1\n",
    "    print(st)\n",
    "utitle(s)"
   ]
  },
  {
   "cell_type": "code",
   "execution_count": 1,
   "metadata": {},
   "outputs": [
    {
     "name": "stdout",
     "output_type": "stream",
     "text": [
      "True\n"
     ]
    },
    {
     "data": {
      "text/plain": [
       "True"
      ]
     },
     "execution_count": 1,
     "metadata": {},
     "output_type": "execute_result"
    }
   ],
   "source": [
    "st=\"Hello World Aaii@Hg1Pk2Asc2\"\n",
    "print(st.istitle())\n",
    "\n",
    "def uistitle(coll):\n",
    "    if 'a'<=coll[0]<='z':\n",
    "        return False\n",
    "    start=1\n",
    "    while start<len(coll):\n",
    "        if start!=len(coll)-1:\n",
    "            if not('a'<=coll[start]<='z' or 'A'<=coll[start]<='Z'):\n",
    "                if 'a'<=coll[start+1]<='z':\n",
    "                    return False\n",
    "        start+=1\n",
    "    return True\n",
    "uistitle(st)"
   ]
  },
  {
   "cell_type": "code",
   "execution_count": null,
   "metadata": {},
   "outputs": [],
   "source": []
  },
  {
   "cell_type": "code",
   "execution_count": 17,
   "metadata": {},
   "outputs": [
    {
     "name": "stdout",
     "output_type": "stream",
     "text": [
      "True\n",
      "True\n"
     ]
    }
   ],
   "source": [
    "s='123456'\n",
    "print(s.isdigit())\n",
    "\n",
    "def uisdigit(coll):\n",
    "    start=0\n",
    "    while start<len(coll):\n",
    "        if not('0'<=coll[start]<='9'):\n",
    "            return False\n",
    "        start+=1\n",
    "    return True\n",
    "print(uisdigit(s))\n",
    "\n",
    "            "
   ]
  },
  {
   "cell_type": "code",
   "execution_count": 26,
   "metadata": {},
   "outputs": [
    {
     "name": "stdout",
     "output_type": "stream",
     "text": [
      "True\n"
     ]
    }
   ],
   "source": [
    "s=\"\"\n",
    "print(s.isascii())"
   ]
  },
  {
   "cell_type": "code",
   "execution_count": 1,
   "metadata": {},
   "outputs": [
    {
     "name": "stdout",
     "output_type": "stream",
     "text": [
      "True\n",
      "True\n"
     ]
    }
   ],
   "source": [
    "s = 'ABCEFiihhouy'\n",
    "print(s.isalpha())\n",
    "def uisalpha(coll):\n",
    "    start = 0\n",
    "    while start < len(coll):\n",
    "        if not ('A' <= coll[start] <= 'Z' or 'a'<=coll[start]<='z'):\n",
    "            return False\n",
    "        start += 1\n",
    "    return True\n",
    "\n",
    "\n",
    "print(uisalpha(s))\n"
   ]
  },
  {
   "cell_type": "code",
   "execution_count": 9,
   "metadata": {},
   "outputs": [
    {
     "name": "stdout",
     "output_type": "stream",
     "text": [
      "True\n",
      "True\n"
     ]
    }
   ],
   "source": [
    "s = 'ABCEFii12hhouy'\n",
    "print(s.isalnum())\n",
    "def uisalnum(coll):\n",
    "    start = 0\n",
    "    while start < len(coll):\n",
    "        if not ('A' <= coll[start] <= 'Z' or 'a' <= coll[start] <= 'z' or '0'<=coll[start]<='9'):\n",
    "            return False\n",
    "        start += 1\n",
    "    return True\n",
    "\n",
    "\n",
    "print(uisalnum(s))\n"
   ]
  },
  {
   "cell_type": "code",
   "execution_count": 43,
   "metadata": {},
   "outputs": [
    {
     "name": "stdout",
     "output_type": "stream",
     "text": [
      "False\n",
      "False\n"
     ]
    }
   ],
   "source": [
    "s='_i1f_'\n",
    "print(s.isidentifier())\n",
    "\n",
    "def uisidentifier(coll):\n",
    "    if coll[0]=='_':\n",
    "        pass\n",
    "    elif not ('a' <= coll[0] <= 'z' or 'A' <= coll[0] <= 'Z'):\n",
    "        return False\n",
    "    start=1\n",
    "    while start<len(coll):\n",
    "        if coll[start]==\"_\":\n",
    "            pass\n",
    "        elif not('a'<=coll[start]<='z' or 'A'<=coll[start]<='Z' or '0'<=coll[start]<='9'):\n",
    "            return False\n",
    "        start+=1\n",
    "    return True\n",
    "\n",
    "print(uisidentifier(s))\n"
   ]
  },
  {
   "cell_type": "code",
   "execution_count": 66,
   "metadata": {},
   "outputs": [
    {
     "name": "stdout",
     "output_type": "stream",
     "text": [
      "True\n",
      "True\n"
     ]
    }
   ],
   "source": [
    "s=' '\n",
    "print(s.isspace())\n",
    "\n",
    "def uisspace(coll):\n",
    "    if len(coll)==0:\n",
    "        return False\n",
    "    start=0\n",
    "    while start<len(coll):\n",
    "        if coll[start]!=\" \":\n",
    "            return False\n",
    "        start+=1\n",
    "    return True\n",
    "print(uisspace(s))\n"
   ]
  },
  {
   "cell_type": "code",
   "execution_count": 11,
   "metadata": {},
   "outputs": [
    {
     "name": "stdout",
     "output_type": "stream",
     "text": [
      "_ello_haii_world\n"
     ]
    }
   ],
   "source": [
    "#wap to convert given string into snake case. \n",
    "#I/p:'hELLO haii World$'\n",
    "#o/p:'Hello_haii_world'\n",
    "\n",
    "\n",
    "def snakecase(coll):\n",
    "    st=\"\"\n",
    "    if 'a'<=coll[0]<='z':\n",
    "        st+=chr(ord(coll[0])-32)\n",
    "    elif '0'<=coll[0]<='9':\n",
    "        st+=\"\"\n",
    "    elif not('A'<=coll[0]<='Z'):\n",
    "        st+='_'\n",
    "    else:\n",
    "        st+=coll[0]\n",
    "    start=1\n",
    "    while start<len(coll):\n",
    "        if 'A' <= coll[start] <= 'Z':\n",
    "            st += chr(ord(coll[start])+32)\n",
    "        elif coll[start]==' ':\n",
    "            st+=\"_\"\n",
    "        elif not('0'<=coll[start]<='9' or 'a'<=coll[start]<='z'):\n",
    "            st+=\"\"\n",
    "        else:\n",
    "            st+=coll[start]\n",
    "        start+=1\n",
    "    print(st)\n",
    "\n",
    "snakecase('*ELLO haii World$')"
   ]
  },
  {
   "cell_type": "code",
   "execution_count": 21,
   "metadata": {},
   "outputs": [
    {
     "name": "stdout",
     "output_type": "stream",
     "text": [
      "__hel_lo__\n"
     ]
    }
   ],
   "source": [
    "#I/p:\"_HEl^lO12\"\n",
    "#O/p:\"__hello__\"\n",
    "\n",
    "def dragoncase(coll):\n",
    "    st=\"\"\n",
    "    start=1\n",
    "    while start<len(coll):\n",
    "        if 'A'<=coll[start]<='Z':\n",
    "            st+=chr(ord(coll[start])+32)\n",
    "        elif 'a'<=coll[start]<='z':\n",
    "            st+=coll[start]\n",
    "        elif 2<start<len(coll)-3:\n",
    "            if coll[start]==\"_\":\n",
    "                st+=coll[start]\n",
    "        start+=1\n",
    "    print(\"__\"+st+\"__\")\n",
    "\n",
    "\n",
    "dragoncase(\"___HEl^_lO_12\")\n"
   ]
  },
  {
   "cell_type": "code",
   "execution_count": 22,
   "metadata": {},
   "outputs": [
    {
     "data": {
      "text/plain": [
       "['__add__',\n",
       " '__class__',\n",
       " '__contains__',\n",
       " '__delattr__',\n",
       " '__dir__',\n",
       " '__doc__',\n",
       " '__eq__',\n",
       " '__format__',\n",
       " '__ge__',\n",
       " '__getattribute__',\n",
       " '__getitem__',\n",
       " '__getnewargs__',\n",
       " '__getstate__',\n",
       " '__gt__',\n",
       " '__hash__',\n",
       " '__init__',\n",
       " '__init_subclass__',\n",
       " '__iter__',\n",
       " '__le__',\n",
       " '__len__',\n",
       " '__lt__',\n",
       " '__mod__',\n",
       " '__mul__',\n",
       " '__ne__',\n",
       " '__new__',\n",
       " '__reduce__',\n",
       " '__reduce_ex__',\n",
       " '__repr__',\n",
       " '__rmod__',\n",
       " '__rmul__',\n",
       " '__setattr__',\n",
       " '__sizeof__',\n",
       " '__str__',\n",
       " '__subclasshook__',\n",
       " 'capitalize',\n",
       " 'casefold',\n",
       " 'center',\n",
       " 'count',\n",
       " 'encode',\n",
       " 'endswith',\n",
       " 'expandtabs',\n",
       " 'find',\n",
       " 'format',\n",
       " 'format_map',\n",
       " 'index',\n",
       " 'isalnum',\n",
       " 'isalpha',\n",
       " 'isascii',\n",
       " 'isdecimal',\n",
       " 'isdigit',\n",
       " 'isidentifier',\n",
       " 'islower',\n",
       " 'isnumeric',\n",
       " 'isprintable',\n",
       " 'isspace',\n",
       " 'istitle',\n",
       " 'isupper',\n",
       " 'join',\n",
       " 'ljust',\n",
       " 'lower',\n",
       " 'lstrip',\n",
       " 'maketrans',\n",
       " 'partition',\n",
       " 'removeprefix',\n",
       " 'removesuffix',\n",
       " 'replace',\n",
       " 'rfind',\n",
       " 'rindex',\n",
       " 'rjust',\n",
       " 'rpartition',\n",
       " 'rsplit',\n",
       " 'rstrip',\n",
       " 'split',\n",
       " 'splitlines',\n",
       " 'startswith',\n",
       " 'strip',\n",
       " 'swapcase',\n",
       " 'title',\n",
       " 'translate',\n",
       " 'upper',\n",
       " 'zfill']"
      ]
     },
     "execution_count": 22,
     "metadata": {},
     "output_type": "execute_result"
    }
   ],
   "source": [
    "dir(\"\")"
   ]
  },
  {
   "cell_type": "code",
   "execution_count": 25,
   "metadata": {},
   "outputs": [
    {
     "name": "stdout",
     "output_type": "stream",
     "text": [
      "He1llo2wo3rld\n"
     ]
    }
   ],
   "source": [
    "#I/p:\"Helloworld\"\n",
    "#o/p:\"He1llo2wo3rld\"\n",
    "\n",
    "def sample(coll):\n",
    "    st=\"\"\n",
    "    count=0\n",
    "    start=0\n",
    "    while start<len(coll):\n",
    "        if coll[start] in 'AEIOUaeiou':\n",
    "            count += 1\n",
    "            st+=coll[start]+str(count)\n",
    "        else:\n",
    "            st+=coll[start]\n",
    "        start+=1\n",
    "    print(st)\n",
    "sample(\"Helloworld\")"
   ]
  },
  {
   "cell_type": "code",
   "execution_count": 34,
   "metadata": {},
   "outputs": [
    {
     "name": "stdout",
     "output_type": "stream",
     "text": [
      "invalid\n"
     ]
    }
   ],
   "source": [
    "n=4\n",
    "match n:\n",
    "    case 1:\n",
    "        print(\"one\")\n",
    "    case 2:\n",
    "        print(\"two\")\n",
    "    case 3:\n",
    "        print(\"three\")\n",
    "    case _:\n",
    "        print(\"invalid\")\n"
   ]
  },
  {
   "cell_type": "code",
   "execution_count": 45,
   "metadata": {},
   "outputs": [
    {
     "name": "stdout",
     "output_type": "stream",
     "text": [
      "invalid\n"
     ]
    }
   ],
   "source": [
    "a=10\n",
    "b=20\n",
    "n= '***'\n",
    "match n:\n",
    "    case '+':\n",
    "        print(a+b)\n",
    "    case '-':\n",
    "        print(b-a)\n",
    "    case '/':\n",
    "        print(b/a)\n",
    "    case '//':\n",
    "        print(b//a)\n",
    "    case '%':\n",
    "        print(a%b)\n",
    "    case '**':\n",
    "        print(a**b)\n",
    "    case '*':\n",
    "        print(a*b)\n",
    "    case _:\n",
    "        print(\"invalid\")\n"
   ]
  },
  {
   "cell_type": "code",
   "execution_count": 61,
   "metadata": {},
   "outputs": [
    {
     "name": "stdout",
     "output_type": "stream",
     "text": [
      "bye\n"
     ]
    }
   ],
   "source": [
    "n=30\n",
    "match n:\n",
    "    case 30 | [20,30]:\n",
    "        print(\"haii\")\n",
    "    case 30:\n",
    "        print(\"bye\")\n",
    "    case _:\n",
    "        print(\"good bye\")"
   ]
  },
  {
   "cell_type": "code",
   "execution_count": 68,
   "metadata": {},
   "outputs": [
    {
     "name": "stdout",
     "output_type": "stream",
     "text": [
      "good bye\n"
     ]
    }
   ],
   "source": [
    "n = [10,40,'S',[60,80],70,80,90]\n",
    "n=[10]\n",
    "n=[10,50]\n",
    "n=[10,50,'B']\n",
    "n=[10,40]\n",
    "n=[10,40,'D','E']\n",
    "match n:\n",
    "    case [10,'A']:\n",
    "        print(\"haii\")\n",
    "    case [10,50,'B']:\n",
    "        print(\"bye\")\n",
    "    case [10, 40, *t]:\n",
    "        print(\"good bye\")\n",
    "    case _:\n",
    "        print(\"invalid\")\n"
   ]
  },
  {
   "cell_type": "code",
   "execution_count": 90,
   "metadata": {},
   "outputs": [
    {
     "name": "stdout",
     "output_type": "stream",
     "text": [
      "Bye bye\n"
     ]
    }
   ],
   "source": [
    "#n = [10, 40, 'S', [60, 80], 70, 80, 90]\n",
    "n = [10,'AB','hgvc',10]\n",
    "#n = [10, 50]\n",
    "#n = [10, 50, 'B']\n",
    "#n = [10, 40]\n",
    "#n = [10, 40, 'D', 'E']\n",
    "match n:\n",
    "    case (10, 'A'):\n",
    "        print(\"haii\")\n",
    "    case (10, 50, 'B'):\n",
    "        print(\"bye\")\n",
    "    case (10, 40, *t):\n",
    "        print(\"good bye\")\n",
    "    case (10,*t,10):\n",
    "        print(\"Bye bye\")\n",
    "    case (*r,):\n",
    "        print(\",kmjhyt\")\n"
   ]
  },
  {
   "cell_type": "code",
   "execution_count": 92,
   "metadata": {},
   "outputs": [],
   "source": [
    "n={'a':20}\n",
    "match n:\n",
    "    case {'a':10}:\n",
    "        print(n['a'])"
   ]
  },
  {
   "cell_type": "code",
   "execution_count": 100,
   "metadata": {},
   "outputs": [
    {
     "name": "stdout",
     "output_type": "stream",
     "text": [
      "10\n"
     ]
    }
   ],
   "source": [
    "# n = {'a': 100,'b':80}\n",
    "n=10\n",
    "match n:\n",
    "    case 10 | {'a': 10}:\n",
    "        print(n)\n",
    "    case {'a':100,'b':80}:\n",
    "        print(n.keys())\n",
    "    case _:\n",
    "        print(\"invalid\")\n"
   ]
  },
  {
   "cell_type": "code",
   "execution_count": 41,
   "metadata": {},
   "outputs": [
    {
     "name": "stdout",
     "output_type": "stream",
     "text": [
      "hello world\n"
     ]
    }
   ],
   "source": [
    "#Ip=(\"haii\",'hello','world')\n",
    "#\"haiihelloworld\"\n",
    "\n",
    "# \" \".join({\"str\",'ing',10})\n",
    "\n",
    "def ujoin(coll,sep=\"\"):\n",
    "    coll=list(coll)\n",
    "    st=\"\"\n",
    "    start=0\n",
    "    while start<len(coll):\n",
    "        if start!=len(coll)-1:\n",
    "            st+=coll[start]+sep\n",
    "        else:\n",
    "            st += coll[start]\n",
    "        start+=1\n",
    "    print(st)\n",
    "\n",
    "#ujoin([\"haii\", 'hello', 'world'],'*')\n",
    "ujoin({\"hello\",'world'},' ')\n"
   ]
  },
  {
   "cell_type": "code",
   "execution_count": 57,
   "metadata": {},
   "outputs": [
    {
     "name": "stdout",
     "output_type": "stream",
     "text": [
      "byebye world haii  byelo\n",
      "helhel world haii bye \n"
     ]
    }
   ],
   "source": [
    "#wap to replace old word into new word\n",
    "\n",
    "\n",
    "def ureplace(coll,old,new):\n",
    "    coll=coll.split()\n",
    "    st=\"\"\n",
    "    start=0\n",
    "    while start<len(coll):\n",
    "        if coll[start]==old:\n",
    "            st+=new+\" \"\n",
    "        else:\n",
    "            st+=coll[start]+\" \"\n",
    "        start+=1\n",
    "    return st\n",
    "\n",
    "print(ureplace(st,\"hello\",'bye'))\n",
    "\n",
    "\n",
    "\n",
    "    "
   ]
  },
  {
   "cell_type": "code",
   "execution_count": 112,
   "metadata": {},
   "outputs": [
    {
     "name": "stdout",
     "output_type": "stream",
     "text": [
      "byebye world haii byeloh\n",
      "1\n",
      "2\n",
      "3\n",
      "byebye world haii byeloh\n"
     ]
    }
   ],
   "source": [
    "#I/p=\"helhel world haii hello\"  \n",
    "#     old string:\"hel\" \n",
    "#     new string:'bye'\n",
    "#O/p: \"byebye world haii byelo\"\n",
    "\n",
    "st = \"helhel world haii helloh\"\n",
    "print(st.replace(\"hel\",'bye',-1))\n",
    "\n",
    "def ureplace(coll,old,new,temp):\n",
    "    count=0\n",
    "    if temp<0:\n",
    "        temp=len(coll)\n",
    "    if temp==0:\n",
    "        return coll\n",
    "    else:\n",
    "        st=\"\"\n",
    "        \n",
    "        start=0\n",
    "        while start<len(coll):\n",
    "            if coll[start]==old[0]:\n",
    "                if coll[start:start+len(old)]==old and count<temp:\n",
    "                    st+=new\n",
    "                    start+=len(old)-1\n",
    "                    count+=1\n",
    "                    print(count)\n",
    "                else:\n",
    "                    st+=coll[start]\n",
    "            else:\n",
    "                st+=coll[start]\n",
    "            start+=1\n",
    "    return st\n",
    "\n",
    "print(ureplace(st,'hel','bye',-1))\n"
   ]
  },
  {
   "cell_type": "code",
   "execution_count": 36,
   "metadata": {},
   "outputs": [
    {
     "name": "stdout",
     "output_type": "stream",
     "text": [
      "-1\n",
      "-1\n"
     ]
    }
   ],
   "source": [
    "st=\"Hello world\"\n",
    "print(st.find(' ',5,5))\n",
    "\n",
    "def usearch(coll,ch):\n",
    "    start=0\n",
    "    while start<len(coll):\n",
    "        if ch == coll[start]:\n",
    "            return start\n",
    "        start+=1\n",
    "    return -1\n",
    "print(usearch(st,'wl'))\n"
   ]
  },
  {
   "cell_type": "code",
   "execution_count": 41,
   "metadata": {},
   "outputs": [
    {
     "name": "stdout",
     "output_type": "stream",
     "text": [
      "(1, 6)\n"
     ]
    }
   ],
   "source": [
    "st = \"Hello world\"\n",
    "def usearch(coll,ch,start=0,end=0):\n",
    "    if end==0:\n",
    "        end=len(coll)\n",
    "    while start<end:\n",
    "        if ch == coll[start:start+len(ch)]:\n",
    "            return start,start+len(ch)-1\n",
    "        start+=1\n",
    "    return -1\n",
    "print(usearch(st,'ello w',1,7))"
   ]
  },
  {
   "cell_type": "code",
   "execution_count": 45,
   "metadata": {},
   "outputs": [
    {
     "data": {
      "text/plain": [
       "2"
      ]
     },
     "execution_count": 45,
     "metadata": {},
     "output_type": "execute_result"
    }
   ],
   "source": [
    "st=\"Hello world\"\n",
    "def ufind(coll,ch):\n",
    "    count=0\n",
    "    start=0\n",
    "    end=len(coll)\n",
    "    while start<end:\n",
    "        if ch==coll[start]:\n",
    "            count+=1\n",
    "        start+=1\n",
    "    return count\n",
    "ufind(st,'o')\n"
   ]
  },
  {
   "cell_type": "code",
   "execution_count": 51,
   "metadata": {},
   "outputs": [
    {
     "data": {
      "text/plain": [
       "9"
      ]
     },
     "execution_count": 51,
     "metadata": {},
     "output_type": "execute_result"
    }
   ],
   "source": [
    "st=\"Hello world\"\n",
    "def ufind(coll,ch,occur):\n",
    "    count=0\n",
    "    start=0\n",
    "    end=len(coll)\n",
    "    while start<end:\n",
    "        if ch==coll[start]:\n",
    "            count+=1\n",
    "            if count==occur:\n",
    "                return start\n",
    "        start+=1\n",
    "    return -1\n",
    "ufind(st,'l',3)"
   ]
  },
  {
   "cell_type": "code",
   "execution_count": 59,
   "metadata": {},
   "outputs": [
    {
     "data": {
      "text/plain": [
       "(29, 31)"
      ]
     },
     "execution_count": 59,
     "metadata": {},
     "output_type": "execute_result"
    }
   ],
   "source": [
    "st = \"Hello world haii how Hello world \"\n",
    "def ufind(coll,ch,occur):\n",
    "    count=0\n",
    "    start=0\n",
    "    end=len(coll)\n",
    "    while start<end:\n",
    "        if ch==coll[start:start+len(ch)]:\n",
    "            count+=1\n",
    "            if count==occur:\n",
    "                return start,start+len(ch)-1\n",
    "        start+=1\n",
    "    return -1\n",
    "ufind(st,'rld',2)"
   ]
  },
  {
   "cell_type": "code",
   "execution_count": 61,
   "metadata": {},
   "outputs": [
    {
     "name": "stdout",
     "output_type": "stream",
     "text": [
      "d\n",
      "l\n",
      "r\n",
      "o\n",
      "w\n",
      "o\n",
      "l\n",
      "l\n",
      "e\n",
      "h\n"
     ]
    }
   ],
   "source": [
    "def reverse(coll):\n",
    "    start=-1\n",
    "    end=-(len(coll))\n",
    "    while start>=end:\n",
    "        print(coll[start])\n",
    "        start-=1\n",
    "reverse(\"helloworld\")\n",
    "\n"
   ]
  },
  {
   "cell_type": "code",
   "execution_count": null,
   "metadata": {},
   "outputs": [
    {
     "data": {
      "text/plain": [
       "3"
      ]
     },
     "execution_count": 72,
     "metadata": {},
     "output_type": "execute_result"
    }
   ],
   "source": [
    "def reverse(coll,ch,start=-1,end=-1):\n",
    "    if start>0:\n",
    "        start=-(start)\n",
    "    if end>0:\n",
    "        end=-(end)\n",
    "    if end==-1:\n",
    "        end = -(len(coll))\n",
    "    while start >= end:\n",
    "        if ch==coll[start]:\n",
    "            return len(coll)+start\n",
    "        start -= 1\n",
    "    return -1\n",
    "reverse(\"helloworld\",'l',5)\n"
   ]
  },
  {
   "cell_type": "code",
   "execution_count": 66,
   "metadata": {},
   "outputs": [
    {
     "data": {
      "text/plain": [
       "-1"
      ]
     },
     "execution_count": 66,
     "metadata": {},
     "output_type": "execute_result"
    }
   ],
   "source": [
    "st=\"helloworld\"\n",
    "st.rfind(\"g\")"
   ]
  },
  {
   "cell_type": "code",
   "execution_count": 9,
   "metadata": {},
   "outputs": [
    {
     "name": "stdout",
     "output_type": "stream",
     "text": [
      "[' h', 'ii  how ', 're you']\n"
     ]
    }
   ],
   "source": [
    "def usplit(coll,ch=' '):\n",
    "    l=[]\n",
    "    st=\"\"\n",
    "    start=0\n",
    "    while start<len(coll):\n",
    "        if coll[start]!=ch:\n",
    "            st+=coll[start]\n",
    "        elif len(st)!=0:\n",
    "            l+=[st]\n",
    "            st=\"\"\n",
    "        if start==len(coll)-1 and len(st)!=0:\n",
    "            l+=[st]\n",
    "        start+=1\n",
    "    print(l)\n",
    "\n",
    "usplit(\" haii  how are you\",'a')"
   ]
  },
  {
   "cell_type": "code",
   "execution_count": 41,
   "metadata": {},
   "outputs": [
    {
     "name": "stdout",
     "output_type": "stream",
     "text": [
      "['How ', 're you How ', 're you']\n",
      "['How ', 're you How ', 're you']\n"
     ]
    }
   ],
   "source": [
    "st=\"How are you How are you\"\n",
    "print(st.split('a',-1))\n",
    "\n",
    "\n",
    "def usplit(coll,ch=' ',con=0):\n",
    "    if con<0:\n",
    "        con=len(coll)\n",
    "    count=0\n",
    "    l=[]\n",
    "    st=\"\"\n",
    "    start=0\n",
    "    while start<len(coll):\n",
    "        if count<con:\n",
    "            if coll[start]!=ch:\n",
    "                st+=coll[start]\n",
    "            elif len(st)!=0:\n",
    "                count+=1\n",
    "                l+=[st]\n",
    "                st=\"\"\n",
    "            if start==len(coll)-1 and len(st)!=0:\n",
    "                l+=[st]\n",
    "        else:\n",
    "            l+=[coll[start:]]\n",
    "            break\n",
    "        start+=1\n",
    "    print(l)\n",
    "\n",
    "usplit(\"How are you How are you\",'a',-1)"
   ]
  },
  {
   "cell_type": "code",
   "execution_count": 54,
   "metadata": {},
   "outputs": [
    {
     "name": "stdout",
     "output_type": "stream",
     "text": [
      "['How are you How ', 're you']\n",
      "['How are you How ', 're you']\n"
     ]
    }
   ],
   "source": [
    "st=\"How are you How are you\"\n",
    "print(st.rsplit('a',1))\n",
    "\n",
    "def usplit(coll,ch=' ',con=0):\n",
    "    if con<0:\n",
    "        con=len(coll)\n",
    "    count=0\n",
    "    l=[]\n",
    "    st=\"\"\n",
    "    start=-1\n",
    "    while start>=-(len(coll)):\n",
    "        if count<con:\n",
    "            if coll[start]!=ch:\n",
    "                st=coll[start]+st\n",
    "            elif len(st)!=0:\n",
    "                count+=1\n",
    "                l=[st]+l\n",
    "                st=\"\"\n",
    "            if start==len(coll)-1 and len(st)!=0:\n",
    "                l=[st]+l\n",
    "        else:\n",
    "            l=[coll[:start+1]]+l\n",
    "            break\n",
    "        start-=1\n",
    "    print(l)\n",
    "\n",
    "usplit(\"How are you How are you\",'a',1)"
   ]
  },
  {
   "cell_type": "code",
   "execution_count": 70,
   "metadata": {},
   "outputs": [
    {
     "name": "stdout",
     "output_type": "stream",
     "text": [
      "['hello', 'how', 'are', 'you']\n",
      "['hello', 'how', 'are', 'you']\n"
     ]
    }
   ],
   "source": [
    "st=\"hello\\nhow\\nare\\nyou\"\n",
    "print(st.splitlines())\n",
    "\n",
    "def usplitlines(coll):\n",
    "    l=[]\n",
    "    st=\"\"\n",
    "    start=0\n",
    "    while start<len(coll):\n",
    "        if coll[start]!='\\n':\n",
    "            st+=coll[start]\n",
    "        elif len(st)!=0:\n",
    "            l+=[st]\n",
    "            st=\"\"\n",
    "        if start==len(coll)-1 and len(st)!=0:\n",
    "            l+=[st]\n",
    "        start+=1\n",
    "    return l\n",
    "\n",
    "print(usplitlines(st))"
   ]
  },
  {
   "cell_type": "code",
   "execution_count": 88,
   "metadata": {},
   "outputs": [
    {
     "data": {
      "text/plain": [
       "'haii how are you '"
      ]
     },
     "execution_count": 88,
     "metadata": {},
     "output_type": "execute_result"
    }
   ],
   "source": [
    "st=\"haii how are you\"\n",
    "st.strip('haii')\n",
    "\n",
    "st = \"haii how are you haii\"\n",
    "st.lstrip('haii')\n",
    "\n",
    "st = \"haii how are you haii\"\n",
    "st.rstrip('haii')\n"
   ]
  },
  {
   "cell_type": "code",
   "execution_count": 5,
   "metadata": {},
   "outputs": [
    {
     "data": {
      "text/plain": [
       "'ow are you haii'"
      ]
     },
     "execution_count": 5,
     "metadata": {},
     "output_type": "execute_result"
    }
   ],
   "source": [
    "st = \"haii how are you haii\"\n",
    "st.lstrip('hai h')\n"
   ]
  },
  {
   "cell_type": "code",
   "execution_count": 75,
   "metadata": {},
   "outputs": [
    {
     "name": "stdout",
     "output_type": "stream",
     "text": [
      "haii how are you haii\n",
      "\thaii how are you haii\n"
     ]
    }
   ],
   "source": [
    "st = \"\\t\\thaii how are you haii\"\n",
    "print(st.lstrip())\n",
    "\n",
    "\n",
    "def ulstrip(coll,ch=\"\"):\n",
    "    if len(ch) in [0]:\n",
    "        if ch==\"\":\n",
    "            ch='\\n\\t '\n",
    "        if coll[0] in ch:\n",
    "            return coll[1:]\n",
    "        else:\n",
    "            return coll\n",
    "    else:\n",
    "        if coll[:len(ch)] == ch:\n",
    "            return coll[len(ch):]\n",
    "        else:\n",
    "            return coll\n",
    "\n",
    "print(ulstrip(st))\n",
    "\n"
   ]
  },
  {
   "cell_type": "code",
   "execution_count": 59,
   "metadata": {},
   "outputs": [
    {
     "name": "stdout",
     "output_type": "stream",
     "text": [
      "haii how are you haii\n"
     ]
    }
   ],
   "source": [
    "st = \"\\nhaii how are you haii\"\n",
    "def ulstrip(coll,ch=\"\"):\n",
    "    if coll[0] in \"\\t\\n \":\n",
    "        return coll[1:]\n",
    "    elif coll[:len(ch)] == ch:\n",
    "        return coll[len(ch):]\n",
    "    else:\n",
    "        return coll\n",
    "\n",
    "print(ulstrip(st,'haii'))"
   ]
  },
  {
   "cell_type": "code",
   "execution_count": 143,
   "metadata": {},
   "outputs": [
    {
     "name": "stdout",
     "output_type": "stream",
     "text": [
      "haii how are you haii\n",
      "haii how are you haii\n"
     ]
    }
   ],
   "source": [
    "st = \"\\n\\nhaii how are you haii\"\n",
    "print(st.lstrip())\n",
    "\n",
    "def ulstrip(coll,ch=''):\n",
    "    if ch=='':\n",
    "        ch = '\\n\\t '\n",
    "    start=0\n",
    "    while start<len(coll):\n",
    "        if coll[start] not in ch:\n",
    "            return coll[start:]\n",
    "        start+=1\n",
    "print(ulstrip(st))"
   ]
  },
  {
   "cell_type": "code",
   "execution_count": 150,
   "metadata": {},
   "outputs": [
    {
     "name": "stdout",
     "output_type": "stream",
     "text": [
      "haii how are you \n",
      "haii how are you \n"
     ]
    }
   ],
   "source": [
    "st = \"haii how are you haii\"\n",
    "print(st.rstrip('haii'))\n",
    "\n",
    "\n",
    "def ulstrip(coll, ch=''):\n",
    "    coll=coll[::-1]\n",
    "    ch=ch[::-1]\n",
    "    if ch == '':\n",
    "        ch = '\\n\\t '\n",
    "    start = 0\n",
    "    while start < len(coll):\n",
    "        if coll[start] not in ch:\n",
    "            return coll[start:][::-1]\n",
    "        start += 1\n",
    "print(ulstrip(st,'haii'))\n"
   ]
  },
  {
   "cell_type": "code",
   "execution_count": 140,
   "metadata": {},
   "outputs": [
    {
     "name": "stdout",
     "output_type": "stream",
     "text": [
      "haii how are you \n"
     ]
    },
    {
     "data": {
      "text/plain": [
       "'haii how are you'"
      ]
     },
     "execution_count": 140,
     "metadata": {},
     "output_type": "execute_result"
    }
   ],
   "source": [
    "st = \"haii how are you haii\"\n",
    "print(st.rstrip('haii'))\n",
    "\n",
    "\n",
    "def urstrip(coll, ch=''):\n",
    "    if coll[-1]!=ch:\n",
    "        if ch == '':\n",
    "            ch = '\\n\\t '\n",
    "        start=-1\n",
    "        while start>=-(len(coll)):\n",
    "            if coll[start] not in ch:\n",
    "                return coll[start:][::-1]\n",
    "            start-=1\n",
    "        return coll\n",
    "urstrip(st,'haii')\n"
   ]
  },
  {
   "cell_type": "code",
   "execution_count": 65,
   "metadata": {},
   "outputs": [
    {
     "name": "stdout",
     "output_type": "stream",
     "text": [
      " world haii \n",
      "None\n"
     ]
    }
   ],
   "source": [
    "st=\"hello world haii hello\"\n",
    "def ulstrip(coll, ch=''):\n",
    "    if ch == '':\n",
    "        ch = '\\n\\t '\n",
    "    start = 0\n",
    "    while start < len(coll):\n",
    "        if coll[start] not in ch:\n",
    "            res=coll[start:]\n",
    "            break\n",
    "        start += 1\n",
    "    coll=res[::-1]\n",
    "    start = 0\n",
    "    while start < len(coll):\n",
    "        if coll[start] not in ch:\n",
    "            res = coll[start:][::-1]\n",
    "            break\n",
    "        start += 1\n",
    "    print(res)\n",
    "    \n",
    "print(ulstrip(st,'hello'))\n"
   ]
  },
  {
   "cell_type": "code",
   "execution_count": 75,
   "metadata": {},
   "outputs": [],
   "source": [
    "st='\\n\\thaii helloworld\\n'\n",
    "start=0\n",
    "end=-1\n",
    "n=len(st)//2\n",
    "i=0\n",
    "j=0\n",
    "while start<n:\n",
    "    if st[start] in '\\n\\t ':\n",
    "        i = start\n",
    "    if st[end] in '\\n\\t ':\n",
    "        j = end\n",
    "    if st[start] not in '\\n\\t ' == st[end] not in '\\n\\t ':\n",
    "        break\n",
    "    start+=1\n",
    "    end-=1\n",
    "print(st[i+1:j])\n"
   ]
  },
  {
   "cell_type": "code",
   "execution_count": 2,
   "metadata": {},
   "outputs": [
    {
     "name": "stdout",
     "output_type": "stream",
     "text": [
      "Minimum deviation after inserting 4: 6\n"
     ]
    }
   ],
   "source": [
    "def find_min_deviation(arr, new_element):\n",
    "    arr.append(new_element)  # insert new element into the array\n",
    "    max_elem = max(arr)\n",
    "    min_elem = min(arr)\n",
    "    deviation = max_elem - min_elem\n",
    "    return deviation\n",
    "\n",
    "\n",
    "# example usage\n",
    "my_array = [4, 7, 1, 4]\n",
    "new_elem = 4\n",
    "min_deviation = find_min_deviation(my_array, new_elem)\n",
    "print(\"Minimum deviation after inserting {0}: {1}\".format(\n",
    "    new_elem, min_deviation))\n"
   ]
  },
  {
   "cell_type": "code",
   "execution_count": 3,
   "metadata": {},
   "outputs": [
    {
     "name": "stdout",
     "output_type": "stream",
     "text": [
      "5\n"
     ]
    }
   ],
   "source": [
    "n = int(input())\n",
    "arr = list(map(int, input().split()))\n",
    "\n",
    "arr.sort()  # sort the array\n",
    "\n",
    "min_md = float('inf')  # initialize the minimum deviation to infinity\n",
    "\n",
    "for i in range(n-1):\n",
    "    # insert the average between arr[i] and arr[i+1]\n",
    "    new_elem = (arr[i] + arr[i+1]) // 2\n",
    "    new_arr = arr[:i+1] + [new_elem] + arr[i+1:]\n",
    "\n",
    "    # calculate the new Minimum Deviation\n",
    "    md = 0\n",
    "    for j in range(1, n):\n",
    "        md += (new_arr[j] - new_arr[j-1])**2\n",
    "\n",
    "    # update the minimum deviation if necessary\n",
    "    min_md = min(min_md, md)\n",
    "\n",
    "print(min_md)\n"
   ]
  },
  {
   "cell_type": "code",
   "execution_count": null,
   "metadata": {},
   "outputs": [],
   "source": [
    "def find_minimum_deviation_solution(initial_solution, target_value):\n",
    "    solution = list(initial_solution)  # create a copy of the initial solution\n",
    "    while True:\n",
    "        changed = False\n",
    "        for i in range(len(solution)):\n",
    "            old_value = solution[i]\n",
    "            solution[i] = target_value  # try the target value\n",
    "            new_deviation = calculate_deviation(solution, target_value)\n",
    "            if new_deviation < calculate_deviation(initial_solution, target_value):\n",
    "                # the new solution is better, keep it\n",
    "                changed = True\n",
    "                break\n",
    "            else:\n",
    "                # the new solution is worse, revert to the old value\n",
    "                solution[i] = old_value\n",
    "        if not changed:\n",
    "            # no further improvements possible, return the final solution\n",
    "            return solution\n",
    "\n",
    "\n",
    "def calculate_deviation(solution, target_value):\n",
    "    deviation = 0\n",
    "    for element in solution:\n",
    "        deviation += abs(element - target_value)\n",
    "    return deviation\n",
    "\n",
    "\n",
    "# example usage\n",
    "initial_solution = [1, 2, 3]\n",
    "target_value = 10\n",
    "final_solution = find_minimum_deviation_solution(\n",
    "    initial_solution, target_value)\n",
    "print(\"Initial solution: \", initial_solution)\n",
    "print(\"Final solution: \", final_solution)\n"
   ]
  },
  {
   "cell_type": "code",
   "execution_count": 5,
   "metadata": {},
   "outputs": [
    {
     "name": "stdout",
     "output_type": "stream",
     "text": [
      "9\n"
     ]
    }
   ],
   "source": [
    "def minimum_deviation(arr):\n",
    "    arr.sort()\n",
    "    n = len(arr)\n",
    "    min_deviation=float('inf')\n",
    "    for i in range(1,n):\n",
    "        deviation = (arr[i]-arr[i - 1]) ** 2\n",
    "        min_deviation= min(min_deviation, deviation) \n",
    "        return min_deviation\n",
    "\n",
    "arr= [4, 7, 1, 4]\n",
    "print(minimum_deviation(arr))\n"
   ]
  },
  {
   "cell_type": "code",
   "execution_count": 6,
   "metadata": {},
   "outputs": [
    {
     "name": "stdout",
     "output_type": "stream",
     "text": [
      "18\n"
     ]
    }
   ],
   "source": [
    "n = int(input())\n",
    "arr = list(map(int, input().split()))\n",
    "\n",
    "# Sort the array\n",
    "arr.sort()\n",
    "\n",
    "# Compute initial minimum deviation\n",
    "min_dev = sum((arr[i] - arr[i-1])**2 for i in range(1, n))\n",
    "\n",
    "# Initialize best deviation and best value to insert\n",
    "best_dev = min_dev\n",
    "best_val = -1\n",
    "\n",
    "# Find best value to insert\n",
    "for i in range(n-1):\n",
    "    diff = arr[i+1] - arr[i]\n",
    "    new_val = (arr[i+1] + arr[i]) // 2\n",
    "    dev = diff**2 + (new_val - arr[i])**2 + (arr[i+1] - new_val)**2\n",
    "    if dev < best_dev:\n",
    "        best_dev = dev\n",
    "        best_val = new_val\n",
    "\n",
    "# Insert best value if found\n",
    "if best_val != -1:\n",
    "    arr.append(best_val)\n",
    "    arr.sort()\n",
    "\n",
    "# Compute final minimum deviation\n",
    "min_dev = sum((arr[i] - arr[i-1])**2 for i in range(1, n+1))\n",
    "\n",
    "# Output result\n",
    "print(min_dev)\n"
   ]
  }
 ],
 "metadata": {
  "kernelspec": {
   "display_name": "Python 3",
   "language": "python",
   "name": "python3"
  },
  "language_info": {
   "codemirror_mode": {
    "name": "ipython",
    "version": 3
   },
   "file_extension": ".py",
   "mimetype": "text/x-python",
   "name": "python",
   "nbconvert_exporter": "python",
   "pygments_lexer": "ipython3",
   "version": "3.11.3"
  },
  "orig_nbformat": 4,
  "vscode": {
   "interpreter": {
    "hash": "a92775c7a550bfb537d40aeceeef7218d174edd0056e50c65f572b3a979a9e6c"
   }
  }
 },
 "nbformat": 4,
 "nbformat_minor": 2
}
