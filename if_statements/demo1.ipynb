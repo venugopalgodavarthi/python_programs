{
 "cells": [
  {
   "cell_type": "code",
   "execution_count": null,
   "metadata": {},
   "outputs": [],
   "source": [
    "ch = \"A\"\n",
    "if 'A' <= ch <= 'Z' or 'a' <= ch <= 'z':\n",
    "    print(ord(ch))"
   ]
  },
  {
   "cell_type": "code",
   "execution_count": null,
   "metadata": {},
   "outputs": [],
   "source": [
    "n = 25\n",
    "if type(n) == int:\n",
    "    a = n*5\n",
    "    print(a)"
   ]
  },
  {
   "cell_type": "code",
   "execution_count": null,
   "metadata": {},
   "outputs": [],
   "source": [
    "n = 35\n",
    "if n % 5 == 0 and n % 7 == 0:\n",
    "    a = str(n)\n",
    "    print(a, type(a))\n",
    "\n",
    "\n"
   ]
  },
  {
   "cell_type": "code",
   "execution_count": null,
   "metadata": {},
   "outputs": [],
   "source": [
    "n = 28\n",
    "li = []\n",
    "if n % 2 == 0:\n",
    "    li = li+[n]\n",
    "print(li)\n"
   ]
  },
  {
   "cell_type": "code",
   "execution_count": null,
   "metadata": {},
   "outputs": [],
   "source": [
    "n='6'\n",
    "if '0'<=n<='9':\n",
    "    n=int(n)\n",
    "    print(n,type(n))"
   ]
  },
  {
   "cell_type": "code",
   "execution_count": null,
   "metadata": {},
   "outputs": [],
   "source": [
    "n=15.05\n",
    "n=type(n)\n",
    "if n==int or n==float or n==complex or n==bytes or n==bool:\n",
    "    print(\"given value is single value data type:\",n)"
   ]
  },
  {
   "cell_type": "code",
   "execution_count": null,
   "metadata": {},
   "outputs": [],
   "source": [
    "n=[10,20]\n",
    "print(n)\n",
    "n=type(n)\n",
    "print(n)"
   ]
  },
  {
   "cell_type": "code",
   "execution_count": null,
   "metadata": {},
   "outputs": [],
   "source": [
    "n = ('a',10)\n",
    "u = type(n)\n",
    "if u in [str, list, tuple, set, dict]:\n",
    "    print(n*2)\n"
   ]
  },
  {
   "cell_type": "code",
   "execution_count": null,
   "metadata": {},
   "outputs": [],
   "source": [
    "n=109\n",
    "if type(n)==int:\n",
    "    print(n%10)"
   ]
  },
  {
   "cell_type": "code",
   "execution_count": null,
   "metadata": {},
   "outputs": [],
   "source": [
    "n = 120.06\n",
    "m=None\n",
    "if type(n) == int:\n",
    "    m = n % 10\n",
    "print(m)"
   ]
  },
  {
   "cell_type": "code",
   "execution_count": null,
   "metadata": {},
   "outputs": [],
   "source": [
    "n = 109\n",
    "if type(n) == int:\n",
    "    m = n % 10\n",
    "    print(m)\n"
   ]
  },
  {
   "cell_type": "code",
   "execution_count": null,
   "metadata": {},
   "outputs": [],
   "source": [
    "n=[10,20]\n",
    "if type(n) in [int,float,complex,bytes,bool,str,tuple]:\n",
    "    print(\"immutable\")"
   ]
  },
  {
   "cell_type": "code",
   "execution_count": null,
   "metadata": {},
   "outputs": [],
   "source": [
    "n=15.05\n",
    "n=type(n)\n",
    "if n in [int,float,complex,bool,bytes]:\n",
    "    print(\"given value is single value data type:\",n)"
   ]
  },
  {
   "cell_type": "code",
   "execution_count": null,
   "metadata": {},
   "outputs": [],
   "source": [
    "val={'a':10,\"b\":20,'c':40}\n",
    "if type(val)==dict:\n",
    "    h=list(val)\n",
    "    print(h)"
   ]
  },
  {
   "cell_type": "code",
   "execution_count": null,
   "metadata": {},
   "outputs": [],
   "source": [
    "val = {'a': 10, \"b\": 20, 'c': 40}\n",
    "if type(val) == dict:\n",
    "    h = list(val.keys())\n",
    "    print(h)\n"
   ]
  },
  {
   "cell_type": "code",
   "execution_count": null,
   "metadata": {},
   "outputs": [],
   "source": [
    "val = {'a': 10, \"b\": 20, 'c': 40}\n",
    "if type(val) == dict:\n",
    "    h = list(val.values())\n",
    "    print(h)\n"
   ]
  },
  {
   "cell_type": "code",
   "execution_count": null,
   "metadata": {},
   "outputs": [],
   "source": [
    "val=(10,20,10,30)\n",
    "if type(val) in [str,list,tuple]:\n",
    "    print(set(val))"
   ]
  },
  {
   "cell_type": "code",
   "execution_count": null,
   "metadata": {},
   "outputs": [],
   "source": [
    "n=59\n",
    "st=\"sravani\"\n",
    "if 60<n<125:\n",
    "    print(st[len(st)//2])\n"
   ]
  },
  {
   "cell_type": "code",
   "execution_count": null,
   "metadata": {},
   "outputs": [],
   "source": [
    "st=\"pysp\"\n",
    "if len(st)%2==0 and len(st)!=0:\n",
    "    print(st[0:-3]) #print(st[0:len(st)-2])"
   ]
  },
  {
   "cell_type": "code",
   "execution_count": null,
   "metadata": {},
   "outputs": [],
   "source": [
    "st=[10,20,30]\n",
    "if len(st)%2!=0 and len(st)>1:\n",
    "    temp=st[0]\n",
    "    st[0]=st[-1]\n",
    "    st[-1]=temp\n",
    "print(st)"
   ]
  },
  {
   "cell_type": "code",
   "execution_count": null,
   "metadata": {},
   "outputs": [],
   "source": []
  },
  {
   "cell_type": "code",
   "execution_count": null,
   "metadata": {},
   "outputs": [],
   "source": [
    "st = [10, 20, 30]\n",
    "if len(st) % 2 != 0 and len(st) > 1:\n",
    "    st[0],st[-1]=st[-1],st[0]\n",
    "print(st)\n"
   ]
  },
  {
   "cell_type": "code",
   "execution_count": null,
   "metadata": {},
   "outputs": [],
   "source": [
    "#WAP to check whether given value is positive or negative\n",
    "#if positive display the given value is positive with value.or else display the given value is negative with value.\n",
    "n=-10\n",
    "if n>0:\n",
    "    print(\"given value is positive\",n)\n",
    "else:\n",
    "    print(\"given value is negative\",n)"
   ]
  },
  {
   "cell_type": "code",
   "execution_count": null,
   "metadata": {},
   "outputs": [],
   "source": [
    "# WAP to check whether given value is positive or negative.\n",
    "# if positive, perform addition with 10.or else convert to positive and display it.\n",
    "n=-50\n",
    "if n>0:\n",
    "    a=n+10\n",
    "else:\n",
    "    a=-(n)\n",
    "print(a)"
   ]
  },
  {
   "cell_type": "code",
   "execution_count": null,
   "metadata": {},
   "outputs": [],
   "source": [
    "# WAP to check whether a given value is even or odd.\n",
    "# if even, to perform bitwise and operation with half of the given value.or else bitwise left operation with skipping value 4 and display it.\n",
    "\n",
    "n=60\n",
    "if n%2==0:\n",
    "    a=n & (n//2)\n",
    "else:\n",
    "    a=n<<3\n",
    "print(a)\n",
    "\n"
   ]
  },
  {
   "cell_type": "code",
   "execution_count": null,
   "metadata": {},
   "outputs": [],
   "source": [
    "n=56\n",
    "if 25<n<=100:\n",
    "    print(n*2)"
   ]
  },
  {
   "attachments": {},
   "cell_type": "markdown",
   "metadata": {},
   "source": []
  },
  {
   "cell_type": "code",
   "execution_count": null,
   "metadata": {},
   "outputs": [],
   "source": [
    "n=\"g\"\n",
    "if 'A'<=n<='Z':\n",
    "    print(\"upperrcase\")"
   ]
  },
  {
   "cell_type": "code",
   "execution_count": null,
   "metadata": {},
   "outputs": [],
   "source": [
    "# WAP to check whether a given value is even and in range of 47 to 58 and not should not be 0 or odd.\n",
    "# if condition is True, to perform display the ascii character.or else to perform floor division with 5 and display it.\n",
    "\n",
    "n=50\n",
    "if (n%2==0) and 47<=n<=58 and n!=0:\n",
    "    a=chr(n)\n",
    "else:\n",
    "    a=n//5\n",
    "print(a)"
   ]
  },
  {
   "cell_type": "code",
   "execution_count": null,
   "metadata": {},
   "outputs": [],
   "source": [
    "# WAP to check whether a given value is less than 125 and in between 47 to 125 or not.\n",
    "# if condition is True, to perform store the given value as key and value as a character into the dict.or else to append the value in list and display it.\n",
    "\n",
    "n=46\n",
    "d={}\n",
    "l=[]\n",
    "if 47<=n<125:\n",
    "    d[n]=chr(n)\n",
    "    print(d)\n",
    "else:\n",
    "    l+=[n]\n",
    "    print(l)"
   ]
  },
  {
   "cell_type": "code",
   "execution_count": null,
   "metadata": {},
   "outputs": [],
   "source": [
    "# WAP to check whether a given character is in the alphabet or not.\n",
    "# if alphabet, display the alphabet with character.or else display the not alphabet with character.\n",
    "ch=\"1\"\n",
    "if 'A'<=ch<='Z' or 'a'<=ch<='z':\n",
    "    print(\"given character is alphabet\",ch)\n",
    "else:\n",
    "    print(\"given character is not alphabet\",ch)\n"
   ]
  },
  {
   "cell_type": "code",
   "execution_count": null,
   "metadata": {},
   "outputs": [],
   "source": [
    "# WAP to check whether a given character is uppercase or other character.\n",
    "# if uppercase, display the uppercase with character.or else display the other character with character.\n",
    "ch=\"\"\n",
    "if 'A'<=ch<='Z':\n",
    "    print(\"given character is uppercase\",ch)\n",
    "else:\n",
    "    print(\"given character is other character\",ch)"
   ]
  },
  {
   "cell_type": "code",
   "execution_count": null,
   "metadata": {},
   "outputs": [],
   "source": [
    "# WAP to check whether a given character is lowercase or other character.\n",
    "# if lowercase, display the lowercase with character.or else display the other character with character.\n",
    "ch=\"t\"\n",
    "if 'a'<=ch<='z':\n",
    "    print(\"given character is lowercase\",ch)\n",
    "else:\n",
    "    print(\"given character is other character\",ch)"
   ]
  },
  {
   "cell_type": "code",
   "execution_count": null,
   "metadata": {},
   "outputs": [],
   "source": [
    "# WAP to check whether a given character is uppercase or other character.\n",
    "# if uppercase, convert to lowercase .or else display the ascii value.\n",
    "ch=\"v\"\n",
    "if 'A'<=ch<='Z':\n",
    "    a=chr(ord(ch)+32)\n",
    "    print(a)\n",
    "else:\n",
    "    print(ord(ch))"
   ]
  },
  {
   "cell_type": "code",
   "execution_count": null,
   "metadata": {},
   "outputs": [],
   "source": [
    "#WAP to check whether a given character is a vowel or consonant.\n",
    "#if vowel,to print next character of a given character or else print preivous characters.\n",
    "ch=\"B\"\n",
    "if ch in 'AEIOUaeiou':\n",
    "    res=chr(ord(ch)+1)\n",
    "else:\n",
    "    res=chr(ord(ch)-1)\n",
    "print(res)"
   ]
  },
  {
   "cell_type": "code",
   "execution_count": null,
   "metadata": {},
   "outputs": [],
   "source": [
    "#WAP to check whether a given length of the string is even or not.\n",
    "#if even, to append the new string called \"bye\" or else print the first and last characters. \n",
    "st=\"hell\"\n",
    "if len(st)%2==0 and len(st)!=0:\n",
    "    a=st+\"bye\"\n",
    "else:\n",
    "    a=st[0]+st[-1]\n",
    "print(a)\n"
   ]
  },
  {
   "cell_type": "code",
   "execution_count": null,
   "metadata": {},
   "outputs": [],
   "source": [
    "#WAP to check whether a given year is a leap year or not.\n",
    "#if leap year, print leap year or else not a leap year.\n",
    "\n",
    "year=2100\n",
    "if year%4==0 and year%100!=0 or year%400==0:\n",
    "    print(\"given year is leap year\")\n",
    "else:\n",
    "    print(\"given year is not a leap year\")"
   ]
  },
  {
   "cell_type": "code",
   "execution_count": null,
   "metadata": {},
   "outputs": [],
   "source": [
    "# WAP to find out the greatest of two numbers and display the greatest number.\n",
    "# if the greatest number, display the greatest message with value.\n",
    "\n",
    "m=50\n",
    "n=60\n",
    "if m>n:\n",
    "    print(\"given value is greatest\",m)\n",
    "else:\n",
    "    print(\"given value is greatest\",n)"
   ]
  },
  {
   "cell_type": "code",
   "execution_count": null,
   "metadata": {},
   "outputs": [],
   "source": [
    "# WAP to check whether a given value is a list and first and last values are should be integer or not,\n",
    "# if condition is satisfied first value is true division by 5 and perform the bitwise not for last value  and those values are storing in same positions in list or else 2 power length of the collection and display it\n",
    "\n",
    "\n",
    "li=(10,20,\"str\",[10,20],40,50)\n",
    "if type(li)==list and type(li[0])==int and type(li[-1])==int:\n",
    "    li[0]=li[0]/5\n",
    "    li[-1]=~li[-1]\n",
    "    print(li)\n",
    "else:\n",
    "    res=2**len(li)\n",
    "    print(res)\n"
   ]
  },
  {
   "cell_type": "code",
   "execution_count": null,
   "metadata": {},
   "outputs": [],
   "source": []
  },
  {
   "cell_type": "code",
   "execution_count": null,
   "metadata": {},
   "outputs": [],
   "source": [
    "#WAP to check given string of first and second character should be sequence or not.\n",
    "#if sequence print the first,second and last two character, or else first half string is reverse and remaining half string should be normal and display it.  \n",
    "st=\"HELLOWORL\"\n",
    "if len(st)>=2 and ord(st[0])+1==ord(st[1]):\n",
    "    a=st[0]+st[1]+st[-2]+st[-1]\n",
    "else:\n",
    "    a=st[0:len(st)//2][::-1]+st[len(st)//2:]\n",
    "print(a)\n"
   ]
  },
  {
   "cell_type": "code",
   "execution_count": null,
   "metadata": {},
   "outputs": [],
   "source": [
    "#WAP to check whether given key is present in the dict or not.\n",
    "#if key is present: display the value or else add key and new value inside the dict.\n",
    "\n",
    "val=\"C\"\n",
    "d={'A':100,'B':200}\n",
    "if val in d:\n",
    "   print(d[val])\n",
    "else:\n",
    "    d[val]=50\n",
    "    print(d)  \n"
   ]
  },
  {
   "cell_type": "code",
   "execution_count": null,
   "metadata": {},
   "outputs": [],
   "source": [
    "#WAP to check whether given collection is set or not.\n",
    "#if set, append the new value, or else the eliminate the duplicate values in collection. final results should be set type.\n",
    "\n",
    "s='hello'\n",
    "if type(s)==set:\n",
    "    res=set(list(s)+[40,30])\n",
    "else:\n",
    "    res=set(s)\n",
    "print(res)"
   ]
  },
  {
   "cell_type": "code",
   "execution_count": null,
   "metadata": {},
   "outputs": [],
   "source": [
    "#WAP to check whether a given string of first character is alphabet or not\n",
    "#if the alphabet prints reverse the string or else print the middle character. \n",
    "st=\"1elloworl\"\n",
    "ch=st[0]\n",
    "if 'A'<=ch<='Z' or 'a'<=ch<='z':\n",
    "    print(st[::-1])\n",
    "elif len(st)%2!=0:\n",
    "    print(st[len(st)//2])"
   ]
  },
  {
   "cell_type": "code",
   "execution_count": null,
   "metadata": {},
   "outputs": [],
   "source": [
    "# WAP to check whether a given value is positive or negative or neutral.\n",
    "# if positive, display the given value is positive value with value.or \n",
    "#negative, display the given value is negative with value or else, to \n",
    "#display the given value is neutral with value.\n",
    "\n",
    "n=-10\n",
    "if n>0:\n",
    "    print(\"given value is positive\",n)\n",
    "elif n<0:\n",
    "    print(\"given value is negative\",n)\n",
    "elif n==0:\n",
    "    print(\"given value is neutral\",n)\n",
    "\n",
    "#or\n",
    "\n",
    "n=-10\n",
    "if n>0:\n",
    "    print(\"given value is positive\",n)\n",
    "elif n<0:\n",
    "    print(\"given value is negative\",n)\n",
    "else:\n",
    "    print(\"given value is neutral\",n)"
   ]
  },
  {
   "cell_type": "code",
   "execution_count": null,
   "metadata": {},
   "outputs": [],
   "source": [
    "# WAP to check whether a given character is alphabet or ascii number or special character or invalid.\n",
    "# if alphabet, display the alphabet with character.or elif ascii number display the ascii number with character,or else display the special character with character.\n",
    "\n",
    "ch=\"55\"\n",
    "if len(ch)==1 and 'A'<=ch<='Z' or \"a\"<=ch<='z':\n",
    "    print(\"given character is alphabet\", ch)\n",
    "elif len(ch) == 1 and '0' <= ch <= '9':\n",
    "    print(\"given character is ascii number\", ch)\n",
    "elif len(ch) == 1 and not ('A' <= ch <= 'Z' or \"a\" <= ch <= 'z' or '0' <= ch <= '9'):\n",
    "    print(\"given character is special character\", ch)\n",
    "else:\n",
    "    print(\"given value is invalid\")"
   ]
  },
  {
   "cell_type": "code",
   "execution_count": null,
   "metadata": {},
   "outputs": [],
   "source": [
    "# WAP to check whether a given character is uppercase or lowercase or special character.\n",
    "# if uppercase, convert to lower case.or elif lowercase, convert to uppercase or else display the previous,given,next characters and display it.\n",
    "\n",
    "ch=\"*\"\n",
    "if 'A'<=ch<='Z':\n",
    "    a=chr(ord(ch)+32)\n",
    "elif 'a'<=ch<='z':\n",
    "    a=chr(ord(ch)-32)\n",
    "elif not ('A' <= ch <= 'Z' or \"a\" <= ch <= 'z' or '0' <= ch <= '9'):\n",
    "    a=chr(ord(ch)-1)+ch+chr(ord(ch)+1)\n",
    "print(a)\n",
    "\n"
   ]
  },
  {
   "cell_type": "code",
   "execution_count": null,
   "metadata": {},
   "outputs": [],
   "source": [
    "#WAP to check whether a given percentage is which grade and display grade.\n",
    "# note.(first grade, second grade, third grade, fail)\n",
    "n=110\n",
    "if 85<=n<=100:\n",
    "    print(\"first grade\")\n",
    "elif 65<=n<85:\n",
    "    print(\"second grade\")\n",
    "elif 55<=n<65:\n",
    "    print(\"third grade\")\n",
    "elif 0<=n<55:\n",
    "    print(\"fail\")\n",
    "else:\n",
    "    print(\"mal practice\")\n"
   ]
  },
  {
   "cell_type": "code",
   "execution_count": null,
   "metadata": {},
   "outputs": [],
   "source": [
    "# WAP to check whether given collection is list or tuple or set or string charac4ter.\n",
    "# if list, append the new value in middle of the list,\n",
    "# if tuple, append the new value in starting of the tuple \n",
    "# if set, append the new value in set, \n",
    "# or else append new key as given character and values as a ascii value with character.\n",
    "\n",
    "li='H'\n",
    "if type(li)==list:\n",
    "    li[len(li)//2:len(li)//2]=[50,60]\n",
    "elif type(li)==tuple:\n",
    "    li=(100,50)+li\n",
    "elif type(li)==set:\n",
    "    li=set(list(li)+[800])\n",
    "elif type(li)==str and len(li)==1:\n",
    "    d={}\n",
    "    d[li]=str(ord(li))+li\n",
    "    li=d\n",
    "print(li)"
   ]
  },
  {
   "cell_type": "code",
   "execution_count": null,
   "metadata": {},
   "outputs": [],
   "source": [
    "# WAP to check wheather a given value is a int or float or string or other,\n",
    "# if int, given value division by 5 and display the quotitent, \n",
    "# if float, perform the bitwise or operation with 15, \n",
    "# if string, extract the last position value and append starting of the string, \n",
    "# else store the value in list and display result.\n",
    "\n",
    "n=16.0\n",
    "a=[]\n",
    "if type(n)==int:\n",
    "    a=n/5\n",
    "elif type(n)==float:\n",
    "    a=int(n) | 15\n",
    "elif type(n)==str:\n",
    "    a=n[-1]+n\n",
    "else:\n",
    "    a+=[n]\n",
    "print(a)"
   ]
  },
  {
   "cell_type": "code",
   "execution_count": null,
   "metadata": {},
   "outputs": [],
   "source": [
    "#WAP to find out the greatest of three number.and display the greatest number.\n"
   ]
  },
  {
   "cell_type": "code",
   "execution_count": null,
   "metadata": {},
   "outputs": [],
   "source": [
    "#WAP to find out the relationship between two values and display the relationship."
   ]
  },
  {
   "cell_type": "code",
   "execution_count": null,
   "metadata": {},
   "outputs": [],
   "source": [
    "#WAP to check whether a given value is positive or not, if positive to check given value is even or odd.\n",
    "#if even, to display cube of given value, or else to display the square of the given value.\n",
    "\n",
    "n=11\n",
    "if n>0:\n",
    "    if n%2==0:\n",
    "        a=n**3\n",
    "    else:\n",
    "        a=n**2\n",
    "print(a)"
   ]
  },
  {
   "cell_type": "code",
   "execution_count": null,
   "metadata": {},
   "outputs": [],
   "source": [
    "#WAP to check whether a given character is alphabet or not, if alphabet to check the given alphabet character is  uppercase or not,\n",
    "#if uppercase, to check vowel are not, if vowel to display the next character of given character,\n",
    "#if lowercase, to convert to uppercase and display the character,\n",
    "#or else given character is not a alphabet,than to check given character is ascii number or special character, and display the result.\n",
    "\n",
    "ch='E'\n",
    "if len(ch)==1 and ('A'<=ch<='Z' or 'a'<=ch<='z'):\n",
    "    if 'A'<ch<='Z':\n",
    "        if ch in'AEIOU':\n",
    "            print(chr(ord(ch)+1))\n",
    "    else:\n",
    "        print(chr(ord(ch)-32))\n",
    "elif len(ch)==1 and '0'<=ch<='9':\n",
    "    print(\"given character is ascii number\",ch)\n",
    "elif len(ch)==1 and not('A'<=ch<='Z' or 'a'<=ch<='z' or '0'<=ch<='9'):\n",
    "    print(\"given character is special  character\",ch)\n",
    "else:\n",
    "    print(\"invalid\")\n",
    "\n"
   ]
  },
  {
   "cell_type": "code",
   "execution_count": null,
   "metadata": {},
   "outputs": [],
   "source": [
    "# WAP to check whether given value is non primitive or primitive,\n",
    "# If value is non primitive, to check it is mutable or immutable,\n",
    "# If mutable, to check if a given value is list or not ,\n",
    "# if list, replace the middle element into a new element, or dict to extract all the values from the dict, or set to extract the first and last element of the set,\n",
    "# If immutable, to convert into mutable and to perform swapping  of first and last elements.\n",
    "# Or else if primitive to perform the bitwise not operation.\n",
    "\n",
    "val=True\n",
    "a=type(val)\n",
    "if a in [str,list,tuple,set,dict]:\n",
    "    if a in [list,set,dict]:\n",
    "        if a == list:\n",
    "            val[len(val)//2:len(val)//2]=[150]\n",
    "            print(val)\n",
    "        elif a==dict:\n",
    "            print(val.values())\n",
    "        elif a==set:\n",
    "            b=list(val)\n",
    "            print(b[0],b[-1],b)\n",
    "    else:\n",
    "        c=list(val)\n",
    "        c[0],c[-1]=c[-1],c[0]\n",
    "        print(c)\n",
    "else:\n",
    "    if a in [float,bool,int]:\n",
    "        print(~int(val))\n",
    "\n"
   ]
  },
  {
   "cell_type": "code",
   "execution_count": null,
   "metadata": {},
   "outputs": [],
   "source": [
    "n=30\n",
    "if n%3==0 and n%5==0:\n",
    "    n=str(n)\n",
    "    n=list(n)\n",
    "print(n)"
   ]
  },
  {
   "cell_type": "code",
   "execution_count": null,
   "metadata": {},
   "outputs": [],
   "source": [
    "n=50\n",
    "if n>0:\n",
    "    print(\"given value is +ve\",n)\n",
    "else:\n",
    "    print(\"given value is -ve\",n)"
   ]
  },
  {
   "cell_type": "code",
   "execution_count": null,
   "metadata": {},
   "outputs": [],
   "source": [
    "#WAP to check whether a given number is a prime number or not if prime print the prime number.\n",
    "a = 2\n",
    "num = 12\n",
    "while num > a:\n",
    "  if num % a == 0 & a != num:\n",
    "    print('not prime')\n",
    "    break\n",
    "  a += 1\n",
    "else:  # loop not exited via break\n",
    "  print('prime')\n"
   ]
  },
  {
   "cell_type": "code",
   "execution_count": null,
   "metadata": {},
   "outputs": [],
   "source": [
    "#WAP to check whether given length of the string should be more than 10. \n",
    "#if condition is satified, then check given length of the string is odd then extract and display the middle character \n",
    "#or else extract the first index position character upto length of collection -2 \n",
    "#and that length of the collection is divisible by 3 then display the substring with power of length of the substring.\n",
    "st=\"hellopyspide\"\n",
    "if len(st)>10:\n",
    "    if len(st)%2!=0:\n",
    "        print(st[len(st)//2])\n",
    "    else:\n",
    "        s=st[1::2]\n",
    "        if len(s)%3==0:\n",
    "            print(s,len(s)**len(s))"
   ]
  },
  {
   "cell_type": "code",
   "execution_count": null,
   "metadata": {},
   "outputs": [],
   "source": []
  },
  {
   "cell_type": "code",
   "execution_count": null,
   "metadata": {},
   "outputs": [],
   "source": [
    "# wap to check whether a given input is dict or not.\n",
    "# if dict, to extract and find the first and last values are same or not.\n",
    "# if same,to perform the addition or concat based on the value.\n",
    "# if it is not same,convert to list and concat the new value middle of the list.\n",
    "\n",
    "# if given values is list, to extract and delete the middle value\n",
    "# and append the extracted value into starting of the list.\n",
    "\n",
    "# if given values is tuple, to delete the first,last,middle value, display the output.\n",
    "\n",
    "# if given value is single value, to check value is greater than 25 or not, if true\n",
    "# extract the last digit and display it.\n",
    "\n",
    "d = {'a': [10], 'b': 50, 'c': [10]}\n",
    "l = []\n",
    "if type(d) == dict:\n",
    "    s = list(d.values())\n",
    "    if s[0] == s[-1]:\n",
    "        res = s[0]+s[-1]\n",
    "        print(res)\n",
    "    else:\n",
    "        l += [s[0]]+[s[-1]]\n",
    "        print(l)\n",
    "elif type(d) == list:\n",
    "    res = d[len(d)//2]\n",
    "    del d[len(d)//2]\n",
    "    d = [res]+d\n",
    "    print(d)\n",
    "elif type(d) == tuple:\n",
    "    d = list(d)\n",
    "    del d[0]\n",
    "    del d[len(d)//2]\n",
    "    del d[-1]\n",
    "    d = tuple(d)\n",
    "    print(d)\n",
    "elif type(d) in [int, float, bool]:\n",
    "    if d > 25:\n",
    "        res = d % 10\n",
    "        print(res)\n"
   ]
  },
  {
   "cell_type": "code",
   "execution_count": null,
   "metadata": {},
   "outputs": [],
   "source": [
    "#wap to perform the arthimetical operations based user choose. \n",
    "print(\"add:1\\nsub:2\\nmul:3\\ndiv:4\\n:\")\n",
    "n = int(input(\"choose:\"))\n",
    "a = 50\n",
    "b = 40\n",
    "if n == 1:\n",
    "    res = a+b\n",
    "elif n == 2:\n",
    "    res = a-b\n",
    "elif n == 3:\n",
    "    res = a*b\n",
    "elif n == 4:\n",
    "    res = a/b\n",
    "else:\n",
    "    res = \"invalid\"\n",
    "\n",
    "print(res)\n"
   ]
  },
  {
   "cell_type": "code",
   "execution_count": null,
   "metadata": {},
   "outputs": [],
   "source": [
    "# wap to perform the arthimetical operations based user choose.\n",
    "n = input(\"add\\nsub\\nmul\\ndiv\\n:choose:\")\n",
    "a = 50\n",
    "b = 40\n",
    "if n == 'add':\n",
    "    res = a+b\n",
    "elif n == 'sub':\n",
    "    res = a-b\n",
    "elif n == 'mul':\n",
    "    res = a*b\n",
    "elif n == 'div':\n",
    "    res = a/b\n",
    "else:\n",
    "    res = \"invalid\"\n",
    "print(res)\n"
   ]
  },
  {
   "cell_type": "code",
   "execution_count": null,
   "metadata": {},
   "outputs": [],
   "source": []
  },
  {
   "cell_type": "code",
   "execution_count": null,
   "metadata": {},
   "outputs": [],
   "source": [
    "# wap to perform the arthimetical operations based user choose.\n",
    "n = input(\"add\\nsub\\nmul\\ndiv\\n:choose:\")\n",
    "a = 50\n",
    "b = 40\n",
    "if n == 'add':\n",
    "    print(\"addition of\", a, ',', b, 'is', a+b)\n",
    "elif n == 'sub':\n",
    "    print(\"diff of\", a, ',', b, 'is', a-b)\n",
    "elif n == 'mul':\n",
    "    print(\"product of\", a, ',', b, 'is', a*b)\n",
    "elif n == 'div':\n",
    "    print(\"division of\", a, ',', b, 'is', a/b)\n",
    "else:\n",
    "    print(\"invalid\")\n"
   ]
  },
  {
   "cell_type": "code",
   "execution_count": 6,
   "metadata": {},
   "outputs": [
    {
     "name": "stdout",
     "output_type": "stream",
     "text": [
      "malpractice\n"
     ]
    }
   ],
   "source": [
    "n=101\n",
    "if 85<=n<=100:\n",
    "    print(\"Grade A\")\n",
    "elif 75<=n<85:\n",
    "    print(\"Grade B\")\n",
    "elif 55<=n<75:\n",
    "    print(\"Grade C\")\n",
    "elif 0<=n<55:\n",
    "    print(\"Grade Fail\")\n",
    "else:\n",
    "    print(\"malpractice\")"
   ]
  },
  {
   "cell_type": "code",
   "execution_count": 9,
   "metadata": {},
   "outputs": [
    {
     "name": "stdout",
     "output_type": "stream",
     "text": [
      "helloworl 387420489\n"
     ]
    }
   ],
   "source": [
    "st=\"1helloworld2\"\n",
    "if len(st)>10:\n",
    "    if len(st)%2!=0:\n",
    "        print(st[len(st)//2])\n",
    "    else:\n",
    "        res=st[1:len(st)-2]\n",
    "        if len(res)%3==0:\n",
    "            print(res,len(res)**len(res))"
   ]
  },
  {
   "cell_type": "code",
   "execution_count": 13,
   "metadata": {},
   "outputs": [
    {
     "name": "stdout",
     "output_type": "stream",
     "text": [
      "[10, 20, 30, 40]\n"
     ]
    }
   ],
   "source": [
    "# d = {'a': 10, 'b': 20, 'c': 10}\n",
    "# d = {'a': 10, 'b': 20, 'c': 20}\n",
    "# d = {'a': 10, 'b': 20, 'c': []}\n",
    "d = {'a': [10,20], 'b': 20, 'c': [30,40]}\n",
    "if type(d) == dict:\n",
    "    res=list(d.values())\n",
    "    if res[0]==res[-1] or type(res[0])==type(res[-1]):\n",
    "        res=res[0]+res[-1]\n",
    "        print(res)\n",
    "    else:\n",
    "        res=list(d.items())\n",
    "        res[len(res)//2:len(res)//2]=[[\"d\",50]]\n",
    "        print(res)"
   ]
  },
  {
   "cell_type": "code",
   "execution_count": 14,
   "metadata": {},
   "outputs": [
    {
     "name": "stdout",
     "output_type": "stream",
     "text": [
      "[20, 10, 30]\n"
     ]
    }
   ],
   "source": [
    "d=[10,20,30]\n",
    "if type(d)==list:\n",
    "    res=d[len(d)//2]\n",
    "    del d[len(d)//2]\n",
    "    d=[res]+d\n",
    "    print(d)"
   ]
  },
  {
   "cell_type": "code",
   "execution_count": 15,
   "metadata": {},
   "outputs": [
    {
     "name": "stdout",
     "output_type": "stream",
     "text": [
      "[500, 600]\n"
     ]
    }
   ],
   "source": [
    "d=(100,500,600,400,500)\n",
    "if type(d)==tuple:\n",
    "    d=list(d)\n",
    "    del d[0]\n",
    "    del d[len(d)//2]\n",
    "    del d[-1]\n",
    "    print(d)"
   ]
  },
  {
   "cell_type": "code",
   "execution_count": 23,
   "metadata": {},
   "outputs": [
    {
     "name": "stdout",
     "output_type": "stream",
     "text": [
      "7\n"
     ]
    }
   ],
   "source": [
    "d=157\n",
    "if type(d) in [int,float] and d>25:\n",
    "    res=int(d)\n",
    "    res=res%10\n",
    "    print(res)"
   ]
  },
  {
   "cell_type": "code",
   "execution_count": 28,
   "metadata": {},
   "outputs": [
    {
     "name": "stdout",
     "output_type": "stream",
     "text": [
      "['apple', 'person']\n"
     ]
    }
   ],
   "source": [
    "apple=['Iphone','ipod','iwatch','mac']\n",
    "mobile=['1plus','vivo','oppo','Iphone']\n",
    "person=['Iphone','ipod','smartwatch']\n",
    "# ip ='Iphone'\n",
    "# op=['apple','mobile','person']\n",
    "\n",
    "# ip='mac'\n",
    "# op=['apple']\n",
    "\n",
    "# ip='ipod'\n",
    "# op=['apple','person']\n",
    "\n",
    "ip=input(\"enter the value\")\n",
    "l=[]\n",
    "if ip in apple:\n",
    "    l+=['apple']\n",
    "if ip in mobile:\n",
    "    l+=['mobile']\n",
    "if ip in person:\n",
    "    l+=['person']\n",
    "print(l)\n"
   ]
  },
  {
   "cell_type": "code",
   "execution_count": null,
   "metadata": {},
   "outputs": [],
   "source": []
  },
  {
   "cell_type": "code",
   "execution_count": 34,
   "metadata": {},
   "outputs": [
    {
     "name": "stdout",
     "output_type": "stream",
     "text": [
      "{'sai': ['sai', 'sai@123']}\n",
      "invalid password\n"
     ]
    }
   ],
   "source": [
    "d={'sai':['sai','sai@123']}\n",
    "#user=input(\"enter the username\")\n",
    "#password=input(\"enter the password\")\n",
    "#d[user]=[user,password]\n",
    "print(d)\n",
    "\n",
    "\n",
    "user = input(\"enter the username\")\n",
    "password = input(\"enter the password\")\n",
    "if user in d:\n",
    "    res=d[user]\n",
    "    if user==res[0] and password==res[-1]:\n",
    "        print(\"login success\")\n",
    "    else:\n",
    "        print(\"invalid password\")\n",
    "\n",
    "else:\n",
    "    print(\"invalid username\")\n"
   ]
  }
 ],
 "metadata": {
  "kernelspec": {
   "display_name": "Python 3",
   "language": "python",
   "name": "python3"
  },
  "language_info": {
   "codemirror_mode": {
    "name": "ipython",
    "version": 3
   },
   "file_extension": ".py",
   "mimetype": "text/x-python",
   "name": "python",
   "nbconvert_exporter": "python",
   "pygments_lexer": "ipython3",
   "version": "3.11.3"
  },
  "orig_nbformat": 4,
  "vscode": {
   "interpreter": {
    "hash": "a92775c7a550bfb537d40aeceeef7218d174edd0056e50c65f572b3a979a9e6c"
   }
  }
 },
 "nbformat": 4,
 "nbformat_minor": 2
}
