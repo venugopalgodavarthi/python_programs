{
 "cells": [
  {
   "cell_type": "code",
   "execution_count": 4,
   "metadata": {},
   "outputs": [
    {
     "name": "stdout",
     "output_type": "stream",
     "text": [
      "given value is divisible by 3\n"
     ]
    }
   ],
   "source": [
    "n=-18\n",
    "if n>0:\n",
    "    if n%2==0:\n",
    "        print(\"given value is even\")\n",
    "    else:\n",
    "        print(\"given value is odd\")\n",
    "elif n<0:\n",
    "    if n%3==0:\n",
    "        print(\"given value is divisible by 3\")\n",
    "    else:\n",
    "        print(\"given value is not divisible by 3\")"
   ]
  },
  {
   "cell_type": "code",
   "execution_count": 10,
   "metadata": {},
   "outputs": [
    {
     "name": "stdout",
     "output_type": "stream",
     "text": [
      "a and b is equal\n"
     ]
    }
   ],
   "source": [
    "a,b=40,40\n",
    "if a>45 and b>45:\n",
    "    if a>b:\n",
    "        print(\"a is a greatest value is\",a)\n",
    "    else:\n",
    "        print(\"b is a greatest value is\", b)\n",
    "elif a<45 and b<45:\n",
    "    if a<b:\n",
    "        print(\"b is a greatest value\")\n",
    "    elif a>b:\n",
    "        print(\"a is a greatest value\")\n",
    "    elif a==b:\n",
    "        print(\"a and b is equal\")\n",
    "\n"
   ]
  },
  {
   "cell_type": "code",
   "execution_count": 17,
   "metadata": {},
   "outputs": [
    {
     "name": "stdout",
     "output_type": "stream",
     "text": [
      "given character is ascii number\n"
     ]
    }
   ],
   "source": [
    "ch=\"8\"\n",
    "if 'A'<=ch<='Z' or 'a'<=ch<='z':\n",
    "    if 'A'<=ch<='Z':\n",
    "        if ch in 'AEIOU':\n",
    "            print(chr(ord(ch)+1))\n",
    "    else:\n",
    "        print(chr(ord(ch)-32))\n",
    "elif '0'<=ch<='9':\n",
    "    print(\"given character is ascii number\")\n",
    "else:\n",
    "    print(\"given character is special character\")\n"
   ]
  },
  {
   "cell_type": "code",
   "execution_count": 13,
   "metadata": {},
   "outputs": [
    {
     "name": "stdout",
     "output_type": "stream",
     "text": [
      "None\n"
     ]
    }
   ],
   "source": [
    "#l=[10,20,30,40,50]\n",
    "#l={\"a\":10,\"b\":20}\n",
    "# l={10,20,30,40}\n",
    "# l=\"hello\"\n",
    "# l=(10,50,60,70,80,90)\n",
    "# l=(100.05+89j)\n",
    "# l=100\n",
    "# l=True\n",
    "# l=b'1010'\n",
    "l=None\n",
    "if type(l) in [str,list,tuple,set,dict]:\n",
    "    if type(l) in [list,set,dict]:\n",
    "        if type(l) ==list:\n",
    "            l[len(l)//2]=1500\n",
    "            print(l)\n",
    "        elif type(l)==dict:\n",
    "            print(list(l.values()))\n",
    "        else:\n",
    "            l=tuple(l)\n",
    "            print(l[0],l[-1])\n",
    "    else:\n",
    "        u=l\n",
    "        l=list(l)\n",
    "        l[0],l[-1]=l[-1],l[0]\n",
    "        if type(u)==str:\n",
    "            print(\"\".join(l))\n",
    "        elif type(u)==tuple:\n",
    "            print(tuple(l))\n",
    "else:\n",
    "    if type(l) in [int,bool]:\n",
    "        print(~(l))\n",
    "    else:\n",
    "        print(l)\n",
    "\n",
    "    \n"
   ]
  },
  {
   "cell_type": "code",
   "execution_count": null,
   "metadata": {},
   "outputs": [],
   "source": []
  }
 ],
 "metadata": {
  "kernelspec": {
   "display_name": "Python 3",
   "language": "python",
   "name": "python3"
  },
  "language_info": {
   "codemirror_mode": {
    "name": "ipython",
    "version": 3
   },
   "file_extension": ".py",
   "mimetype": "text/x-python",
   "name": "python",
   "nbconvert_exporter": "python",
   "pygments_lexer": "ipython3",
   "version": "3.11.4"
  },
  "orig_nbformat": 4,
  "vscode": {
   "interpreter": {
    "hash": "a92775c7a550bfb537d40aeceeef7218d174edd0056e50c65f572b3a979a9e6c"
   }
  }
 },
 "nbformat": 4,
 "nbformat_minor": 2
}
