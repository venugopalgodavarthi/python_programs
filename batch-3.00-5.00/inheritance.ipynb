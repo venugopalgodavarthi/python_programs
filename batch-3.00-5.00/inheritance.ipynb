{
 "cells": [
  {
   "cell_type": "code",
   "execution_count": 1,
   "metadata": {},
   "outputs": [],
   "source": [
    "class parent:\n",
    "    a=10\n",
    "    b=20\n",
    "\n",
    "class child(parent):\n",
    "    pass\n"
   ]
  },
  {
   "cell_type": "code",
   "execution_count": 4,
   "metadata": {},
   "outputs": [
    {
     "name": "stdout",
     "output_type": "stream",
     "text": [
      "10\n",
      "20\n"
     ]
    }
   ],
   "source": [
    "print(parent.a)\n",
    "print(parent.b)"
   ]
  },
  {
   "cell_type": "code",
   "execution_count": 6,
   "metadata": {},
   "outputs": [
    {
     "name": "stdout",
     "output_type": "stream",
     "text": [
      "10\n",
      "20\n"
     ]
    }
   ],
   "source": [
    "print(child.a)\n",
    "print(child.b)"
   ]
  },
  {
   "cell_type": "code",
   "execution_count": 12,
   "metadata": {},
   "outputs": [],
   "source": [
    "class parent:\n",
    "    a=10\n",
    "    b=20\n",
    "\n",
    "class child(parent):\n",
    "    x=100\n",
    "    y=200\n"
   ]
  },
  {
   "cell_type": "code",
   "execution_count": 13,
   "metadata": {},
   "outputs": [
    {
     "name": "stdout",
     "output_type": "stream",
     "text": [
      "10\n",
      "20\n"
     ]
    }
   ],
   "source": [
    "print(parent.a)\n",
    "print(parent.b)"
   ]
  },
  {
   "cell_type": "code",
   "execution_count": 15,
   "metadata": {},
   "outputs": [
    {
     "name": "stdout",
     "output_type": "stream",
     "text": [
      "10\n",
      "20\n",
      "100\n",
      "200\n"
     ]
    }
   ],
   "source": [
    "print(child.a)\n",
    "print(child.b)\n",
    "print(child.x)\n",
    "print(child.y)\n"
   ]
  },
  {
   "cell_type": "code",
   "execution_count": 23,
   "metadata": {},
   "outputs": [],
   "source": [
    "class parent:\n",
    "    a=10\n",
    "    b=20\n",
    "\n",
    "class child(parent):\n",
    "    x=100\n",
    "    y=200\n"
   ]
  },
  {
   "cell_type": "code",
   "execution_count": 22,
   "metadata": {},
   "outputs": [
    {
     "name": "stdout",
     "output_type": "stream",
     "text": [
      "10\n",
      "500\n",
      "500\n"
     ]
    }
   ],
   "source": [
    "print(parent.a)\n",
    "parent.a=500 #modify the parent class generic state by using parent class address.\n",
    "#it will impact on parent class as well as derived classes or objects.\n",
    "print(parent.a)\n",
    "print(child.a)\n"
   ]
  },
  {
   "cell_type": "code",
   "execution_count": 24,
   "metadata": {},
   "outputs": [
    {
     "name": "stdout",
     "output_type": "stream",
     "text": [
      "10\n",
      "10\n",
      "haii\n"
     ]
    }
   ],
   "source": [
    "print(child.a)\n",
    "child.a=\"haii\" #modify the parent class generic state by using child class address.\n",
    "#it will impact on child class as well as child class derived objects.\n",
    "print(parent.a)\n",
    "print(child.a)"
   ]
  },
  {
   "cell_type": "code",
   "execution_count": 29,
   "metadata": {},
   "outputs": [],
   "source": [
    "class parent:\n",
    "    a=10\n",
    "    b=20\n",
    "\n",
    "class child(parent):\n",
    "    x=100\n",
    "    y=200\n"
   ]
  },
  {
   "cell_type": "code",
   "execution_count": 26,
   "metadata": {},
   "outputs": [
    {
     "ename": "AttributeError",
     "evalue": "type object 'parent' has no attribute 'a'",
     "output_type": "error",
     "traceback": [
      "\u001b[1;31m---------------------------------------------------------------------------\u001b[0m",
      "\u001b[1;31mAttributeError\u001b[0m                            Traceback (most recent call last)",
      "\u001b[1;32mc:\\Users\\QSP\\Documents\\python_programs\\batch-3.00-5.00\\inheritance.ipynb Cell 11\u001b[0m in \u001b[0;36m1\n\u001b[1;32m----> <a href='vscode-notebook-cell:/c%3A/Users/QSP/Documents/python_programs/batch-3.00-5.00/inheritance.ipynb#X15sZmlsZQ%3D%3D?line=0'>1</a>\u001b[0m \u001b[39mprint\u001b[39m(parent\u001b[39m.\u001b[39;49ma)\n\u001b[0;32m      <a href='vscode-notebook-cell:/c%3A/Users/QSP/Documents/python_programs/batch-3.00-5.00/inheritance.ipynb#X15sZmlsZQ%3D%3D?line=1'>2</a>\u001b[0m \u001b[39mdel\u001b[39;00m parent\u001b[39m.\u001b[39ma \u001b[39m#delete the parent class generic state by using parent class address.\u001b[39;00m\n\u001b[0;32m      <a href='vscode-notebook-cell:/c%3A/Users/QSP/Documents/python_programs/batch-3.00-5.00/inheritance.ipynb#X15sZmlsZQ%3D%3D?line=2'>3</a>\u001b[0m \u001b[39m#it will impact on parent class as well as derived classes or objects.\u001b[39;00m\n\u001b[0;32m      <a href='vscode-notebook-cell:/c%3A/Users/QSP/Documents/python_programs/batch-3.00-5.00/inheritance.ipynb#X15sZmlsZQ%3D%3D?line=3'>4</a>\u001b[0m \u001b[39m# print(parent.a)\u001b[39;00m\n",
      "\u001b[1;31mAttributeError\u001b[0m: type object 'parent' has no attribute 'a'"
     ]
    }
   ],
   "source": [
    "print(parent.a)\n",
    "del parent.a #delete the parent class generic state by using parent class address.\n",
    "#it will impact on parent class as well as derived classes or objects.\n",
    "print(parent.a)   #-> ArithmeticError\n",
    "print(child.a)   #-> ArithmeticError\n"
   ]
  },
  {
   "cell_type": "code",
   "execution_count": 30,
   "metadata": {},
   "outputs": [
    {
     "name": "stdout",
     "output_type": "stream",
     "text": [
      "10\n"
     ]
    },
    {
     "ename": "AttributeError",
     "evalue": "type object 'child' has no attribute 'a'",
     "output_type": "error",
     "traceback": [
      "\u001b[1;31m---------------------------------------------------------------------------\u001b[0m",
      "\u001b[1;31mAttributeError\u001b[0m                            Traceback (most recent call last)",
      "\u001b[1;32mc:\\Users\\QSP\\Documents\\python_programs\\batch-3.00-5.00\\inheritance.ipynb Cell 12\u001b[0m in \u001b[0;36m2\n\u001b[0;32m      <a href='vscode-notebook-cell:/c%3A/Users/QSP/Documents/python_programs/batch-3.00-5.00/inheritance.ipynb#X16sZmlsZQ%3D%3D?line=0'>1</a>\u001b[0m \u001b[39mprint\u001b[39m(child\u001b[39m.\u001b[39ma)\n\u001b[1;32m----> <a href='vscode-notebook-cell:/c%3A/Users/QSP/Documents/python_programs/batch-3.00-5.00/inheritance.ipynb#X16sZmlsZQ%3D%3D?line=1'>2</a>\u001b[0m \u001b[39mdel\u001b[39;00m child\u001b[39m.\u001b[39;49ma \u001b[39m#delete the parent class generic state by using child class address.\u001b[39;00m\n\u001b[0;32m      <a href='vscode-notebook-cell:/c%3A/Users/QSP/Documents/python_programs/batch-3.00-5.00/inheritance.ipynb#X16sZmlsZQ%3D%3D?line=2'>3</a>\u001b[0m \u001b[39m#it will  raise the attribute error.\u001b[39;00m\n",
      "\u001b[1;31mAttributeError\u001b[0m: type object 'child' has no attribute 'a'"
     ]
    }
   ],
   "source": [
    "print(child.a)\n",
    "del child.a #delete the parent class generic state by using child class address.\n",
    "#it will  raise the attribute error."
   ]
  },
  {
   "cell_type": "code",
   "execution_count": 33,
   "metadata": {},
   "outputs": [],
   "source": [
    "class parent:\n",
    "    a=10\n",
    "    b=20\n",
    "\n",
    "class child(parent):\n",
    "    x=100\n",
    "    y=200\n",
    "\n",
    "\n",
    "parent_object=parent()\n",
    "\n",
    "child_object=child()"
   ]
  },
  {
   "cell_type": "code",
   "execution_count": 38,
   "metadata": {},
   "outputs": [
    {
     "name": "stdout",
     "output_type": "stream",
     "text": [
      "{'__module__': '__main__', 'a': 10, 'b': 20, '__dict__': <attribute '__dict__' of 'parent' objects>, '__weakref__': <attribute '__weakref__' of 'parent' objects>, '__doc__': None}\n",
      "{'__module__': '__main__', 'x': 100, 'y': 200, '__doc__': None}\n",
      "{}\n",
      "{}\n"
     ]
    }
   ],
   "source": [
    "print(parent.__dict__)\n",
    "print(child.__dict__)\n",
    "\n",
    "print(parent_object.__dict__)\n",
    "print(child_object.__dict__)"
   ]
  },
  {
   "cell_type": "code",
   "execution_count": 42,
   "metadata": {},
   "outputs": [
    {
     "name": "stdout",
     "output_type": "stream",
     "text": [
      "10 20\n",
      "10 20\n",
      "10 20\n",
      "10 20\n"
     ]
    }
   ],
   "source": [
    "print(parent.a,parent.b)\n",
    "print(child.a,child.b)\n",
    "print(parent_object.a,parent_object.b)\n",
    "print(child_object.a,child_object.b)"
   ]
  },
  {
   "cell_type": "code",
   "execution_count": 48,
   "metadata": {},
   "outputs": [
    {
     "name": "stdout",
     "output_type": "stream",
     "text": [
      "100 200\n",
      "100 200\n"
     ]
    }
   ],
   "source": [
    "# print(parent.x , parent.y) #---> attribute error\n",
    "# print(parent_object.x , parent_object.y) #---> attribute error\n",
    "\n",
    "\n"
   ]
  },
  {
   "cell_type": "code",
   "execution_count": 44,
   "metadata": {},
   "outputs": [
    {
     "name": "stdout",
     "output_type": "stream",
     "text": [
      "100 200\n",
      "100 200\n"
     ]
    }
   ],
   "source": [
    "print(child.x,child.y)\n",
    "print(child_object.x,child_object.y)"
   ]
  },
  {
   "cell_type": "code",
   "execution_count": 7,
   "metadata": {},
   "outputs": [],
   "source": [
    "class base:\n",
    "    x=10\n",
    "\n",
    "class sub(base):\n",
    "    m=156\n",
    "\n",
    "base_object=base()\n",
    "sub_object=sub()"
   ]
  },
  {
   "cell_type": "code",
   "execution_count": 10,
   "metadata": {},
   "outputs": [
    {
     "name": "stdout",
     "output_type": "stream",
     "text": [
      "10\n",
      "10\n",
      "10\n",
      "10\n",
      "{'__module__': '__main__', 'x': 10, '__dict__': <attribute '__dict__' of 'base' objects>, '__weakref__': <attribute '__weakref__' of 'base' objects>, '__doc__': None}\n",
      "{'__module__': '__main__', 'm': 156, '__doc__': None}\n",
      "{}\n",
      "{}\n"
     ]
    }
   ],
   "source": [
    "print(base.x)\n",
    "print(sub.x)\n",
    "print(base_object.x)\n",
    "print(sub_object.x)\n",
    "\n",
    "print(base.__dict__)\n",
    "print(sub.__dict__)\n",
    "print(base_object.__dict__)\n",
    "print(sub_object.__dict__)"
   ]
  },
  {
   "cell_type": "code",
   "execution_count": 14,
   "metadata": {},
   "outputs": [],
   "source": [
    "class base:\n",
    "    x=10\n",
    "\n",
    "class sub(base):\n",
    "    m=156\n",
    "\n",
    "base_object=base()\n",
    "sub_object=sub()"
   ]
  },
  {
   "cell_type": "code",
   "execution_count": 15,
   "metadata": {},
   "outputs": [
    {
     "name": "stdout",
     "output_type": "stream",
     "text": [
      "{'__module__': '__main__', 'x': 10, '__dict__': <attribute '__dict__' of 'base' objects>, '__weakref__': <attribute '__weakref__' of 'base' objects>, '__doc__': None}\n",
      "10\n",
      "10\n",
      "10\n",
      "10\n",
      "{'__module__': '__main__', 'x': 150, '__dict__': <attribute '__dict__' of 'base' objects>, '__weakref__': <attribute '__weakref__' of 'base' objects>, '__doc__': None}\n",
      "150\n",
      "150\n",
      "150\n",
      "150\n"
     ]
    }
   ],
   "source": [
    "print(base.__dict__)\n",
    "print(base.x)\n",
    "print(sub.x)\n",
    "print(base_object.x)\n",
    "print(sub_object.x)\n",
    "base.x=150  #modify the base class attribute  by using base class\n",
    "# del base.x  #delete the base class attribute  by using sub class\n",
    "print(base.__dict__)\n",
    "\n",
    "print(base.x)\n",
    "print(sub.x)\n",
    "print(base_object.x)\n",
    "print(sub_object.x)\n",
    "\n",
    "#it will impact all the derived classes as well as derived objects"
   ]
  },
  {
   "cell_type": "code",
   "execution_count": 17,
   "metadata": {},
   "outputs": [],
   "source": [
    "class base:\n",
    "    x=10\n",
    "\n",
    "class sub(base):\n",
    "    m=156\n",
    "\n",
    "base_object=base()\n",
    "sub_object=sub()"
   ]
  },
  {
   "cell_type": "code",
   "execution_count": 19,
   "metadata": {},
   "outputs": [
    {
     "name": "stdout",
     "output_type": "stream",
     "text": [
      "{'__module__': '__main__', 'x': 10, '__dict__': <attribute '__dict__' of 'base' objects>, '__weakref__': <attribute '__weakref__' of 'base' objects>, '__doc__': None}\n",
      "10\n",
      "150\n",
      "10\n",
      "150\n",
      "{'__module__': '__main__', 'x': 10, '__dict__': <attribute '__dict__' of 'base' objects>, '__weakref__': <attribute '__weakref__' of 'base' objects>, '__doc__': None}\n",
      "10\n",
      "150\n",
      "10\n",
      "150\n",
      "{'__module__': '__main__', 'm': 156, '__doc__': None, 'x': 150}\n"
     ]
    }
   ],
   "source": [
    "print(base.__dict__)\n",
    "print(base.x)\n",
    "print(sub.x)\n",
    "print(base_object.x)\n",
    "print(sub_object.x)\n",
    "sub.x=150  #modify the base class attribute by using sub class\n",
    "#del base.x  #delete the base class attribute by using sub class\n",
    "print(base.__dict__)\n",
    "\n",
    "print(base.x)\n",
    "print(sub.x)\n",
    "print(base_object.x)\n",
    "print(sub_object.x)\n",
    "print(sub.__dict__)\n",
    "\n",
    "#it will impact only child class and derived child class objects \n",
    "#it will not impact on base class as well as base class derived objects\n"
   ]
  },
  {
   "cell_type": "code",
   "execution_count": 24,
   "metadata": {},
   "outputs": [],
   "source": [
    "class base:\n",
    "    x=10\n",
    "\n",
    "class sub(base):\n",
    "    m=156\n",
    "\n",
    "base_object=base()\n",
    "sub_object=sub()"
   ]
  },
  {
   "cell_type": "code",
   "execution_count": 25,
   "metadata": {},
   "outputs": [
    {
     "name": "stdout",
     "output_type": "stream",
     "text": [
      "{'__module__': '__main__', 'x': 10, '__dict__': <attribute '__dict__' of 'base' objects>, '__weakref__': <attribute '__weakref__' of 'base' objects>, '__doc__': None}\n",
      "10\n",
      "10\n",
      "10\n",
      "10\n",
      "{'x': 150}\n",
      "10\n",
      "10\n",
      "150\n",
      "10\n",
      "{'__module__': '__main__', 'm': 156, '__doc__': None}\n"
     ]
    }
   ],
   "source": [
    "print(base.__dict__)\n",
    "print(base.x)\n",
    "print(sub.x)\n",
    "print(base_object.x)\n",
    "print(sub_object.x)\n",
    "base_object.x=150  #modify the base class attribute by using base class object\n",
    "#del base.x  #delete the base class attribute by using base class object\n",
    "print(base_object.__dict__)\n",
    "\n",
    "print(base.x)\n",
    "print(sub.x)\n",
    "print(base_object.x)\n",
    "print(sub_object.x)\n",
    "print(sub.__dict__)\n",
    "\n",
    "#it will impact only for current base class object\n",
    "#it will not impact on base class  or sub class , base class other derived objects and sub class derived objects"
   ]
  },
  {
   "cell_type": "code",
   "execution_count": 26,
   "metadata": {},
   "outputs": [],
   "source": [
    "class base:\n",
    "    x=10\n",
    "\n",
    "class sub(base):\n",
    "    m=156\n",
    "\n",
    "base_object=base()\n",
    "sub_object=sub()"
   ]
  },
  {
   "cell_type": "code",
   "execution_count": 27,
   "metadata": {},
   "outputs": [
    {
     "name": "stdout",
     "output_type": "stream",
     "text": [
      "{'__module__': '__main__', 'x': 10, '__dict__': <attribute '__dict__' of 'base' objects>, '__weakref__': <attribute '__weakref__' of 'base' objects>, '__doc__': None}\n",
      "10\n",
      "10\n",
      "10\n",
      "10\n",
      "{}\n",
      "10\n",
      "10\n",
      "10\n",
      "150\n",
      "{'__module__': '__main__', 'm': 156, '__doc__': None}\n"
     ]
    }
   ],
   "source": [
    "print(base.__dict__)\n",
    "print(base.x)\n",
    "print(sub.x)\n",
    "print(base_object.x)\n",
    "print(sub_object.x)\n",
    "sub_object.x=150  #modify the base class attribute by using sub class object\n",
    "#del base.x  #delete the base class attribute by using sub class object\n",
    "print(base_object.__dict__)\n",
    "\n",
    "print(base.x)\n",
    "print(sub.x)\n",
    "print(base_object.x)\n",
    "print(sub_object.x)\n",
    "print(sub.__dict__)\n",
    "\n",
    "#it will impact only for current sub class object\n",
    "#it will not impact on base class, sub class , base class derived objects and sub class other derived objects"
   ]
  },
  {
   "cell_type": "code",
   "execution_count": 38,
   "metadata": {},
   "outputs": [],
   "source": [
    "#version1\n",
    "class employee:\n",
    "    com_name=\"FALCON AVL\"\n",
    "    address=\"madhapur\"\n",
    "    bond=1\n",
    "    def __init__(self,name,age,phone):\n",
    "        self.name=name\n",
    "        self.age=age\n",
    "        self.phone=phone\n",
    "\n",
    "emp1=employee('harika',23,9988006677)\n",
    "emp2=employee('pavan',19,9966885577)"
   ]
  },
  {
   "cell_type": "code",
   "execution_count": 37,
   "metadata": {},
   "outputs": [
    {
     "name": "stdout",
     "output_type": "stream",
     "text": [
      "{'__module__': '__main__', 'com_name': 'FALCON AVL', 'address': 'madhapur', 'bond': 1, '__init__': <function employee.__init__ at 0x00000264DF93B420>, '__dict__': <attribute '__dict__' of 'employee' objects>, '__weakref__': <attribute '__weakref__' of 'employee' objects>, '__doc__': None}\n",
      "{'name': 'harika', 'age': 23, 'phone': 9988006677}\n",
      "harika\n",
      "FALCON AVL\n",
      "madhapur\n",
      "1\n",
      "23\n",
      "9988006677\n"
     ]
    }
   ],
   "source": [
    "print(employee.__dict__)\n",
    "print(emp1.__dict__)\n",
    "\n",
    "print(emp1.name)\n",
    "print(emp1.com_name)\n",
    "print(emp1.address)\n",
    "print(emp1.bond)\n",
    "print(emp1.age)\n",
    "print(emp1.phone)"
   ]
  },
  {
   "cell_type": "code",
   "execution_count": 39,
   "metadata": {},
   "outputs": [
    {
     "name": "stdout",
     "output_type": "stream",
     "text": [
      "{'__module__': '__main__', 'com_name': 'FALCON AVL', 'address': 'madhapur', 'bond': 1, '__init__': <function employee.__init__ at 0x00000264DF938EA0>, '__dict__': <attribute '__dict__' of 'employee' objects>, '__weakref__': <attribute '__weakref__' of 'employee' objects>, '__doc__': None}\n",
      "{'name': 'pavan', 'age': 19, 'phone': 9966885577}\n",
      "pavan\n",
      "FALCON AVL\n",
      "madhapur\n",
      "1\n",
      "19\n",
      "9966885577\n"
     ]
    }
   ],
   "source": [
    "print(employee.__dict__)\n",
    "print(emp2.__dict__)\n",
    "\n",
    "print(emp2.name)\n",
    "print(emp2.com_name)\n",
    "print(emp2.address)\n",
    "print(emp2.bond)\n",
    "print(emp2.age)\n",
    "print(emp2.phone)"
   ]
  },
  {
   "cell_type": "code",
   "execution_count": 40,
   "metadata": {},
   "outputs": [],
   "source": [
    "#version2\n",
    "class employee2(employee):\n",
    "    def __init__(self,name,age,phone,email,pancard):\n",
    "        self.name=name\n",
    "        self.age=age\n",
    "        self.phone=phone\n",
    "        self.email=email\n",
    "        self.pancard=pancard"
   ]
  },
  {
   "cell_type": "code",
   "execution_count": 41,
   "metadata": {},
   "outputs": [
    {
     "name": "stdout",
     "output_type": "stream",
     "text": [
      "FALCON AVL\n",
      "madhapur\n",
      "1\n"
     ]
    }
   ],
   "source": [
    "print(employee2.com_name)\n",
    "print(employee2.address)\n",
    "print(employee2.bond)"
   ]
  },
  {
   "cell_type": "code",
   "execution_count": 3,
   "metadata": {},
   "outputs": [],
   "source": [
    "#version1\n",
    "class employee:\n",
    "    com_name=\"FALCON AVL\"\n",
    "    address=\"madhapur\"\n",
    "    bond=1\n",
    "    def __init__(self,name,age,phone):\n",
    "        self.name=name\n",
    "        self.age=age\n",
    "        self.phone=phone\n",
    "    def display(self):\n",
    "        print(\"Name:\",self.name)\n",
    "        print(\"Age:\",self.age)\n",
    "        print(\"Phone:\",self.phone)\n",
    "\n",
    "\n",
    "emp1=employee('harika',23,9988006677)\n",
    "emp2=employee('pavan',19,9966885577)"
   ]
  },
  {
   "cell_type": "code",
   "execution_count": 6,
   "metadata": {},
   "outputs": [],
   "source": [
    "#version2\n",
    "class employee2(employee):\n",
    "    def __init__(self,name,age,phone,email,pancard):\n",
    "        # employee.__init__(self,name,age,phone)  #constructer chaining.\n",
    "        # super().__init__(name,age,phone)\n",
    "        super(employee2,self).__init__(name,age,phone)\n",
    "        self.email=email\n",
    "        self.pancard=pancard\n",
    "\n",
    "    def display(self):\n",
    "        # super().display()  #method chaining.\n",
    "        # super(employee2,self).display()\n",
    "        employee2.display(self)\n",
    "        print(\"Email:\",self.email)\n",
    "        print(\"Pancard:\",self.pancard)\n",
    "emp3=employee2('dinga',26,9966885544,'dinga@gmail.com',\"blpo125a1\")\n",
    "#super() this fucntion will pointing to the parent class address\n"
   ]
  },
  {
   "cell_type": "code",
   "execution_count": 7,
   "metadata": {},
   "outputs": [
    {
     "name": "stdout",
     "output_type": "stream",
     "text": [
      "{'name': 'dinga', 'age': 26, 'phone': 9966885544, 'email': 'dinga@gmail.com', 'pancard': 'blpo125a1'}\n",
      "Name: harika\n",
      "Age: 23\n",
      "Phone: 9988006677\n",
      "Name: dinga\n",
      "Age: 26\n",
      "Phone: 9966885544\n",
      "Email: dinga@gmail.com\n",
      "Pancard: blpo125a1\n"
     ]
    }
   ],
   "source": [
    "print(emp3.__dict__)\n",
    "emp1.display()\n",
    "emp3.display()"
   ]
  },
  {
   "cell_type": "code",
   "execution_count": 1,
   "metadata": {},
   "outputs": [],
   "source": [
    "class parent:\n",
    "    surname=\"PYS\"\n",
    "    def __init__(self,name,age):\n",
    "        self.name=name\n",
    "        self.age=age\n",
    "obj1=parent('madhu',23)"
   ]
  },
  {
   "cell_type": "code",
   "execution_count": null,
   "metadata": {},
   "outputs": [],
   "source": []
  },
  {
   "cell_type": "code",
   "execution_count": 2,
   "metadata": {},
   "outputs": [
    {
     "data": {
      "text/plain": [
       "mappingproxy({'__module__': '__main__',\n",
       "              'surname': 'PYS',\n",
       "              '__init__': <function __main__.parent.__init__(self, name, age)>,\n",
       "              '__dict__': <attribute '__dict__' of 'parent' objects>,\n",
       "              '__weakref__': <attribute '__weakref__' of 'parent' objects>,\n",
       "              '__doc__': None})"
      ]
     },
     "execution_count": 2,
     "metadata": {},
     "output_type": "execute_result"
    }
   ],
   "source": [
    "parent.__dict__"
   ]
  },
  {
   "cell_type": "code",
   "execution_count": 3,
   "metadata": {},
   "outputs": [
    {
     "data": {
      "text/plain": [
       "{'name': 'madhu', 'age': 23}"
      ]
     },
     "execution_count": 3,
     "metadata": {},
     "output_type": "execute_result"
    }
   ],
   "source": [
    "obj1.__dict__"
   ]
  },
  {
   "cell_type": "code",
   "execution_count": 8,
   "metadata": {},
   "outputs": [],
   "source": [
    "class parent:\n",
    "    surname=\"PYS\"\n",
    "    def __init__(self,name,age):\n",
    "        self.name=name\n",
    "        self.age=age\n",
    "obj1=parent('madhu',23)\n",
    "\n",
    "class child(parent):\n",
    "    address=\"hyd\"\n",
    "    def __init__(self,name,age,email,pancard):\n",
    "        super().__init__(name,age)\n",
    "        self.email=email\n",
    "        self.pancard=pancard\n",
    "obj2=child('naveen','27','naveen@gmail.com','BLOP831W')"
   ]
  },
  {
   "cell_type": "code",
   "execution_count": null,
   "metadata": {},
   "outputs": [],
   "source": []
  },
  {
   "cell_type": "code",
   "execution_count": 9,
   "metadata": {},
   "outputs": [
    {
     "name": "stdout",
     "output_type": "stream",
     "text": [
      "{'__module__': '__main__', 'address': 'hyd', '__init__': <function child.__init__ at 0x000001AF5696DBC0>, '__doc__': None}\n",
      "{'name': 'naveen', 'age': '27', 'email': 'naveen@gmail.com', 'pancard': 'BLOP831W'}\n"
     ]
    }
   ],
   "source": [
    "print(child.__dict__)\n",
    "print(obj2.__dict__)"
   ]
  },
  {
   "cell_type": "code",
   "execution_count": 15,
   "metadata": {},
   "outputs": [
    {
     "name": "stdout",
     "output_type": "stream",
     "text": [
      "parent\n",
      "child\n",
      "subchild\n"
     ]
    }
   ],
   "source": [
    "class parent:\n",
    "    surname=\"PYS\"\n",
    "    def __init__(self,name,age):\n",
    "        self.name=name\n",
    "        self.age=age\n",
    "        print(\"parent\")\n",
    "# obj1=parent('madhu',23)\n",
    "\n",
    "class child(parent):\n",
    "    address=\"hyd\"\n",
    "    def __init__(self,name,age,email,pancard):\n",
    "        super().__init__(name,age)\n",
    "        self.email=email\n",
    "        self.pancard=pancard\n",
    "        print(\"child\")\n",
    "\n",
    "# obj2=child('naveen','27','naveen@gmail.com','BLOP831W')\n",
    "\n",
    "class subchild(child):\n",
    "    landno=9988771122\n",
    "    def __init__(self,name,age,email,pancard,mobile,dob):\n",
    "        super().__init__(name,age,email,pancard)\n",
    "        self.mobile=mobile\n",
    "        self.dob=dob\n",
    "        print(\"subchild\")\n",
    "\n",
    "obj3=subchild('sadhvik',2,'sadhivk@gmail.com','NO',1877452452451,\"24-02-2022\")"
   ]
  },
  {
   "cell_type": "code",
   "execution_count": 16,
   "metadata": {},
   "outputs": [
    {
     "name": "stdout",
     "output_type": "stream",
     "text": [
      "{'name': 'sadhvik', 'age': 2, 'email': 'sadhivk@gmail.com', 'pancard': 'NO', 'mobile': 1877452452451, 'dob': '24-02-2022'}\n",
      "PYS hyd 9988771122\n"
     ]
    }
   ],
   "source": [
    "print(obj3.__dict__)\n",
    "print(obj3.surname,obj3.address,obj3.landno)\n"
   ]
  },
  {
   "cell_type": "code",
   "execution_count": 14,
   "metadata": {},
   "outputs": [],
   "source": [
    "class SBI:\n",
    "    BANK_NAME=\"SBI\"\n",
    "    branch=\"ameerpet\"\n",
    "    address=\"ameerpet HYD\"\n",
    "    IFSC=\"SBINOOOO950\"\n",
    "    no_of_cust=0\n",
    "    details={}\n",
    "    def __init__(self,name,age,email):\n",
    "        self.name=name\n",
    "        self.age=age\n",
    "        self.email=email\n",
    "        SBI.no_of_cust+=1\n",
    "        self.acc_no=840+self.no_of_cust\n",
    "        SBI.details[self.acc_no]=self\n",
    "\n",
    "ravi=SBI(\"RAVI\",26,\"ravi@gmail.com\")\n",
    "geetha=SBI(\"geetha\",26,\"geetha@gmail.com\")\n",
    "\n",
    "class SBID(SBI):\n",
    "    branch=\"Dilsukhnagar\"\n",
    "    address=\"konark\"\n",
    "    IFSC=\"SBIN0000960\"\n",
    "siva=SBID(\"siva\",26,\"siva@gmail.com\")\n",
    "ramu=SBID(\"ramu\",26,\"ramu@gmail.com\")\n",
    "    \n"
   ]
  },
  {
   "cell_type": "code",
   "execution_count": 15,
   "metadata": {},
   "outputs": [
    {
     "data": {
      "text/plain": [
       "mappingproxy({'__module__': '__main__',\n",
       "              'BANK_NAME': 'SBI',\n",
       "              'branch': 'ameerpet',\n",
       "              'address': 'ameerpet HYD',\n",
       "              'IFSC': 'SBINOOOO950',\n",
       "              'no_of_cust': 4,\n",
       "              'details': {841: <__main__.SBI at 0x233ffd7a610>,\n",
       "               842: <__main__.SBI at 0x233ffd78b90>,\n",
       "               843: <__main__.SBID at 0x233ffd0e950>,\n",
       "               844: <__main__.SBID at 0x233ffd5b0d0>},\n",
       "              '__init__': <function __main__.SBI.__init__(self, name, age, email)>,\n",
       "              '__dict__': <attribute '__dict__' of 'SBI' objects>,\n",
       "              '__weakref__': <attribute '__weakref__' of 'SBI' objects>,\n",
       "              '__doc__': None})"
      ]
     },
     "execution_count": 15,
     "metadata": {},
     "output_type": "execute_result"
    }
   ],
   "source": [
    "SBI.__dict__"
   ]
  },
  {
   "cell_type": "code",
   "execution_count": 58,
   "metadata": {},
   "outputs": [],
   "source": [
    "class SBI:\n",
    "    BANK_NAME=\"SBI\"\n",
    "    branch=\"ameerpet\"\n",
    "    address=\"ameerpet HYD\"\n",
    "    IFSC=\"SBINOOOO950\"\n",
    "    no_of_cust=0\n",
    "    code=840\n",
    "    details={}\n",
    "    def __init__(self,name,age,email):\n",
    "        self.name=name\n",
    "        self.age=age\n",
    "        self.email=email\n",
    "        self.no_of_inc()\n",
    "        self.acc_no=self.code+self.no_of_cust\n",
    "        self.bal=0\n",
    "        SBI.details[self.acc_no]=self\n",
    "    \n",
    "    @classmethod\n",
    "    def no_of_inc(cls):\n",
    "        cls.no_of_cust+=1\n",
    "\n",
    "    def withdraw(self):\n",
    "        n=int(input(\"enter the withdraw amount\"))\n",
    "        if self.bal>n:\n",
    "            self.bal-=n\n",
    "            print(\"tranc is success\")\n",
    "        else:\n",
    "            print(\"insuffient fund\")\n",
    "\n",
    "    def deposit(self):\n",
    "        n=int(input(\"enter the deposit amount\"))\n",
    "        self.bal+=n\n",
    "        print(\"tranc is success\")\n",
    "\n",
    "    def check_bal(self):\n",
    "        print(self.bal)\n",
    "\n",
    "\n",
    "ravi=SBI(\"RAVI\",26,\"ravi@gmail.com\")\n",
    "geetha=SBI(\"geetha\",26,\"geetha@gmail.com\")\n",
    "\n",
    "class SBID(SBI):\n",
    "    branch=\"Dilsukhnagar\"\n",
    "    address=\"konark\"\n",
    "    IFSC=\"SBIN0000960\"\n",
    "    no_of_cust=0\n",
    "    code=755\n",
    "siva=SBID(\"siva\",26,\"siva@gmail.com\")\n",
    "ramu=SBID(\"ramu\",26,\"ramu@gmail.com\")\n",
    "\n",
    "\n",
    "class SBIC(SBI):\n",
    "    branch=\"chennai\"\n",
    "    address=\"gandhi bazar  \"\n",
    "    IFSC=\"SBIN0000968\"\n",
    "    no_of_cust=0\n",
    "    code=968\n",
    "pavan=SBIC(\"pavan\",26,\"pavan@gmail.com\")\n",
    "siri=SBIC(\"siri\",26,\"siri@gmail.com\")\n"
   ]
  },
  {
   "cell_type": "code",
   "execution_count": 34,
   "metadata": {},
   "outputs": [
    {
     "data": {
      "text/plain": [
       "mappingproxy({'__module__': '__main__',\n",
       "              'BANK_NAME': 'SBI',\n",
       "              'branch': 'ameerpet',\n",
       "              'address': 'ameerpet HYD',\n",
       "              'IFSC': 'SBINOOOO950',\n",
       "              'no_of_cust': 2,\n",
       "              'code': 840,\n",
       "              'details': {841: <__main__.SBI at 0x233ffd6fa90>,\n",
       "               842: <__main__.SBI at 0x233fee8f1d0>,\n",
       "               756: <__main__.SBID at 0x233ffd6ff10>,\n",
       "               757: <__main__.SBID at 0x233ff759150>,\n",
       "               969: <__main__.SBIC at 0x233ffd7b1d0>,\n",
       "               970: <__main__.SBIC at 0x233ffd5ad90>},\n",
       "              '__init__': <function __main__.SBI.__init__(self, name, age, email)>,\n",
       "              'no_of_inc': <classmethod(<function SBI.no_of_inc at 0x00000233FFCDBD80>)>,\n",
       "              '__dict__': <attribute '__dict__' of 'SBI' objects>,\n",
       "              '__weakref__': <attribute '__weakref__' of 'SBI' objects>,\n",
       "              '__doc__': None})"
      ]
     },
     "execution_count": 34,
     "metadata": {},
     "output_type": "execute_result"
    }
   ],
   "source": [
    "SBI.__dict__"
   ]
  },
  {
   "cell_type": "code",
   "execution_count": 35,
   "metadata": {},
   "outputs": [
    {
     "data": {
      "text/plain": [
       "mappingproxy({'__module__': '__main__',\n",
       "              'branch': 'Dilsukhnagar',\n",
       "              'address': 'konark',\n",
       "              'IFSC': 'SBIN0000960',\n",
       "              'no_of_cust': 2,\n",
       "              'code': 755,\n",
       "              '__doc__': None})"
      ]
     },
     "execution_count": 35,
     "metadata": {},
     "output_type": "execute_result"
    }
   ],
   "source": [
    "SBID.__dict__"
   ]
  },
  {
   "cell_type": "code",
   "execution_count": 36,
   "metadata": {},
   "outputs": [
    {
     "data": {
      "text/plain": [
       "mappingproxy({'__module__': '__main__',\n",
       "              'branch': 'chennai',\n",
       "              'address': 'gandhi bazar  ',\n",
       "              'IFSC': 'SBIN0000968',\n",
       "              'no_of_cust': 2,\n",
       "              'code': 968,\n",
       "              '__doc__': None})"
      ]
     },
     "execution_count": 36,
     "metadata": {},
     "output_type": "execute_result"
    }
   ],
   "source": [
    "SBIC.__dict__"
   ]
  },
  {
   "cell_type": "code",
   "execution_count": 60,
   "metadata": {},
   "outputs": [
    {
     "name": "stdout",
     "output_type": "stream",
     "text": [
      "{'name': 'RAVI', 'age': 26, 'email': 'ravi@gmail.com', 'acc_no': 841, 'bal': 0}\n",
      "{'name': 'siva', 'age': 26, 'email': 'siva@gmail.com', 'acc_no': 756, 'bal': 0}\n",
      "{'name': 'pavan', 'age': 26, 'email': 'pavan@gmail.com', 'acc_no': 969, 'bal': 0}\n",
      "tranc is success\n"
     ]
    }
   ],
   "source": [
    "print(ravi.__dict__)\n",
    "print(siva.__dict__)\n",
    "print(pavan.__dict__)\n",
    "pavan.deposit()"
   ]
  },
  {
   "cell_type": "code",
   "execution_count": 61,
   "metadata": {},
   "outputs": [
    {
     "name": "stdout",
     "output_type": "stream",
     "text": [
      "{'name': 'pavan', 'age': 26, 'email': 'pavan@gmail.com', 'acc_no': 969, 'bal': 5000}\n"
     ]
    }
   ],
   "source": [
    "print(pavan.__dict__)"
   ]
  },
  {
   "cell_type": "code",
   "execution_count": 62,
   "metadata": {},
   "outputs": [
    {
     "name": "stdout",
     "output_type": "stream",
     "text": [
      "tranc is success\n"
     ]
    }
   ],
   "source": [
    "pavan.withdraw()"
   ]
  },
  {
   "cell_type": "code",
   "execution_count": 63,
   "metadata": {},
   "outputs": [
    {
     "name": "stdout",
     "output_type": "stream",
     "text": [
      "{'name': 'pavan', 'age': 26, 'email': 'pavan@gmail.com', 'acc_no': 969, 'bal': 2500}\n"
     ]
    }
   ],
   "source": [
    "print(pavan.__dict__)"
   ]
  },
  {
   "cell_type": "code",
   "execution_count": 64,
   "metadata": {},
   "outputs": [
    {
     "name": "stdout",
     "output_type": "stream",
     "text": [
      "2500\n",
      "None\n"
     ]
    }
   ],
   "source": [
    "print(pavan.check_bal())"
   ]
  },
  {
   "cell_type": "code",
   "execution_count": 94,
   "metadata": {},
   "outputs": [],
   "source": [
    "class SBI:\n",
    "    BANK_NAME=\"SBI\"\n",
    "    branch=\"Ameerpet\"\n",
    "    address=\"Ameerpet HYD\"\n",
    "    IFSC=\"SBINOOOO950\"\n",
    "    no_of_cust=0\n",
    "    code=840\n",
    "    details={}\n",
    "    def __init__(self,name,age,email):\n",
    "        self.name=name\n",
    "        self.age=age\n",
    "        self.email=email\n",
    "        self.no_of_inc()\n",
    "        self.acc_no=self.code+self.no_of_cust\n",
    "        self.store(self.acc_no,self)\n",
    "    \n",
    "    @classmethod\n",
    "    def no_of_inc(cls):\n",
    "        cls.no_of_cust+=1\n",
    "\n",
    "    @classmethod\n",
    "    def store(cls,key,value):\n",
    "        cls.details[key]=value\n",
    "\n",
    "    def display(self):\n",
    "        print(\"Account_no:->\",self.acc_no)\n",
    "        print(\"Bank_Name:->\",self.BANK_NAME)\n",
    "        print(\"Branch:->\",self.branch)\n",
    "        print(\"Branch Address:->\",self.address)\n",
    "        print(\"IFSC:->\",self.IFSC)\n",
    "        print(\"Cust name:->\",self.name)\n",
    "        print(\"Age:->\",self.age)\n",
    "        print(\"Email:->\",self.email)\n",
    "\n",
    "ravi=SBI(\"RAVI\",26,\"ravi@gmail.com\")\n",
    "geetha=SBI(\"geetha\",26,\"geetha@gmail.com\")\n",
    "\n",
    "class SBID(SBI):\n",
    "    branch=\"Dilsukhnagar\"\n",
    "    address=\"konark\"\n",
    "    IFSC=\"SBIN0000960\"\n",
    "    no_of_cust=0\n",
    "    code=755\n",
    "    details={}\n",
    "    def __init__(self,name,age,email,phone,aadhar):\n",
    "        super().__init__(name,age,email)\n",
    "        self.phone=phone\n",
    "        self.aadhar=aadhar\n",
    "\n",
    "    def display(self):\n",
    "        super().display()\n",
    "        print(\"Phone:->\",self.phone)\n",
    "        print(\"Aadhar:->\",self.aadhar)\n",
    "siva=SBID(\"siva\",26,\"siva@gmail.com\",9966885511,123456789635)\n",
    "ramu=SBID(\"ramu\",26,\"ramu@gmail.com\",9988774455,789456321452)\n",
    "\n",
    "\n",
    "class SBIC(SBI):\n",
    "    branch=\"chennai\"\n",
    "    address=\"gandhi bazar  \"\n",
    "    IFSC=\"SBIN0000968\"\n",
    "    no_of_cust=0\n",
    "    code=968\n",
    "    details={}\n",
    "pavan=SBIC(\"pavan\",26,\"pavan@gmail.com\")\n",
    "siri=SBIC(\"siri\",26,\"siri@gmail.com\")"
   ]
  },
  {
   "cell_type": "code",
   "execution_count": 95,
   "metadata": {},
   "outputs": [
    {
     "name": "stdout",
     "output_type": "stream",
     "text": [
      "Account_no:-> 841\n",
      "Bank_Name:-> SBI\n",
      "Branch:-> Ameerpet\n",
      "Branch Address:-> Ameerpet HYD\n",
      "IFSC:-> SBINOOOO950\n",
      "Cust name:-> RAVI\n",
      "Age:-> 26\n",
      "Email:-> ravi@gmail.com\n"
     ]
    }
   ],
   "source": [
    "ravi.display()"
   ]
  },
  {
   "cell_type": "code",
   "execution_count": 96,
   "metadata": {},
   "outputs": [
    {
     "name": "stdout",
     "output_type": "stream",
     "text": [
      "Account_no:-> 756\n",
      "Bank_Name:-> SBI\n",
      "Branch:-> Dilsukhnagar\n",
      "Branch Address:-> konark\n",
      "IFSC:-> SBIN0000960\n",
      "Cust name:-> siva\n",
      "Age:-> 26\n",
      "Email:-> siva@gmail.com\n",
      "Phone:-> 9966885511\n",
      "Aadhar:-> 123456789635\n"
     ]
    }
   ],
   "source": [
    "siva.display()"
   ]
  },
  {
   "cell_type": "code",
   "execution_count": 97,
   "metadata": {},
   "outputs": [
    {
     "name": "stdout",
     "output_type": "stream",
     "text": [
      "Account_no:-> 970\n",
      "Bank_Name:-> SBI\n",
      "Branch:-> chennai\n",
      "Branch Address:-> gandhi bazar  \n",
      "IFSC:-> SBIN0000968\n",
      "Cust name:-> siri\n",
      "Age:-> 26\n",
      "Email:-> siri@gmail.com\n"
     ]
    }
   ],
   "source": [
    "siri.display()"
   ]
  },
  {
   "cell_type": "code",
   "execution_count": null,
   "metadata": {},
   "outputs": [],
   "source": []
  },
  {
   "cell_type": "code",
   "execution_count": 76,
   "metadata": {},
   "outputs": [
    {
     "data": {
      "text/plain": [
       "mappingproxy({'__module__': '__main__',\n",
       "              'BANK_NAME': 'SBI',\n",
       "              'branch': 'ameerpet',\n",
       "              'address': 'ameerpet HYD',\n",
       "              'IFSC': 'SBINOOOO950',\n",
       "              'no_of_cust': 2,\n",
       "              'code': 840,\n",
       "              'details': {841: <__main__.SBI at 0x233ffdcd3d0>,\n",
       "               842: <__main__.SBI at 0x233ffd6e250>},\n",
       "              '__init__': <function __main__.SBI.__init__(self, name, age, email)>,\n",
       "              'no_of_inc': <classmethod(<function SBI.no_of_inc at 0x000002338134C400>)>,\n",
       "              'store': <classmethod(<function SBI.store at 0x000002338134C4A0>)>,\n",
       "              '__dict__': <attribute '__dict__' of 'SBI' objects>,\n",
       "              '__weakref__': <attribute '__weakref__' of 'SBI' objects>,\n",
       "              '__doc__': None})"
      ]
     },
     "execution_count": 76,
     "metadata": {},
     "output_type": "execute_result"
    }
   ],
   "source": [
    "SBI.__dict__"
   ]
  },
  {
   "cell_type": "code",
   "execution_count": 77,
   "metadata": {},
   "outputs": [
    {
     "data": {
      "text/plain": [
       "mappingproxy({'__module__': '__main__',\n",
       "              'branch': 'chennai',\n",
       "              'address': 'gandhi bazar  ',\n",
       "              'IFSC': 'SBIN0000968',\n",
       "              'no_of_cust': 2,\n",
       "              'code': 968,\n",
       "              'details': {969: <__main__.SBIC at 0x233ffd5a9d0>,\n",
       "               970: <__main__.SBIC at 0x233ffdae710>},\n",
       "              '__doc__': None})"
      ]
     },
     "execution_count": 77,
     "metadata": {},
     "output_type": "execute_result"
    }
   ],
   "source": [
    "SBIC.__dict__"
   ]
  },
  {
   "cell_type": "code",
   "execution_count": 78,
   "metadata": {},
   "outputs": [
    {
     "data": {
      "text/plain": [
       "mappingproxy({'__module__': '__main__',\n",
       "              'branch': 'Dilsukhnagar',\n",
       "              'address': 'konark',\n",
       "              'IFSC': 'SBIN0000960',\n",
       "              'no_of_cust': 2,\n",
       "              'code': 755,\n",
       "              'details': {756: <__main__.SBID at 0x233ffd5a950>,\n",
       "               757: <__main__.SBID at 0x23381621a90>},\n",
       "              '__init__': <function __main__.SBID.__init__(self, name, age, email, phone, aadhar)>,\n",
       "              '__doc__': None})"
      ]
     },
     "execution_count": 78,
     "metadata": {},
     "output_type": "execute_result"
    }
   ],
   "source": [
    "SBID.__dict__"
   ]
  },
  {
   "cell_type": "code",
   "execution_count": 79,
   "metadata": {},
   "outputs": [
    {
     "data": {
      "text/plain": [
       "{'name': 'siva',\n",
       " 'age': 26,\n",
       " 'email': 'siva@gmail.com',\n",
       " 'acc_no': 756,\n",
       " 'phone': 9966885511,\n",
       " 'aadhar': 123456789635}"
      ]
     },
     "execution_count": 79,
     "metadata": {},
     "output_type": "execute_result"
    }
   ],
   "source": [
    "siva.__dict__"
   ]
  },
  {
   "cell_type": "code",
   "execution_count": 74,
   "metadata": {},
   "outputs": [
    {
     "data": {
      "text/plain": [
       "{'name': 'pavan', 'age': 26, 'email': 'pavan@gmail.com', 'acc_no': 969}"
      ]
     },
     "execution_count": 74,
     "metadata": {},
     "output_type": "execute_result"
    }
   ],
   "source": [
    "pavan.__dict__"
   ]
  },
  {
   "cell_type": "code",
   "execution_count": 24,
   "metadata": {},
   "outputs": [
    {
     "name": "stdout",
     "output_type": "stream",
     "text": [
      "parant1\n"
     ]
    }
   ],
   "source": [
    "class parent1:\n",
    "    x=10\n",
    "    y=20\n",
    "    def __init__(self,m=10,n=20):\n",
    "        self.m=m\n",
    "        self.n=n\n",
    "\n",
    "    def display():\n",
    "        print(\"parant1\")\n",
    "\n",
    "class parent2:\n",
    "    x=1000\n",
    "    y=2000\n",
    "    z=3000\n",
    "    def __init__(self,m=10,n=20):\n",
    "        self.m=m\n",
    "        self.n=n\n",
    "\n",
    "    def display():\n",
    "        print(\"parant2\")\n",
    "\n",
    "class child(parent1,parent2):\n",
    "    pass\n",
    "\n",
    "child.display()\n"
   ]
  },
  {
   "cell_type": "code",
   "execution_count": null,
   "metadata": {},
   "outputs": [],
   "source": []
  },
  {
   "cell_type": "code",
   "execution_count": 4,
   "metadata": {},
   "outputs": [
    {
     "name": "stdout",
     "output_type": "stream",
     "text": [
      "1000\n"
     ]
    }
   ],
   "source": [
    "print(child.x)"
   ]
  },
  {
   "cell_type": "code",
   "execution_count": 10,
   "metadata": {},
   "outputs": [],
   "source": [
    "class profile:\n",
    "    comp_name=\"MYPROFILE\"\n",
    "    def __init__(self,name,age,phone,email):\n",
    "        self.name=name\n",
    "        self.age=age\n",
    "        self.phone=phone\n",
    "        self.email=email\n",
    "\n",
    "obj=profile(\"srinu\",23,998877455,\"srinu@gmail.com\")\n",
    "\n",
    "class education:\n",
    "    def __init__(self,ssc,ssc_p,puc,puc_p,degree,degree_p):\n",
    "        self.ssc=ssc\n",
    "        self.ssc_p=ssc_p\n",
    "        self.puc=puc\n",
    "        self.puc_p=puc_p\n",
    "        self.degree=degree\n",
    "        self.degree_p=degree_p\n",
    "obj2=education(\"jsp\",98,\"qsp\",97,\"pys\",99)\n"
   ]
  },
  {
   "cell_type": "code",
   "execution_count": 11,
   "metadata": {},
   "outputs": [
    {
     "data": {
      "text/plain": [
       "{'ssc': 'jsp',\n",
       " 'ssc_p': 98,\n",
       " 'puc': 'qsp',\n",
       " 'puc_p': 97,\n",
       " 'degree': 'pys',\n",
       " 'degree_p': 99}"
      ]
     },
     "execution_count": 11,
     "metadata": {},
     "output_type": "execute_result"
    }
   ],
   "source": [
    "obj2.__dict__"
   ]
  },
  {
   "cell_type": "code",
   "execution_count": 9,
   "metadata": {},
   "outputs": [
    {
     "data": {
      "text/plain": [
       "{'name': 'srinu', 'age': 23, 'phone': 998877455, 'email': 'srinu@gmail.com'}"
      ]
     },
     "execution_count": 9,
     "metadata": {},
     "output_type": "execute_result"
    }
   ],
   "source": [
    "obj.__dict__"
   ]
  },
  {
   "cell_type": "code",
   "execution_count": 21,
   "metadata": {},
   "outputs": [],
   "source": [
    "class profile:\n",
    "    comp_name=\"MYPROFILE\"\n",
    "    def __init__(self,name,age,phone,email):\n",
    "        self.name=name\n",
    "        self.age=age\n",
    "        self.phone=phone\n",
    "        self.email=email\n",
    "\n",
    "obj=profile(\"srinu\",23,998877455,\"srinu@gmail.com\")\n",
    "\n",
    "class education:\n",
    "    def __init__(self,ssc,ssc_p,puc,puc_p,degree,degree_p):\n",
    "        self.ssc=ssc\n",
    "        self.ssc_p=ssc_p\n",
    "        self.puc=puc\n",
    "        self.puc_p=puc_p\n",
    "        self.degree=degree\n",
    "        self.degree_p=degree_p\n",
    "obj2=education(\"jsp\",98,\"qsp\",97,\"pys\",99)\n",
    "\n",
    "class student(profile,education):\n",
    "    def __init__(self,name,age,phone,email,ssc,ssc_p,puc,puc_p,degree,degree_p):\n",
    "        profile.__init__(self,name,age,phone,email)\n",
    "        education.__init__(self,ssc,ssc_p,puc,puc_p,degree,degree_p)\n",
    "\n",
    "obj3=student(\"gopi\",26,9988556622,\"gopi@gmail.com\",'vikas',99,\"avn\",97,'nikethan',98)"
   ]
  },
  {
   "cell_type": "code",
   "execution_count": null,
   "metadata": {},
   "outputs": [],
   "source": []
  },
  {
   "cell_type": "code",
   "execution_count": 18,
   "metadata": {},
   "outputs": [
    {
     "data": {
      "text/plain": [
       "{'name': 'gopal', 'age': 23, 'phone': 998877445522, 'email': 'gopal@gmail.com'}"
      ]
     },
     "execution_count": 18,
     "metadata": {},
     "output_type": "execute_result"
    }
   ],
   "source": [
    "prof1=student(\"gopal\",23,998877445522,\"gopal@gmail.com\")\n",
    "prof1.__dict__"
   ]
  },
  {
   "cell_type": "code",
   "execution_count": 22,
   "metadata": {},
   "outputs": [
    {
     "data": {
      "text/plain": [
       "{'name': 'gopi',\n",
       " 'age': 26,\n",
       " 'phone': 9988556622,\n",
       " 'email': 'gopi@gmail.com',\n",
       " 'ssc': 'vikas',\n",
       " 'ssc_p': 99,\n",
       " 'puc': 'avn',\n",
       " 'puc_p': 97,\n",
       " 'degree': 'nikethan',\n",
       " 'degree_p': 98}"
      ]
     },
     "execution_count": 22,
     "metadata": {},
     "output_type": "execute_result"
    }
   ],
   "source": [
    "obj3.__dict__"
   ]
  },
  {
   "cell_type": "code",
   "execution_count": 2,
   "metadata": {},
   "outputs": [],
   "source": [
    "class person:\n",
    "    company_name=\"WINDOWS\"\n",
    "    def __init__(self,name,age,phone,email,address,password):\n",
    "        self.name=name\n",
    "        self.age=age\n",
    "        self.phone=phone\n",
    "        self.email=email\n",
    "        self.address=address\n",
    "        self.password=password\n",
    "\n",
    "p1=person('kumar','26','9988774455',\"kumar@gmail.com\",'hyd','kumar@123')"
   ]
  },
  {
   "cell_type": "code",
   "execution_count": 3,
   "metadata": {},
   "outputs": [
    {
     "data": {
      "text/plain": [
       "{'name': 'kumar',\n",
       " 'age': '26',\n",
       " 'phone': '9988774455',\n",
       " 'email': 'kumar@gmail.com',\n",
       " 'address': 'hyd',\n",
       " 'password': 'kumar@123'}"
      ]
     },
     "execution_count": 3,
     "metadata": {},
     "output_type": "execute_result"
    }
   ],
   "source": [
    "p1.__dict__"
   ]
  },
  {
   "cell_type": "code",
   "execution_count": null,
   "metadata": {},
   "outputs": [],
   "source": []
  },
  {
   "cell_type": "code",
   "execution_count": 6,
   "metadata": {},
   "outputs": [],
   "source": [
    "class product:\n",
    "    company_name=\"WINDOWS\"\n",
    "    def __init__(self,p_name,p_price,desc,quantity):\n",
    "        self.p_name=p_name\n",
    "        self.p_price=p_price\n",
    "        self.desc=desc\n",
    "        self.quantity=quantity\n",
    "\n",
    "prod1=product('iphone','26000',\"iphone 4s\",'10')"
   ]
  },
  {
   "cell_type": "code",
   "execution_count": 7,
   "metadata": {},
   "outputs": [
    {
     "data": {
      "text/plain": [
       "{'p_name': 'iphone', 'p_price': '26000', 'desc': 'iphone 4s', 'quantity': '10'}"
      ]
     },
     "execution_count": 7,
     "metadata": {},
     "output_type": "execute_result"
    }
   ],
   "source": [
    "prod1.__dict__"
   ]
  },
  {
   "cell_type": "code",
   "execution_count": 10,
   "metadata": {},
   "outputs": [],
   "source": [
    "class shop(person,product):\n",
    "    def __init__(self,name,age,phone,email,address,password,p_name,p_price,desc,quantity):\n",
    "        person.__init__(self,name,age,phone,email,address,password)\n",
    "        product.__init__(self,p_name,p_price,desc,quantity)\n",
    "\n",
    "bs1=shop(\"raju\",26,9988552211,'raju@gmail.com','hyd','raju@123','waterbottle',156,\"plastic\",15)"
   ]
  },
  {
   "cell_type": "code",
   "execution_count": 11,
   "metadata": {},
   "outputs": [
    {
     "data": {
      "text/plain": [
       "{'name': 'raju',\n",
       " 'age': 26,\n",
       " 'phone': 9988552211,\n",
       " 'email': 'raju@gmail.com',\n",
       " 'address': 'hyd',\n",
       " 'password': 'raju@123',\n",
       " 'p_name': 'waterbottle',\n",
       " 'p_price': 156,\n",
       " 'desc': 'plastic',\n",
       " 'quantity': 15}"
      ]
     },
     "execution_count": 11,
     "metadata": {},
     "output_type": "execute_result"
    }
   ],
   "source": [
    "bs1.__dict__"
   ]
  },
  {
   "cell_type": "code",
   "execution_count": 12,
   "metadata": {},
   "outputs": [],
   "source": [
    "\n",
    "class laptop(shop):\n",
    "    l_name=\"LAPTOP\"\n",
    "    def __init__(self,name,age,phone,email,address,password,p_name,p_price,desc,quantity,p_model,p_color,processor,rom,ram,display):\n",
    "        super().__init__(name,age,phone,email,address,password,p_name,p_price,desc,quantity)\n",
    "        self.p_model=p_model\n",
    "        self.p_color=p_color\n",
    "        self.processor=processor\n",
    "        self.rom=rom\n",
    "        self.ram=ram\n",
    "        self.display=display\n",
    "\n",
    "lp1=laptop(\"ramu\",26,9988774455,'ramu@gmail.com','hyd','ramu@123','hp','75000',\"hp 15 level5\",16,'hp1521','black','I7','1TB','16gb','15.6')"
   ]
  },
  {
   "cell_type": "code",
   "execution_count": 13,
   "metadata": {},
   "outputs": [
    {
     "data": {
      "text/plain": [
       "{'name': 'ramu',\n",
       " 'age': 26,\n",
       " 'phone': 9988774455,\n",
       " 'email': 'ramu@gmail.com',\n",
       " 'address': 'hyd',\n",
       " 'password': 'ramu@123',\n",
       " 'p_name': 'hp',\n",
       " 'p_price': '75000',\n",
       " 'desc': 'hp 15 level5',\n",
       " 'quantity': 16,\n",
       " 'p_model': 'hp1521',\n",
       " 'p_color': 'black',\n",
       " 'processor': 'I7',\n",
       " 'rom': '1TB',\n",
       " 'ram': '16gb',\n",
       " 'display': '15.6'}"
      ]
     },
     "execution_count": 13,
     "metadata": {},
     "output_type": "execute_result"
    }
   ],
   "source": [
    "lp1.__dict__"
   ]
  },
  {
   "cell_type": "code",
   "execution_count": 15,
   "metadata": {},
   "outputs": [],
   "source": [
    "class mobile(laptop):\n",
    "    l_name=\"mobile\"\n",
    "mob1=mobile(\"ramu\",26,9988774455,'ramu@gmail.com','hyd','ramu@123','hp','75000',\"hp 15 level5\",16,'hp1521','black','I7','1TB','16gb','15.6')"
   ]
  },
  {
   "cell_type": "code",
   "execution_count": 16,
   "metadata": {},
   "outputs": [
    {
     "data": {
      "text/plain": [
       "{'name': 'ramu',\n",
       " 'age': 26,\n",
       " 'phone': 9988774455,\n",
       " 'email': 'ramu@gmail.com',\n",
       " 'address': 'hyd',\n",
       " 'password': 'ramu@123',\n",
       " 'p_name': 'hp',\n",
       " 'p_price': '75000',\n",
       " 'desc': 'hp 15 level5',\n",
       " 'quantity': 16,\n",
       " 'p_model': 'hp1521',\n",
       " 'p_color': 'black',\n",
       " 'processor': 'I7',\n",
       " 'rom': '1TB',\n",
       " 'ram': '16gb',\n",
       " 'display': '15.6'}"
      ]
     },
     "execution_count": 16,
     "metadata": {},
     "output_type": "execute_result"
    }
   ],
   "source": [
    "mob1.__dict__"
   ]
  },
  {
   "cell_type": "code",
   "execution_count": 19,
   "metadata": {},
   "outputs": [],
   "source": [
    "class bikes(shop):\n",
    "    l_name=\"bikes\"\n",
    "    def __init__(self,name,age,phone,email,address,password,p_name,p_price,desc,quantity,p_model,p_color,engine,fuel_type,capacity,power):\n",
    "        super().__init__(name,age,phone,email,address,password,p_name,p_price,desc,quantity)\n",
    "        self.p_model=p_model\n",
    "        self.p_color=p_color\n",
    "        self.engine=engine\n",
    "        self.fuel_type=fuel_type\n",
    "        self.capacity=capacity\n",
    "        self.power=power\n",
    "\n",
    "bike1=bikes(\"ramu\",26,9988774455,'ramu@gmail.com','hyd','ramu@123','TVS','75000',\"automatic\",'10','tvs self pro','grey','manual','gas','2','500cc')"
   ]
  },
  {
   "cell_type": "code",
   "execution_count": 20,
   "metadata": {},
   "outputs": [
    {
     "data": {
      "text/plain": [
       "{'name': 'ramu',\n",
       " 'age': 26,\n",
       " 'phone': 9988774455,\n",
       " 'email': 'ramu@gmail.com',\n",
       " 'address': 'hyd',\n",
       " 'password': 'ramu@123',\n",
       " 'p_name': 'TVS',\n",
       " 'p_price': '75000',\n",
       " 'desc': 'automatic',\n",
       " 'quantity': '10',\n",
       " 'p_model': 'tvs self pro',\n",
       " 'p_color': 'grey',\n",
       " 'engine': 'manual',\n",
       " 'fuel_type': 'gas',\n",
       " 'capacity': '2',\n",
       " 'power': '500cc'}"
      ]
     },
     "execution_count": 20,
     "metadata": {},
     "output_type": "execute_result"
    }
   ],
   "source": [
    "bike1.__dict__"
   ]
  },
  {
   "cell_type": "code",
   "execution_count": 24,
   "metadata": {},
   "outputs": [
    {
     "name": "stdout",
     "output_type": "stream",
     "text": [
      "10\n",
      "150\n"
     ]
    }
   ],
   "source": [
    "class demo:\n",
    "    x=10\n",
    "    @classmethod\n",
    "    def getter(cls):\n",
    "        return cls.x\n",
    "    \n",
    "    @classmethod\n",
    "    def setter(cls,ele):\n",
    "        cls.x=ele\n",
    "print(demo.getter())\n",
    "demo.setter(150)\n",
    "print(demo.getter())\n"
   ]
  },
  {
   "cell_type": "code",
   "execution_count": 27,
   "metadata": {},
   "outputs": [
    {
     "name": "stdout",
     "output_type": "stream",
     "text": [
      "10\n",
      "150\n"
     ]
    }
   ],
   "source": [
    "class demo:\n",
    "    x=10\n",
    "    @classmethod\n",
    "    def getter(cls):\n",
    "        return cls.x\n",
    "    \n",
    "    @classmethod\n",
    "    def setter(cls,ele):\n",
    "        cls.x=ele\n",
    "print(demo.getter())\n",
    "demo.setter(150)\n",
    "print(demo.getter())"
   ]
  },
  {
   "cell_type": "code",
   "execution_count": 31,
   "metadata": {},
   "outputs": [
    {
     "name": "stdout",
     "output_type": "stream",
     "text": [
      "1500\n",
      "150\n"
     ]
    }
   ],
   "source": [
    "class demo:\n",
    "    def __init__(self,m,n):\n",
    "        self.m=m\n",
    "        self.n=n\n",
    "\n",
    "    def getter(self):\n",
    "        return self.m\n",
    "    \n",
    "    def setter(self,ele):\n",
    "        self.m=ele\n",
    "\n",
    "obj1=demo(1500,2500)\n",
    "\n",
    "print(obj1.getter())\n",
    "obj1.setter(150)\n",
    "print(obj1.getter())"
   ]
  },
  {
   "cell_type": "code",
   "execution_count": 36,
   "metadata": {},
   "outputs": [
    {
     "name": "stdout",
     "output_type": "stream",
     "text": [
      "2500\n",
      "2500\n"
     ]
    }
   ],
   "source": [
    "class demo:\n",
    "    def __init__(self,m,n):\n",
    "        self.m=m\n",
    "        self.n=n\n",
    "\n",
    "    def getter(self,ele):\n",
    "        return self.__dict__[ele]\n",
    "    \n",
    "    def setter(self,attr,ele):\n",
    "        self.__dict__[attr]=ele\n",
    "\n",
    "obj1=demo(1500,2500)\n",
    "\n",
    "print(obj1.getter('n'))\n",
    "obj1.setter('m',1500000)\n",
    "print(obj1.getter('n'))"
   ]
  },
  {
   "cell_type": "code",
   "execution_count": 38,
   "metadata": {},
   "outputs": [
    {
     "ename": "AttributeError",
     "evalue": "type object 'demo' has no attribute 'm'",
     "output_type": "error",
     "traceback": [
      "\u001b[1;31m---------------------------------------------------------------------------\u001b[0m",
      "\u001b[1;31mAttributeError\u001b[0m                            Traceback (most recent call last)",
      "\u001b[1;32mc:\\Users\\QSP\\Documents\\python_programs\\batch-3.00-5.00\\inheritance.ipynb Cell 93\u001b[0m in \u001b[0;36m1\n\u001b[0;32m     <a href='vscode-notebook-cell:/c%3A/Users/QSP/Documents/python_programs/batch-3.00-5.00/inheritance.ipynb#Y156sZmlsZQ%3D%3D?line=9'>10</a>\u001b[0m         \u001b[39mself\u001b[39m\u001b[39m.\u001b[39m\u001b[39m__dict__\u001b[39m[attr]\u001b[39m=\u001b[39mele\n\u001b[0;32m     <a href='vscode-notebook-cell:/c%3A/Users/QSP/Documents/python_programs/batch-3.00-5.00/inheritance.ipynb#Y156sZmlsZQ%3D%3D?line=11'>12</a>\u001b[0m obj1\u001b[39m=\u001b[39mdemo(\u001b[39m1500\u001b[39m,\u001b[39m2500\u001b[39m)\n\u001b[1;32m---> <a href='vscode-notebook-cell:/c%3A/Users/QSP/Documents/python_programs/batch-3.00-5.00/inheritance.ipynb#Y156sZmlsZQ%3D%3D?line=12'>13</a>\u001b[0m demo\u001b[39m.\u001b[39;49mm\n",
      "\u001b[1;31mAttributeError\u001b[0m: type object 'demo' has no attribute 'm'"
     ]
    }
   ],
   "source": [
    "class demo:\n",
    "    def __init__(self,m,n):\n",
    "        self.m=m\n",
    "        self.n=n\n",
    "\n",
    "    def __get__(self,ele):\n",
    "        return self.__dict__[ele]\n",
    "    \n",
    "    def setter(self,attr,ele):\n",
    "        self.__dict__[attr]=ele\n",
    "\n",
    "obj1=demo(1500,2500)\n",
    "demo.m\n"
   ]
  },
  {
   "cell_type": "code",
   "execution_count": 55,
   "metadata": {},
   "outputs": [],
   "source": [
    "class remote:\n",
    "    def __init__(self,x=[\"pys\",'qsp','jsp']):\n",
    "        self.x=x\n",
    "        \n",
    "    def __str__(self):\n",
    "        return f\"{self.x}\"\n",
    "    \n",
    "    def pop(self):\n",
    "        del self.x[-1]\n",
    "\n",
    "    def append(self,ele):\n",
    "        self.x+=[ele]\n",
    "    \n",
    "    def __add__(self,other):\n",
    "        return self.x+other.x\n",
    "        \n",
    "a=remote([10,50,60,80,90])\n",
    "b=remote([100,200])\n",
    "\n"
   ]
  },
  {
   "cell_type": "code",
   "execution_count": 56,
   "metadata": {},
   "outputs": [
    {
     "name": "stdout",
     "output_type": "stream",
     "text": [
      "[10, 50, 60, 80, 90, 100, 200]\n"
     ]
    }
   ],
   "source": [
    "print(a+b)"
   ]
  },
  {
   "cell_type": "code",
   "execution_count": 51,
   "metadata": {},
   "outputs": [
    {
     "name": "stdout",
     "output_type": "stream",
     "text": [
      "[10, 50, 60, 80, 90]\n",
      "[10, 50, 60, 80, 90, 150]\n"
     ]
    }
   ],
   "source": [
    "print(a)\n",
    "a.append(150)\n",
    "print(a)"
   ]
  },
  {
   "cell_type": "code",
   "execution_count": 44,
   "metadata": {},
   "outputs": [
    {
     "name": "stdout",
     "output_type": "stream",
     "text": [
      "[10, 50, 60, 80, 90]\n",
      "[10, 50, 60, 80]\n"
     ]
    }
   ],
   "source": [
    "print(a)\n",
    "a.pop()\n",
    "print(a)"
   ]
  },
  {
   "cell_type": "code",
   "execution_count": 35,
   "metadata": {},
   "outputs": [
    {
     "name": "stdout",
     "output_type": "stream",
     "text": [
      "['pys', 'qsp', 'jsp']\n",
      "['pys', 'qsp']\n"
     ]
    }
   ],
   "source": [
    "print(b.x)\n",
    "b.pop()\n",
    "print(b.x)"
   ]
  },
  {
   "cell_type": "code",
   "execution_count": 37,
   "metadata": {},
   "outputs": [
    {
     "name": "stdout",
     "output_type": "stream",
     "text": [
      "[10, 50, 60, 80, 90]\n",
      "[10, 50, 60, 80]\n"
     ]
    }
   ],
   "source": [
    "print(a.x)\n",
    "a.pop()\n",
    "print(a.x)"
   ]
  },
  {
   "cell_type": "code",
   "execution_count": 18,
   "metadata": {},
   "outputs": [
    {
     "name": "stdout",
     "output_type": "stream",
     "text": [
      "[10, 50, 60, 80, 90]\n",
      "['pys', 'qsp', 'jsp']\n"
     ]
    }
   ],
   "source": [
    "print(a.x)\n",
    "print(b.x)\n"
   ]
  },
  {
   "cell_type": "code",
   "execution_count": 15,
   "metadata": {},
   "outputs": [
    {
     "name": "stdout",
     "output_type": "stream",
     "text": [
      "<class 'remote'>\n",
      "<class 'remote'>\n"
     ]
    }
   ],
   "source": [
    "print(a)\n",
    "print(b)"
   ]
  },
  {
   "cell_type": "code",
   "execution_count": 17,
   "metadata": {},
   "outputs": [
    {
     "name": "stdout",
     "output_type": "stream",
     "text": [
      "30\n",
      "10\n",
      "200\n",
      "True\n"
     ]
    }
   ],
   "source": [
    "import types\n",
    "from typing import Any\n",
    "\n",
    "\n",
    "class button:\n",
    "    def __init__(self,x):\n",
    "        self.x=x\n",
    "    def __add__(self,other):\n",
    "        return self.x+other.x\n",
    "    \n",
    "    def __sub__(self,other):\n",
    "        return self.x-other.x\n",
    "    \n",
    "    def __mul__(self,other):\n",
    "        return self.x*other.x\n",
    "    def __lt__(self,other):\n",
    "        return self.x<other.x\n",
    "\n",
    "a=button(10)\n",
    "b=button(20)\n",
    "c=button(30)\n",
    "\n",
    "print(a+b)\n",
    "print(b-a)\n",
    "print(b*a)\n",
    "print(a<b)"
   ]
  },
  {
   "cell_type": "code",
   "execution_count": 26,
   "metadata": {},
   "outputs": [
    {
     "name": "stdout",
     "output_type": "stream",
     "text": [
      "10 20\n",
      "{'__module__': '__main__', 'a': 10, 'b': 20, '__dict__': <attribute '__dict__' of 'sample' objects>, '__weakref__': <attribute '__weakref__' of 'sample' objects>, '__doc__': None}\n"
     ]
    }
   ],
   "source": [
    "class sample:\n",
    "    a=10  #public members\n",
    "    b=20\n",
    "\n",
    "print(sample.a,sample.b)\n",
    "print(sample.__dict__)"
   ]
  },
  {
   "cell_type": "code",
   "execution_count": 27,
   "metadata": {},
   "outputs": [
    {
     "name": "stdout",
     "output_type": "stream",
     "text": [
      "100 20\n",
      "{'__module__': '__main__', '_x': 100, '_y': 20, '__dict__': <attribute '__dict__' of 'sample' objects>, '__weakref__': <attribute '__weakref__' of 'sample' objects>, '__doc__': None}\n"
     ]
    }
   ],
   "source": [
    "class sample:\n",
    "    _x=100 #protect mumbers\n",
    "    _y=20\n",
    "\n",
    "print(sample._x,sample._y)\n",
    "print(sample.__dict__)"
   ]
  },
  {
   "cell_type": "code",
   "execution_count": 30,
   "metadata": {},
   "outputs": [
    {
     "name": "stdout",
     "output_type": "stream",
     "text": [
      "{'__module__': '__main__', '_sample__x': 100, '_sample__y': 20, '__dict__': <attribute '__dict__' of 'sample' objects>, '__weakref__': <attribute '__weakref__' of 'sample' objects>, '__doc__': None}\n",
      "100 20\n"
     ]
    }
   ],
   "source": [
    "class sample:\n",
    "    __x=100 #private mumbers\n",
    "    __y=20\n",
    "\n",
    "# print(sample.__x,sample.__y)\n",
    "print(sample.__dict__)\n",
    "print(sample._sample__x,sample._sample__y)\n"
   ]
  },
  {
   "cell_type": "code",
   "execution_count": 38,
   "metadata": {},
   "outputs": [],
   "source": [
    "class emp:\n",
    "    company='IBM'\n",
    "    def __init__(self,name,id):\n",
    "        self.name=name  #public state\n",
    "        self.id=id  #public state\n",
    "        self.__sal=15000   #private state\n",
    "    \n",
    "    def display(self):  #public method\n",
    "        print(self.name,self.id)\n",
    "    \n",
    "    def _display1(self): #protected method\n",
    "        print(self.name,self.id)\n",
    "\n",
    "    def __display2(self): #private method\n",
    "        print(self.name,self.id)\n",
    "\n",
    "    def getter(self): #getter is used to get the private state from the object\n",
    "        return self.__sal\n",
    "\n",
    "    def setter(self,ele):  #setter is used to set new value to the private state inside the object\n",
    "        self.__sal=ele\n",
    "pavan=emp('pavan','IBM001')"
   ]
  },
  {
   "cell_type": "code",
   "execution_count": 39,
   "metadata": {},
   "outputs": [
    {
     "name": "stdout",
     "output_type": "stream",
     "text": [
      "15000\n",
      "25000\n"
     ]
    }
   ],
   "source": [
    "print(pavan.getter())\n",
    "pavan.setter(25000)\n",
    "print(pavan.getter())"
   ]
  },
  {
   "cell_type": "code",
   "execution_count": 29,
   "metadata": {},
   "outputs": [
    {
     "ename": "AttributeError",
     "evalue": "'emp' object has no attribute '__sal'",
     "output_type": "error",
     "traceback": [
      "\u001b[1;31m---------------------------------------------------------------------------\u001b[0m",
      "\u001b[1;31mAttributeError\u001b[0m                            Traceback (most recent call last)",
      "\u001b[1;32mc:\\Users\\QSP\\Documents\\python_programs\\batch-3.00-5.00\\inheritance.ipynb Cell 107\u001b[0m in \u001b[0;36m1\n\u001b[1;32m----> <a href='vscode-notebook-cell:/c%3A/Users/QSP/Documents/python_programs/batch-3.00-5.00/inheritance.ipynb#Y214sZmlsZQ%3D%3D?line=0'>1</a>\u001b[0m pavan\u001b[39m.\u001b[39;49m__sal\n",
      "\u001b[1;31mAttributeError\u001b[0m: 'emp' object has no attribute '__sal'"
     ]
    }
   ],
   "source": [
    "pavan.__sal"
   ]
  },
  {
   "cell_type": "code",
   "execution_count": 28,
   "metadata": {},
   "outputs": [
    {
     "data": {
      "text/plain": [
       "15000"
      ]
     },
     "execution_count": 28,
     "metadata": {},
     "output_type": "execute_result"
    }
   ],
   "source": [
    "pavan.getter()"
   ]
  },
  {
   "cell_type": "code",
   "execution_count": 19,
   "metadata": {},
   "outputs": [
    {
     "name": "stdout",
     "output_type": "stream",
     "text": [
      "{'name': 'pavan', 'id': 'IBM001', '_emp__sal': 15000}\n",
      "{'__module__': '__main__', 'company': 'IBM', '__init__': <function emp.__init__ at 0x0000028E5A4EFEC0>, 'display': <function emp.display at 0x0000028E5A4EF240>, '_display1': <function emp._display1 at 0x0000028E5A4EC040>, '_emp__display2': <function emp.__display2 at 0x0000028E5A4EF6A0>, '__dict__': <attribute '__dict__' of 'emp' objects>, '__weakref__': <attribute '__weakref__' of 'emp' objects>, '__doc__': None}\n"
     ]
    },
    {
     "ename": "AttributeError",
     "evalue": "'emp' object has no attribute '__display2'",
     "output_type": "error",
     "traceback": [
      "\u001b[1;31m---------------------------------------------------------------------------\u001b[0m",
      "\u001b[1;31mAttributeError\u001b[0m                            Traceback (most recent call last)",
      "\u001b[1;32mc:\\Users\\QSP\\Documents\\python_programs\\batch-3.00-5.00\\inheritance.ipynb Cell 107\u001b[0m in \u001b[0;36m5\n\u001b[0;32m      <a href='vscode-notebook-cell:/c%3A/Users/QSP/Documents/python_programs/batch-3.00-5.00/inheritance.ipynb#Y211sZmlsZQ%3D%3D?line=1'>2</a>\u001b[0m \u001b[39m# pavan.display()\u001b[39;00m\n\u001b[0;32m      <a href='vscode-notebook-cell:/c%3A/Users/QSP/Documents/python_programs/batch-3.00-5.00/inheritance.ipynb#Y211sZmlsZQ%3D%3D?line=2'>3</a>\u001b[0m \u001b[39m# pavan._display1()\u001b[39;00m\n\u001b[0;32m      <a href='vscode-notebook-cell:/c%3A/Users/QSP/Documents/python_programs/batch-3.00-5.00/inheritance.ipynb#Y211sZmlsZQ%3D%3D?line=3'>4</a>\u001b[0m \u001b[39mprint\u001b[39m(emp\u001b[39m.\u001b[39m\u001b[39m__dict__\u001b[39m)\n\u001b[1;32m----> <a href='vscode-notebook-cell:/c%3A/Users/QSP/Documents/python_programs/batch-3.00-5.00/inheritance.ipynb#Y211sZmlsZQ%3D%3D?line=4'>5</a>\u001b[0m pavan\u001b[39m.\u001b[39;49m__display2()\n",
      "\u001b[1;31mAttributeError\u001b[0m: 'emp' object has no attribute '__display2'"
     ]
    }
   ],
   "source": [
    "print(pavan.__dict__)\n",
    "# pavan.display()\n",
    "# pavan._display1()\n",
    "print(emp.__dict__)\n",
    "pavan.__display2()"
   ]
  },
  {
   "cell_type": "code",
   "execution_count": 48,
   "metadata": {},
   "outputs": [
    {
     "name": "stdout",
     "output_type": "stream",
     "text": [
      "try\n",
      "finnally 0.5\n"
     ]
    }
   ],
   "source": [
    "a=int(input(\"enter the interger\")) #10        #10\n",
    "b=int(input(\"enter the interger\")) #20        #0\n",
    "try:\n",
    "    print(\"try\")\n",
    "    c=a/b\n",
    "except:\n",
    "    print(\"except\")\n",
    "    c=b/a\n",
    "finally:\n",
    "    print('finally',c)\n"
   ]
  },
  {
   "cell_type": "code",
   "execution_count": 52,
   "metadata": {},
   "outputs": [
    {
     "ename": "IndexError",
     "evalue": "string index out of range",
     "output_type": "error",
     "traceback": [
      "\u001b[1;31m---------------------------------------------------------------------------\u001b[0m",
      "\u001b[1;31mIndexError\u001b[0m                                Traceback (most recent call last)",
      "\u001b[1;32mc:\\Users\\QSP\\Documents\\python_programs\\batch-3.00-5.00\\inheritance.ipynb Cell 112\u001b[0m in \u001b[0;36m3\n\u001b[0;32m      <a href='vscode-notebook-cell:/c%3A/Users/QSP/Documents/python_programs/batch-3.00-5.00/inheritance.ipynb#Y220sZmlsZQ%3D%3D?line=0'>1</a>\u001b[0m n\u001b[39m=\u001b[39m\u001b[39mint\u001b[39m(\u001b[39minput\u001b[39m(\u001b[39m\"\u001b[39m\u001b[39menter the index value\u001b[39m\u001b[39m\"\u001b[39m))\n\u001b[0;32m      <a href='vscode-notebook-cell:/c%3A/Users/QSP/Documents/python_programs/batch-3.00-5.00/inheritance.ipynb#Y220sZmlsZQ%3D%3D?line=1'>2</a>\u001b[0m d\u001b[39m=\u001b[39m\u001b[39m\"\u001b[39m\u001b[39mhello\u001b[39m\u001b[39m\"\u001b[39m\n\u001b[1;32m----> <a href='vscode-notebook-cell:/c%3A/Users/QSP/Documents/python_programs/batch-3.00-5.00/inheritance.ipynb#Y220sZmlsZQ%3D%3D?line=2'>3</a>\u001b[0m \u001b[39mprint\u001b[39m(d[n])\n",
      "\u001b[1;31mIndexError\u001b[0m: string index out of range"
     ]
    }
   ],
   "source": [
    "n=int(input(\"enter the index value\"))\n",
    "d=\"hello\"\n",
    "print(d[n])"
   ]
  },
  {
   "cell_type": "code",
   "execution_count": 53,
   "metadata": {},
   "outputs": [
    {
     "name": "stdout",
     "output_type": "stream",
     "text": [
      "hello\n"
     ]
    }
   ],
   "source": [
    "n=int(input(\"enter the index value\"))\n",
    "d=\"hello\"\n",
    "try:\n",
    "    print(d[n])\n",
    "except IndexError:\n",
    "    print(d)"
   ]
  },
  {
   "cell_type": "code",
   "execution_count": 58,
   "metadata": {},
   "outputs": [
    {
     "name": "stdout",
     "output_type": "stream",
     "text": [
      "l\n",
      "hel@lo\n"
     ]
    }
   ],
   "source": [
    "n=int(input(\"enter the index value\"))\n",
    "d=\"hello\"\n",
    "try:\n",
    "    print(d[n])\n",
    "    d[n]='@'\n",
    "except IndexError:\n",
    "    print(d)\n",
    "except TypeError:\n",
    "    d=d[:n]+'@'+d[n:]\n",
    "    print(d)"
   ]
  },
  {
   "cell_type": "code",
   "execution_count": 5,
   "metadata": {},
   "outputs": [
    {
     "name": "stdout",
     "output_type": "stream",
     "text": [
      "h\n",
      "e\n",
      "l\n",
      "l\n",
      "o\n",
      "w\n",
      "o\n",
      "r\n",
      "l\n",
      "d\n",
      "stop\n"
     ]
    }
   ],
   "source": [
    "st=\"helloworld\"\n",
    "for i in range(0,11):\n",
    "    try:\n",
    "        print(st[i])\n",
    "    except Exception:\n",
    "        print(\"stop\")"
   ]
  },
  {
   "cell_type": "code",
   "execution_count": 21,
   "metadata": {},
   "outputs": [
    {
     "name": "stdout",
     "output_type": "stream",
     "text": [
      "e\n",
      "l\n",
      "l\n",
      "o\n"
     ]
    }
   ],
   "source": [
    "for i in \"hello\":\n",
    "    try:\n",
    "        if i<10:\n",
    "            print(i)\n",
    "    except Exception:\n",
    "        if i!=\"h\":\n",
    "            print(i)"
   ]
  },
  {
   "cell_type": "code",
   "execution_count": 23,
   "metadata": {},
   "outputs": [
    {
     "ename": "TypeError",
     "evalue": "",
     "output_type": "error",
     "traceback": [
      "\u001b[1;31m---------------------------------------------------------------------------\u001b[0m",
      "\u001b[1;31mTypeError\u001b[0m                                 Traceback (most recent call last)",
      "\u001b[1;32mc:\\Users\\QSP\\Documents\\python_programs\\batch-3.00-5.00\\inheritance.ipynb Cell 117\u001b[0m in \u001b[0;36m3\n\u001b[0;32m      <a href='vscode-notebook-cell:/c%3A/Users/QSP/Documents/python_programs/batch-3.00-5.00/inheritance.ipynb#Y224sZmlsZQ%3D%3D?line=0'>1</a>\u001b[0m a\u001b[39m=\u001b[39m\u001b[39m10\u001b[39m\n\u001b[0;32m      <a href='vscode-notebook-cell:/c%3A/Users/QSP/Documents/python_programs/batch-3.00-5.00/inheritance.ipynb#Y224sZmlsZQ%3D%3D?line=1'>2</a>\u001b[0m \u001b[39mif\u001b[39;00m a\u001b[39m==\u001b[39m\u001b[39m10\u001b[39m:\n\u001b[1;32m----> <a href='vscode-notebook-cell:/c%3A/Users/QSP/Documents/python_programs/batch-3.00-5.00/inheritance.ipynb#Y224sZmlsZQ%3D%3D?line=2'>3</a>\u001b[0m     \u001b[39mraise\u001b[39;00m \u001b[39mTypeError\u001b[39;00m\n",
      "\u001b[1;31mTypeError\u001b[0m: "
     ]
    }
   ],
   "source": [
    "a=10\n",
    "if a==10:\n",
    "    raise TypeError"
   ]
  },
  {
   "cell_type": "code",
   "execution_count": 24,
   "metadata": {},
   "outputs": [
    {
     "ename": "TypeError",
     "evalue": "a should be 10",
     "output_type": "error",
     "traceback": [
      "\u001b[1;31m---------------------------------------------------------------------------\u001b[0m",
      "\u001b[1;31mTypeError\u001b[0m                                 Traceback (most recent call last)",
      "\u001b[1;32mc:\\Users\\QSP\\Documents\\python_programs\\batch-3.00-5.00\\inheritance.ipynb Cell 118\u001b[0m in \u001b[0;36m3\n\u001b[0;32m      <a href='vscode-notebook-cell:/c%3A/Users/QSP/Documents/python_programs/batch-3.00-5.00/inheritance.ipynb#Y225sZmlsZQ%3D%3D?line=0'>1</a>\u001b[0m a\u001b[39m=\u001b[39m\u001b[39m10\u001b[39m\n\u001b[0;32m      <a href='vscode-notebook-cell:/c%3A/Users/QSP/Documents/python_programs/batch-3.00-5.00/inheritance.ipynb#Y225sZmlsZQ%3D%3D?line=1'>2</a>\u001b[0m \u001b[39mif\u001b[39;00m a\u001b[39m==\u001b[39m\u001b[39m10\u001b[39m:\n\u001b[1;32m----> <a href='vscode-notebook-cell:/c%3A/Users/QSP/Documents/python_programs/batch-3.00-5.00/inheritance.ipynb#Y225sZmlsZQ%3D%3D?line=2'>3</a>\u001b[0m     \u001b[39mraise\u001b[39;00m \u001b[39mTypeError\u001b[39;00m(\u001b[39m\"\u001b[39m\u001b[39ma should be 10\u001b[39m\u001b[39m\"\u001b[39m)\n",
      "\u001b[1;31mTypeError\u001b[0m: a should be 10"
     ]
    }
   ],
   "source": [
    "a=10\n",
    "if a==10:\n",
    "    raise TypeError(\"a should be 10\")"
   ]
  },
  {
   "cell_type": "code",
   "execution_count": 29,
   "metadata": {},
   "outputs": [
    {
     "ename": "VenuError",
     "evalue": "HAii WELCOME TO EXCEPTION CLASS",
     "output_type": "error",
     "traceback": [
      "\u001b[1;31m---------------------------------------------------------------------------\u001b[0m",
      "\u001b[1;31mVenuError\u001b[0m                                 Traceback (most recent call last)",
      "\u001b[1;32mc:\\Users\\QSP\\Documents\\python_programs\\batch-3.00-5.00\\inheritance.ipynb Cell 119\u001b[0m in \u001b[0;36m7\n\u001b[0;32m      <a href='vscode-notebook-cell:/c%3A/Users/QSP/Documents/python_programs/batch-3.00-5.00/inheritance.ipynb#Y226sZmlsZQ%3D%3D?line=4'>5</a>\u001b[0m a\u001b[39m=\u001b[39m\u001b[39m150\u001b[39m\n\u001b[0;32m      <a href='vscode-notebook-cell:/c%3A/Users/QSP/Documents/python_programs/batch-3.00-5.00/inheritance.ipynb#Y226sZmlsZQ%3D%3D?line=5'>6</a>\u001b[0m \u001b[39mif\u001b[39;00m a\u001b[39m<\u001b[39m\u001b[39m160\u001b[39m:\n\u001b[1;32m----> <a href='vscode-notebook-cell:/c%3A/Users/QSP/Documents/python_programs/batch-3.00-5.00/inheritance.ipynb#Y226sZmlsZQ%3D%3D?line=6'>7</a>\u001b[0m     \u001b[39mraise\u001b[39;00m VenuError(\u001b[39m\"\u001b[39m\u001b[39mHAii WELCOME TO EXCEPTION CLASS\u001b[39m\u001b[39m\"\u001b[39m)\n",
      "\u001b[1;31mVenuError\u001b[0m: HAii WELCOME TO EXCEPTION CLASS"
     ]
    }
   ],
   "source": [
    "class VenuError(Exception):\n",
    "    def __init__(self,x=None):\n",
    "        self.x=x\n",
    "    \n",
    "a=150\n",
    "if a<160:\n",
    "    raise VenuError(\"HAii WELCOME TO EXCEPTION CLASS\")"
   ]
  },
  {
   "cell_type": "code",
   "execution_count": 36,
   "metadata": {},
   "outputs": [
    {
     "name": "stdout",
     "output_type": "stream",
     "text": [
      "testcase1 is failed\n"
     ]
    },
    {
     "ename": "AssertionError",
     "evalue": "testcase1",
     "output_type": "error",
     "traceback": [
      "\u001b[1;31m---------------------------------------------------------------------------\u001b[0m",
      "\u001b[1;31mAssertionError\u001b[0m                            Traceback (most recent call last)",
      "\u001b[1;32mc:\\Users\\QSP\\Documents\\python_programs\\batch-3.00-5.00\\inheritance.ipynb Cell 120\u001b[0m in \u001b[0;36m9\n\u001b[0;32m      <a href='vscode-notebook-cell:/c%3A/Users/QSP/Documents/python_programs/batch-3.00-5.00/inheritance.ipynb#Y230sZmlsZQ%3D%3D?line=3'>4</a>\u001b[0m \u001b[39mexcept\u001b[39;00m \u001b[39mAssertionError\u001b[39;00m:\n\u001b[0;32m      <a href='vscode-notebook-cell:/c%3A/Users/QSP/Documents/python_programs/batch-3.00-5.00/inheritance.ipynb#Y230sZmlsZQ%3D%3D?line=4'>5</a>\u001b[0m     \u001b[39mprint\u001b[39m(\u001b[39m\"\u001b[39m\u001b[39mtestcase1 is failed\u001b[39m\u001b[39m\"\u001b[39m)\n\u001b[1;32m----> <a href='vscode-notebook-cell:/c%3A/Users/QSP/Documents/python_programs/batch-3.00-5.00/inheritance.ipynb#Y230sZmlsZQ%3D%3D?line=8'>9</a>\u001b[0m \u001b[39massert\u001b[39;00m \u001b[39m10\u001b[39m\u001b[39m>\u001b[39m\u001b[39m15\u001b[39m,\u001b[39m\"\u001b[39m\u001b[39mtestcase1\u001b[39m\u001b[39m\"\u001b[39m\n",
      "\u001b[1;31mAssertionError\u001b[0m: testcase1"
     ]
    }
   ],
   "source": [
    "assert 10>15,\"testcase1\"\n",
    "\n",
    "\n",
    "\n",
    "try:\n",
    "    assert 10>15\n",
    "    print(\"Testcase1 is success\")\n",
    "except AssertionError:\n",
    "    print(\"testcase1 is failed\")\n",
    "\n",
    "\n",
    "\n",
    "\n"
   ]
  },
  {
   "cell_type": "code",
   "execution_count": 27,
   "metadata": {},
   "outputs": [],
   "source": [
    "from abc import ABC,abstractmethod\n",
    "\n",
    "class sample(ABC):\n",
    "    @abstractmethod\n",
    "    def display():\n",
    "        pass\n",
    "    @abstractmethod\n",
    "    def clear(i,j):\n",
    "        pass\n",
    "\n",
    "    def area():\n",
    "        pass"
   ]
  },
  {
   "cell_type": "code",
   "execution_count": 29,
   "metadata": {},
   "outputs": [
    {
     "data": {
      "text/plain": [
       "100"
      ]
     },
     "execution_count": 29,
     "metadata": {},
     "output_type": "execute_result"
    }
   ],
   "source": [
    "class demo(sample):\n",
    "    def display():\n",
    "        return 10\n",
    "\n",
    "    def area(self,n):\n",
    "        return n*n\n",
    "    \n",
    "    def clear():\n",
    "        return \"haii\"\n",
    "    \n",
    "    \n",
    "d1=demo()\n",
    "d1.area(10)"
   ]
  },
  {
   "cell_type": "code",
   "execution_count": 36,
   "metadata": {},
   "outputs": [
    {
     "name": "stdout",
     "output_type": "stream",
     "text": [
      "10\n",
      "100\n"
     ]
    }
   ],
   "source": [
    "class apple:\n",
    "    a=10\n",
    "\n",
    "    @property\n",
    "    def area(self):\n",
    "        return self.a**2\n",
    "\n",
    "obj=apple()\n",
    "\n",
    "print(apple.a)\n",
    "print(obj.area)\n"
   ]
  },
  {
   "cell_type": "code",
   "execution_count": 89,
   "metadata": {},
   "outputs": [],
   "source": [
    "class IBM:\n",
    "    company_name=\"IBM\"\n",
    "    location='hyd'\n",
    "    def __init__(self,name,age,phone,address,password):\n",
    "        self.name=name\n",
    "        self.age=age\n",
    "        self.phone=phone\n",
    "        self.address=address\n",
    "        self.email=self.email_gen\n",
    "        self.__password=password\n",
    "\n",
    "    def getter(self):\n",
    "        return self.__password\n",
    "    \n",
    "    def setter(self,ele):\n",
    "        self.__password=ele\n",
    "\n",
    "    @property\n",
    "    def email_gen(self):\n",
    "        res=self.name+str(self.phone)[0:2]+str(self.phone)[-2:]+'@'+self.company_name+'.com'\n",
    "        return res\n",
    "ravi=IBM('ravi',26,9988774411,'hyd','ravi@123')"
   ]
  },
  {
   "cell_type": "code",
   "execution_count": null,
   "metadata": {},
   "outputs": [],
   "source": []
  },
  {
   "cell_type": "code",
   "execution_count": 83,
   "metadata": {},
   "outputs": [
    {
     "data": {
      "text/plain": [
       "{'name': 'ravi',\n",
       " 'age': 26,\n",
       " 'phone': 9988774411,\n",
       " 'address': 'hyd',\n",
       " 'email': 'ravi9911@IBM.com',\n",
       " '_IBM__password': 'ravi@123'}"
      ]
     },
     "execution_count": 83,
     "metadata": {},
     "output_type": "execute_result"
    }
   ],
   "source": [
    "ravi.__dict__"
   ]
  },
  {
   "cell_type": "code",
   "execution_count": 101,
   "metadata": {},
   "outputs": [
    {
     "name": "stdout",
     "output_type": "stream",
     "text": [
      "ravi@123\n"
     ]
    }
   ],
   "source": [
    "print(ravi.getter())\n",
    "ravi.setter('ravibabu@123')"
   ]
  },
  {
   "cell_type": "code",
   "execution_count": 85,
   "metadata": {},
   "outputs": [
    {
     "data": {
      "text/plain": [
       "{'name': 'ravi',\n",
       " 'age': 26,\n",
       " 'phone': 9988774411,\n",
       " 'address': 'hyd',\n",
       " 'email': 'ravi9911@IBM.com',\n",
       " '_IBM__password': 'ravibabu@123'}"
      ]
     },
     "execution_count": 85,
     "metadata": {},
     "output_type": "execute_result"
    }
   ],
   "source": [
    "ravi.__dict__"
   ]
  },
  {
   "cell_type": "code",
   "execution_count": 108,
   "metadata": {},
   "outputs": [
    {
     "name": "stdout",
     "output_type": "stream",
     "text": [
      "accessing the attribute to get the value\n"
     ]
    },
    {
     "ename": "AttributeError",
     "evalue": "'apple' object has no attribute 'obj'",
     "output_type": "error",
     "traceback": [
      "\u001b[1;31m---------------------------------------------------------------------------\u001b[0m",
      "\u001b[1;31mAttributeError\u001b[0m                            Traceback (most recent call last)",
      "\u001b[1;32mc:\\Users\\QSP\\Documents\\python_programs\\batch-3.00-5.00\\inheritance.ipynb Cell 129\u001b[0m in \u001b[0;36m1\n\u001b[0;32m     <a href='vscode-notebook-cell:/c%3A/Users/QSP/Documents/python_programs/batch-3.00-5.00/inheritance.ipynb#Y243sZmlsZQ%3D%3D?line=11'>12</a>\u001b[0m     obj\u001b[39m=\u001b[39mapple()\n\u001b[0;32m     <a href='vscode-notebook-cell:/c%3A/Users/QSP/Documents/python_programs/batch-3.00-5.00/inheritance.ipynb#Y243sZmlsZQ%3D%3D?line=12'>13</a>\u001b[0m a\u001b[39m=\u001b[39mbat()\n\u001b[1;32m---> <a href='vscode-notebook-cell:/c%3A/Users/QSP/Documents/python_programs/batch-3.00-5.00/inheritance.ipynb#Y243sZmlsZQ%3D%3D?line=13'>14</a>\u001b[0m \u001b[39mprint\u001b[39m(a\u001b[39m.\u001b[39;49mobj)\n\u001b[0;32m     <a href='vscode-notebook-cell:/c%3A/Users/QSP/Documents/python_programs/batch-3.00-5.00/inheritance.ipynb#Y243sZmlsZQ%3D%3D?line=14'>15</a>\u001b[0m a\u001b[39m.\u001b[39mobj\u001b[39m=\u001b[39m\u001b[39m45\u001b[39m\n\u001b[0;32m     <a href='vscode-notebook-cell:/c%3A/Users/QSP/Documents/python_programs/batch-3.00-5.00/inheritance.ipynb#Y243sZmlsZQ%3D%3D?line=15'>16</a>\u001b[0m \u001b[39mprint\u001b[39m(a\u001b[39m.\u001b[39mobj)\n",
      "\u001b[1;32mc:\\Users\\QSP\\Documents\\python_programs\\batch-3.00-5.00\\inheritance.ipynb Cell 129\u001b[0m in \u001b[0;36m4\n\u001b[0;32m      <a href='vscode-notebook-cell:/c%3A/Users/QSP/Documents/python_programs/batch-3.00-5.00/inheritance.ipynb#Y243sZmlsZQ%3D%3D?line=1'>2</a>\u001b[0m \u001b[39mdef\u001b[39;00m \u001b[39m__get__\u001b[39m(\u001b[39mself\u001b[39m,obj,\u001b[39mtype\u001b[39m\u001b[39m=\u001b[39m\u001b[39mNone\u001b[39;00m)\u001b[39m-\u001b[39m\u001b[39m>\u001b[39m\u001b[39mobject\u001b[39m:\n\u001b[0;32m      <a href='vscode-notebook-cell:/c%3A/Users/QSP/Documents/python_programs/batch-3.00-5.00/inheritance.ipynb#Y243sZmlsZQ%3D%3D?line=2'>3</a>\u001b[0m     \u001b[39mprint\u001b[39m(\u001b[39m\"\u001b[39m\u001b[39maccessing the attribute to get the value\u001b[39m\u001b[39m\"\u001b[39m)\n\u001b[1;32m----> <a href='vscode-notebook-cell:/c%3A/Users/QSP/Documents/python_programs/batch-3.00-5.00/inheritance.ipynb#Y243sZmlsZQ%3D%3D?line=3'>4</a>\u001b[0m     \u001b[39mreturn\u001b[39;00m \u001b[39mself\u001b[39;49m\u001b[39m.\u001b[39;49mobj\n",
      "\u001b[1;31mAttributeError\u001b[0m: 'apple' object has no attribute 'obj'"
     ]
    }
   ],
   "source": [
    "class apple:\n",
    "    def __get__(self,obj,type=None)->object:\n",
    "        print(\"accessing the attribute to get the value\")\n",
    "        return self.obj\n",
    "    def __set__(self,obj,value)->None:\n",
    "        print(\"accessing the attribute to set the value\")\n",
    "        self.a=value\n",
    "    def __delete__(self,obj)->None:\n",
    "        print(\"accessing the attribute to set the value\")\n",
    "        del self.a\n",
    "class bat:\n",
    "    obj=apple()\n",
    "a=bat()\n",
    "print(a.obj)\n",
    "a.obj=45\n",
    "print(a.obj)\n",
    "del a.obj\n",
    "print(a.obj)\n",
    "\n",
    "\n"
   ]
  }
 ],
 "metadata": {
  "kernelspec": {
   "display_name": "Python 3",
   "language": "python",
   "name": "python3"
  },
  "language_info": {
   "codemirror_mode": {
    "name": "ipython",
    "version": 3
   },
   "file_extension": ".py",
   "mimetype": "text/x-python",
   "name": "python",
   "nbconvert_exporter": "python",
   "pygments_lexer": "ipython3",
   "version": "3.11.4"
  },
  "orig_nbformat": 4
 },
 "nbformat": 4,
 "nbformat_minor": 2
}
