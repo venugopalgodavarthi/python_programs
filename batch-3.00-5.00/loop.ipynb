{
 "cells": [
  {
   "cell_type": "code",
   "execution_count": 1,
   "metadata": {},
   "outputs": [
    {
     "name": "stdout",
     "output_type": "stream",
     "text": [
      "h\n",
      "e\n",
      "l\n",
      "l\n",
      "o\n"
     ]
    }
   ],
   "source": [
    "#wap to extarct all the data items from the given collection.\n",
    "st=\"hello\"\n",
    "for i in st:       \n",
    "    print(i)"
   ]
  },
  {
   "cell_type": "code",
   "execution_count": null,
   "metadata": {},
   "outputs": [],
   "source": []
  },
  {
   "cell_type": "code",
   "execution_count": 3,
   "metadata": {},
   "outputs": [
    {
     "name": "stdout",
     "output_type": "stream",
     "text": [
      "h\n",
      "e\n",
      "l\n",
      "l\n",
      "o\n",
      "w\n",
      "o\n",
      "r\n",
      "l\n",
      "d\n"
     ]
    }
   ],
   "source": [
    "for i in \"helloworld\":\n",
    "    print(i)"
   ]
  },
  {
   "cell_type": "code",
   "execution_count": 4,
   "metadata": {},
   "outputs": [
    {
     "name": "stdout",
     "output_type": "stream",
     "text": [
      "1\n",
      "2\n",
      "haii\n",
      "how\n",
      "10\n",
      "50\n"
     ]
    }
   ],
   "source": [
    "for i in [1,2,\"haii\",\"how\",10,50]:\n",
    "    print(i)"
   ]
  },
  {
   "cell_type": "code",
   "execution_count": 5,
   "metadata": {},
   "outputs": [
    {
     "name": "stdout",
     "output_type": "stream",
     "text": [
      "1\n",
      "2\n",
      "haii\n",
      "how\n",
      "10\n",
      "50\n"
     ]
    }
   ],
   "source": [
    "for i in (1, 2, \"haii\", \"how\", 10, 50):\n",
    "    print(i)\n"
   ]
  },
  {
   "cell_type": "code",
   "execution_count": 6,
   "metadata": {},
   "outputs": [
    {
     "name": "stdout",
     "output_type": "stream",
     "text": [
      "1\n",
      "2\n",
      "how\n",
      "10\n",
      "haii\n",
      "50\n"
     ]
    }
   ],
   "source": [
    "for i in {1, 2, \"haii\", \"how\", 10, 50}:\n",
    "    print(i)\n"
   ]
  },
  {
   "cell_type": "code",
   "execution_count": 7,
   "metadata": {},
   "outputs": [
    {
     "name": "stdout",
     "output_type": "stream",
     "text": [
      "1\n",
      "haii\n",
      "10\n"
     ]
    }
   ],
   "source": [
    "for i in {1:2, \"haii\":\"how\", 10:50}:\n",
    "    print(i)\n"
   ]
  },
  {
   "cell_type": "code",
   "execution_count": 2,
   "metadata": {},
   "outputs": [
    {
     "name": "stdout",
     "output_type": "stream",
     "text": [
      "h\n",
      "e\n",
      "l\n",
      "l\n",
      "o\n"
     ]
    }
   ],
   "source": [
    "st=\"hello\"\n",
    "start=0\n",
    "while start<len(st):\n",
    "    print(st[start])\n",
    "    start+=1\n"
   ]
  },
  {
   "cell_type": "code",
   "execution_count": 8,
   "metadata": {},
   "outputs": [
    {
     "name": "stdout",
     "output_type": "stream",
     "text": [
      "PYSPIDERS\n"
     ]
    }
   ],
   "source": [
    "# wap to extarct all the data items from the given string.\n",
    "#and store it inside another string.\n",
    "st=\"PYSPIDERS\"\n",
    "s=''\n",
    "for i in st:\n",
    "    s+=i\n",
    "print(s)"
   ]
  },
  {
   "cell_type": "code",
   "execution_count": 11,
   "metadata": {},
   "outputs": [
    {
     "name": "stdout",
     "output_type": "stream",
     "text": [
      "pysp123ider*s\n"
     ]
    }
   ],
   "source": [
    "# wap to extarct all the data items from the given string.\n",
    "# and to convert uppecase to lower case.\n",
    "st = \"PYSP123IDER*S\"\n",
    "s = ''\n",
    "for i in st:\n",
    "    if 'A'<=i<='Z':\n",
    "        s+=chr(ord(i)+32)     \n",
    "    else:\n",
    "        s += i\n",
    "print(s)\n"
   ]
  },
  {
   "cell_type": "code",
   "execution_count": 13,
   "metadata": {},
   "outputs": [
    {
     "name": "stdout",
     "output_type": "stream",
     "text": [
      "9\n"
     ]
    }
   ],
   "source": [
    "# wap to extarct all the data items from the given string.\n",
    "# and to convert uppecase to lower case.\n",
    "st = \"PYSP123IDER*S\"\n",
    "count=0\n",
    "for i in st:\n",
    "    if 'A' <= i <= 'Z':\n",
    "        count+=1\n",
    "print(count)\n"
   ]
  },
  {
   "cell_type": "code",
   "execution_count": 14,
   "metadata": {},
   "outputs": [
    {
     "name": "stdout",
     "output_type": "stream",
     "text": [
      "ysiers*123\n"
     ]
    }
   ],
   "source": [
    "#wap to eliminate the uppercase character from given string.\n",
    "st=\"PysPiDers*123\"\n",
    "s=''\n",
    "for i in st:\n",
    "    if not('A'<=i<='Z'):\n",
    "        s+=i\n",
    "print(s)"
   ]
  },
  {
   "cell_type": "code",
   "execution_count": 16,
   "metadata": {},
   "outputs": [
    {
     "name": "stdout",
     "output_type": "stream",
     "text": [
      "PPD\n",
      "*\n",
      "ysiers\n",
      "123\n"
     ]
    }
   ],
   "source": [
    "# wap to segragated the character from given string.\n",
    "st = \"PysPiDers*123\"\n",
    "up = ''\n",
    "sp=''\n",
    "lc=''\n",
    "an=''\n",
    "for i in st:\n",
    "    if 'A' <= i <= 'Z':\n",
    "        up+=i\n",
    "    elif 'a'<=i<='z':\n",
    "        lc+=i\n",
    "    elif '0'<=i<='9':\n",
    "        an+=i\n",
    "    else:\n",
    "        sp+=i\n",
    "print(up)\n",
    "print(sp)\n",
    "print(lc)\n",
    "print(an)\n"
   ]
  },
  {
   "cell_type": "code",
   "execution_count": 17,
   "metadata": {},
   "outputs": [
    {
     "name": "stdout",
     "output_type": "stream",
     "text": [
      "HELOWRD\n"
     ]
    }
   ],
   "source": [
    "#wap to eliminate the duplicate characters form given string.\n",
    "st=\"HELLOWORLD\"\n",
    "s=''\n",
    "for i in st:\n",
    "    if i not in s:\n",
    "        s+=i\n",
    "print(s)"
   ]
  },
  {
   "cell_type": "code",
   "execution_count": 18,
   "metadata": {},
   "outputs": [
    {
     "name": "stdout",
     "output_type": "stream",
     "text": [
      "{'h': 1, 'e': 1, 'l': 3, 'o': 2, 'w': 1, 'r': 1, 'd': 1}\n"
     ]
    }
   ],
   "source": [
    "#wap to display the frequency of each character in given string.\n",
    "d={}\n",
    "st=\"helloworld\"\n",
    "for i in st:\n",
    "    if i not in d:\n",
    "        d[i]=1\n",
    "    else:\n",
    "        d[i]+=1\n",
    "print(d)"
   ]
  },
  {
   "cell_type": "code",
   "execution_count": 1,
   "metadata": {},
   "outputs": [
    {
     "name": "stdout",
     "output_type": "stream",
     "text": [
      "EOIE\n"
     ]
    }
   ],
   "source": [
    "#wap to extract vowels from given string.\n",
    "st=\"HELLO PYSPIDERS\"\n",
    "s=''\n",
    "for i in st:\n",
    "    if i in 'AEIOUaeiou':\n",
    "        s+=i\n",
    "print(s)\n"
   ]
  },
  {
   "cell_type": "code",
   "execution_count": 3,
   "metadata": {},
   "outputs": [
    {
     "name": "stdout",
     "output_type": "stream",
     "text": [
      "he1llo2 pyspi3de4rs\n"
     ]
    }
   ],
   "source": [
    "#I/P: \"HELLO PYspiDERs\"\n",
    "#o/p: \"he1llo2 pyspi3de4rs\"\n",
    "st = \"HELLO PYspiDERs\"\n",
    "s=\"\"\n",
    "count=0\n",
    "for i in st:\n",
    "    if 'A'<=i<='Z':\n",
    "        d=chr(ord(i)+32)\n",
    "        if d in 'aeiou':\n",
    "            count+=1\n",
    "            s+=d+str(count)\n",
    "        else:\n",
    "            s+=d\n",
    "    elif 'a'<=i<='z':\n",
    "        if i in 'aeiou':\n",
    "            count += 1\n",
    "            s += i+str(count)\n",
    "        else:\n",
    "            s += i\n",
    "    else:\n",
    "        s+=i\n",
    "print(s)\n",
    "\n",
    "\n",
    "\n"
   ]
  },
  {
   "cell_type": "code",
   "execution_count": 5,
   "metadata": {},
   "outputs": [
    {
     "name": "stdout",
     "output_type": "stream",
     "text": [
      "he1llo2 pyspi3de4rs\n"
     ]
    }
   ],
   "source": [
    "st = \"HELLO PYspiDERs\"\n",
    "s = \"\"\n",
    "count = 0\n",
    "for i in st:\n",
    "    if i in 'AEIOUaeiou':\n",
    "        count+=1\n",
    "        if 'A'<=i<='Z':\n",
    "            s+=chr(ord(i)+32)+str(count)\n",
    "        else:\n",
    "            s+=i+str(count)\n",
    "    else:\n",
    "        if 'A' <= i <= 'Z':\n",
    "            s += chr(ord(i)+32)\n",
    "        else:\n",
    "            s += i\n",
    "print(s)\n"
   ]
  },
  {
   "cell_type": "code",
   "execution_count": 7,
   "metadata": {},
   "outputs": [
    {
     "name": "stdout",
     "output_type": "stream",
     "text": [
      "HeLLoWoRLD\n"
     ]
    }
   ],
   "source": [
    "#wap to convert lower case to uppercase only consonants.\n",
    "st=\"Helloworld\"\n",
    "s=\"\"\n",
    "for i in st:\n",
    "    if i not in 'AEIOUaeiou':\n",
    "        if 'a'<=i<='z':\n",
    "            s+=chr(ord(i)-32)\n",
    "        else:\n",
    "            s+=i\n",
    "    else:\n",
    "        s+=i\n",
    "print(s)\n"
   ]
  },
  {
   "cell_type": "code",
   "execution_count": 9,
   "metadata": {},
   "outputs": [
    {
     "name": "stdout",
     "output_type": "stream",
     "text": [
      "D1a2c3b2s1g1A1F1d2e4f3\n"
     ]
    }
   ],
   "source": [
    "#I/p:abcdefabefcsefgdADecF\n",
    "#o/p:a2b2c3d2e4f3g1s1A1D1F1\n",
    "st='abcdefabefcsefgdADecF'\n",
    "s=''\n",
    "for i in set(st):\n",
    "    count=0\n",
    "    for j in st:\n",
    "        if i == j:\n",
    "            count+=1\n",
    "    s+=i+str(count)\n",
    "print(s)\n"
   ]
  },
  {
   "cell_type": "code",
   "execution_count": 10,
   "metadata": {},
   "outputs": [
    {
     "name": "stdout",
     "output_type": "stream",
     "text": [
      "a2b2c3d2e4f3s1g1A1D1F1\n"
     ]
    }
   ],
   "source": [
    "st = 'abcdefabefcsefgdADecF'\n",
    "s = ''\n",
    "temp=\"\"\n",
    "for i in st:\n",
    "    if i not in temp:\n",
    "        temp+=i\n",
    "        count=0\n",
    "        for j in st:\n",
    "            if i==j:\n",
    "                count+=1\n",
    "        s+=i+str(count)\n",
    "print(s)\n",
    "\n"
   ]
  },
  {
   "cell_type": "code",
   "execution_count": 11,
   "metadata": {},
   "outputs": [
    {
     "name": "stdout",
     "output_type": "stream",
     "text": [
      "a2b2c3d2e4f3s1g1A1D1F1\n"
     ]
    }
   ],
   "source": [
    "st = 'abcdefabefcsefgdADecF'\n",
    "s = ''\n",
    "temp = \"\"\n",
    "for i in st:\n",
    "    if i not in s:\n",
    "        count = 0\n",
    "        for j in st:\n",
    "            if i == j:\n",
    "                count += 1\n",
    "        s += i+str(count)\n",
    "print(s)\n"
   ]
  },
  {
   "cell_type": "code",
   "execution_count": 27,
   "metadata": {},
   "outputs": [
    {
     "name": "stdout",
     "output_type": "stream",
     "text": [
      "abcba\n",
      "bcb\n",
      "ded\n",
      "fggf\n",
      "gg\n"
     ]
    }
   ],
   "source": [
    "st='abcbaglakdedfggfe'\n",
    "start=0\n",
    "while start<len(st):\n",
    "    i=start\n",
    "    while i<len(st):\n",
    "        if st[start:i+1] == st[start:i+1][::-1]:\n",
    "            if len(st[start:i+1])>1:\n",
    "                print(st[start:i+1])\n",
    "        i+=1\n",
    "    start+=1"
   ]
  },
  {
   "cell_type": "code",
   "execution_count": 28,
   "metadata": {},
   "outputs": [
    {
     "name": "stdout",
     "output_type": "stream",
     "text": [
      "(0, 0) (0, 1) (0, 2) (0, 3) (0, 4) \n",
      "(1, 0) (1, 1) (1, 2) (1, 3) (1, 4) \n",
      "(2, 0) (2, 1) (2, 2) (2, 3) (2, 4) \n",
      "(3, 0) (3, 1) (3, 2) (3, 3) (3, 4) \n",
      "(4, 0) (4, 1) (4, 2) (4, 3) (4, 4) \n"
     ]
    }
   ],
   "source": [
    "start = 0\n",
    "while start < 5:\n",
    "    i = 0\n",
    "    while i < 5:\n",
    "        print((start,i), end=\" \")\n",
    "        i += 1\n",
    "    start += 1\n",
    "    print()\n"
   ]
  },
  {
   "cell_type": "code",
   "execution_count": 86,
   "metadata": {},
   "outputs": [
    {
     "name": "stdout",
     "output_type": "stream",
     "text": [
      "* * * *   \n",
      "* * *   * \n",
      "* *   *   \n",
      "*   *   * \n",
      "  *   * * \n"
     ]
    }
   ],
   "source": [
    "start=0\n",
    "while start<5:\n",
    "    i=0\n",
    "    while i<5:\n",
    "        if i+start in [4,6] or (start==1 and i==3) or (i==1 and start==3):\n",
    "            print(' ',end=\" \")\n",
    "        else:\n",
    "            print('*',end=\" \")\n",
    "        i+=1\n",
    "    start+=1\n",
    "    print()"
   ]
  },
  {
   "cell_type": "code",
   "execution_count": null,
   "metadata": {},
   "outputs": [],
   "source": [
    "st=\"helloworld\"\n",
    "s=\"\"\n",
    "res=\"\"\n",
    "for i in st:\n",
    "    if i not in res:\n",
    "        res+=i\n",
    "        if 'a'<=i<='z':\n",
    "\n",
    "\n"
   ]
  },
  {
   "cell_type": "code",
   "execution_count": 24,
   "metadata": {},
   "outputs": [
    {
     "name": "stdout",
     "output_type": "stream",
     "text": [
      "abcba\n",
      "bcb\n",
      "ded\n",
      "fggf\n",
      "gg\n"
     ]
    }
   ],
   "source": [
    "st='abcbaglakdedfggfe'\n",
    "start=0\n",
    "for venu in st:\n",
    "    i=start\n",
    "    for venu in st:\n",
    "        if st[start:i+1] == st[start:i+1][::-1]:\n",
    "            if len(st[start:i+1])>1:\n",
    "                print(st[start:i+1])\n",
    "        i+=1\n",
    "    start+=1"
   ]
  },
  {
   "cell_type": "code",
   "execution_count": 17,
   "metadata": {},
   "outputs": [
    {
     "name": "stdout",
     "output_type": "stream",
     "text": [
      "1 2 3\n"
     ]
    }
   ],
   "source": [
    "print(1,2,3)"
   ]
  },
  {
   "cell_type": "code",
   "execution_count": 1,
   "metadata": {},
   "outputs": [
    {
     "name": "stdout",
     "output_type": "stream",
     "text": [
      "1\n",
      "2\n",
      "h\n",
      "78.06\n",
      "[10, 20]\n"
     ]
    }
   ],
   "source": [
    "l=[1,2,'h',78.06,[10,20]]\n",
    "for i in l:\n",
    "    print(i)"
   ]
  },
  {
   "cell_type": "code",
   "execution_count": 3,
   "metadata": {},
   "outputs": [
    {
     "name": "stdout",
     "output_type": "stream",
     "text": [
      "45.5\n"
     ]
    }
   ],
   "source": [
    "#wap to sum of the values from given list\n",
    "l=[10,20,'str',(10,20),15.5,]\n",
    "sum1=0\n",
    "for u in l:\n",
    "    if type(u) in [int,float,complex]:\n",
    "        sum1+=u\n",
    "print(sum1)"
   ]
  },
  {
   "cell_type": "code",
   "execution_count": 2,
   "metadata": {},
   "outputs": [
    {
     "name": "stdout",
     "output_type": "stream",
     "text": [
      "209\n"
     ]
    }
   ],
   "source": [
    "# wap to sum of the values from given integer list\n",
    "l=[10,20,3,40,66,70]\n",
    "sum1=0\n",
    "for u in l:\n",
    "    sum1+=u\n",
    "print(sum1)\n"
   ]
  },
  {
   "cell_type": "code",
   "execution_count": 8,
   "metadata": {},
   "outputs": [
    {
     "name": "stdout",
     "output_type": "stream",
     "text": [
      "7\n",
      "7\n",
      "7\n"
     ]
    }
   ],
   "source": [
    "#wap to count the no of  items from given list.\n",
    "l=[10,20,'str',(10,20),15.5,10, 50]\n",
    "print(len(l))\n",
    "\n",
    "count=0\n",
    "for i in l:\n",
    "    count+=1\n",
    "print(count)\n",
    "\n",
    "def ucount(l):\n",
    "    count = 0\n",
    "    for i in l:\n",
    "        count += 1\n",
    "    return count\n",
    "print(ucount(l))\n"
   ]
  },
  {
   "cell_type": "code",
   "execution_count": 10,
   "metadata": {},
   "outputs": [
    {
     "data": {
      "text/plain": [
       "2"
      ]
     },
     "execution_count": 10,
     "metadata": {},
     "output_type": "execute_result"
    }
   ],
   "source": [
    "#wap to count the no of specific data item from given list.\n",
    "l=[10,20,'str',(10,20),15.5,10, 50]\n",
    "ch=10\n",
    "\n",
    "def ucount(l,ch):\n",
    "    count=0\n",
    "    for i in l:\n",
    "        if i ==ch:\n",
    "            count+=1\n",
    "    return count\n",
    "ucount(l,ch)"
   ]
  },
  {
   "cell_type": "code",
   "execution_count": 14,
   "metadata": {},
   "outputs": [
    {
     "name": "stdout",
     "output_type": "stream",
     "text": [
      "4\n"
     ]
    }
   ],
   "source": [
    "#wap to fetch the index value for specific data item in given collection.\n",
    "l=[10,20,'str',(10,20),15.5,10, 50]\n",
    "j=0\n",
    "for i in l:\n",
    "    if i==15.5:\n",
    "        print(j)\n",
    "        break\n",
    "    j+=1\n"
   ]
  },
  {
   "cell_type": "code",
   "execution_count": 18,
   "metadata": {},
   "outputs": [
    {
     "data": {
      "text/plain": [
       "[0, 2, 4, 6, 8]"
      ]
     },
     "execution_count": 18,
     "metadata": {},
     "output_type": "execute_result"
    }
   ],
   "source": [
    "list(range(10))\n",
    "list(range(5,10))\n",
    "list(range(0,10,2))\n"
   ]
  },
  {
   "cell_type": "code",
   "execution_count": 29,
   "metadata": {},
   "outputs": [
    {
     "name": "stdout",
     "output_type": "stream",
     "text": [
      "0     10       -7\n",
      "1     20       -6\n",
      "2     str       -5\n",
      "3     10       -4\n",
      "4     15.5       -3\n",
      "5     10       -2\n",
      "6     50       -1\n"
     ]
    }
   ],
   "source": [
    "l = [10, 20, 'str', 10, 15.5, 10, 50]\n",
    "\n",
    "for i in range(0,len(l)):\n",
    "    s = -(len(l)-i)\n",
    "    print(i,'   ',l[i],'     ',s)"
   ]
  },
  {
   "cell_type": "code",
   "execution_count": 30,
   "metadata": {},
   "outputs": [
    {
     "name": "stdout",
     "output_type": "stream",
     "text": [
      "10\n",
      "20\n",
      "str\n",
      "10\n",
      "15.5\n",
      "10\n",
      "50\n"
     ]
    }
   ],
   "source": [
    "l = [10, 20, 'str', 10, 15.5, 10, 50]\n",
    "\n",
    "for i in range(0,len(l)):\n",
    "    print(l[i])"
   ]
  },
  {
   "cell_type": "code",
   "execution_count": 42,
   "metadata": {},
   "outputs": [
    {
     "name": "stdout",
     "output_type": "stream",
     "text": [
      "3\n"
     ]
    }
   ],
   "source": [
    "l = [10, 20, 'str', 10, 15.5, 10, 50]\n",
    "ch=10\n",
    "c=2\n",
    "count=0\n",
    "for i in range(0,len(l)):\n",
    "    if l[i]==ch:\n",
    "        count+=1\n",
    "        if count==c:\n",
    "            print(i)\n"
   ]
  },
  {
   "cell_type": "code",
   "execution_count": 48,
   "metadata": {},
   "outputs": [
    {
     "data": {
      "text/plain": [
       "3"
      ]
     },
     "execution_count": 48,
     "metadata": {},
     "output_type": "execute_result"
    }
   ],
   "source": [
    "# wap to print the index value for specific occurence data item from given list.\n",
    "l = [10, 20, 'str', 10, 15.5, 10, 50]\n",
    "ch = 10\n",
    "c = 2\n",
    "\n",
    "def uindex(l,ch,c):\n",
    "    count = 0\n",
    "    for i in range(0, len(l)):\n",
    "        if l[i] == ch:\n",
    "            count += 1\n",
    "            if count == c:\n",
    "                return i\n",
    "    return \"invalid element\"\n",
    "uindex(l,ch,c)"
   ]
  },
  {
   "cell_type": "code",
   "execution_count": 52,
   "metadata": {},
   "outputs": [
    {
     "name": "stdout",
     "output_type": "stream",
     "text": [
      "2365532390784\n",
      "2365532390784\n"
     ]
    }
   ],
   "source": [
    "#wap to clear the all the data item from given list.\n",
    "\n",
    "l=[1,2,3]\n",
    "print(id(l))\n",
    "def uclear(l):\n",
    "    for i in range(0,len(l)):\n",
    "        del l[0]\n",
    "    return l\n",
    "r=uclear(l)\n",
    "print(id(r))"
   ]
  },
  {
   "cell_type": "code",
   "execution_count": 56,
   "metadata": {},
   "outputs": [
    {
     "name": "stdout",
     "output_type": "stream",
     "text": [
      "2365532405504 [1, 2, 3]\n",
      "2365532405504 []\n"
     ]
    }
   ],
   "source": [
    "l = [1, 2, 3]\n",
    "print(id(l),l)\n",
    "\n",
    "\n",
    "def uclear(l):\n",
    "    start=0\n",
    "    while start<len(l):\n",
    "        del l[start]\n",
    "    return l\n",
    "\n",
    "\n",
    "r = uclear(l)\n",
    "print(id(r),r)\n"
   ]
  },
  {
   "cell_type": "code",
   "execution_count": 6,
   "metadata": {},
   "outputs": [
    {
     "name": "stdout",
     "output_type": "stream",
     "text": [
      "[1, 2, 3, 'str']\n"
     ]
    }
   ],
   "source": [
    "l=[1,2,3]\n",
    "def uappend(coll,ele):\n",
    "    coll+=[ele]\n",
    "    return coll\n",
    "res=uappend(l,'str')\n",
    "print(res)"
   ]
  },
  {
   "cell_type": "code",
   "execution_count": 8,
   "metadata": {},
   "outputs": [
    {
     "name": "stdout",
     "output_type": "stream",
     "text": [
      "[1, 2, 3, [10, 20, 30]]\n"
     ]
    }
   ],
   "source": [
    "\n",
    "l=[1,2,3]\n",
    "l.append([10,20,30])\n",
    "print(l)"
   ]
  },
  {
   "cell_type": "code",
   "execution_count": 13,
   "metadata": {},
   "outputs": [
    {
     "name": "stdout",
     "output_type": "stream",
     "text": [
      "[1, 2, 3, 'h', 'e', 'l', 'l', 'o']\n"
     ]
    }
   ],
   "source": [
    "l=[1,2,3]\n",
    "l.extend('hello')\n",
    "print(l)"
   ]
  },
  {
   "cell_type": "code",
   "execution_count": 22,
   "metadata": {},
   "outputs": [
    {
     "name": "stdout",
     "output_type": "stream",
     "text": [
      "[1, 2, 3, 10, 20, 30]\n"
     ]
    }
   ],
   "source": [
    "def uextend(coll,ele):\n",
    "    if type(ele) in [str,list,tuple,set,dict]:\n",
    "        l=list(ele)\n",
    "        for i in l:\n",
    "            coll+=[i]\n",
    "        return coll\n",
    "    else:\n",
    "       return -1\n",
    "res=uextend([1,2,3],[10,20,30])\n",
    "print(res)"
   ]
  },
  {
   "cell_type": "code",
   "execution_count": 42,
   "metadata": {},
   "outputs": [
    {
     "name": "stdout",
     "output_type": "stream",
     "text": [
      "[1, 2, 100, 3]\n"
     ]
    }
   ],
   "source": [
    "l=[1,2,3]\n",
    "l.insert(-1,100)\n",
    "print(l)"
   ]
  },
  {
   "cell_type": "code",
   "execution_count": 41,
   "metadata": {},
   "outputs": [
    {
     "name": "stdout",
     "output_type": "stream",
     "text": [
      "[1, 2, 100, 3]\n"
     ]
    }
   ],
   "source": [
    "def uinsert(coll,pos,ele):\n",
    "    if type(pos)==int and 0<pos:\n",
    "        if len(coll)<pos:\n",
    "            coll+=[ele]\n",
    "        else:\n",
    "            coll[pos:pos]=[ele]\n",
    "    elif type(pos)==int and 0>pos:\n",
    "        if -(len(coll))>pos:\n",
    "            coll[0:0]=[ele]\n",
    "        else:\n",
    "            coll[pos:pos]=[ele]\n",
    "    else:\n",
    "        \"invalid position value\"\n",
    "    return coll\n",
    "res=uinsert([1,2,3],-1,100)\n",
    "print(res)\n",
    "\n"
   ]
  },
  {
   "cell_type": "code",
   "execution_count": 61,
   "metadata": {},
   "outputs": [
    {
     "data": {
      "text/plain": [
       "20"
      ]
     },
     "execution_count": 61,
     "metadata": {},
     "output_type": "execute_result"
    }
   ],
   "source": [
    "l=[10,20,30,40]\n",
    "l.pop(1)"
   ]
  },
  {
   "cell_type": "code",
   "execution_count": 55,
   "metadata": {},
   "outputs": [
    {
     "ename": "IndexError",
     "evalue": "list assignment index out of range",
     "output_type": "error",
     "traceback": [
      "\u001b[1;31m---------------------------------------------------------------------------\u001b[0m",
      "\u001b[1;31mIndexError\u001b[0m                                Traceback (most recent call last)",
      "\u001b[1;32mc:\\Users\\QSP\\Documents\\python_programs\\batch-3.00-5.00\\loop.ipynb Cell 49\u001b[0m in \u001b[0;36m4\n\u001b[0;32m      <a href='vscode-notebook-cell:/c%3A/Users/QSP/Documents/python_programs/batch-3.00-5.00/loop.ipynb#X66sZmlsZQ%3D%3D?line=1'>2</a>\u001b[0m     \u001b[39mdel\u001b[39;00m coll[ele]\n\u001b[0;32m      <a href='vscode-notebook-cell:/c%3A/Users/QSP/Documents/python_programs/batch-3.00-5.00/loop.ipynb#X66sZmlsZQ%3D%3D?line=2'>3</a>\u001b[0m     \u001b[39mreturn\u001b[39;00m coll\n\u001b[1;32m----> <a href='vscode-notebook-cell:/c%3A/Users/QSP/Documents/python_programs/batch-3.00-5.00/loop.ipynb#X66sZmlsZQ%3D%3D?line=3'>4</a>\u001b[0m res\u001b[39m=\u001b[39mupop([\u001b[39m10\u001b[39;49m,\u001b[39m20\u001b[39;49m,\u001b[39m30\u001b[39;49m,\u001b[39m40\u001b[39;49m],\u001b[39m10\u001b[39;49m)\n\u001b[0;32m      <a href='vscode-notebook-cell:/c%3A/Users/QSP/Documents/python_programs/batch-3.00-5.00/loop.ipynb#X66sZmlsZQ%3D%3D?line=4'>5</a>\u001b[0m \u001b[39mprint\u001b[39m(res)\n",
      "\u001b[1;32mc:\\Users\\QSP\\Documents\\python_programs\\batch-3.00-5.00\\loop.ipynb Cell 49\u001b[0m in \u001b[0;36m2\n\u001b[0;32m      <a href='vscode-notebook-cell:/c%3A/Users/QSP/Documents/python_programs/batch-3.00-5.00/loop.ipynb#X66sZmlsZQ%3D%3D?line=0'>1</a>\u001b[0m \u001b[39mdef\u001b[39;00m \u001b[39mupop\u001b[39m(coll,ele\u001b[39m=\u001b[39m\u001b[39m-\u001b[39m\u001b[39m1\u001b[39m):\n\u001b[1;32m----> <a href='vscode-notebook-cell:/c%3A/Users/QSP/Documents/python_programs/batch-3.00-5.00/loop.ipynb#X66sZmlsZQ%3D%3D?line=1'>2</a>\u001b[0m     \u001b[39mdel\u001b[39;00m coll[ele]\n\u001b[0;32m      <a href='vscode-notebook-cell:/c%3A/Users/QSP/Documents/python_programs/batch-3.00-5.00/loop.ipynb#X66sZmlsZQ%3D%3D?line=2'>3</a>\u001b[0m     \u001b[39mreturn\u001b[39;00m coll\n",
      "\u001b[1;31mIndexError\u001b[0m: list assignment index out of range"
     ]
    }
   ],
   "source": [
    "def upop(coll,ele=-1):\n",
    "    del coll[ele]\n",
    "    return coll\n",
    "res=upop([10,20,30,40],10)\n",
    "print(res)"
   ]
  },
  {
   "cell_type": "code",
   "execution_count": 62,
   "metadata": {},
   "outputs": [
    {
     "name": "stdout",
     "output_type": "stream",
     "text": [
      "[10, 30, 20]\n"
     ]
    }
   ],
   "source": [
    "l=[10,20,30,20]\n",
    "l.remove(20)\n",
    "print(l)"
   ]
  },
  {
   "cell_type": "code",
   "execution_count": 64,
   "metadata": {},
   "outputs": [
    {
     "data": {
      "text/plain": [
       "'element is not available'"
      ]
     },
     "execution_count": 64,
     "metadata": {},
     "output_type": "execute_result"
    }
   ],
   "source": [
    "def uremove(coll,ele):\n",
    "    if ele in coll:\n",
    "        for i in range(0,len(coll)):\n",
    "            if coll[i]==ele:\n",
    "                del coll[i]\n",
    "                return coll\n",
    "    else:\n",
    "        return \"element is not available\"\n",
    "uremove([10,20,30,20],40)"
   ]
  },
  {
   "cell_type": "code",
   "execution_count": 67,
   "metadata": {},
   "outputs": [
    {
     "name": "stdout",
     "output_type": "stream",
     "text": [
      "1915239012032\n",
      "1915239012032\n"
     ]
    }
   ],
   "source": [
    "l=[10,20,30,40]\n",
    "print(id(l))\n",
    "l.reverse()\n",
    "print(id(l))"
   ]
  },
  {
   "cell_type": "code",
   "execution_count": 71,
   "metadata": {},
   "outputs": [
    {
     "name": "stdout",
     "output_type": "stream",
     "text": [
      "1915238138816 [10, 20, 30, 40, 50]\n",
      "1915238138816 [50, 40, 30, 20, 10]\n"
     ]
    }
   ],
   "source": [
    "l=[10,20,30,40,50]\n",
    "print(id(l),l)\n",
    "\n",
    "def ureverse(coll):\n",
    "    s=-1\n",
    "    for i in range(0,len(coll)//2):\n",
    "        coll[i],coll[s]=coll[s],coll[i]\n",
    "        s-=1\n",
    "    return coll\n",
    "res=ureverse(l)\n",
    "print(id(res),res)"
   ]
  },
  {
   "cell_type": "code",
   "execution_count": 89,
   "metadata": {},
   "outputs": [
    {
     "name": "stdout",
     "output_type": "stream",
     "text": [
      "[10, 15, 20, 30, 40, 80, 90]\n"
     ]
    }
   ],
   "source": [
    "l=[40,30,10,20,80,90,15]\n",
    "def usort(l):\n",
    "    for j in range(1,len(l)):\n",
    "        for i in range(0,len(l)-1):\n",
    "            if l[i]>l[i+1]:\n",
    "                l[i],l[i+1]=l[i+1],l[i]\n",
    "    return l\n",
    "res=usort(l)\n",
    "print(res)\n",
    "\n"
   ]
  },
  {
   "cell_type": "code",
   "execution_count": 3,
   "metadata": {},
   "outputs": [
    {
     "data": {
      "text/plain": [
       "['__and__',\n",
       " '__class__',\n",
       " '__class_getitem__',\n",
       " '__contains__',\n",
       " '__delattr__',\n",
       " '__dir__',\n",
       " '__doc__',\n",
       " '__eq__',\n",
       " '__format__',\n",
       " '__ge__',\n",
       " '__getattribute__',\n",
       " '__getstate__',\n",
       " '__gt__',\n",
       " '__hash__',\n",
       " '__iand__',\n",
       " '__init__',\n",
       " '__init_subclass__',\n",
       " '__ior__',\n",
       " '__isub__',\n",
       " '__iter__',\n",
       " '__ixor__',\n",
       " '__le__',\n",
       " '__len__',\n",
       " '__lt__',\n",
       " '__ne__',\n",
       " '__new__',\n",
       " '__or__',\n",
       " '__rand__',\n",
       " '__reduce__',\n",
       " '__reduce_ex__',\n",
       " '__repr__',\n",
       " '__ror__',\n",
       " '__rsub__',\n",
       " '__rxor__',\n",
       " '__setattr__',\n",
       " '__sizeof__',\n",
       " '__str__',\n",
       " '__sub__',\n",
       " '__subclasshook__',\n",
       " '__xor__',\n",
       " 'add',\n",
       " 'clear',\n",
       " 'copy',\n",
       " 'difference',\n",
       " 'difference_update',\n",
       " 'discard',\n",
       " 'intersection',\n",
       " 'intersection_update',\n",
       " 'isdisjoint',\n",
       " 'issubset',\n",
       " 'issuperset',\n",
       " 'pop',\n",
       " 'remove',\n",
       " 'symmetric_difference',\n",
       " 'symmetric_difference_update',\n",
       " 'union',\n",
       " 'update']"
      ]
     },
     "execution_count": 3,
     "metadata": {},
     "output_type": "execute_result"
    }
   ],
   "source": [
    "dir(set())\n"
   ]
  },
  {
   "cell_type": "code",
   "execution_count": 6,
   "metadata": {},
   "outputs": [
    {
     "name": "stdout",
     "output_type": "stream",
     "text": [
      "{1, 2, 3, 4, 89, 90, 15}\n"
     ]
    }
   ],
   "source": [
    "#wap add the new value inside the set.\n",
    "s={1,2,3,15,89,90}\n",
    "s.add(4)\n",
    "print(s)"
   ]
  },
  {
   "cell_type": "code",
   "execution_count": 11,
   "metadata": {},
   "outputs": [
    {
     "name": "stdout",
     "output_type": "stream",
     "text": [
      "{0, 1, 2, 3, 4, 122, 15, 56, 89, 90}\n"
     ]
    }
   ],
   "source": [
    "#wap add the new value inside the set.\n",
    "def uadd(coll,ele):\n",
    "    s=list(coll)\n",
    "    s+=[ele]\n",
    "    return set(s)\n",
    "res=uadd({56,15,89,90,1,2,3,0,122},4)\n",
    "print(res)\n"
   ]
  },
  {
   "cell_type": "code",
   "execution_count": 13,
   "metadata": {},
   "outputs": [
    {
     "name": "stdout",
     "output_type": "stream",
     "text": [
      "2774348200896\n",
      "2774348200896\n"
     ]
    }
   ],
   "source": [
    "#wap to remove the all the dataitem from given set\n",
    "s={1,5,89,79,30}\n",
    "print(id(s))\n",
    "s.clear()\n",
    "print(id(s))"
   ]
  },
  {
   "cell_type": "code",
   "execution_count": 23,
   "metadata": {},
   "outputs": [
    {
     "name": "stdout",
     "output_type": "stream",
     "text": [
      "2774349071296\n",
      "2774349071296\n"
     ]
    }
   ],
   "source": [
    "#wap to remove the all the dataitem from given set\n",
    "s={1,5,89,79,30}\n",
    "print(id(s))\n",
    "def uclear(coll):\n",
    "    coll^=coll\n",
    "    return coll\n",
    "res=uclear(s)\n",
    "print(id(res))\n"
   ]
  },
  {
   "cell_type": "code",
   "execution_count": 22,
   "metadata": {},
   "outputs": [
    {
     "name": "stdout",
     "output_type": "stream",
     "text": [
      "2774349071968 {1, 2, 3}\n",
      "2774349071968 set()\n"
     ]
    }
   ],
   "source": [
    "s={1,2,3}\n",
    "print(id(s),s)\n",
    "s^=s\n",
    "print(id(s),s)"
   ]
  },
  {
   "cell_type": "code",
   "execution_count": null,
   "metadata": {},
   "outputs": [],
   "source": [
    "\n",
    "#wap add the new value inside the set.\n",
    "def uadd(coll,ele):\n",
    "    s=list(coll)\n",
    "    s+=[ele]\n",
    "    return set(s)\n",
    "res=uadd({56,15,89,90,1,2,3,0,122},4)\n",
    "print(res)"
   ]
  },
  {
   "cell_type": "code",
   "execution_count": 47,
   "metadata": {},
   "outputs": [
    {
     "name": "stdout",
     "output_type": "stream",
     "text": [
      "{1, 2, 3, 4, 6}\n",
      "{1, 2, 3, 4, 6}\n",
      "{1, 2, 3}\n",
      "{1, 2, 3, 4, 6}\n",
      "{1, 2, 3, 4, 6}\n"
     ]
    }
   ],
   "source": [
    "#union operation\n",
    "s={1,2,3}\n",
    "t={2,4,6}\n",
    "print(s.union(t))\n",
    "\n",
    "s={1,2,3}\n",
    "t={2,4,6}\n",
    "def uunion(coll1,coll2):\n",
    "    return coll1|coll2\n",
    "print(uunion(s,t))\n",
    "\n",
    "#update operation\n",
    "s={1,2,3}\n",
    "t={2,4,6}\n",
    "print(s)\n",
    "s.update(t)\n",
    "print(s)\n",
    "\n",
    "\n",
    "s={1,2,3}\n",
    "t={2,4,6}\n",
    "def uupdate(coll1,coll2):\n",
    "    coll1|=coll2\n",
    "    return coll1\n",
    "print(uupdate(s,t))"
   ]
  },
  {
   "cell_type": "code",
   "execution_count": null,
   "metadata": {},
   "outputs": [],
   "source": []
  },
  {
   "cell_type": "code",
   "execution_count": 51,
   "metadata": {},
   "outputs": [
    {
     "name": "stdout",
     "output_type": "stream",
     "text": [
      "{1, 2, 3}\n",
      "{2}\n",
      "{1, 2, 3}\n",
      "{2}\n"
     ]
    }
   ],
   "source": [
    "# #intersection\n",
    "# s={1,2,3}\n",
    "# t={2,4,6}\n",
    "# print(s.intersection(t))\n",
    "\n",
    "# s={1,2,3}\n",
    "# t={2,4,6}\n",
    "\n",
    "# def uintersection(coll1,coll2):\n",
    "#     return coll1&coll2\n",
    "# print(uintersection(s,t))\n",
    "\n",
    "#intersection update\n",
    "s={1,2,3}\n",
    "t={2,4,6}\n",
    "print(s)\n",
    "s.intersection_update(t)\n",
    "print(s)\n",
    "\n",
    "\n",
    "s={1,2,3}\n",
    "t={2,4,6}\n",
    "print(s)\n",
    "def uintersection_update(coll1,coll2):\n",
    "    coll1&=coll2\n",
    "    return coll1\n",
    "print(uintersection_update(s,t))\n",
    "\n",
    "\n"
   ]
  },
  {
   "cell_type": "code",
   "execution_count": 53,
   "metadata": {},
   "outputs": [
    {
     "name": "stdout",
     "output_type": "stream",
     "text": [
      "{1, 2, 3}\n",
      "{1, 3}\n",
      "{1, 2, 3}\n",
      "{1, 3}\n"
     ]
    }
   ],
   "source": [
    "# #difference\n",
    "\n",
    "# s={1,2,3}\n",
    "# t={2,4,6}\n",
    "# print(s.difference(t))\n",
    "\n",
    "# s={1,2,3}\n",
    "# t={2,4,6}\n",
    "# def udifference(coll1,coll2):\n",
    "#     return coll1-coll2\n",
    "# print(udifference(s,t))\n",
    "\n",
    "#difference update\n",
    "s={1,2,3}\n",
    "t={2,4,6}\n",
    "print(s)\n",
    "s.difference_update(t)\n",
    "print(s)\n",
    "\n",
    "\n",
    "s={1,2,3}\n",
    "t={2,4,6}\n",
    "print(s)\n",
    "def udifference_update(coll1,coll2):\n",
    "    coll1-=coll2\n",
    "    return coll1\n",
    "print(udifference_update(s,t))\n"
   ]
  },
  {
   "cell_type": "code",
   "execution_count": 57,
   "metadata": {},
   "outputs": [
    {
     "name": "stdout",
     "output_type": "stream",
     "text": [
      "{1, 2, 3}\n",
      "{1, 3, 4, 6}\n",
      "{1, 2, 3}\n",
      "{1, 3, 4, 6}\n"
     ]
    }
   ],
   "source": [
    "# # symmetric_difference\n",
    "# s={1,2,3}\n",
    "# t={2,4,6}\n",
    "# print(s.symmetric_difference(t))\n",
    "\n",
    "# s={1,2,3}\n",
    "# t={1,2,3,4}\n",
    "# print(s^t)\n",
    "\n",
    "#symmetric_difference_update\n",
    "s={1,2,3}\n",
    "t={2,4,6}\n",
    "print(s)\n",
    "s.symmetric_difference_update(t)\n",
    "print(s)\n",
    "\n",
    "s={1,2,3}\n",
    "t={2,4,6}\n",
    "def usymmetric_difference_update(coll1,coll2):\n",
    "    coll1^=coll2\n",
    "    return coll1\n",
    "print(s)\n",
    "usymmetric_difference_update(s,t)\n",
    "print(s)\n"
   ]
  },
  {
   "cell_type": "code",
   "execution_count": 66,
   "metadata": {},
   "outputs": [
    {
     "name": "stdout",
     "output_type": "stream",
     "text": [
      "{1, 2, 3, 4}\n",
      "{1, 2, 3, 4}\n"
     ]
    }
   ],
   "source": [
    "s={1,2,3}\n",
    "t={4,2,3}\n",
    "print(s.union(t))\n",
    "\n",
    "def uunion(coll1,coll2):\n",
    "    coll1=list(coll1)\n",
    "    for i in coll2:\n",
    "        if i not in coll1:\n",
    "            coll1+=[i]\n",
    "    return set(coll1)\n",
    "res=uunion(s,t)\n",
    "print(res)"
   ]
  },
  {
   "cell_type": "code",
   "execution_count": 69,
   "metadata": {},
   "outputs": [
    {
     "name": "stdout",
     "output_type": "stream",
     "text": [
      "{2}\n",
      "{2}\n"
     ]
    }
   ],
   "source": [
    "s={1,2,3}\n",
    "t={1,4,3}\n",
    "print(s.difference(t))\n",
    "\n",
    "def udifference(coll1,coll2):\n",
    "    l=[]\n",
    "    for i in coll1:\n",
    "        if i not in coll2:\n",
    "            l+=[i]\n",
    "    return set(l)\n",
    "print(udifference(s,t))"
   ]
  },
  {
   "cell_type": "code",
   "execution_count": 71,
   "metadata": {},
   "outputs": [
    {
     "name": "stdout",
     "output_type": "stream",
     "text": [
      "{1, 3}\n",
      "{1, 3}\n"
     ]
    }
   ],
   "source": [
    "s={1,2,3}\n",
    "t={1,4,3}\n",
    "print(s.intersection(t))\n",
    "\n",
    "def uintersection(coll1,coll2):\n",
    "    l=[]\n",
    "    for i in coll1:\n",
    "        if i in coll2:\n",
    "            l+=[i]\n",
    "    return set(l)\n",
    "print(uintersection(s,t))"
   ]
  },
  {
   "cell_type": "code",
   "execution_count": 73,
   "metadata": {},
   "outputs": [
    {
     "name": "stdout",
     "output_type": "stream",
     "text": [
      "{2, 4}\n",
      "{2, 4}\n"
     ]
    }
   ],
   "source": [
    "s={1,2,3}\n",
    "t={1,4,3}\n",
    "print(s.symmetric_difference(t))\n",
    "\n",
    "def usymmetric_difference(coll1,coll2):\n",
    "    l=[]\n",
    "    for i in coll1:\n",
    "        if i not in coll2:\n",
    "            l+=[i]\n",
    "    for i in coll2:\n",
    "        if i not in coll1:\n",
    "            l+=[i]\n",
    "    return set(l)\n",
    "res=usymmetric_difference(s,t)\n",
    "print(res)\n",
    "\n"
   ]
  },
  {
   "cell_type": "code",
   "execution_count": 30,
   "metadata": {},
   "outputs": [
    {
     "name": "stdout",
     "output_type": "stream",
     "text": [
      "{100, 20, 40, 10, 60}\n",
      "100\n",
      "{20, 40, 10, 60}\n",
      "------------------------------\n",
      "{80, 100, 20, 40, 10, 60} 3216225172416\n",
      "80\n",
      "{100, 20, 40, 10, 60} 3216225172416\n"
     ]
    }
   ],
   "source": [
    "s={10,20,40,60,100}\n",
    "print(s)\n",
    "print(s.pop())\n",
    "print(s)\n",
    "\n",
    "print('-'*30)\n",
    "\n",
    "\n",
    "s={10,20,40,60,100,80}\n",
    "print(s,id(s))\n",
    "def upop(coll):\n",
    "    l=list(coll)\n",
    "    res=l[0]\n",
    "    coll-={l[0]}\n",
    "    return res\n",
    "print(upop(s))\n",
    "print(s,id(s))"
   ]
  },
  {
   "cell_type": "code",
   "execution_count": 42,
   "metadata": {},
   "outputs": [
    {
     "name": "stdout",
     "output_type": "stream",
     "text": [
      "{40, 'str', 15.06}\n",
      "{40, 10, 'str', 15.06} 3216230663104\n",
      "{40, 'str', 15.06} 3216230663104\n"
     ]
    }
   ],
   "source": [
    "s={10,40,\"str\",15.06}\n",
    "s.remove(10)\n",
    "print(s)\n",
    "\n",
    "\n",
    "s={10,40,\"str\",15.06}\n",
    "print(s,id(s))\n",
    "def uremove(coll,ele):\n",
    "    if ele not in coll:\n",
    "        raise KeyError(\"given element is not available\")\n",
    "    coll-={ele}\n",
    "    return None\n",
    "uremove(s,10)\n",
    "print(s,id(s))\n"
   ]
  },
  {
   "cell_type": "code",
   "execution_count": 46,
   "metadata": {},
   "outputs": [
    {
     "name": "stdout",
     "output_type": "stream",
     "text": [
      "{40, 'str', 15.06}\n",
      "{40, 10, 'str', 15.06} 3216230671840\n",
      "{40, 'str', 15.06} 3216230671840\n"
     ]
    }
   ],
   "source": [
    "s={10,40,\"str\",15.06}\n",
    "s.discard(10)\n",
    "print(s)\n",
    "\n",
    "\n",
    "s={10,40,\"str\",15.06}\n",
    "print(s,id(s))\n",
    "def uremove(coll,ele):\n",
    "    coll-={ele}\n",
    "    return None\n",
    "uremove(s,10)\n",
    "print(s,id(s))"
   ]
  },
  {
   "cell_type": "code",
   "execution_count": 45,
   "metadata": {},
   "outputs": [
    {
     "name": "stdout",
     "output_type": "stream",
     "text": [
      "{'hello', '15.06', 10, True}\n"
     ]
    },
    {
     "ename": "KeyError",
     "evalue": "100",
     "output_type": "error",
     "traceback": [
      "\u001b[1;31m---------------------------------------------------------------------------\u001b[0m",
      "\u001b[1;31mKeyError\u001b[0m                                  Traceback (most recent call last)",
      "\u001b[1;32mc:\\Users\\QSP\\Documents\\python_programs\\batch-3.00-5.00\\loop.ipynb Cell 73\u001b[0m in \u001b[0;36m6\n\u001b[0;32m      <a href='vscode-notebook-cell:/c%3A/Users/QSP/Documents/python_programs/batch-3.00-5.00/loop.ipynb#Y132sZmlsZQ%3D%3D?line=2'>3</a>\u001b[0m \u001b[39mprint\u001b[39m(s)\n\u001b[0;32m      <a href='vscode-notebook-cell:/c%3A/Users/QSP/Documents/python_programs/batch-3.00-5.00/loop.ipynb#Y132sZmlsZQ%3D%3D?line=4'>5</a>\u001b[0m s\u001b[39m=\u001b[39m{\u001b[39m10\u001b[39m,\u001b[39m\"\u001b[39m\u001b[39mhello\u001b[39m\u001b[39m\"\u001b[39m,\u001b[39m'\u001b[39m\u001b[39m15.06\u001b[39m\u001b[39m'\u001b[39m,\u001b[39mTrue\u001b[39;00m}\n\u001b[1;32m----> <a href='vscode-notebook-cell:/c%3A/Users/QSP/Documents/python_programs/batch-3.00-5.00/loop.ipynb#Y132sZmlsZQ%3D%3D?line=5'>6</a>\u001b[0m s\u001b[39m.\u001b[39;49mremove(\u001b[39m100\u001b[39;49m)\n\u001b[0;32m      <a href='vscode-notebook-cell:/c%3A/Users/QSP/Documents/python_programs/batch-3.00-5.00/loop.ipynb#Y132sZmlsZQ%3D%3D?line=6'>7</a>\u001b[0m \u001b[39mprint\u001b[39m(s)\n",
      "\u001b[1;31mKeyError\u001b[0m: 100"
     ]
    }
   ],
   "source": [
    "s={10,\"hello\",'15.06',True}\n",
    "s.discard(100)\n",
    "print(s)\n",
    "\n",
    "s={10,\"hello\",'15.06',True}\n",
    "s.remove(100)\n",
    "print(s)"
   ]
  },
  {
   "cell_type": "code",
   "execution_count": 55,
   "metadata": {},
   "outputs": [
    {
     "name": "stdout",
     "output_type": "stream",
     "text": [
      "{'a': 10, 'b': 20, 'c': 30, 's': 10, 'e': 150}\n",
      "3216230222144\n",
      "3216230222144\n"
     ]
    }
   ],
   "source": [
    "d={'a':10,'b':20,'c':30}\n",
    "d.update({'s':10,'e':150})\n",
    "print(d)\n",
    "\n",
    "d={'a':10,'b':20,'c':30}\n",
    "def uupdate(coll,coll1):\n",
    "    for i in coll1:\n",
    "        coll[i]=coll1[i]\n",
    "uupdate(d,{'s':10,'e':150})\n"
   ]
  },
  {
   "cell_type": "code",
   "execution_count": 61,
   "metadata": {},
   "outputs": [
    {
     "name": "stdout",
     "output_type": "stream",
     "text": [
      "10\n",
      "10\n",
      "10\n"
     ]
    }
   ],
   "source": [
    "d={'a':10,'b':20,'c':30}\n",
    "print(d['a'])\n",
    "\n",
    "print(d.get('a'))\n",
    "\n",
    "\n",
    "def uget(coll,ele):\n",
    "    return coll[ele]\n",
    "print(uget(d,'a'))\n",
    "\n"
   ]
  },
  {
   "cell_type": "code",
   "execution_count": 81,
   "metadata": {},
   "outputs": [
    {
     "name": "stdout",
     "output_type": "stream",
     "text": [
      "100\n",
      "100\n",
      "{'a': 10, 'b': 20, 'c': 30, 'd': 100}\n"
     ]
    }
   ],
   "source": [
    "d={'a':10,'b':20,'c':30}\n",
    "print(d.setdefault('d',100))\n",
    "\n",
    "\n",
    "d={'a':10,'b':20,'c':30}\n",
    "def usetdefault(coll,key,ele=None):\n",
    "    if key in coll:\n",
    "        return coll[key]\n",
    "    else:\n",
    "        coll[key]=ele\n",
    "        return ele\n",
    "print(usetdefault(d,'d',100))\n",
    "print(d)\n",
    "\n",
    "\n"
   ]
  },
  {
   "cell_type": "code",
   "execution_count": 95,
   "metadata": {},
   "outputs": [
    {
     "name": "stdout",
     "output_type": "stream",
     "text": [
      "{'a': 10, 'b': 20, 'c': 30} 3216231717440\n",
      "10\n",
      "{'b': 20, 'c': 30} 3216231717440\n"
     ]
    }
   ],
   "source": [
    "# d={'a':10,'b':20,'c':30}\n",
    "# d.pop('e')\n",
    "# print(d)\n",
    "\n",
    "d={'a':10,'b':20,'c':30}\n",
    "print(d,id(d))\n",
    "def upop(coll,key):\n",
    "    if key not in coll:\n",
    "        raise KeyError(key)\n",
    "    res=coll[key]\n",
    "    del coll[key]\n",
    "    return res\n",
    "print(upop(d,'a'))\n",
    "print(d,id(d))"
   ]
  },
  {
   "cell_type": "code",
   "execution_count": 107,
   "metadata": {},
   "outputs": [
    {
     "name": "stdout",
     "output_type": "stream",
     "text": [
      "('c', 30)\n",
      "{'a': 10, 'b': 20}\n",
      "('a', 10)\n",
      "{'b': 20, 'c': 30}\n",
      "('c', 30)\n",
      "{'a': 10, 'b': 20}\n"
     ]
    }
   ],
   "source": [
    "d={'a':10,'b':20,'c':30}\n",
    "print(d.popitem())\n",
    "print(d)\n",
    "\n",
    "\n",
    "d={'a':10,'b':20,'c':30}\n",
    "def upopitem(coll):\n",
    "    if len(d)==0:\n",
    "        raise KeyError(\"no keys\")\n",
    "    for i in coll:\n",
    "        res=(i,coll[i])\n",
    "        del coll[i]\n",
    "        return res\n",
    "print(upopitem(d))\n",
    "print(d)\n",
    "\n",
    "\n",
    "\n",
    "d={'a':10,'b':20,'c':30}\n",
    "def upopitem(coll):\n",
    "    if len(d)==0:\n",
    "        raise KeyError(\"no keys\")\n",
    "    l=list(coll)\n",
    "    res=(l[-1],coll[l[-1]])\n",
    "    del coll[l[-1]]\n",
    "    return res\n",
    "print(upopitem(d))\n",
    "print(d)"
   ]
  },
  {
   "cell_type": "code",
   "execution_count": 6,
   "metadata": {},
   "outputs": [
    {
     "name": "stdout",
     "output_type": "stream",
     "text": [
      "['a', 'b', 'c', 'd']\n",
      "['a', 'b', 'c', 'd']\n"
     ]
    }
   ],
   "source": [
    "d={'a':10,'b':20,'c':30,'d':40}\n",
    "res=d.keys()\n",
    "res=list(res)\n",
    "print(res)\n",
    "\n",
    "\n",
    "\n",
    "def ukeys(coll):\n",
    "    return list(coll)\n",
    "print(ukeys(d))"
   ]
  },
  {
   "cell_type": "code",
   "execution_count": 8,
   "metadata": {},
   "outputs": [
    {
     "name": "stdout",
     "output_type": "stream",
     "text": [
      "[10, 20, 30, 40]\n",
      "[10, 20, 30, 40]\n"
     ]
    }
   ],
   "source": [
    "d={'a':10,'b':20,'c':30,'d':40}\n",
    "res=d.values()\n",
    "res=list(res)\n",
    "print(res)\n",
    "\n",
    "\n",
    "\n",
    "def ukeys(coll):\n",
    "    l=[]\n",
    "    for i in coll:\n",
    "        l+=[coll[i]]\n",
    "    return l\n",
    "print(ukeys(d))"
   ]
  },
  {
   "cell_type": "code",
   "execution_count": 10,
   "metadata": {},
   "outputs": [
    {
     "name": "stdout",
     "output_type": "stream",
     "text": [
      "[('a', 10), ('b', 20), ('c', 30), ('d', 40)]\n",
      "[('a', 10), ('b', 20), ('c', 30), ('d', 40)]\n"
     ]
    }
   ],
   "source": [
    "d={'a':10,'b':20,'c':30,'d':40}\n",
    "res=d.items()\n",
    "res=list(res)\n",
    "print(res)\n",
    "\n",
    "\n",
    "\n",
    "def ukeys(coll):\n",
    "    l=[]\n",
    "    for i in coll:\n",
    "        l+=[(i,coll[i])]\n",
    "    return l\n",
    "print(ukeys(d))"
   ]
  },
  {
   "cell_type": "code",
   "execution_count": 33,
   "metadata": {},
   "outputs": [
    {
     "name": "stdout",
     "output_type": "stream",
     "text": [
      "{'a': 10}\n"
     ]
    },
    {
     "data": {
      "text/plain": [
       "{'a': 10}"
      ]
     },
     "execution_count": 33,
     "metadata": {},
     "output_type": "execute_result"
    }
   ],
   "source": [
    "d={}\n",
    "res=d.fromkeys('a',10)\n",
    "print(res)\n",
    "\n",
    "\n",
    "def ufromkeys(coll,value):\n",
    "    d={}\n",
    "    for i in coll:\n",
    "        d[i]=value\n",
    "    return d\n",
    "ufromkeys('a',10)"
   ]
  },
  {
   "cell_type": "code",
   "execution_count": 38,
   "metadata": {},
   "outputs": [
    {
     "name": "stdout",
     "output_type": "stream",
     "text": [
      "{'a': 10, 'b': 20, 'c': 30} 2469731382144\n",
      "{} 2469731382144\n",
      "{'a': 10, 'b': 20, 'c': 30} 2469736946048\n",
      "{} 2469736946048\n"
     ]
    }
   ],
   "source": [
    "d={'a':10,'b':20,'c':30}\n",
    "print(d,id(d))\n",
    "d.clear()\n",
    "print(d,id(d))\n",
    "\n",
    "d={'a':10,'b':20,'c':30}\n",
    "print(d,id(d))\n",
    "def uclear(coll):\n",
    "    l=list(coll)\n",
    "    for i in l:\n",
    "        del coll[i]\n",
    "    return coll\n",
    "uclear(d)\n",
    "print(d,id(d))\n"
   ]
  },
  {
   "cell_type": "code",
   "execution_count": 1,
   "metadata": {},
   "outputs": [
    {
     "name": "stdout",
     "output_type": "stream",
     "text": [
      "30\n",
      "None\n"
     ]
    }
   ],
   "source": [
    "def add():\n",
    "    a=10\n",
    "    b=20\n",
    "    c=a+b\n",
    "    print(c)\n",
    "print(add())"
   ]
  },
  {
   "cell_type": "code",
   "execution_count": 2,
   "metadata": {},
   "outputs": [
    {
     "name": "stdout",
     "output_type": "stream",
     "text": [
      "30\n"
     ]
    }
   ],
   "source": [
    "def add(a,b):\n",
    "    c=a+b\n",
    "    print(c)\n",
    "add(10,20)"
   ]
  },
  {
   "cell_type": "code",
   "execution_count": 4,
   "metadata": {},
   "outputs": [
    {
     "name": "stdout",
     "output_type": "stream",
     "text": [
      "30\n"
     ]
    }
   ],
   "source": [
    "def add():\n",
    "    a=10\n",
    "    b=20\n",
    "    c=a+b\n",
    "    return c\n",
    "res=add()\n",
    "print(res)"
   ]
  },
  {
   "cell_type": "code",
   "execution_count": 23,
   "metadata": {},
   "outputs": [
    {
     "name": "stdout",
     "output_type": "stream",
     "text": [
      "{'a': 'abc', 'b': 123}\n",
      "{'a': 'efg', 'b': 456}\n",
      "correct\n"
     ]
    }
   ],
   "source": [
    "d=[{'a':'abc','b':123},{'a':'efg','b':456},{'a':'ijk','b':789}]\n",
    "name='efg'\n",
    "pas=456\n",
    "def login(d,name,pas):\n",
    "    for i in range(0,len(d)):\n",
    "        print(d[i])\n",
    "        if d[i]['a']!=name and d[i]['b']!=pas:\n",
    "            pass\n",
    "        else:\n",
    "            if d[i]['a']==name:\n",
    "                if d[i]['b']==pas:\n",
    "                    return 'correct'\n",
    "                else:\n",
    "                    return \"password incorrect\"\n",
    "            else:\n",
    "                return 'username incorrcet'\n",
    "    else:\n",
    "        return \"username  and password in corrcet\"\n",
    "print(login(d,name,pas))"
   ]
  },
  {
   "cell_type": "code",
   "execution_count": 27,
   "metadata": {},
   "outputs": [
    {
     "name": "stdout",
     "output_type": "stream",
     "text": [
      "{'a': 'abc', 'b': 123}\n"
     ]
    }
   ],
   "source": [
    "d=[{'a':'abc','b':123},{'a':'efg','b':456},{'a':'ijk','b':789}]\n",
    "\n",
    "start=0\n",
    "while start<len(d):\n",
    "    print(d[start])\n",
    "    break\n",
    "else:\n",
    "    print(\"haii\")"
   ]
  }
 ],
 "metadata": {
  "kernelspec": {
   "display_name": "Python 3",
   "language": "python",
   "name": "python3"
  },
  "language_info": {
   "codemirror_mode": {
    "name": "ipython",
    "version": 3
   },
   "file_extension": ".py",
   "mimetype": "text/x-python",
   "name": "python",
   "nbconvert_exporter": "python",
   "pygments_lexer": "ipython3",
   "version": "3.11.3"
  },
  "orig_nbformat": 4
 },
 "nbformat": 4,
 "nbformat_minor": 2
}
