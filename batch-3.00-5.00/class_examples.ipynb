{
 "cells": [
  {
   "cell_type": "code",
   "execution_count": 4,
   "metadata": {},
   "outputs": [
    {
     "name": "stdout",
     "output_type": "stream",
     "text": [
      "{'__module__': '__main__', 'college_name': 'PYSPIDERS', 'college_address': 'HYD', '__dict__': <attribute '__dict__' of 'student' objects>, '__weakref__': <attribute '__weakref__' of 'student' objects>, '__doc__': None}\n",
      "PYSPIDERS\n",
      "HYD\n"
     ]
    }
   ],
   "source": [
    "class student:\n",
    "    college_name=\"PYSPIDERS\"\n",
    "    college_address=\"HYD\"\n",
    "\n",
    "print(student.__dict__)\n",
    "print(student.college_name)\n",
    "print(student.college_address)"
   ]
  },
  {
   "cell_type": "code",
   "execution_count": 5,
   "metadata": {},
   "outputs": [
    {
     "name": "stdout",
     "output_type": "stream",
     "text": [
      "{'__module__': '__main__', 'college_name': 'PYSPIDERS', 'college_address': 'HYD', 'display': <function student.display at 0x0000021F165CC5E0>, '__dict__': <attribute '__dict__' of 'student' objects>, '__weakref__': <attribute '__weakref__' of 'student' objects>, '__doc__': None}\n",
      "PYSPIDERS HYD\n"
     ]
    }
   ],
   "source": [
    "class student:\n",
    "    college_name=\"PYSPIDERS\"\n",
    "    college_address=\"HYD\"\n",
    "    def display():\n",
    "        print(student.college_name,student.college_address)\n",
    "\n",
    "student.display()"
   ]
  },
  {
   "cell_type": "code",
   "execution_count": 10,
   "metadata": {},
   "outputs": [
    {
     "name": "stdout",
     "output_type": "stream",
     "text": [
      "PYSPIDERS HYD\n"
     ]
    }
   ],
   "source": [
    "class student:\n",
    "    college_name=\"PYSPIDERS\"\n",
    "    college_address=\"HYD\"\n",
    "\n",
    "    @classmethod\n",
    "    def display(cls):\n",
    "        print(cls.college_name,cls.college_address)\n",
    "\n",
    "ramu=student()\n",
    "ramu.display() #===>student.display(ramu)"
   ]
  },
  {
   "cell_type": "code",
   "execution_count": null,
   "metadata": {},
   "outputs": [],
   "source": []
  }
 ],
 "metadata": {
  "kernelspec": {
   "display_name": "Python 3",
   "language": "python",
   "name": "python3"
  },
  "language_info": {
   "codemirror_mode": {
    "name": "ipython",
    "version": 3
   },
   "file_extension": ".py",
   "mimetype": "text/x-python",
   "name": "python",
   "nbconvert_exporter": "python",
   "pygments_lexer": "ipython3",
   "version": "3.11.3"
  },
  "orig_nbformat": 4
 },
 "nbformat": 4,
 "nbformat_minor": 2
}
