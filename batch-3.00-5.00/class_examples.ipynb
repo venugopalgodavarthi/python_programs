{
 "cells": [
  {
   "cell_type": "code",
   "execution_count": 4,
   "metadata": {},
   "outputs": [
    {
     "name": "stdout",
     "output_type": "stream",
     "text": [
      "{'__module__': '__main__', 'college_name': 'PYSPIDERS', 'college_address': 'HYD', '__dict__': <attribute '__dict__' of 'student' objects>, '__weakref__': <attribute '__weakref__' of 'student' objects>, '__doc__': None}\n",
      "PYSPIDERS\n",
      "HYD\n"
     ]
    }
   ],
   "source": [
    "class student:\n",
    "    college_name=\"PYSPIDERS\"\n",
    "    college_address=\"HYD\"\n",
    "\n",
    "print(student.__dict__)\n",
    "print(student.college_name)\n",
    "print(student.college_address)"
   ]
  },
  {
   "cell_type": "code",
   "execution_count": 5,
   "metadata": {},
   "outputs": [
    {
     "name": "stdout",
     "output_type": "stream",
     "text": [
      "{'__module__': '__main__', 'college_name': 'PYSPIDERS', 'college_address': 'HYD', 'display': <function student.display at 0x0000021F165CC5E0>, '__dict__': <attribute '__dict__' of 'student' objects>, '__weakref__': <attribute '__weakref__' of 'student' objects>, '__doc__': None}\n",
      "PYSPIDERS HYD\n"
     ]
    }
   ],
   "source": [
    "class student:\n",
    "    college_name=\"PYSPIDERS\"\n",
    "    college_address=\"HYD\"\n",
    "    def display():\n",
    "        print(student.college_name,student.college_address)\n",
    "\n",
    "student.display()"
   ]
  },
  {
   "cell_type": "code",
   "execution_count": 10,
   "metadata": {},
   "outputs": [
    {
     "name": "stdout",
     "output_type": "stream",
     "text": [
      "PYSPIDERS HYD\n"
     ]
    }
   ],
   "source": [
    "class student:\n",
    "    college_name=\"PYSPIDERS\"\n",
    "    college_address=\"HYD\"\n",
    "\n",
    "    @classmethod\n",
    "    def display(cls):\n",
    "        print(cls.college_name,cls.college_address)\n",
    "\n",
    "ramu=student()\n",
    "ramu.display() #===>student.display(ramu)"
   ]
  },
  {
   "cell_type": "code",
   "execution_count": 31,
   "metadata": {},
   "outputs": [],
   "source": [
    "class Laptop:\n",
    "    model=\"HP\"\n",
    "    def __init__(self,rom,ram):\n",
    "        self.ram = ram\n",
    "        self.rom = rom\n",
    "\n",
    "    @classmethod\n",
    "    def modify_model(cls,ele):\n",
    "        cls.model=ele\n",
    "\n",
    "    def modify_ram(self,ele):\n",
    "        self.ram=ele\n",
    "\n",
    "    @staticmethod\n",
    "    def add(a,b):\n",
    "        return a+b\n",
    "\n",
    "        \n",
    "hp1=Laptop(\"1tb\",\"16gb\")\n",
    "hp2=Laptop('512gb','8gb')"
   ]
  },
  {
   "cell_type": "code",
   "execution_count": 34,
   "metadata": {},
   "outputs": [
    {
     "name": "stdout",
     "output_type": "stream",
     "text": [
      "30\n",
      "300\n"
     ]
    }
   ],
   "source": [
    "print(Laptop.add(10,20))\n",
    "print(hp1.add(100,200))"
   ]
  },
  {
   "cell_type": "code",
   "execution_count": 25,
   "metadata": {},
   "outputs": [],
   "source": [
    "Laptop.modify_ram(hp1,\"5gb\")\n",
    "\n",
    "# print(hp1.ram)\n",
    "# hp1.modify_ram(\"10gb\")\n",
    "# print(hp1.ram)\n",
    "\n",
    "# print(hp2.ram)\n",
    "# hp2.modify_ram(\"10gb\")\n",
    "# print(hp2.ram)\n"
   ]
  },
  {
   "cell_type": "code",
   "execution_count": 14,
   "metadata": {},
   "outputs": [
    {
     "name": "stdout",
     "output_type": "stream",
     "text": [
      "HP\n",
      "HP\n"
     ]
    }
   ],
   "source": [
    "print(Laptop.model)\n",
    "# Laptop.modify_model(\"DELL\")\n",
    "hp1.modify_model(\"LENOVO\")\n",
    "print(Laptop.model)\n",
    "\n"
   ]
  },
  {
   "cell_type": "code",
   "execution_count": 15,
   "metadata": {},
   "outputs": [
    {
     "name": "stdout",
     "output_type": "stream",
     "text": [
      "{'__module__': '__main__', 'model': 'HP', '__init__': <function Laptop.__init__ at 0x0000026F035485E0>, 'modify_model': <function Laptop.modify_model at 0x0000026F0354A660>, '__dict__': <attribute '__dict__' of 'Laptop' objects>, '__weakref__': <attribute '__weakref__' of 'Laptop' objects>, '__doc__': None}\n",
      "{'ram': '16gb', 'rom': '1tb', 'model': 'LENOVO'}\n",
      "{'ram': '8gb', 'rom': '512gb'}\n"
     ]
    }
   ],
   "source": [
    "print(Laptop.__dict__)\n",
    "print(hp1.__dict__)\n",
    "print(hp2.__dict__)"
   ]
  },
  {
   "cell_type": "code",
   "execution_count": 30,
   "metadata": {},
   "outputs": [
    {
     "name": "stdout",
     "output_type": "stream",
     "text": [
      "1000\n",
      "Your amount is credited\n",
      "2500\n",
      "3000\n"
     ]
    }
   ],
   "source": [
    "class bank:\n",
    "    bank_name=\"SBI\"\n",
    "    bank_code=841\n",
    "    IFSC=\"SBIN000841\"\n",
    "    branch_address=\"NELLORE\"\n",
    "    no_of_cust=0\n",
    "    cust_details={}\n",
    "    def __init__(self,name,dob,gender,mobile, email,aadhar,pan,type_account,bal=0):\n",
    "        self.c_name=name\n",
    "        self.c_dob=dob\n",
    "        self.c_gender=gender\n",
    "        self.c_mobile=mobile\n",
    "        self.c_email=email\n",
    "        self.c_aadhar=aadhar\n",
    "        self.c_pan=pan\n",
    "        self.c_type_account=type_account\n",
    "        self.c_bal=bal\n",
    "        self.cust_inc()\n",
    "        self.c_acc_no=\"0000841752\"+str(self.no_of_cust)\n",
    "        self.cust_store_details(self.c_acc_no,self)\n",
    "    \n",
    "    def deposit(self,amount):\n",
    "        if amount<0:\n",
    "            return \"Balance amount should be more than Zero.\"\n",
    "        else:\n",
    "            self.c_bal+=amount\n",
    "            print(\"Your amount is credited\")\n",
    "\n",
    "    def withdraw(self,amount):\n",
    "        Acc_id=input(\"enter the account number:\")\n",
    "        phone=int(input(\"enter the phone number:\"))\n",
    "        if self.c_acc_no==Acc_id and self.c_mobile==phone:\n",
    "                if amount<=self.c_bal:\n",
    "                    self.c_bal-=amount\n",
    "                    print(\"Take your amount\")\n",
    "                    print(\"Remaining Balnace\",self.c_bal)\n",
    "                    print(\"Your transcation is success\")\n",
    "                    return \n",
    "                else:\n",
    "                    print(\"insufficient balance.\")\n",
    "        else:\n",
    "            print(\"ACCOUNT DETAILS IS NOT FOUND\")\n",
    "\n",
    "    @classmethod\n",
    "    def cust_inc(cls):\n",
    "        cls.no_of_cust+=1\n",
    "\n",
    "    @classmethod\n",
    "    def cust_store_details(cls,acc_no,data):\n",
    "        if acc_no not in cls.cust_details:\n",
    "            cls.cust_details[acc_no]=data\n",
    "\n",
    "\n",
    "    def modify_email(self):\n",
    "        email=input(\"enter the new email:\")\n",
    "        self.c_email=email\n",
    "        print(\"Email is updated\")\n",
    "\n",
    "\n",
    "    def delete_pan(self):\n",
    "        del self.c_pan\n",
    "        print(\"pan card details is deleted\")\n",
    "\n",
    "\n",
    "    @staticmethod\n",
    "    def percentage(amount,per):\n",
    "        return (per/100)*amount\n",
    "\n",
    "\n",
    "\n",
    "ramya=bank(\"ramya\",\"26-6-1996\",\"Female\",9933771155,'ramya@gmail.com',998877445566,\"ABCD070A150\",'Saving',1000)\n",
    "print(ramya.c_bal)\n",
    "ramya.deposit(1500)\n",
    "print(ramya.c_bal)\n",
    "\n",
    "\n",
    "pavan=bank(\"pavan\",\"5-7-1999\",\"Male\",9989165291,'pavan@gmail.com',9988774455888,\"EFGD070A150\",'Saving',3000)\n",
    "print(pavan.c_bal)\n",
    "\n"
   ]
  },
  {
   "cell_type": "code",
   "execution_count": null,
   "metadata": {},
   "outputs": [],
   "source": []
  },
  {
   "cell_type": "code",
   "execution_count": 31,
   "metadata": {},
   "outputs": [
    {
     "name": "stdout",
     "output_type": "stream",
     "text": [
      "1505.6000000000001\n",
      "1505.6000000000001\n"
     ]
    }
   ],
   "source": [
    "print(bank.percentage(15056,10))\n",
    "\n",
    "print(pavan.percentage(15056,10))"
   ]
  },
  {
   "cell_type": "code",
   "execution_count": 24,
   "metadata": {},
   "outputs": [
    {
     "name": "stdout",
     "output_type": "stream",
     "text": [
      "EFGD070A150\n",
      "pan card details is deleted\n"
     ]
    },
    {
     "ename": "AttributeError",
     "evalue": "'bank' object has no attribute 'c_pan'",
     "output_type": "error",
     "traceback": [
      "\u001b[1;31m---------------------------------------------------------------------------\u001b[0m",
      "\u001b[1;31mAttributeError\u001b[0m                            Traceback (most recent call last)",
      "\u001b[1;32mc:\\Users\\QSP\\Documents\\python_programs\\batch-3.00-5.00\\class_examples.ipynb Cell 10\u001b[0m in \u001b[0;36m3\n\u001b[0;32m      <a href='vscode-notebook-cell:/c%3A/Users/QSP/Documents/python_programs/batch-3.00-5.00/class_examples.ipynb#X16sZmlsZQ%3D%3D?line=0'>1</a>\u001b[0m \u001b[39mprint\u001b[39m(pavan\u001b[39m.\u001b[39mc_pan)\n\u001b[0;32m      <a href='vscode-notebook-cell:/c%3A/Users/QSP/Documents/python_programs/batch-3.00-5.00/class_examples.ipynb#X16sZmlsZQ%3D%3D?line=1'>2</a>\u001b[0m pavan\u001b[39m.\u001b[39mdelete_pan()\n\u001b[1;32m----> <a href='vscode-notebook-cell:/c%3A/Users/QSP/Documents/python_programs/batch-3.00-5.00/class_examples.ipynb#X16sZmlsZQ%3D%3D?line=2'>3</a>\u001b[0m \u001b[39mprint\u001b[39m(pavan\u001b[39m.\u001b[39;49mc_pan)\n",
      "\u001b[1;31mAttributeError\u001b[0m: 'bank' object has no attribute 'c_pan'"
     ]
    }
   ],
   "source": [
    "print(pavan.c_pan)\n",
    "pavan.delete_pan()\n",
    "print(pavan.c_pan)\n"
   ]
  },
  {
   "cell_type": "code",
   "execution_count": null,
   "metadata": {},
   "outputs": [],
   "source": []
  },
  {
   "cell_type": "code",
   "execution_count": 17,
   "metadata": {},
   "outputs": [
    {
     "name": "stdout",
     "output_type": "stream",
     "text": [
      "pavankumar@gmail.com\n",
      "Email is updated\n",
      "Pavankalyan@gmail.com\n"
     ]
    }
   ],
   "source": [
    "print(pavan.c_email)\n",
    "\n",
    "pavan.modify_email()\n",
    "\n",
    "print(pavan.c_email)"
   ]
  },
  {
   "cell_type": "code",
   "execution_count": null,
   "metadata": {},
   "outputs": [],
   "source": [
    "#pavan.withdraw(1500)"
   ]
  },
  {
   "cell_type": "code",
   "execution_count": 3,
   "metadata": {},
   "outputs": [
    {
     "data": {
      "text/plain": [
       "1500"
      ]
     },
     "execution_count": 3,
     "metadata": {},
     "output_type": "execute_result"
    }
   ],
   "source": [
    "pavan.c_bal"
   ]
  },
  {
   "cell_type": "code",
   "execution_count": 13,
   "metadata": {},
   "outputs": [
    {
     "name": "stdout",
     "output_type": "stream",
     "text": [
      "{'c_name': 'ramya', 'c_dob': '26-6-1996', 'c_gender': 'Female', 'c_mobile': 9933771155, 'c_email': 'ramya@gmail.com', 'c_aadhar': 998877445566, 'c_pan': 'ABCD070A150', 'c_type_account': 'Saving', 'c_bal': 2500, 'c_acc_no': '00008417521'}\n"
     ]
    }
   ],
   "source": [
    "\n",
    "n=input(\"Enter the account number\")\n",
    "if n in bank.cust_details:\n",
    "    print(bank.cust_details[n].__dict__)\n",
    "else:\n",
    "    print(f\"Given account is {n} not exist \")"
   ]
  },
  {
   "cell_type": "code",
   "execution_count": 5,
   "metadata": {},
   "outputs": [
    {
     "name": "stdout",
     "output_type": "stream",
     "text": [
      "1000 2000\n",
      "1000 2000\n",
      "None\n"
     ]
    }
   ],
   "source": [
    "class parent:\n",
    "    a=1000\n",
    "    b=2000\n",
    "\n",
    "    @classmethod\n",
    "    def display(cls):\n",
    "        print(cls.a,cls.b)\n",
    "\n",
    "print(parent.a,parent.b)\n",
    "parent.display()"
   ]
  },
  {
   "cell_type": "code",
   "execution_count": 8,
   "metadata": {},
   "outputs": [
    {
     "name": "stdout",
     "output_type": "stream",
     "text": [
      "1000 2000 3000 4000\n",
      "1000 2000\n"
     ]
    }
   ],
   "source": [
    "class child(parent):\n",
    "    c=3000\n",
    "    d=4000\n",
    "\n",
    "print(child.a,child.b,child.c,child.d)\n",
    "child.display()"
   ]
  },
  {
   "cell_type": "code",
   "execution_count": 9,
   "metadata": {},
   "outputs": [
    {
     "ename": "AttributeError",
     "evalue": "type object 'parent' has no attribute 'c'",
     "output_type": "error",
     "traceback": [
      "\u001b[1;31m---------------------------------------------------------------------------\u001b[0m",
      "\u001b[1;31mAttributeError\u001b[0m                            Traceback (most recent call last)",
      "\u001b[1;32mc:\\Users\\QSP\\Documents\\python_programs\\batch-3.00-5.00\\class_examples.ipynb Cell 20\u001b[0m in \u001b[0;36m1\n\u001b[1;32m----> <a href='vscode-notebook-cell:/c%3A/Users/QSP/Documents/python_programs/batch-3.00-5.00/class_examples.ipynb#X25sZmlsZQ%3D%3D?line=0'>1</a>\u001b[0m parent\u001b[39m.\u001b[39;49mc\n",
      "\u001b[1;31mAttributeError\u001b[0m: type object 'parent' has no attribute 'c'"
     ]
    }
   ],
   "source": [
    "parent.c"
   ]
  }
 ],
 "metadata": {
  "kernelspec": {
   "display_name": "Python 3",
   "language": "python",
   "name": "python3"
  },
  "language_info": {
   "codemirror_mode": {
    "name": "ipython",
    "version": 3
   },
   "file_extension": ".py",
   "mimetype": "text/x-python",
   "name": "python",
   "nbconvert_exporter": "python",
   "pygments_lexer": "ipython3",
   "version": "3.11.4"
  },
  "orig_nbformat": 4
 },
 "nbformat": 4,
 "nbformat_minor": 2
}
