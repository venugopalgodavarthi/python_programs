{
 "cells": [
  {
   "cell_type": "code",
   "execution_count": 3,
   "metadata": {},
   "outputs": [
    {
     "name": "stdout",
     "output_type": "stream",
     "text": [
      "<class '__main__.sample'>\n",
      "{'__module__': '__main__', '__dict__': <attribute '__dict__' of 'sample' objects>, '__weakref__': <attribute '__weakref__' of 'sample' objects>, '__doc__': None}\n"
     ]
    }
   ],
   "source": [
    "class sample:\n",
    "    pass\n",
    "print(sample)\n",
    "print(sample.__dict__)\n"
   ]
  },
  {
   "cell_type": "code",
   "execution_count": 4,
   "metadata": {},
   "outputs": [
    {
     "name": "stdout",
     "output_type": "stream",
     "text": [
      "30\n"
     ]
    }
   ],
   "source": [
    "a=10\n",
    "b=20\n",
    "c=a+b\n",
    "print(c)"
   ]
  },
  {
   "cell_type": "code",
   "execution_count": 6,
   "metadata": {},
   "outputs": [
    {
     "name": "stdout",
     "output_type": "stream",
     "text": [
      "30\n"
     ]
    }
   ],
   "source": [
    "a=10\n",
    "b=20\n",
    "def add(a,b):\n",
    "    c=a+b\n",
    "    print(c)\n",
    "add(a,b)"
   ]
  },
  {
   "cell_type": "code",
   "execution_count": 10,
   "metadata": {},
   "outputs": [
    {
     "name": "stdout",
     "output_type": "stream",
     "text": [
      "30\n",
      "h\n",
      "a\n",
      "i\n",
      "i\n"
     ]
    }
   ],
   "source": [
    "class sample:\n",
    "    a=10\n",
    "    b=20\n",
    "    c=a+b\n",
    "    print(c)\n",
    "    for i in \"haii\":\n",
    "        print(i)"
   ]
  },
  {
   "attachments": {},
   "cell_type": "markdown",
   "metadata": {},
   "source": []
  },
  {
   "cell_type": "code",
   "execution_count": 9,
   "metadata": {},
   "outputs": [
    {
     "name": "stdout",
     "output_type": "stream",
     "text": [
      "30\n"
     ]
    }
   ],
   "source": [
    "class sample:\n",
    "    a=10\n",
    "    b=20\n",
    "    def add(a,b):\n",
    "        c=a+b\n",
    "        print(c)\n",
    "    \n",
    "sample.add(a,b)"
   ]
  },
  {
   "cell_type": "code",
   "execution_count": 11,
   "metadata": {},
   "outputs": [
    {
     "name": "stdout",
     "output_type": "stream",
     "text": [
      "BANAGARAM BANAGARAM BANAGARAM BANAGARAM BANAGARAM\n",
      "{'__module__': '__main__', 'surname': 'BANAGARAM', 'address': 'HYD', 'landline': 99887771122, 'ration': 'WAP07100900001', 'healthcard': '133207805', '__dict__': <attribute '__dict__' of 'family' objects>, '__weakref__': <attribute '__weakref__' of 'family' objects>, '__doc__': None}\n",
      "{'__module__': '__main__', 'surname': 'pyspiders', 'address': 'HYD', 'landline': 99887771122, 'ration': 'WAP07100900001', 'healthcard': '133207805', '__dict__': <attribute '__dict__' of 'family' objects>, '__weakref__': <attribute '__weakref__' of 'family' objects>, '__doc__': None}\n",
      "pyspiders pyspiders pyspiders pyspiders pyspiders\n",
      "{}\n",
      "{'surname': 'qspiders'}\n",
      "pyspiders pyspiders pyspiders pyspiders qspiders\n",
      "HYD HYD HYD HYD HYD\n",
      "99887771122 99887771122 99887771122 99887771122 99887771122\n",
      "WAP07100900001 WAP07100900001 WAP07100900001 WAP07100900001 WAP07100900001\n",
      "133207805 133207805 133207805 133207805 133207805\n"
     ]
    }
   ],
   "source": [
    "class family:\n",
    "    surname=\"BANAGARAM\"\n",
    "    address= \"HYD\"\n",
    "    landline=99887771122\n",
    "    ration=\"WAP07100900001\"\n",
    "    healthcard='133207805'\n",
    "\n",
    "father=family()\n",
    "mother=family()\n",
    "son=family()\n",
    "daughter=family()\n",
    "\n",
    "print(family.surname,father.surname,mother.surname,son.surname,daughter.surname)\n",
    "print(family.__dict__)\n",
    "family.surname='pyspiders'\n",
    "print(family.__dict__)\n",
    "print(family.surname,father.surname,mother.surname,son.surname,daughter.surname)\n",
    "print(daughter.__dict__)\n",
    "daughter.surname=\"qspiders\"\n",
    "print(daughter.__dict__)\n",
    "print(family.surname,father.surname,mother.surname,son.surname,daughter.surname)\n",
    "print(family.address,father.address,mother.address,son.address,daughter.address)\n",
    "print(family.landline,father.landline,mother.landline,son.landline,daughter.landline)\n",
    "print(family.ration,father.ration,mother.ration,son.ration,daughter.ration)\n",
    "print(family.healthcard,father.healthcard,mother.healthcard,son.healthcard,daughter.healthcard)\n"
   ]
  },
  {
   "cell_type": "code",
   "execution_count": null,
   "metadata": {},
   "outputs": [],
   "source": []
  },
  {
   "cell_type": "code",
   "execution_count": 7,
   "metadata": {},
   "outputs": [
    {
     "name": "stdout",
     "output_type": "stream",
     "text": [
      "10\n",
      "20\n",
      "150\n",
      "160\n"
     ]
    }
   ],
   "source": [
    "class sample:\n",
    "    x=10\n",
    "    y=20\n",
    "print(sample.x)\n",
    "print(sample.y)\n",
    "\n",
    "sample.x=150\n",
    "\n",
    "print(sample.x)\n",
    "\n",
    "sample.z=160\n",
    "\n",
    "del sample.y\n",
    "print(sample.z)\n",
    "\n",
    "\n",
    "\n",
    "\n"
   ]
  },
  {
   "cell_type": "code",
   "execution_count": 12,
   "metadata": {},
   "outputs": [
    {
     "name": "stdout",
     "output_type": "stream",
     "text": [
      "{'__module__': '__main__', 'x': 10, 'y': 20, '__dict__': <attribute '__dict__' of 'sample' objects>, '__weakref__': <attribute '__weakref__' of 'sample' objects>, '__doc__': None}\n",
      "{}\n",
      "10 20\n"
     ]
    },
    {
     "ename": "AttributeError",
     "evalue": "'sample' object has no attribute 'x'",
     "output_type": "error",
     "traceback": [
      "\u001b[1;31m---------------------------------------------------------------------------\u001b[0m",
      "\u001b[1;31mAttributeError\u001b[0m                            Traceback (most recent call last)",
      "\u001b[1;32mc:\\Users\\QSP\\Documents\\python_programs\\batch-3.00-5.00\\class_object.ipynb Cell 9\u001b[0m in \u001b[0;36m1\n\u001b[0;32m      <a href='vscode-notebook-cell:/c%3A/Users/QSP/Documents/python_programs/batch-3.00-5.00/class_object.ipynb#X11sZmlsZQ%3D%3D?line=8'>9</a>\u001b[0m \u001b[39mprint\u001b[39m(obj\u001b[39m.\u001b[39mx,obj\u001b[39m.\u001b[39my)\n\u001b[0;32m     <a href='vscode-notebook-cell:/c%3A/Users/QSP/Documents/python_programs/batch-3.00-5.00/class_object.ipynb#X11sZmlsZQ%3D%3D?line=10'>11</a>\u001b[0m \u001b[39m# obj.x=1000\u001b[39;00m\n\u001b[1;32m---> <a href='vscode-notebook-cell:/c%3A/Users/QSP/Documents/python_programs/batch-3.00-5.00/class_object.ipynb#X11sZmlsZQ%3D%3D?line=11'>12</a>\u001b[0m \u001b[39mdel\u001b[39;00m obj\u001b[39m.\u001b[39;49mx\n\u001b[0;32m     <a href='vscode-notebook-cell:/c%3A/Users/QSP/Documents/python_programs/batch-3.00-5.00/class_object.ipynb#X11sZmlsZQ%3D%3D?line=12'>13</a>\u001b[0m \u001b[39mprint\u001b[39m(sample\u001b[39m.\u001b[39m\u001b[39m__dict__\u001b[39m)\n\u001b[0;32m     <a href='vscode-notebook-cell:/c%3A/Users/QSP/Documents/python_programs/batch-3.00-5.00/class_object.ipynb#X11sZmlsZQ%3D%3D?line=13'>14</a>\u001b[0m \u001b[39mprint\u001b[39m(obj\u001b[39m.\u001b[39m\u001b[39m__dict__\u001b[39m)\n",
      "\u001b[1;31mAttributeError\u001b[0m: 'sample' object has no attribute 'x'"
     ]
    }
   ],
   "source": [
    "class sample:\n",
    "    x=10\n",
    "    y=20\n",
    "\n",
    "obj=sample()\n",
    "print(sample.__dict__)\n",
    "print(obj.__dict__)\n",
    "\n",
    "print(obj.x,obj.y)\n",
    "\n",
    "# obj.x=1000\n",
    "# del obj.x\n",
    "print(sample.__dict__)\n",
    "print(obj.__dict__)"
   ]
  },
  {
   "cell_type": "code",
   "execution_count": 24,
   "metadata": {},
   "outputs": [
    {
     "name": "stdout",
     "output_type": "stream",
     "text": [
      "{'__module__': '__main__', '__dict__': <attribute '__dict__' of 'demo' objects>, '__weakref__': <attribute '__weakref__' of 'demo' objects>, '__doc__': None}\n",
      "{}\n",
      "{'m': 100, 'n': 200}\n",
      "100 200\n",
      "{'m': 'hello', 'n': 200}\n",
      "{'n': 200}\n",
      "{}\n",
      "{'m': 1500, 'n': 2500}\n",
      "{}\n",
      "{'m': 1500, 'n': 2500}\n"
     ]
    }
   ],
   "source": [
    "class demo:\n",
    "    pass\n",
    "obj=demo()\n",
    "print(demo.__dict__)\n",
    "print(obj.__dict__)\n",
    "obj.m=100\n",
    "obj.n=200\n",
    "print(obj.__dict__)\n",
    "print(obj.m,obj.n)\n",
    "obj.m=\"hello\"\n",
    "print(obj.__dict__)\n",
    "del obj.m\n",
    "print(obj.__dict__)\n",
    "\n",
    "abc=demo()\n",
    "print(abc.__dict__)\n",
    "abc.m=1500\n",
    "abc.n=2500\n",
    "print(abc.__dict__)\n",
    "\n",
    "qrs=demo()\n",
    "print(qrs.__dict__)\n",
    "qrs.m=1500\n",
    "qrs.n=2500\n",
    "print(qrs.__dict__)\n"
   ]
  },
  {
   "cell_type": "code",
   "execution_count": 4,
   "metadata": {},
   "outputs": [
    {
     "name": "stdout",
     "output_type": "stream",
     "text": [
      "<class '__main__.sample'>\n",
      "<__main__.sample object at 0x0000017BB73B1050>\n",
      "10 20\n"
     ]
    }
   ],
   "source": [
    "class sample:\n",
    "    a=10\n",
    "    b=20\n",
    "obj=sample()\n",
    "print(sample)\n",
    "print(obj)\n",
    "obj.m=10\n",
    "obj.n=20\n",
    "print(obj.m,obj.n)"
   ]
  },
  {
   "cell_type": "code",
   "execution_count": 10,
   "metadata": {},
   "outputs": [
    {
     "name": "stdout",
     "output_type": "stream",
     "text": [
      "{'name': 'Srinu', 'age': 46}\n",
      "{'name': 'roja', 'age': 44}\n",
      "{'name': 'Sai', 'age': 24}\n",
      "{'name': 'madhu', 'age': 24}\n"
     ]
    }
   ],
   "source": [
    "#initializating the specific states by using default method\n",
    "class family:\n",
    "    surname=\"pys\"\n",
    "    \n",
    "father=family()\n",
    "father.name=\"Srinu\"\n",
    "father.age=46\n",
    "print(father.__dict__)\n",
    "\n",
    "mother=family()\n",
    "mother.name=\"roja\"\n",
    "mother.age=44\n",
    "print(mother.__dict__)\n",
    "\n",
    "son=family()\n",
    "son.name=\"Sai\"\n",
    "son.age=24\n",
    "print(son.__dict__)\n",
    "\n",
    "daughter=family()\n",
    "daughter.name=\"madhu\"\n",
    "daughter.age=24\n",
    "print(daughter.__dict__)\n",
    "\n"
   ]
  },
  {
   "cell_type": "code",
   "execution_count": 14,
   "metadata": {},
   "outputs": [
    {
     "name": "stdout",
     "output_type": "stream",
     "text": [
      "{'name': 'srinu', 'age': 46}\n",
      "{'name': 'roja', 'age': 46}\n",
      "{'name': 'sai', 'age': 46}\n",
      "{'name': 'madhu', 'age': 46}\n"
     ]
    }
   ],
   "source": [
    "#initializating the specific states by using function.\n",
    "# this function is present in outside of the class\n",
    "class family:\n",
    "    surname=\"pys\"\n",
    "\n",
    "def create(obj,name,age):\n",
    "    obj.name=name\n",
    "    obj.age=age\n",
    "\n",
    "father=family()\n",
    "create(father,\"srinu\",46)\n",
    "print(father.__dict__)\n",
    "\n",
    "mother=family()\n",
    "create(mother,\"roja\",46)\n",
    "print(mother.__dict__)\n",
    "\n",
    "son=family()\n",
    "create(son,\"sai\",46)\n",
    "print(son.__dict__)\n",
    "\n",
    "daughter=family()\n",
    "create(daughter,\"madhu\",46)\n",
    "print(daughter.__dict__)"
   ]
  },
  {
   "cell_type": "code",
   "execution_count": 15,
   "metadata": {},
   "outputs": [
    {
     "name": "stdout",
     "output_type": "stream",
     "text": [
      "{'name': 'srinu', 'age': 46}\n",
      "{'name': 'roja', 'age': 46}\n",
      "{'name': 'sai', 'age': 46}\n",
      "{'name': 'madhu', 'age': 46}\n"
     ]
    }
   ],
   "source": [
    "#initializing the specific states by using function/method.\n",
    "# this method  is present in inside of the class\n",
    "class family:\n",
    "    surname=\"pys\"\n",
    "    def create(obj,name,age):\n",
    "        obj.name=name\n",
    "        obj.age=age\n",
    "\n",
    "father=family()\n",
    "#the calling create method by using class address/name\n",
    "family.create(father,\"srinu\",46)\n",
    "print(father.__dict__)\n",
    "\n",
    "mother=family()\n",
    "family.create(mother,\"roja\",46)\n",
    "print(mother.__dict__)\n",
    "\n",
    "son=family()\n",
    "family.create(son,\"sai\",46)\n",
    "print(son.__dict__)\n",
    "\n",
    "daughter=family()\n",
    "family.create(daughter,\"madhu\",46)\n",
    "print(daughter.__dict__)"
   ]
  },
  {
   "cell_type": "code",
   "execution_count": 20,
   "metadata": {},
   "outputs": [
    {
     "name": "stdout",
     "output_type": "stream",
     "text": [
      "{'name': 'srinu', 'age': 46}\n",
      "{'name': 'roja', 'age': 46}\n",
      "{'name': 'sai', 'age': 46}\n",
      "{'name': 'madhu', 'age': 46}\n"
     ]
    }
   ],
   "source": [
    "#initializating the specific states by using function/method.\n",
    "# this method  is present in inside of the class\n",
    "class family:\n",
    "    surname=\"pys\"\n",
    "    def create(obj,name,age):\n",
    "        obj.name=name\n",
    "        obj.age=age\n",
    "\n",
    "father=family()\n",
    "#the calling create method by using object address/name\n",
    "father.create(\"srinu\",46)  #==>family.create(father,'srinu',46)\n",
    "print(father.__dict__)\n",
    "\n",
    "mother=family()\n",
    "mother.create(\"roja\",46)\n",
    "print(mother.__dict__)\n",
    "\n",
    "son=family()\n",
    "son.create(\"sai\",46)\n",
    "print(son.__dict__)\n",
    "\n",
    "daughter=family()\n",
    "daughter.create(\"madhu\",46)\n",
    "print(daughter.__dict__)"
   ]
  },
  {
   "cell_type": "code",
   "execution_count": 22,
   "metadata": {},
   "outputs": [
    {
     "name": "stdout",
     "output_type": "stream",
     "text": [
      "{'name': 'srinu', 'age': 44}\n",
      "{'name': 'roja', 'age': 42}\n",
      "{'name': 'sai', 'age': 22}\n",
      "{'name': 'madhu', 'age': 20}\n"
     ]
    }
   ],
   "source": [
    "#initializating the specific states by using predefine initialization/constructor method\n",
    "# this method is present in inside of the class\n",
    "class family:\n",
    "    def __init__(obj,name,age):\n",
    "        obj.name=name\n",
    "        obj.age=age\n",
    "\n",
    "#in one statement it will create the object as well as initilaize the specific states.\n",
    "father=family('srinu',44)   #dynamically calling the initialization method\n",
    "                            #father=family.__init__(family(),\"srinu\",46)\n",
    "print(father.__dict__)\n",
    "\n",
    "mother=family('roja',42)\n",
    "print(mother.__dict__)\n",
    "\n",
    "son=family('sai',22)\n",
    "print(son.__dict__)\n",
    "\n",
    "daughter=family('madhu',20)\n",
    "print(daughter.__dict__)"
   ]
  },
  {
   "cell_type": "code",
   "execution_count": 26,
   "metadata": {},
   "outputs": [
    {
     "name": "stdout",
     "output_type": "stream",
     "text": [
      "name: srinu age: 44\n",
      "name: roja age: 42\n",
      "name: sai age: 22\n",
      "name: madhu age: 20\n"
     ]
    }
   ],
   "source": [
    "\n",
    "class family:\n",
    "    def __init__(obj,name,age):\n",
    "        obj.name=name\n",
    "        obj.age=age\n",
    "\n",
    "    def display_details(obj):\n",
    "        print(\"name:\",obj.name,\"age:\",obj.age)\n",
    "\n",
    "father=family('srinu',44)\n",
    "father.display_details()\n",
    "\n",
    "mother=family('roja',42)\n",
    "mother.display_details()\n",
    "\n",
    "son=family('sai',22)\n",
    "son.display_details()\n",
    "\n",
    "daughter=family('madhu',20)\n",
    "daughter.display_details()"
   ]
  },
  {
   "cell_type": "code",
   "execution_count": 25,
   "metadata": {},
   "outputs": [
    {
     "name": "stdout",
     "output_type": "stream",
     "text": [
      "100\n",
      "50\n",
      "1600\n",
      "{'__module__': '__main__', 'x': 50, 'display': <classmethod(<function sample.display at 0x000001EB715E2DE0>)>, 'modify': <classmethod(<function sample.modify at 0x000001EB715E2E80>)>, 'delete': <classmethod(<function sample.delete at 0x000001EB715E2F20>)>, 'create': <classmethod(<function sample.create at 0x000001EB715E2FC0>)>, '__dict__': <attribute '__dict__' of 'sample' objects>, '__weakref__': <attribute '__weakref__' of 'sample' objects>, '__doc__': None, 'other': 1600}\n"
     ]
    }
   ],
   "source": [
    "class sample:\n",
    "    x=100\n",
    "\n",
    "    @classmethod\n",
    "    def display(cls):\n",
    "        return cls.x\n",
    "    \n",
    "    @classmethod\n",
    "    def modify(cls,ele):\n",
    "        cls.x=ele\n",
    "\n",
    "    @classmethod\n",
    "    def delete(cls):\n",
    "        del cls.x\n",
    "\n",
    "    @classmethod\n",
    "    def create(cls,ele):\n",
    "        cls.other=ele\n",
    "    \n",
    "print(sample.display())\n",
    "sample.modify(50)\n",
    "print(sample.display())\n",
    "# sample.delete()\n",
    "# print(sample.display())\n",
    "sample.create(1600)\n",
    "print(sample.other)\n",
    "print(sample.__dict__)"
   ]
  },
  {
   "cell_type": "code",
   "execution_count": 6,
   "metadata": {},
   "outputs": [
    {
     "name": "stdout",
     "output_type": "stream",
     "text": [
      "100\n",
      "150\n",
      "150\n"
     ]
    },
    {
     "data": {
      "text/plain": [
       "560"
      ]
     },
     "execution_count": 6,
     "metadata": {},
     "output_type": "execute_result"
    }
   ],
   "source": [
    "class sample:\n",
    "    x=100\n",
    "\n",
    "    @classmethod\n",
    "    def display(cls):\n",
    "        print(cls.x)\n",
    "\n",
    "    @classmethod\n",
    "    def modify(cls,ele):\n",
    "        cls.x=ele\n",
    "\n",
    "    @classmethod\n",
    "    def delete(cls):\n",
    "        del cls.x\n",
    "\n",
    "    @classmethod\n",
    "    def create(cls,ele):\n",
    "        cls.other=ele\n",
    "\n",
    "\n",
    "sample.display()\n",
    "sample.modify(150)\n",
    "sample.display()\n",
    "# sample.delete()\n",
    "sample.create(560)\n",
    "sample.display()\n",
    "sample.other\n",
    "\n"
   ]
  },
  {
   "cell_type": "code",
   "execution_count": 9,
   "metadata": {},
   "outputs": [
    {
     "name": "stdout",
     "output_type": "stream",
     "text": [
      "100\n",
      "150\n",
      "150\n",
      "{'__module__': '__main__', 'x': 150, 'display': <classmethod(<function sample.display at 0x00000151A690E700>)>, 'modify': <classmethod(<function sample.modify at 0x00000151A690E7A0>)>, 'delete': <classmethod(<function sample.delete at 0x00000151A690E840>)>, 'create': <classmethod(<function sample.create at 0x00000151A690E8E0>)>, '__dict__': <attribute '__dict__' of 'sample' objects>, '__weakref__': <attribute '__weakref__' of 'sample' objects>, '__doc__': None, 'other': 560}\n",
      "{}\n"
     ]
    }
   ],
   "source": [
    "class sample:\n",
    "    x=100\n",
    "\n",
    "    @classmethod\n",
    "    def display(cls):\n",
    "        print(cls.x)\n",
    "\n",
    "    @classmethod\n",
    "    def modify(cls,ele):\n",
    "        cls.x=ele\n",
    "\n",
    "    @classmethod\n",
    "    def delete(cls):\n",
    "        del cls.x\n",
    "\n",
    "    @classmethod\n",
    "    def create(cls,ele):\n",
    "        cls.other=ele\n",
    "\n",
    "obj=sample()\n",
    "\n",
    "obj.display()\n",
    "obj.modify(150)\n",
    "obj.display()\n",
    "# obj.delete()\n",
    "obj.create(560)\n",
    "obj.display()\n",
    "obj.other\n",
    "print(sample.__dict__)\n",
    "print(obj.__dict__)"
   ]
  },
  {
   "cell_type": "code",
   "execution_count": 11,
   "metadata": {},
   "outputs": [
    {
     "name": "stdout",
     "output_type": "stream",
     "text": [
      "100\n",
      "150\n",
      "150\n",
      "{'__module__': '__main__', 'x': 100, 'display': <function sample.display at 0x00000151A6415580>, 'modify': <function sample.modify at 0x00000151A6416980>, 'delete': <function sample.delete at 0x00000151A6416A20>, 'create': <function sample.create at 0x00000151A64165C0>, '__dict__': <attribute '__dict__' of 'sample' objects>, '__weakref__': <attribute '__weakref__' of 'sample' objects>, '__doc__': None}\n",
      "{'x': 150, 'other': 560}\n"
     ]
    }
   ],
   "source": [
    "class sample:\n",
    "    x=100\n",
    "\n",
    "    def display(cls):\n",
    "        print(cls.x)\n",
    "\n",
    "    def modify(cls,ele):\n",
    "        cls.x=ele\n",
    "\n",
    "    def delete(cls):\n",
    "        del cls.x\n",
    "\n",
    "    def create(cls,ele):\n",
    "        cls.other=ele\n",
    "\n",
    "obj=sample()\n",
    "\n",
    "obj.display()\n",
    "obj.modify(150)\n",
    "obj.display()\n",
    "# obj.delete()\n",
    "obj.create(560)\n",
    "obj.display()\n",
    "obj.other\n",
    "print(sample.__dict__)\n",
    "print(obj.__dict__)"
   ]
  },
  {
   "cell_type": "code",
   "execution_count": null,
   "metadata": {},
   "outputs": [],
   "source": []
  }
 ],
 "metadata": {
  "kernelspec": {
   "display_name": "Python 3",
   "language": "python",
   "name": "python3"
  },
  "language_info": {
   "codemirror_mode": {
    "name": "ipython",
    "version": 3
   },
   "file_extension": ".py",
   "mimetype": "text/x-python",
   "name": "python",
   "nbconvert_exporter": "python",
   "pygments_lexer": "ipython3",
   "version": "3.11.3"
  },
  "orig_nbformat": 4
 },
 "nbformat": 4,
 "nbformat_minor": 2
}
