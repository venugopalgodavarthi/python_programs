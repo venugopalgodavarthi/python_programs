{
 "cells": [
  {
   "cell_type": "code",
   "execution_count": 1,
   "metadata": {},
   "outputs": [],
   "source": [
    "class sample:\n",
    "    pass"
   ]
  },
  {
   "cell_type": "code",
   "execution_count": 3,
   "metadata": {},
   "outputs": [
    {
     "name": "stdout",
     "output_type": "stream",
     "text": [
      "<class '__main__.sample'>\n"
     ]
    }
   ],
   "source": [
    "print(sample)"
   ]
  },
  {
   "cell_type": "code",
   "execution_count": 6,
   "metadata": {},
   "outputs": [
    {
     "name": "stdout",
     "output_type": "stream",
     "text": [
      "<class 'type'>\n",
      "<class 'type'>\n"
     ]
    }
   ],
   "source": [
    "print(type(sample))\n",
    "print(type(type))"
   ]
  },
  {
   "cell_type": "code",
   "execution_count": 7,
   "metadata": {},
   "outputs": [
    {
     "data": {
      "text/plain": [
       "mappingproxy({'__module__': '__main__',\n",
       "              '__dict__': <attribute '__dict__' of 'sample' objects>,\n",
       "              '__weakref__': <attribute '__weakref__' of 'sample' objects>,\n",
       "              '__doc__': None})"
      ]
     },
     "execution_count": 7,
     "metadata": {},
     "output_type": "execute_result"
    }
   ],
   "source": [
    "sample.__dict__\n"
   ]
  },
  {
   "cell_type": "code",
   "execution_count": 1,
   "metadata": {},
   "outputs": [],
   "source": [
    "class demo:\n",
    "    pass"
   ]
  },
  {
   "cell_type": "code",
   "execution_count": null,
   "metadata": {},
   "outputs": [],
   "source": []
  },
  {
   "cell_type": "code",
   "execution_count": 2,
   "metadata": {},
   "outputs": [
    {
     "data": {
      "text/plain": [
       "mappingproxy({'__module__': '__main__',\n",
       "              '__dict__': <attribute '__dict__' of 'demo' objects>,\n",
       "              '__weakref__': <attribute '__weakref__' of 'demo' objects>,\n",
       "              '__doc__': None})"
      ]
     },
     "execution_count": 2,
     "metadata": {},
     "output_type": "execute_result"
    }
   ],
   "source": [
    "demo.__dict__"
   ]
  },
  {
   "cell_type": "code",
   "execution_count": 9,
   "metadata": {},
   "outputs": [],
   "source": [
    "#initialization of the static states\n",
    "#method:1 \n",
    "class apple:  #directly initialize the static states inside the class\n",
    "    a=100\n",
    "    b=200\n",
    "    c=300\n",
    "\n",
    "#method:2\n",
    "class sample: #initialize the static states outside of the class by using class address\n",
    "    pass\n",
    "sample.a=100  #classaddress.variablename=value\n",
    "sample.b=200\n",
    "sample.c=300\n",
    "\n",
    "#method:3 \n",
    "class demo:  #defining the class\n",
    "    pass\n",
    "\n",
    "def create_static(cls): #initialize the static states outside of the class by using function with class address\n",
    "    cls.a=100  #classaddress.variablename=value\n",
    "    cls.b=200\n",
    "    cls.c=300\n",
    "create_static(demo)\n",
    "\n",
    "#method:4\n",
    "class pen:  \n",
    "    def create_static(cls): #initialize the static states inside the class by using static method with class address\n",
    "        cls.a=100   #classaddress.variablename=value\n",
    "        cls.b=200\n",
    "        cls.c=300\n",
    "pen.create_static(pen)\n",
    "\n",
    "\n",
    "#method:5\n",
    "class mobile:\n",
    "    @classmethod  #decorating the method by the help of classmethod(dynamically it will assign the class address)\n",
    "    def create_static(cls): #initialize the static states inside the class by using classmethod decorator\n",
    "        cls.a=100   #classaddress.variablename=value\n",
    "        cls.b=200\n",
    "        cls.c=300   #cls argument holds the current class address\n",
    "mobile.create_static()\n"
   ]
  },
  {
   "cell_type": "code",
   "execution_count": null,
   "metadata": {},
   "outputs": [],
   "source": []
  },
  {
   "cell_type": "code",
   "execution_count": 10,
   "metadata": {},
   "outputs": [
    {
     "name": "stdout",
     "output_type": "stream",
     "text": [
      "{'__module__': '__main__', 'a': 100, 'b': 200, 'c': 300, '__dict__': <attribute '__dict__' of 'apple' objects>, '__weakref__': <attribute '__weakref__' of 'apple' objects>, '__doc__': None}\n",
      "{'__module__': '__main__', '__dict__': <attribute '__dict__' of 'sample' objects>, '__weakref__': <attribute '__weakref__' of 'sample' objects>, '__doc__': None, 'a': 100, 'b': 200, 'c': 300}\n",
      "{'__module__': '__main__', '__dict__': <attribute '__dict__' of 'demo' objects>, '__weakref__': <attribute '__weakref__' of 'demo' objects>, '__doc__': None, 'a': 100, 'b': 200, 'c': 300}\n",
      "{'__module__': '__main__', 'create_static': <function pen.create_static at 0x000001B8CE17A660>, '__dict__': <attribute '__dict__' of 'pen' objects>, '__weakref__': <attribute '__weakref__' of 'pen' objects>, '__doc__': None, 'a': 100, 'b': 200, 'c': 300}\n",
      "{'__module__': '__main__', 'create_static': <classmethod(<function mobile.create_static at 0x000001B8CE17A700>)>, '__dict__': <attribute '__dict__' of 'mobile' objects>, '__weakref__': <attribute '__weakref__' of 'mobile' objects>, '__doc__': None, 'a': 100, 'b': 200, 'c': 300}\n"
     ]
    }
   ],
   "source": [
    "print(apple.__dict__)\n",
    "print(sample.__dict__)\n",
    "print(demo.__dict__)\n",
    "print(pen.__dict__)\n",
    "print(mobile.__dict__)"
   ]
  },
  {
   "cell_type": "code",
   "execution_count": 25,
   "metadata": {},
   "outputs": [],
   "source": [
    "class mobile:    #in this method dynamically initialize the static state inside the class\n",
    "    company_name=\"oneplus\"\n",
    "    tollno=\"1800 999 111\"\n",
    "    os=\"oxyzen os\"\n",
    "    usb_type=\"USB-C\"\n",
    "    case=\"clear case\"\n",
    "    sim_slot=\"hybrid\"\n",
    "\n",
    "\n",
    "class onemobile1: \n",
    "    @classmethod\n",
    "    def create(cls):\n",
    "        cls.company_name=\"oneplus\"\n",
    "        cls.tollno=\"1800 999 111\"\n",
    "        cls.os=\"oxyzen os\"\n",
    "        cls.usb_type=\"USB-C\"\n",
    "        cls.case=\"clear case\"\n",
    "        cls.sim_slot=\"hybrid\"\n",
    "onemobile1.create()   #classname.functionname(classname)\n",
    "#in this method when we call the classmethod then only it will intialize the static states inside the class"
   ]
  },
  {
   "cell_type": "code",
   "execution_count": 26,
   "metadata": {},
   "outputs": [
    {
     "name": "stdout",
     "output_type": "stream",
     "text": [
      "{'__module__': '__main__', 'company_name': 'oneplus', 'tollno': '1800 999 111', 'os': 'oxyzen os', 'usb_type': 'USB-C', 'case': 'clear case', 'sim_slot': 'hybrid', '__dict__': <attribute '__dict__' of 'mobile' objects>, '__weakref__': <attribute '__weakref__' of 'mobile' objects>, '__doc__': None}\n",
      "{'__module__': '__main__', 'create': <classmethod(<function onemobile1.create at 0x000001B8CE6B3EC0>)>, '__dict__': <attribute '__dict__' of 'onemobile1' objects>, '__weakref__': <attribute '__weakref__' of 'onemobile1' objects>, '__doc__': None, 'company_name': 'oneplus', 'tollno': '1800 999 111', 'os': 'oxyzen os', 'usb_type': 'USB-C', 'case': 'clear case', 'sim_slot': 'hybrid'}\n"
     ]
    }
   ],
   "source": [
    "print(mobile.__dict__)\n",
    "print(onemobile1.__dict__)"
   ]
  },
  {
   "cell_type": "code",
   "execution_count": 36,
   "metadata": {},
   "outputs": [
    {
     "name": "stdout",
     "output_type": "stream",
     "text": [
      "oneplus 1800 999 111 oxyzen os USB-C clear case hybrid\n",
      "oneplus 1800 999 111 oxyzen os USB-C clear case hybrid\n",
      "oneplus 1800 999 111 oxyzen os USB-C clear case hybrid\n",
      "oneplus 1800 999 111 oxyzen os USB-C clear case hybrid\n"
     ]
    }
   ],
   "source": [
    "#method1:\n",
    "class mobile:    #in this method dynamically fetch the static state inside the class\n",
    "    company_name=\"oneplus\"\n",
    "    tollno=\"1800 999 111\"\n",
    "    os=\"oxyzen os\"\n",
    "    usb_type=\"USB-C\"\n",
    "    case=\"clear case\"\n",
    "    sim_slot=\"hybrid\"\n",
    "    print(company_name,tollno,os,usb_type,case,sim_slot)\n",
    "\n",
    "#method2:\n",
    "class mobile:    #in this method fetch the static state outside the class by using class address\n",
    "    company_name=\"oneplus\"\n",
    "    tollno=\"1800 999 111\"\n",
    "    os=\"oxyzen os\"\n",
    "    usb_type=\"USB-C\"\n",
    "    case=\"clear case\"\n",
    "    sim_slot=\"hybrid\"\n",
    "print(mobile.company_name,mobile.tollno,mobile.os,mobile.usb_type,mobile.case,mobile.sim_slot)\n",
    "\n",
    "\n",
    "#method3:\n",
    "class mobile12:    #in this method  fetch the static state's inside the class by using staticmethod.\n",
    "    company_name=\"oneplus\"\n",
    "    tollno=\"1800 999 111\"\n",
    "    os=\"oxyzen os\"\n",
    "    usb_type=\"USB-C\"\n",
    "    case=\"clear case\"\n",
    "    sim_slot=\"hybrid\"\n",
    "    def display(cls): #passing the class address manually through function call\n",
    "        print(cls.company_name,cls.tollno,cls.os,cls.usb_type,cls.case,cls.sim_slot)\n",
    "mobile12.display(mobile12) #calling the staticmethod and passing the class address inside the method.\n",
    "\n",
    "\n",
    "#method4:\n",
    "class mobile34:    #in this method fetch the static state inside the class by using classmethod decorator.\n",
    "    company_name=\"oneplus\"\n",
    "    tollno=\"1800 999 111\"\n",
    "    os=\"oxyzen os\"\n",
    "    usb_type=\"USB-C\"\n",
    "    case=\"clear case\"\n",
    "    sim_slot=\"hybrid\"\n",
    "\n",
    "    @classmethod  #dynamically assign the classaddress inside the class method by using classmethod decorator\n",
    "    def display(cls):\n",
    "        print(cls.company_name,cls.tollno,cls.os,cls.usb_type,cls.case,cls.sim_slot)\n",
    "mobile34.display() #calling the class method outside of the class by using class address "
   ]
  },
  {
   "cell_type": "code",
   "execution_count": 41,
   "metadata": {},
   "outputs": [
    {
     "name": "stdout",
     "output_type": "stream",
     "text": [
      "oneplus 1800 999 111 oxyzen os\n",
      "oneplus 1800 999 9999 oxyzen light os\n",
      "---------------------------------\n",
      "oneplus 1800 999 111 oxyzen os USB-C clear case hybrid\n",
      "oneplus 1800 999 8888 windows os USB-C clear case hybrid\n"
     ]
    }
   ],
   "source": [
    "#method1:\n",
    "class mobile:    #in this method dynamically modify the static state inside the class\n",
    "    company_name=\"oneplus\"\n",
    "    tollno=\"1800 999 111\"\n",
    "    os=\"oxyzen os\"\n",
    "    print(company_name,tollno,os)\n",
    "    tollno=\"1800 999 9999\"\n",
    "    os=\"oxyzen light os\"\n",
    "    print(company_name,tollno,os)\n",
    "\n",
    "#method2:\n",
    "class mobile:    #in this method, modify the static state outside the class by using classaddress.\n",
    "    company_name=\"oneplus\"\n",
    "    tollno=\"1800 999 111\"\n",
    "    os=\"oxyzen os\"\n",
    "    print(company_name,tollno,os)\n",
    "\n",
    "mobile.tollno=\"1800 999 9999\"\n",
    "mobile.os=\"oxyzen light os\"\n",
    "print(mobile.company_name,mobile.tollno,mobile.os)\n",
    "\n",
    "\n",
    "print(\"-\"*33)\n",
    "\n",
    "#method3:\n",
    "class mobile34:    #in this method modify the static state inside the class by using classmethod decorator.\n",
    "    company_name=\"oneplus\"\n",
    "    tollno=\"1800 999 111\"  #dynamically initialize the static states inside the class.\n",
    "    os=\"oxyzen os\"\n",
    "    usb_type=\"USB-C\"\n",
    "    case=\"clear case\"\n",
    "    sim_slot=\"hybrid\"\n",
    "\n",
    "    @classmethod  #dynamically assign the classaddress inside the class method by using classmethod decorator\n",
    "    def display(cls):  #fetch the values\n",
    "        print(cls.company_name,cls.tollno,cls.os,cls.usb_type,cls.case,cls.sim_slot)\n",
    "\n",
    "    @classmethod\n",
    "    def modify(cls):  #modify the static state inside the class by using classmethod decorator\n",
    "        cls.tollno=\"1800 999 8888\"   #classaddress.variablename = new value\n",
    "        cls.os=\"windows os\"\n",
    "\n",
    "mobile34.display() #calling the class method outside of the class by using class address \n",
    "mobile34.modify()  #classaddress.functionname(classaddress)\n",
    "mobile34.display()"
   ]
  },
  {
   "cell_type": "code",
   "execution_count": 45,
   "metadata": {},
   "outputs": [
    {
     "name": "stdout",
     "output_type": "stream",
     "text": [
      "oneplus oxyzen os USB-C clear case hybrid\n",
      "oneplus oxyzen os USB-C clear case hybrid\n"
     ]
    }
   ],
   "source": [
    "#method1:\n",
    "class mobile:    #in this method dynamically delete the static state inside the class\n",
    "    company_name=\"oneplus\"\n",
    "    tollno=\"1800 999 111\"\n",
    "    os=\"oxyzen os\"\n",
    "    print(company_name,tollno,os)\n",
    "    del tollno  #delete the static state\n",
    "    print(company_name,tollno,os)\n",
    "\n",
    "#method2:\n",
    "class mobile:    #in this method, delete the static state outside the class by using classaddress.\n",
    "    company_name=\"oneplus\"\n",
    "    tollno=\"1800 999 111\"\n",
    "    os=\"oxyzen os\"\n",
    "    print(company_name,tollno,os)\n",
    "\n",
    "del mobile.tollno\n",
    "print(mobile.company_name,mobile.tollno,mobile.os)\n",
    "\n",
    "\n",
    "# print(\"-\"*33)\n",
    "\n",
    "#method3:\n",
    "class mobile34:    #in this method delete the static state inside the class by using classmethod decorator.\n",
    "    company_name=\"oneplus\"\n",
    "    tollno=\"1800 999 111\"  #dynamically initialize the static states inside the class.\n",
    "    os=\"oxyzen os\"\n",
    "    usb_type=\"USB-C\"\n",
    "    case=\"clear case\"\n",
    "    sim_slot=\"hybrid\"\n",
    "\n",
    "    @classmethod  #dynamically assign the classaddress inside the class method by using classmethod decorator\n",
    "    def display(cls):  #fetch the values\n",
    "        print(cls.company_name,cls.os,cls.usb_type,cls.case,cls.sim_slot)\n",
    "\n",
    "    @classmethod\n",
    "    def delete(cls):  #delete the static state inside the class by using classmethod decorator\n",
    "        del cls.tollno   # del classaddress.variablename\n",
    "\n",
    "mobile34.display() #calling the class method outside of the class by using class address \n",
    "mobile34.delete()  #classaddress.functionname(classaddress)\n",
    "mobile34.display()"
   ]
  },
  {
   "cell_type": "code",
   "execution_count": 16,
   "metadata": {},
   "outputs": [],
   "source": [
    "class college:\n",
    "    colg_name=\"CMR COLLEGE\"\n",
    "    address=\"HYD\"\n",
    "    land_no=9966887744\n",
    "    colg_code=\"CMR123\"\n",
    "    office_email=\"cmr@edu.in\"\n",
    "    website=\"http://www.cmr.edu.in/home/\"\n",
    "\n",
    "    @classmethod\n",
    "    def display_class(cls):\n",
    "        print(\"College Name     :\",cls.colg_name)\n",
    "        print(\"College Address  :\",cls.address)\n",
    "        print(\"College Land_no  :\",cls.land_no)\n",
    "        print(\"College Colg_code:\",cls.colg_code)\n",
    "        print(\"College EMAIL    :\",cls.office_email)\n",
    "        print(\"College Website  :\",cls.website)\n",
    "\n",
    "    @classmethod\n",
    "    def modify_class(cls):\n",
    "        print(\"1:COLLEGE NAME\\n2:ADDRESS\\n3:LAND_NO\\n4:COLG_CODE\\n5:EMAIL\\n6:WEBSITE\\n7:Exit\")\n",
    "        n=int(input(\"CHOOSE THE OPTION: \"))\n",
    "        match n:\n",
    "            case 1:\n",
    "                cls.colg_name=input(\"Enter the NAME:\")\n",
    "            case 2:\n",
    "                cls.address=input(\"Enter the Address:\")\n",
    "            case 3:\n",
    "                cls.land_no=input(\"Enter the LAND NO:\")\n",
    "            case 4:\n",
    "                cls.colg_code=input(\"Enter the COLG CODE:\")\n",
    "            case 5:\n",
    "                cls.office_email=input(\"Enter the EMAIl:\")\n",
    "            case 6:\n",
    "                cls.website=input(\"Enter the WEBSITE:\")\n",
    "            case 7:\n",
    "                return \n",
    "            case _:\n",
    "                print(\"EXIT\")\n",
    "                cls.modify_class()\n",
    "\n",
    "    @classmethod\n",
    "    def delete_class(cls):\n",
    "        print(\"1:COLLEGE NAME\\n2:ADDRESS\\n3:LAND_NO\\n4:COLG_CODE\\n5:EMAIL\\n6:WEBSITE\\n7:Exit\")\n",
    "        n=int(input(\"CHOOSE THE OPTION: \"))\n",
    "        match n:\n",
    "            case 1:\n",
    "                del cls.colg_name\n",
    "            case 2:\n",
    "                del cls.address\n",
    "            case 3:\n",
    "                del cls.land_no\n",
    "            case 4:\n",
    "                del cls.colg_code\n",
    "            case 5:\n",
    "                del cls.office_email\n",
    "            case 6:\n",
    "                del cls.website\n",
    "            case 7:\n",
    "                return \n",
    "            case _:\n",
    "                print(\"EXIT\")\n",
    "                cls.delete_class()\n",
    "\n",
    "    @classmethod\n",
    "    def create_attr(cls):\n",
    "        ele=input(\"enter the value\")\n",
    "        cls.no_of_staff=ele\n",
    "\n",
    "# college.display_class()\n",
    "# college.modify_class()\n",
    "# college.delete_class()\n",
    "college.create_attr()\n",
    "        \n",
    "\n"
   ]
  },
  {
   "cell_type": "code",
   "execution_count": null,
   "metadata": {},
   "outputs": [],
   "source": []
  },
  {
   "cell_type": "code",
   "execution_count": 17,
   "metadata": {},
   "outputs": [
    {
     "data": {
      "text/plain": [
       "mappingproxy({'__module__': '__main__',\n",
       "              'colg_name': 'CMR COLLEGE',\n",
       "              'address': 'HYD',\n",
       "              'land_no': 9966887744,\n",
       "              'colg_code': 'CMR123',\n",
       "              'office_email': 'cmr@edu.in',\n",
       "              'website': 'http://www.cmr.edu.in/home/',\n",
       "              'display_class': <classmethod(<function college.display_class at 0x00000209E8E57060>)>,\n",
       "              'modify_class': <classmethod(<function college.modify_class at 0x00000209E8E572E0>)>,\n",
       "              'delete_class': <classmethod(<function college.delete_class at 0x00000209E8E574C0>)>,\n",
       "              'create_attr': <classmethod(<function college.create_attr at 0x00000209E8E57380>)>,\n",
       "              '__dict__': <attribute '__dict__' of 'college' objects>,\n",
       "              '__weakref__': <attribute '__weakref__' of 'college' objects>,\n",
       "              '__doc__': None,\n",
       "              'no_of_staff': '156'})"
      ]
     },
     "execution_count": 17,
     "metadata": {},
     "output_type": "execute_result"
    }
   ],
   "source": [
    "college.__dict__"
   ]
  },
  {
   "cell_type": "code",
   "execution_count": 37,
   "metadata": {},
   "outputs": [],
   "source": [
    "# method1:\n",
    "class bank:\n",
    "    b_name=\"sbi\"\n",
    "    ifsc=\"sbin000841\"\n",
    "    address=\"hyd\"\n",
    "obj1=bank()  #object creation\n",
    "obj1.name=\"sai\"  #initialize the non static states outside of the class\n",
    "obj1.age=26\n",
    "obj1.type_account=\"saving\"\n",
    "obj1.date=\"09-06-2013\"\n",
    "\n",
    "obj2=bank()\n",
    "obj2.name=\"rani\"\n",
    "obj2.age=26\n",
    "obj2.type_account=\"saving\"\n",
    "obj2.date=\"19-06-2013\"\n",
    "\n",
    "# method2:\n",
    "class bank:\n",
    "    b_name=\"sbi\"\n",
    "    ifsc=\"sbin000841\"\n",
    "    address=\"hyd\"\n",
    "obj1=bank() #object  creation\n",
    "obj2=bank()\n",
    "\n",
    "#initialize the non static states outside of the class by using function\n",
    "def create_object(self,name,age,type_acc,date): \n",
    "    self.name=name\n",
    "    self.age=age\n",
    "    self.type_account=type_acc\n",
    "    self.date=date\n",
    "\n",
    "create_object(obj1,'sai',23,'saving','06-08-1996')\n",
    "create_object(obj2,'rani',26,\"current\",'09-12-1993')\n",
    "\n",
    "\n",
    "\n",
    "\n",
    "# method3:\n",
    "class bank:\n",
    "    b_name=\"sbi\"\n",
    "    ifsc=\"sbin000841\"\n",
    "    address=\"hyd\"\n",
    "    #initialize the non static states inside the class by using static method\n",
    "    def create_object(self,name,age,type_acc,date):\n",
    "        self.name=name\n",
    "        self.age=age\n",
    "        self.type_account=type_acc\n",
    "        self.date=date\n",
    "\n",
    "obj1=bank()\n",
    "obj2=bank()\n",
    "\n",
    "bank.create_object(obj1,'sai',23,'saving','06-08-1996')\n",
    "bank.create_object(obj2,'rani',26,\"current\",'09-12-1993')\n",
    "\n",
    "# method4:\n",
    "class bank:\n",
    "    b_name=\"sbi\"\n",
    "    ifsc=\"sbin000841\"\n",
    "    address=\"hyd\"\n",
    "    #initialize the non static states inside the class by using construtor method\n",
    "    def __init__(self,name,age,type_acc,date):\n",
    "        self.name=name\n",
    "        self.age=age\n",
    "        self.type_account=type_acc\n",
    "        self.date=date\n",
    "\n",
    "obj1=bank('sai',23,'saving','06-08-1996') #bank.__init__(obj1,'sai',23,'saving','06-08-1996')\n",
    "obj2=bank('rani',26,\"current\",'09-12-1993')\n",
    "\n"
   ]
  },
  {
   "cell_type": "code",
   "execution_count": 36,
   "metadata": {},
   "outputs": [
    {
     "name": "stdout",
     "output_type": "stream",
     "text": [
      "{'name': 'sai', 'age': 23, 'type_account': 'saving', 'date': '06-08-1996'}\n",
      "{'name': 'rani', 'age': 26, 'type_account': 'current', 'date': '09-12-1993'}\n"
     ]
    }
   ],
   "source": [
    "print(obj1.__dict__)\n",
    "print(obj2.__dict__)\n"
   ]
  },
  {
   "cell_type": "code",
   "execution_count": 6,
   "metadata": {},
   "outputs": [],
   "source": [
    "class bank:\n",
    "    b_name=\"sbi\"\n",
    "    ifsc=\"sbin000841\"\n",
    "    address=\"hyd\"\n",
    "obj1=bank()\n",
    "\n",
    "\n",
    "\n",
    "class person:\n",
    "    a=10\n",
    "    b=20\n",
    "    def __init__(self):\n",
    "        self.name=\"sai\"\n",
    "        self.age=23\n",
    "        self.phone=9988774455\n",
    "sai=person()\n",
    "rani=person()"
   ]
  },
  {
   "cell_type": "code",
   "execution_count": 7,
   "metadata": {},
   "outputs": [
    {
     "data": {
      "text/plain": [
       "{'name': 'sai', 'age': 23, 'phone': 9988774455}"
      ]
     },
     "execution_count": 7,
     "metadata": {},
     "output_type": "execute_result"
    }
   ],
   "source": [
    "sai.__dict__"
   ]
  },
  {
   "cell_type": "code",
   "execution_count": 9,
   "metadata": {},
   "outputs": [
    {
     "data": {
      "text/plain": [
       "{'name': 'sai', 'age': 23, 'phone': 9988774455}"
      ]
     },
     "execution_count": 9,
     "metadata": {},
     "output_type": "execute_result"
    }
   ],
   "source": [
    "rani.__dict__"
   ]
  },
  {
   "cell_type": "code",
   "execution_count": 13,
   "metadata": {},
   "outputs": [],
   "source": [
    "class person:\n",
    "    a=10 #static states\n",
    "    b=20 #static states\n",
    "    def __init__(self,a,b,c):  #constructor (initialize the non static states)\n",
    "        self.name=a     #non static states\n",
    "        self.age=b      #non static states\n",
    "        self.phone=c    #non static states\n",
    "sai=person(\"sai\",23,9988774455)  #object initialization(automatically init method is called) \n",
    "rani=person(\"rani\",22,9984442511)"
   ]
  },
  {
   "cell_type": "code",
   "execution_count": 14,
   "metadata": {},
   "outputs": [
    {
     "data": {
      "text/plain": [
       "{'name': 'sai', 'age': 23, 'phone': 9988774455}"
      ]
     },
     "execution_count": 14,
     "metadata": {},
     "output_type": "execute_result"
    }
   ],
   "source": [
    "sai.__dict__"
   ]
  },
  {
   "cell_type": "code",
   "execution_count": 15,
   "metadata": {},
   "outputs": [
    {
     "data": {
      "text/plain": [
       "{'name': 'rani', 'age': 22, 'phone': 9984442511}"
      ]
     },
     "execution_count": 15,
     "metadata": {},
     "output_type": "execute_result"
    }
   ],
   "source": [
    "rani.__dict__"
   ]
  },
  {
   "cell_type": "code",
   "execution_count": 12,
   "metadata": {},
   "outputs": [],
   "source": [
    "class person:\n",
    "    a=10 #static states\n",
    "    b=20 #static states\n",
    "    def __init__(self,a,b,c):  #constructor (initialize the non static states)\n",
    "        self.name=a     \n",
    "        self.age=b      \n",
    "        self.phone=c \n",
    "    def display(self):   #fetch the non static states by using object method\n",
    "        print(\"person name:\",self.name)   \n",
    "        print(\"person age:\",self.age)   \n",
    "        print(\"person phone:\",self.phone)  \n",
    "\n",
    "    def modify(self,name,ele): #modify the specific non static states by using object method\n",
    "        match name:\n",
    "            case \"name\":\n",
    "                self.name=ele\n",
    "            case \"age\":\n",
    "                self.age=ele\n",
    "            case 'phone':\n",
    "                \n",
    "                self.phone=ele\n",
    "\n",
    "    def delete(self,name): #delete the specific non static states by using object method\n",
    "        match name:\n",
    "            case \"name\":\n",
    "                del self.name\n",
    "            case \"age\":\n",
    "                del self.age\n",
    "            case 'phone':\n",
    "                del self.phone\n",
    "             \n",
    "    \n",
    "sai=person(\"sai\",23,9988774455)  #object initialization(automatically init method is called) \n",
    "rani=person(\"rani\",22,9984442511)"
   ]
  },
  {
   "cell_type": "code",
   "execution_count": 13,
   "metadata": {},
   "outputs": [
    {
     "name": "stdout",
     "output_type": "stream",
     "text": [
      "{'name': 'sai', 'age': 23, 'phone': 9988774455}\n",
      "person name: sai\n",
      "person age: 23\n",
      "person phone: 9988774455\n"
     ]
    }
   ],
   "source": [
    "print(sai.__dict__)\n",
    "sai.display()"
   ]
  },
  {
   "cell_type": "code",
   "execution_count": 14,
   "metadata": {},
   "outputs": [
    {
     "name": "stdout",
     "output_type": "stream",
     "text": [
      "person name: sai\n",
      "person age: 23\n",
      "person phone: 9988774455\n",
      "None\n",
      "person name: sai\n",
      "person age: 23\n",
      "person phone: 9988771122\n",
      "None\n"
     ]
    }
   ],
   "source": [
    "print(sai.display())\n",
    "sai.modify('phone',9988771122)\n",
    "print(sai.display())"
   ]
  },
  {
   "cell_type": "code",
   "execution_count": 15,
   "metadata": {},
   "outputs": [
    {
     "name": "stdout",
     "output_type": "stream",
     "text": [
      "person name: sai\n",
      "person age: 23\n",
      "person phone: 9988771122\n",
      "None\n",
      "person name: sai\n",
      "person age: 23\n"
     ]
    },
    {
     "ename": "AttributeError",
     "evalue": "'person' object has no attribute 'phone'",
     "output_type": "error",
     "traceback": [
      "\u001b[1;31m---------------------------------------------------------------------------\u001b[0m",
      "\u001b[1;31mAttributeError\u001b[0m                            Traceback (most recent call last)",
      "\u001b[1;32mc:\\Users\\QSP\\Documents\\python_programs\\batch-5.00-7.00\\oops\\class.ipynb Cell 30\u001b[0m in \u001b[0;36m3\n\u001b[0;32m      <a href='vscode-notebook-cell:/c%3A/Users/QSP/Documents/python_programs/batch-5.00-7.00/oops/class.ipynb#X43sZmlsZQ%3D%3D?line=0'>1</a>\u001b[0m \u001b[39mprint\u001b[39m(sai\u001b[39m.\u001b[39mdisplay())\n\u001b[0;32m      <a href='vscode-notebook-cell:/c%3A/Users/QSP/Documents/python_programs/batch-5.00-7.00/oops/class.ipynb#X43sZmlsZQ%3D%3D?line=1'>2</a>\u001b[0m sai\u001b[39m.\u001b[39mdelete(\u001b[39m'\u001b[39m\u001b[39mphone\u001b[39m\u001b[39m'\u001b[39m)\n\u001b[1;32m----> <a href='vscode-notebook-cell:/c%3A/Users/QSP/Documents/python_programs/batch-5.00-7.00/oops/class.ipynb#X43sZmlsZQ%3D%3D?line=2'>3</a>\u001b[0m \u001b[39mprint\u001b[39m(sai\u001b[39m.\u001b[39;49mdisplay())\n",
      "\u001b[1;32mc:\\Users\\QSP\\Documents\\python_programs\\batch-5.00-7.00\\oops\\class.ipynb Cell 30\u001b[0m in \u001b[0;36m1\n\u001b[0;32m      <a href='vscode-notebook-cell:/c%3A/Users/QSP/Documents/python_programs/batch-5.00-7.00/oops/class.ipynb#X43sZmlsZQ%3D%3D?line=8'>9</a>\u001b[0m \u001b[39mprint\u001b[39m(\u001b[39m\"\u001b[39m\u001b[39mperson name:\u001b[39m\u001b[39m\"\u001b[39m,\u001b[39mself\u001b[39m\u001b[39m.\u001b[39mname)   \n\u001b[0;32m     <a href='vscode-notebook-cell:/c%3A/Users/QSP/Documents/python_programs/batch-5.00-7.00/oops/class.ipynb#X43sZmlsZQ%3D%3D?line=9'>10</a>\u001b[0m \u001b[39mprint\u001b[39m(\u001b[39m\"\u001b[39m\u001b[39mperson age:\u001b[39m\u001b[39m\"\u001b[39m,\u001b[39mself\u001b[39m\u001b[39m.\u001b[39mage)   \n\u001b[1;32m---> <a href='vscode-notebook-cell:/c%3A/Users/QSP/Documents/python_programs/batch-5.00-7.00/oops/class.ipynb#X43sZmlsZQ%3D%3D?line=10'>11</a>\u001b[0m \u001b[39mprint\u001b[39m(\u001b[39m\"\u001b[39m\u001b[39mperson phone:\u001b[39m\u001b[39m\"\u001b[39m,\u001b[39mself\u001b[39;49m\u001b[39m.\u001b[39;49mphone)\n",
      "\u001b[1;31mAttributeError\u001b[0m: 'person' object has no attribute 'phone'"
     ]
    }
   ],
   "source": [
    "print(sai.display())\n",
    "sai.delete('phone')\n",
    "print(sai.display())"
   ]
  },
  {
   "cell_type": "code",
   "execution_count": null,
   "metadata": {},
   "outputs": [],
   "source": []
  },
  {
   "cell_type": "code",
   "execution_count": 7,
   "metadata": {},
   "outputs": [
    {
     "name": "stdout",
     "output_type": "stream",
     "text": [
      "{'name': 'rani', 'age': 22, 'phone': 9984442511}\n",
      "person name: rani\n",
      "person age: 22\n",
      "person phone: 9984442511\n"
     ]
    }
   ],
   "source": [
    "print(rani.__dict__)\n",
    "rani.display()"
   ]
  },
  {
   "cell_type": "code",
   "execution_count": 18,
   "metadata": {},
   "outputs": [
    {
     "name": "stdout",
     "output_type": "stream",
     "text": [
      "data is stored\n",
      "data is stored\n"
     ]
    }
   ],
   "source": [
    "class Bank:\n",
    "    bank_name = \"SBI\"\n",
    "    IFSC = \"SBIN0000841\"\n",
    "    branch = \"HYD\"\n",
    "    address = \"KOTI\"\n",
    "    ROI = 7\n",
    "    no_of_cust=0\n",
    "    details={}\n",
    "    def __init__(self,name,age,phone,email,address,password):\n",
    "        self.c_name=name\n",
    "        self.c_age=age\n",
    "        self.c_phone=phone\n",
    "        self.c_email=email\n",
    "        self.c_address=address\n",
    "        self.c_password=password\n",
    "        self.cust_inc() \n",
    "        self.c_acc=\"00874\"+str(self.no_of_cust)\n",
    "        self.c_bal=0\n",
    "        self.add_details(self.c_acc,self)\n",
    "\n",
    "    @classmethod\n",
    "    def cust_inc(cls):\n",
    "        cls.no_of_cust+=1\n",
    "    \n",
    "    @classmethod\n",
    "    def add_details(cls,key,value):\n",
    "        cls.details[key]=value\n",
    "        print(\"data is stored\")\n",
    "\n",
    "    @classmethod\n",
    "    def display_details(cls):\n",
    "        for i in cls.details:\n",
    "            print(cls.details[i].__dict__)\n",
    "\n",
    "    @classmethod\n",
    "    def cust_login(cls):\n",
    "        # userid=eval(input(\"Enter the EMAIL/ACCOUNT_NO:\"))\n",
    "        # pwd=eval(input(\"Enter the password:\"))\n",
    "        userid=\"008741\"\n",
    "        pwd=\"K@123\"\n",
    "        for i in cls.details:\n",
    "            data= cls.details[i].__dict__\n",
    "            if (data['c_email']==userid or data['c_acc']==userid) and data['c_password']==pwd:\n",
    "                print(\"SELECT OPTION\\n1:MODIFY_EMAIL\\n2:MODIFY_PHONE\\n3:WITHDRAW\\n4:DEPOSIT\\n5:Balance\\n6:Exit\")\n",
    "                n=eval(input(\"CHOOSE THE OPTION:\"))\n",
    "                match n:\n",
    "                    case 1:\n",
    "                        cls.modify_email(cls.details[i])\n",
    "                    case 2:\n",
    "                        cls.modify_phone(cls.details[i])\n",
    "                    case 3:\n",
    "                        cls.withdraw(cls.details[i])\n",
    "                    case 4:\n",
    "                        cls.deposit(cls.details[i])\n",
    "                    case 5:\n",
    "                        cls.balance(cls.details[i])\n",
    "                    case 6:\n",
    "                        return \n",
    "        cls.cust_login()\n",
    "        return \"INCORRECT USERID AND PASSWORD \"\n",
    "    \n",
    "    def modify_email(self):\n",
    "        if self.c_password==eval(input(\"enter the password\")):\n",
    "            self.c_email=eval(input(\"enter the Phone number\"))\n",
    "        else:\n",
    "            print(\"incorrect\")\n",
    "\n",
    "    def modify_phone(self):\n",
    "        if self.c_password==eval(input(\"enter the password\")):\n",
    "            self.c_phone=eval(input(\"enter the Phone number\"))\n",
    "        else: \n",
    "            print(\"incorrect\")\n",
    "\n",
    "    def withdraw(self):\n",
    "        n=int(input(\"enter the amount\"))\n",
    "        if self.c_bal>n:\n",
    "            self.c_bal-=n\n",
    "            print(\"your transcation is success\")\n",
    "            print(\"available balance\",self.c_bal)\n",
    "        else:\n",
    "            print(\"insuffient bal\")\n",
    "\n",
    "    def deposit(self):\n",
    "        n=int(input(\"enter the amount:\"))\n",
    "        self.c_bal+=n\n",
    "        print(\"your transcation is success\")\n",
    "        print(\"available balance\",self.c_bal)\n",
    "\n",
    "    def balance(self):\n",
    "        print(\"current balance:\",self.c_bal)\n",
    "\n",
    "\n",
    "obj=Bank(\"KIRAN\",23,9988773311,\"kiran@gmail.com\",\"hyd\",'K@123')\n",
    "obj1=Bank(\"RAMYA\",24,9988773322,\"RAMYA@gmail.com\",\"hyd\",'K@123')"
   ]
  },
  {
   "cell_type": "code",
   "execution_count": null,
   "metadata": {},
   "outputs": [],
   "source": []
  },
  {
   "cell_type": "code",
   "execution_count": 8,
   "metadata": {},
   "outputs": [
    {
     "name": "stdout",
     "output_type": "stream",
     "text": [
      "your transcation is success\n",
      "available balance 500\n"
     ]
    }
   ],
   "source": [
    "obj.deposit()"
   ]
  },
  {
   "cell_type": "code",
   "execution_count": 9,
   "metadata": {},
   "outputs": [
    {
     "name": "stdout",
     "output_type": "stream",
     "text": [
      "your process success\n",
      "available balance 50\n"
     ]
    }
   ],
   "source": [
    "obj.withdraw()\n"
   ]
  },
  {
   "cell_type": "code",
   "execution_count": 74,
   "metadata": {},
   "outputs": [
    {
     "name": "stdout",
     "output_type": "stream",
     "text": [
      "{'c_name': 'KIRAN', 'c_age': 23, 'c_phone': 9988773311, 'c_email': 'kiran@gmail.com', 'c_address': 'hyd', 'c_password': 'K@123', 'c_acc': '008741', 'c_bal': 0}\n",
      "{'c_name': 'RAMYA', 'c_age': 24, 'c_phone': 9988773322, 'c_email': 'RAMYA@gmail.com', 'c_address': 'hyd', 'c_password': 'K@123', 'c_acc': '008742', 'c_bal': 0}\n"
     ]
    }
   ],
   "source": [
    "Bank.display_details()"
   ]
  },
  {
   "cell_type": "code",
   "execution_count": 19,
   "metadata": {},
   "outputs": [
    {
     "name": "stdout",
     "output_type": "stream",
     "text": [
      "SELECT OPTION\n",
      "1:MODIFY_EMAIL\n",
      "2:MODIFY_PHONE\n",
      "3:WITHDRAW\n",
      "4:DEPOSIT\n",
      "5:Balance\n",
      "6:Exit\n",
      "current balance: 0\n",
      "SELECT OPTION\n",
      "1:MODIFY_EMAIL\n",
      "2:MODIFY_PHONE\n",
      "3:WITHDRAW\n",
      "4:DEPOSIT\n",
      "5:Balance\n",
      "6:Exit\n",
      "your transcation is success\n",
      "available balance 5000\n",
      "SELECT OPTION\n",
      "1:MODIFY_EMAIL\n",
      "2:MODIFY_PHONE\n",
      "3:WITHDRAW\n",
      "4:DEPOSIT\n",
      "5:Balance\n",
      "6:Exit\n",
      "your transcation is success\n",
      "available balance 2000\n",
      "SELECT OPTION\n",
      "1:MODIFY_EMAIL\n",
      "2:MODIFY_PHONE\n",
      "3:WITHDRAW\n",
      "4:DEPOSIT\n",
      "5:Balance\n",
      "6:Exit\n"
     ]
    },
    {
     "data": {
      "text/plain": [
       "'INCORRECT USERID AND PASSWORD '"
      ]
     },
     "execution_count": 19,
     "metadata": {},
     "output_type": "execute_result"
    }
   ],
   "source": [
    "Bank.cust_login()"
   ]
  },
  {
   "cell_type": "code",
   "execution_count": 72,
   "metadata": {},
   "outputs": [
    {
     "name": "stdout",
     "output_type": "stream",
     "text": [
      "{'c_name': 'KIRAN', 'c_age': 23, 'c_phone': 9988773311, 'c_email': 'kiranmai@gmial.com', 'c_address': 'hyd', 'c_password': 'K@123', 'c_acc': '008741', 'c_bal': 0}\n",
      "{'c_name': 'RAMYA', 'c_age': 24, 'c_phone': 9988773322, 'c_email': 'RAMYA@gmail.com', 'c_address': 'hyd', 'c_password': 'K@123', 'c_acc': '008742', 'c_bal': 0}\n"
     ]
    }
   ],
   "source": [
    "Bank.display_details()"
   ]
  },
  {
   "cell_type": "code",
   "execution_count": 47,
   "metadata": {},
   "outputs": [],
   "source": [
    "obj.modify_email()"
   ]
  },
  {
   "cell_type": "code",
   "execution_count": 12,
   "metadata": {},
   "outputs": [
    {
     "data": {
      "text/plain": [
       "{'c_name': 'KIRAN',\n",
       " 'c_age': 23,\n",
       " 'c_phone': 9988773311,\n",
       " 'c_email': 'kiran@gmail.com',\n",
       " 'c_address': 'hyd',\n",
       " 'c_password': 'K@123',\n",
       " 'c_acc': '008741',\n",
       " 'c_bal': 0}"
      ]
     },
     "execution_count": 12,
     "metadata": {},
     "output_type": "execute_result"
    }
   ],
   "source": [
    "obj.__dict__"
   ]
  },
  {
   "cell_type": "code",
   "execution_count": 13,
   "metadata": {},
   "outputs": [
    {
     "data": {
      "text/plain": [
       "{'c_name': 'RAMYA',\n",
       " 'c_age': 24,\n",
       " 'c_phone': 9988773322,\n",
       " 'c_email': 'RAMYA@gmail.com',\n",
       " 'c_address': 'hyd',\n",
       " 'c_password': 'K@123',\n",
       " 'c_acc': '008742',\n",
       " 'c_bal': 0}"
      ]
     },
     "execution_count": 13,
     "metadata": {},
     "output_type": "execute_result"
    }
   ],
   "source": [
    "obj1.__dict__"
   ]
  },
  {
   "cell_type": "code",
   "execution_count": 14,
   "metadata": {},
   "outputs": [
    {
     "name": "stdout",
     "output_type": "stream",
     "text": [
      "kiran@gmail.com\n",
      "RAMYA@gmail.com\n"
     ]
    }
   ],
   "source": []
  },
  {
   "cell_type": "code",
   "execution_count": 15,
   "metadata": {},
   "outputs": [
    {
     "data": {
      "text/plain": [
       "mappingproxy({'__module__': '__main__',\n",
       "              'bank_name': 'SBI',\n",
       "              'IFSC': 'SBIN0000841',\n",
       "              'branch': 'HYD',\n",
       "              'address': 'KOTI',\n",
       "              'ROI': 7,\n",
       "              'no_of_cust': 2,\n",
       "              'details': {'008741': <__main__.Bank at 0x15d37712ed0>,\n",
       "               '008742': <__main__.Bank at 0x15d3765a010>},\n",
       "              '__init__': <function __main__.Bank.__init__(self, name, age, phone, email, address, password)>,\n",
       "              'cust_inc': <classmethod(<function Bank.cust_inc at 0x0000015D38FB2B60>)>,\n",
       "              'add_details': <classmethod(<function Bank.add_details at 0x0000015D38FB2C00>)>,\n",
       "              '__dict__': <attribute '__dict__' of 'Bank' objects>,\n",
       "              '__weakref__': <attribute '__weakref__' of 'Bank' objects>,\n",
       "              '__doc__': None})"
      ]
     },
     "execution_count": 15,
     "metadata": {},
     "output_type": "execute_result"
    }
   ],
   "source": [
    "Bank.__dict__"
   ]
  },
  {
   "cell_type": "code",
   "execution_count": 38,
   "metadata": {},
   "outputs": [
    {
     "name": "stdout",
     "output_type": "stream",
     "text": [
      "Name HTML PYTHON SQL TOTAL PERCENTAGE\n",
      "murali 98 98 97 293 /300 97.66666666666667\n",
      "geetha 97 99 98 294 /300 98.0\n",
      "ramu 96 95 94 285 /300 95.0\n",
      "seetha 99 99 99 297 /300 99.0\n"
     ]
    }
   ],
   "source": [
    "class student:\n",
    "    branch=\"CSE\"\n",
    "    coll_name=\"VIKAS\"\n",
    "    code=\"VAS123\"\n",
    "    def __init__(self,name,rollno,phone,year,sem,sub1,sub1_m,sub2,sub2_m,sub3,sub3_m):\n",
    "        self.name=name\n",
    "        self.rollno=rollno\n",
    "        self.phone=phone\n",
    "        self.year=year\n",
    "        self.sem=sem\n",
    "        self.sub1=sub1\n",
    "        self.sub1_m=sub1_m\n",
    "        self.sub2=sub2\n",
    "        self.sub2_m=sub2_m\n",
    "        self.sub3=sub3\n",
    "        self.sub3_m=sub3_m\n",
    "\n",
    "stu1=student('murali',121,9988552244,2,1,\"html\",98,\"python\",98,\"sql\",97)\n",
    "stu2=student('geetha',122,9988559988,2,1,\"html\",97,\"python\",99,\"sql\",98)\n",
    "stu3=student('ramu',123,9911252244,2,1,\"html\",96,\"python\",95,\"sql\",94)\n",
    "stu4=student('seetha',124,9987942244,2,1,\"html\",99,\"python\",99,\"sql\",99)\n",
    "\n",
    "l=[stu1,stu2,stu3,stu4]\n",
    "print(\"Name\",\"HTML\",\"PYTHON\",\"SQL\",\"TOTAL\",\"PERCENTAGE\")\n",
    "for i in l:\n",
    "    sum1=(i.sub1_m+i.sub2_m+i.sub3_m)\n",
    "    print(i.name,i.sub1_m, i.sub2_m,i.sub3_m,sum1,\"/300\",(sum1/300)*100)\n"
   ]
  },
  {
   "cell_type": "code",
   "execution_count": 23,
   "metadata": {},
   "outputs": [
    {
     "data": {
      "text/plain": [
       "{'name': 'murali',\n",
       " 'rollno': 121,\n",
       " 'phone': 9988552244,\n",
       " 'year': 2,\n",
       " 'sem': 1,\n",
       " 'sub1': 'html',\n",
       " 'sub1_m': 98,\n",
       " 'sub2': 'python',\n",
       " 'sub2_m': 98,\n",
       " 'sub3': 'sql',\n",
       " 'sub3_m': 97}"
      ]
     },
     "execution_count": 23,
     "metadata": {},
     "output_type": "execute_result"
    }
   ],
   "source": [
    "stu1.__dict__"
   ]
  },
  {
   "cell_type": "code",
   "execution_count": 24,
   "metadata": {},
   "outputs": [
    {
     "data": {
      "text/plain": [
       "{'name': 'geetha',\n",
       " 'rollno': 122,\n",
       " 'phone': 9988559988,\n",
       " 'year': 2,\n",
       " 'sem': 1,\n",
       " 'sub1': 'html',\n",
       " 'sub1_m': 97,\n",
       " 'sub2': 'python',\n",
       " 'sub2_m': 99,\n",
       " 'sub3': 'sql',\n",
       " 'sub3_m': 98}"
      ]
     },
     "execution_count": 24,
     "metadata": {},
     "output_type": "execute_result"
    }
   ],
   "source": [
    "stu2.__dict__"
   ]
  },
  {
   "cell_type": "code",
   "execution_count": 25,
   "metadata": {},
   "outputs": [
    {
     "data": {
      "text/plain": [
       "{'name': 'ramu',\n",
       " 'rollno': 123,\n",
       " 'phone': 9911252244,\n",
       " 'year': 2,\n",
       " 'sem': 1,\n",
       " 'sub1': 'html',\n",
       " 'sub1_m': 96,\n",
       " 'sub2': 'python',\n",
       " 'sub2_m': 95,\n",
       " 'sub3': 'sql',\n",
       " 'sub3_m': 94}"
      ]
     },
     "execution_count": 25,
     "metadata": {},
     "output_type": "execute_result"
    }
   ],
   "source": [
    "stu3.__dict__"
   ]
  },
  {
   "cell_type": "code",
   "execution_count": 26,
   "metadata": {},
   "outputs": [
    {
     "data": {
      "text/plain": [
       "{'name': 'seetha',\n",
       " 'rollno': 124,\n",
       " 'phone': 9987942244,\n",
       " 'year': 2,\n",
       " 'sem': 1,\n",
       " 'sub1': 'html',\n",
       " 'sub1_m': 99,\n",
       " 'sub2': 'python',\n",
       " 'sub2_m': 99,\n",
       " 'sub3': 'sql',\n",
       " 'sub3_m': 99}"
      ]
     },
     "execution_count": 26,
     "metadata": {},
     "output_type": "execute_result"
    }
   ],
   "source": [
    "stu4.__dict__"
   ]
  },
  {
   "cell_type": "code",
   "execution_count": 3,
   "metadata": {},
   "outputs": [],
   "source": [
    "class student:\n",
    "    branch=\"CSE\"\n",
    "    coll_name=\"VIKAS\"\n",
    "    code=\"VAS123\"\n",
    "    l=()\n",
    "    def __init__(self,name,rollno,phone,year,sem,sub1,sub1_m,sub2,sub2_m,sub3,sub3_m):\n",
    "        self.name=name\n",
    "        self.rollno=rollno\n",
    "        self.phone=phone\n",
    "        self.year=year\n",
    "        self.sem=sem\n",
    "        self.sub1=sub1\n",
    "        self.sub1_m=sub1_m\n",
    "        self.sub2=sub2\n",
    "        self.sub2_m=sub2_m\n",
    "        self.sub3=sub3\n",
    "        self.sub3_m=sub3_m\n",
    "        student.l+=(self,)\n",
    "\n",
    "    @classmethod\n",
    "    def display(cls):\n",
    "        print(\"Name\",\"HTML\",\"PYTHON\",\"SQL\",\"TOTAL\",\"PERCENTAGE\")\n",
    "        for i in cls.l:\n",
    "            sum1=(i.sub1_m+i.sub2_m+i.sub3_m)\n",
    "            print(i.name,i.sub1_m, i.sub2_m,i.sub3_m,sum1,\"/300\",(sum1/300)*100)\n",
    "\n",
    "\n",
    "stu1=student('murali',121,9988552244,2,1,\"html\",98,\"python\",98,\"sql\",97)\n",
    "stu2=student('geetha',122,9988559988,2,1,\"html\",97,\"python\",99,\"sql\",98)\n",
    "stu3=student('ramu',123,9911252244,2,1,\"html\",96,\"python\",95,\"sql\",94)\n",
    "stu4=student('seetha',124,9987942244,2,1,\"html\",99,\"python\",99,\"sql\",99)\n",
    "\n",
    "# l=[stu1,stu2,stu3,stu4]\n",
    "# "
   ]
  },
  {
   "cell_type": "code",
   "execution_count": 4,
   "metadata": {},
   "outputs": [
    {
     "name": "stdout",
     "output_type": "stream",
     "text": [
      "Name HTML PYTHON SQL TOTAL PERCENTAGE\n",
      "murali 98 98 97 293 /300 97.66666666666667\n",
      "geetha 97 99 98 294 /300 98.0\n",
      "ramu 96 95 94 285 /300 95.0\n",
      "seetha 99 99 99 297 /300 99.0\n"
     ]
    }
   ],
   "source": [
    "student.display()"
   ]
  }
 ],
 "metadata": {
  "kernelspec": {
   "display_name": "Python 3",
   "language": "python",
   "name": "python3"
  },
  "language_info": {
   "codemirror_mode": {
    "name": "ipython",
    "version": 3
   },
   "file_extension": ".py",
   "mimetype": "text/x-python",
   "name": "python",
   "nbconvert_exporter": "python",
   "pygments_lexer": "ipython3",
   "version": "3.11.4"
  },
  "orig_nbformat": 4
 },
 "nbformat": 4,
 "nbformat_minor": 2
}
