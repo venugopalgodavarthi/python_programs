{
 "cells": [
  {
   "cell_type": "code",
   "execution_count": 1,
   "metadata": {},
   "outputs": [
    {
     "name": "stdout",
     "output_type": "stream",
     "text": [
      "1\n",
      "2\n",
      "3\n",
      "4\n",
      "5\n"
     ]
    }
   ],
   "source": [
    "#WAP TO print the sequence of 1 to 5 number:\n",
    "start=1\n",
    "end=5\n",
    "while start<=end: #start<end+1\n",
    "    print(start)\n",
    "    start+=1 "
   ]
  },
  {
   "cell_type": "code",
   "execution_count": 2,
   "metadata": {},
   "outputs": [
    {
     "name": "stdout",
     "output_type": "stream",
     "text": [
      "1\n",
      "2\n",
      "3\n",
      "4\n",
      "5\n",
      "6\n",
      "7\n",
      "8\n",
      "9\n",
      "10\n",
      "11\n",
      "12\n",
      "13\n",
      "14\n",
      "15\n"
     ]
    }
   ],
   "source": [
    "#WAP TO print upto nth natural numbers.\n",
    "start=1\n",
    "end=eval(input(\"enter the integer value:\"))\n",
    "while start<=end: #start<end+1\n",
    "    print(start)\n",
    "    start+=1 "
   ]
  },
  {
   "cell_type": "code",
   "execution_count": 3,
   "metadata": {},
   "outputs": [
    {
     "name": "stdout",
     "output_type": "stream",
     "text": [
      "0\n",
      "1\n",
      "2\n",
      "3\n",
      "4\n",
      "5\n",
      "6\n",
      "7\n",
      "8\n",
      "9\n",
      "10\n"
     ]
    }
   ],
   "source": [
    "#WAP TO print upto nth whole numbers.\n",
    "start=0\n",
    "end=eval(input(\"enter the integer value:\"))\n",
    "while start<=end: #start<end+1\n",
    "    print(start)\n",
    "    start+=1 "
   ]
  },
  {
   "cell_type": "code",
   "execution_count": 5,
   "metadata": {},
   "outputs": [
    {
     "name": "stdout",
     "output_type": "stream",
     "text": [
      "2\n",
      "3\n",
      "4\n",
      "5\n",
      "6\n",
      "7\n"
     ]
    }
   ],
   "source": [
    "#wap to print the sequence of numbers with in given range.\n",
    "start=eval(input(\"enter the starting integer number\"))\n",
    "end=eval(input(\"enter the ending integer number\"))\n",
    "while start<end:\n",
    "    print(start)\n",
    "    start+=1"
   ]
  },
  {
   "cell_type": "code",
   "execution_count": 6,
   "metadata": {},
   "outputs": [
    {
     "name": "stdout",
     "output_type": "stream",
     "text": [
      "0\n",
      "2\n",
      "4\n",
      "6\n",
      "8\n"
     ]
    }
   ],
   "source": [
    "#wap to print the sequence of even numbers with in given range.\n",
    "start=eval(input(\"enter the starting integer number\"))\n",
    "end=eval(input(\"enter the ending integer number\"))\n",
    "while start<end:\n",
    "    if start%2==0:\n",
    "        print(start)\n",
    "    start+=1"
   ]
  },
  {
   "cell_type": "code",
   "execution_count": 7,
   "metadata": {},
   "outputs": [
    {
     "name": "stdout",
     "output_type": "stream",
     "text": [
      "3\n",
      "5\n",
      "7\n"
     ]
    }
   ],
   "source": [
    "#wap to print the sequence of odd numbers with in given range.\n",
    "start=eval(input(\"enter the starting integer number\"))\n",
    "end=eval(input(\"enter the ending integer number\"))\n",
    "while start<end:\n",
    "    if start%2!=0:\n",
    "        print(start)\n",
    "    start+=1"
   ]
  },
  {
   "cell_type": "code",
   "execution_count": 8,
   "metadata": {},
   "outputs": [
    {
     "name": "stdout",
     "output_type": "stream",
     "text": [
      "3\n",
      "5\n",
      "7\n",
      "9\n"
     ]
    }
   ],
   "source": [
    "#wap to print the sequence of odd numbers with in from given value to given value.\n",
    "start=eval(input(\"enter the starting integer number\"))\n",
    "end=eval(input(\"enter the ending integer number\"))\n",
    "while start<=end:\n",
    "    if start%2!=0:\n",
    "        print(start)\n",
    "    start+=1"
   ]
  },
  {
   "cell_type": "code",
   "execution_count": 13,
   "metadata": {},
   "outputs": [
    {
     "name": "stdout",
     "output_type": "stream",
     "text": [
      "A B C D E F G H I J K L M N O P Q R S T U V W X Y Z "
     ]
    }
   ],
   "source": [
    "#wap to print the sequence of alphabets from A To Z.\n",
    "start='A'\n",
    "end='Z'\n",
    "while start<=end:\n",
    "    print(start,end=\" \")\n",
    "    start=chr(ord(start)+1)"
   ]
  },
  {
   "cell_type": "code",
   "execution_count": 14,
   "metadata": {},
   "outputs": [
    {
     "name": "stdout",
     "output_type": "stream",
     "text": [
      "A B C D E F G H I J K L M N O P Q R S T U V W X Y Z "
     ]
    }
   ],
   "source": [
    "#wap to print the sequence of alphabets from A To Z.\n",
    "start=65\n",
    "end=90\n",
    "while start<=end:\n",
    "    print(chr(start),end=\" \")\n",
    "    start+=1"
   ]
  },
  {
   "cell_type": "code",
   "execution_count": null,
   "metadata": {},
   "outputs": [],
   "source": [
    "# wap to print the sequence of alphabets from a To z.\n",
    "# wap to print the sequence of ascii number from 0 to 9.\n",
    "# wap to print the sequence of special characters from 1 to 127.\n",
    "# wap to print the sequence of natural numbers from 25 to 8.\n",
    "# wap to print the reverse sequence of whole numbers from 26 to 0.\n",
    "# wap to print the even number from 56 to 36\n",
    "# wap to print the uppercase characters from given range.\n",
    "# wap to print the lowercase characters from given range.\n",
    "# wap to print the numbers is divisible by 3 from given range.\n"
   ]
  },
  {
   "cell_type": "code",
   "execution_count": 16,
   "metadata": {},
   "outputs": [
    {
     "name": "stdout",
     "output_type": "stream",
     "text": [
      "G H I J K L M N O P Q R S T U V W X Y Z "
     ]
    }
   ],
   "source": [
    "#wap to print the uppercase characters from given range.\n",
    "i='G'\n",
    "j=\"r\"\n",
    "if not(i<j):\n",
    "    i,j=j,i\n",
    "while i<j:\n",
    "    if 'A'<=i<='Z':\n",
    "        print(i, end=\" \")\n",
    "    i=chr(ord(i)+1)"
   ]
  },
  {
   "cell_type": "code",
   "execution_count": 18,
   "metadata": {},
   "outputs": [
    {
     "name": "stdout",
     "output_type": "stream",
     "text": [
      "12 15 18 "
     ]
    }
   ],
   "source": [
    "# wap to print the numbers is divisible by 3 from given range.\n",
    "i=int(input(\"enter the value:\"))\n",
    "j=int(input(\"enter the value:\"))\n",
    "if not (i < j):\n",
    "    i, j = j, i\n",
    "while i<j:\n",
    "    if i%3==0:\n",
    "        print(i,end=\" \")\n",
    "    i+=1\n"
   ]
  },
  {
   "cell_type": "code",
   "execution_count": 36,
   "metadata": {},
   "outputs": [
    {
     "name": "stdout",
     "output_type": "stream",
     "text": [
      "5   *   1   =   5\n",
      "5   *   2   =   10\n",
      "5   *   3   =   15\n",
      "5   *   4   =   20\n",
      "5   *   5   =   25\n",
      "5   *   6   =   30\n",
      "5   *   7   =   35\n",
      "5   *   8   =   40\n",
      "5   *   9   =   45\n",
      "5   *   10   =   50\n",
      "5   *   11   =   55\n",
      "5   *   12   =   60\n",
      "5   *   13   =   65\n",
      "5   *   14   =   70\n",
      "5   *   15   =   75\n",
      "5   *   16   =   80\n",
      "5   *   17   =   85\n",
      "5   *   18   =   90\n",
      "5   *   19   =   95\n",
      "5   *   20   =   100\n"
     ]
    }
   ],
   "source": [
    "#wap to print the nth table from 1 to 20 in form of below format.\n",
    "# 5 * 1 = 5\n",
    "start=1\n",
    "end=20\n",
    "n=eval(input(\"enter the value:\"))\n",
    "while start<=end:\n",
    "    print(n,\" \",\"*\",' ',start,\" \",\"=\",\" \",n*start)\n",
    "    start+=1"
   ]
  },
  {
   "cell_type": "code",
   "execution_count": null,
   "metadata": {},
   "outputs": [],
   "source": [
    "#wap to count the number of uppercase characters from given string.\n"
   ]
  },
  {
   "cell_type": "code",
   "execution_count": 22,
   "metadata": {},
   "outputs": [
    {
     "name": "stdout",
     "output_type": "stream",
     "text": [
      "P Y S P I D E R S "
     ]
    }
   ],
   "source": [
    "#wap to extract the character from the string.\n",
    "\n",
    "st=\"PYSPIDERS\"\n",
    "start=0\n",
    "end=len(st)\n",
    "while start<end:\n",
    "    print(st[start],end=\" \")\n",
    "    start+=1\n"
   ]
  },
  {
   "cell_type": "code",
   "execution_count": 24,
   "metadata": {},
   "outputs": [
    {
     "name": "stdout",
     "output_type": "stream",
     "text": [
      "P S P D R S "
     ]
    }
   ],
   "source": [
    "#wap to extract the uppercase character from the string.\n",
    "\n",
    "st=\"PySPiDeRS\"\n",
    "start=0\n",
    "end=len(st)\n",
    "while start<end:\n",
    "    if 'A'<=st[start]<='Z':\n",
    "        print(st[start],end=\" \")\n",
    "    start+=1"
   ]
  },
  {
   "cell_type": "code",
   "execution_count": 25,
   "metadata": {},
   "outputs": [
    {
     "name": "stdout",
     "output_type": "stream",
     "text": [
      "6\n"
     ]
    }
   ],
   "source": [
    "#wap to count the uppercase character from the string.\n",
    "\n",
    "st=\"PySPiDeRS\"\n",
    "count=0\n",
    "start=0\n",
    "end=len(st)\n",
    "while start<end:\n",
    "    if 'A'<=st[start]<='Z':\n",
    "        count+=1\n",
    "    start+=1\n",
    "print(count)"
   ]
  },
  {
   "cell_type": "code",
   "execution_count": 30,
   "metadata": {},
   "outputs": [
    {
     "name": "stdout",
     "output_type": "stream",
     "text": [
      "6\n"
     ]
    }
   ],
   "source": [
    "#wap to count the number of digits from given integer number.\n",
    "\n",
    "n=int(input(\"enter the integer value:\"))\n",
    "c=0\n",
    "while n!=0:\n",
    "    n=n//10\n",
    "    c+=1\n",
    "print(c)"
   ]
  },
  {
   "cell_type": "code",
   "execution_count": 38,
   "metadata": {},
   "outputs": [
    {
     "name": "stdout",
     "output_type": "stream",
     "text": [
      "10\n"
     ]
    }
   ],
   "source": [
    "# wap to sum of digits from given integer number.\n",
    "n = int(input(\"enter the integer value:\"))\n",
    "sum1 = 0\n",
    "while n != 0:\n",
    "    d = n%10  #extract the last digit\n",
    "    sum1+=d #add the new value to existing value\n",
    "    n=n//10 #eliminate the last digit\n",
    "print(sum1)\n"
   ]
  },
  {
   "cell_type": "code",
   "execution_count": 4,
   "metadata": {},
   "outputs": [
    {
     "name": "stdout",
     "output_type": "stream",
     "text": [
      "26 25 24 23 22 21 20 19 18 17 16 15 14 13 12 11 10 9 8 7 6 5 4 3 2 1 0 "
     ]
    }
   ],
   "source": [
    "#wap to print the reverse sequence of whole numbers from 26 to 0.\n",
    "start=26\n",
    "last=0\n",
    "while start>=last:\n",
    "    print(start,end=\" \")\n",
    "    start-=1"
   ]
  },
  {
   "cell_type": "code",
   "execution_count": 8,
   "metadata": {},
   "outputs": [
    {
     "name": "stdout",
     "output_type": "stream",
     "text": [
      "56 54 52 50 48 46 44 42 40 38 36 "
     ]
    }
   ],
   "source": [
    "# wap to print the even number from 56 to 36.\n",
    "start=56\n",
    "end=36\n",
    "while start>=end: \n",
    "    if start%2==0:\n",
    "        print(start,end=\" \")\n",
    "    start-=1\n"
   ]
  },
  {
   "cell_type": "code",
   "execution_count": 1,
   "metadata": {},
   "outputs": [
    {
     "name": "stdout",
     "output_type": "stream",
     "text": [
      "21\n"
     ]
    }
   ],
   "source": [
    "# wap to sum of digits from given integer number.\n",
    "n = int(input(\"enter the integer value:\"))\n",
    "sum1 = 0\n",
    "while n != 0:\n",
    "    d = n % 10  # extract the last digit\n",
    "    sum1 += d  # add the new value to existing value\n",
    "    n = n//10  # eliminate the last digit\n",
    "print(sum1)\n"
   ]
  },
  {
   "cell_type": "code",
   "execution_count": 3,
   "metadata": {},
   "outputs": [
    {
     "name": "stdout",
     "output_type": "stream",
     "text": [
      "4321\n"
     ]
    }
   ],
   "source": [
    "#wap to reverse the given number\n",
    "n=int(input(\"enter the integer value:\"))\n",
    "res=0\n",
    "while n!=0:\n",
    "    d=n%10\n",
    "    res=d+res*10\n",
    "    n=n//10\n",
    "print(res)"
   ]
  },
  {
   "cell_type": "code",
   "execution_count": 6,
   "metadata": {},
   "outputs": [
    {
     "name": "stdout",
     "output_type": "stream",
     "text": [
      "given value is not apalindrome\n"
     ]
    }
   ],
   "source": [
    "# wap to check whether given number is palindrome or not.\n",
    "n = int(input(\"enter the integer value:\"))\n",
    "temp=n\n",
    "res = 0\n",
    "while n != 0:\n",
    "    d = n % 10\n",
    "    res = d+res*10\n",
    "    n = n//10\n",
    "\n",
    "if temp==res:\n",
    "    print(\"given value is palindrome\")\n",
    "else:\n",
    "    print(\"given value is not a palindrome\")\n",
    "\n",
    "\n"
   ]
  },
  {
   "cell_type": "code",
   "execution_count": 8,
   "metadata": {},
   "outputs": [
    {
     "name": "stdout",
     "output_type": "stream",
     "text": [
      "24\n"
     ]
    }
   ],
   "source": [
    "#wap to product of all the digits from  given number.\n",
    "n = int(input(\"enter the integer value:\"))\n",
    "prod=1\n",
    "while n!=0:\n",
    "    d=n%10\n",
    "    prod=prod*d\n",
    "    n=n//10\n",
    "print(prod)\n"
   ]
  },
  {
   "cell_type": "code",
   "execution_count": 11,
   "metadata": {},
   "outputs": [
    {
     "name": "stdout",
     "output_type": "stream",
     "text": [
      "720\n"
     ]
    }
   ],
   "source": [
    "#wap to product the values from 1 to 5.\n",
    "#wap to print factorial of given number.\n",
    "\n",
    "start=1\n",
    "end=int(input(\"enter the integer number:\"))\n",
    "prod=1\n",
    "while start<=end:\n",
    "    prod=prod*start\n",
    "    start+=1\n",
    "print(prod)\n",
    "\n"
   ]
  },
  {
   "cell_type": "code",
   "execution_count": 12,
   "metadata": {},
   "outputs": [
    {
     "name": "stdout",
     "output_type": "stream",
     "text": [
      "1\n",
      "3\n",
      "5\n",
      "15\n"
     ]
    }
   ],
   "source": [
    "#wap to print the factors of given numbers.\n",
    "#wap to find out the factors of given number.\n",
    "\n",
    "n=int(input(\"enter the integer number:\"))\n",
    "start=1\n",
    "while start<=n:\n",
    "    if n%start==0:\n",
    "        print(start)\n",
    "    start+=1\n",
    "    "
   ]
  },
  {
   "cell_type": "code",
   "execution_count": 13,
   "metadata": {},
   "outputs": [
    {
     "name": "stdout",
     "output_type": "stream",
     "text": [
      "4\n"
     ]
    }
   ],
   "source": [
    "# wap to print the count the number of factors from given numbers.\n",
    "n = int(input(\"enter the integer number:\"))\n",
    "count=0\n",
    "start = 1\n",
    "while start <= n:\n",
    "    if n % start == 0:\n",
    "        count+=1\n",
    "    start += 1\n",
    "print(count)\n"
   ]
  },
  {
   "cell_type": "code",
   "execution_count": 17,
   "metadata": {},
   "outputs": [
    {
     "name": "stdout",
     "output_type": "stream",
     "text": [
      "given value is not a prefect number \n"
     ]
    }
   ],
   "source": [
    "#wap to sum of the factors is equal to given number or not. if conditional is satifised to print the given number is prefect or else to print the given number is not a prefect number.\n",
    "n = int(input(\"enter the integer number:\"))\n",
    "sum1=0\n",
    "start=1\n",
    "while start<n:\n",
    "    if n%start==0:\n",
    "        sum1=sum1+start\n",
    "    start+=1\n",
    "if sum1==n:\n",
    "    print(\"given value is prefect number\")\n",
    "else:\n",
    "    print(\"given value is not a prefect number \")\n"
   ]
  },
  {
   "cell_type": "code",
   "execution_count": 23,
   "metadata": {},
   "outputs": [
    {
     "name": "stdout",
     "output_type": "stream",
     "text": [
      "given value is prefect number 6\n",
      "given value is prefect number 28\n",
      "given value is prefect number 496\n"
     ]
    }
   ],
   "source": [
    "#wap to print the series of prefect numbers from 1 to 1000.\n",
    "i = 1\n",
    "j = 1000\n",
    "while i <= j:\n",
    "    n = i\n",
    "    sum1 = 0\n",
    "    start = 1\n",
    "    while start < n:\n",
    "        if n % start == 0:\n",
    "            sum1 = sum1+start\n",
    "        start += 1\n",
    "    if sum1 == n:\n",
    "        print(\"given value is prefect number\",sum1)\n",
    "    i+=1"
   ]
  },
  {
   "cell_type": "code",
   "execution_count": 27,
   "metadata": {},
   "outputs": [
    {
     "name": "stdout",
     "output_type": "stream",
     "text": [
      "1\n",
      "2\n",
      "6\n",
      "24\n",
      "120\n",
      "720\n",
      "5040\n",
      "40320\n",
      "362880\n",
      "3628800\n"
     ]
    }
   ],
   "source": [
    "#wap to print the series of factorial numbers from 1 to 10.\n",
    "i=1\n",
    "j=10\n",
    "while i<=j:\n",
    "    start=1\n",
    "    n=i\n",
    "    fact=1\n",
    "    while start<=n:\n",
    "        fact=fact*start\n",
    "        start+=1\n",
    "    print(fact)\n",
    "    i+=1\n",
    "\n"
   ]
  },
  {
   "cell_type": "code",
   "execution_count": 28,
   "metadata": {},
   "outputs": [
    {
     "name": "stdout",
     "output_type": "stream",
     "text": [
      "5 120\n",
      "4 24\n",
      "1 1\n"
     ]
    }
   ],
   "source": [
    "#wap to print the factorial of each digit from given number.\n",
    "n=int(input(\"enter the integer number:\"))\n",
    "while n!=0:\n",
    "    d=n%10\n",
    "    fact=1\n",
    "    start=1\n",
    "    while start<=d:\n",
    "        fact=fact*start\n",
    "        start+=1\n",
    "    print(d,fact)\n",
    "    n=n//10\n"
   ]
  },
  {
   "cell_type": "code",
   "execution_count": 29,
   "metadata": {},
   "outputs": [
    {
     "name": "stdout",
     "output_type": "stream",
     "text": [
      "145\n"
     ]
    }
   ],
   "source": [
    "# wap to sum of the factorial of each digit from given number.\n",
    "n = int(input(\"enter the integer number:\"))\n",
    "sum1=0\n",
    "while n != 0:\n",
    "    d = n % 10\n",
    "    fact = 1\n",
    "    start = 1\n",
    "    while start <= d:\n",
    "        fact = fact*start\n",
    "        start += 1\n",
    "    sum1=sum1+fact\n",
    "    n = n//10\n",
    "print(sum1)\n"
   ]
  },
  {
   "cell_type": "code",
   "execution_count": 30,
   "metadata": {},
   "outputs": [
    {
     "name": "stdout",
     "output_type": "stream",
     "text": [
      "given value is strong number\n"
     ]
    }
   ],
   "source": [
    "#wap to sum of the factorial of each digit from the given number. if sum of the factorial digits is equal to given number then to print the given number is a strong number or else given number is not a strong number.\n",
    "\n",
    "n = int(input(\"enter the integer number:\"))\n",
    "temp=n\n",
    "sum1 = 0\n",
    "while n != 0:\n",
    "    d = n % 10\n",
    "    fact = 1\n",
    "    start = 1\n",
    "    while start <= d:\n",
    "        fact = fact*start\n",
    "        start += 1\n",
    "    sum1 = sum1+fact\n",
    "    n = n//10\n",
    "if sum1==temp:\n",
    "    print(\"given value is strong number\")\n",
    "else:\n",
    "    print(\"given value is not a strong number\")\n"
   ]
  },
  {
   "cell_type": "code",
   "execution_count": 35,
   "metadata": {},
   "outputs": [
    {
     "name": "stdout",
     "output_type": "stream",
     "text": [
      "given value is strong number 1\n",
      "given value is strong number 2\n",
      "given value is strong number 145\n",
      "given value is strong number 40585\n"
     ]
    }
   ],
   "source": [
    "#WAP to print the series of strong numbers from 1 to 1000.\n",
    "x=1\n",
    "y=1000000\n",
    "while x<=y:   #generate the series numbers from 1 to 1000.\n",
    "    n = x\n",
    "    temp = n\n",
    "    sum1 = 0\n",
    "    while n != 0: #extract and eliminate the digits from number\n",
    "        d = n % 10\n",
    "        fact = 1\n",
    "        start = 1\n",
    "        while start <= d:  #find out the factorial number.\n",
    "            fact = fact*start\n",
    "            start += 1\n",
    "        sum1 = sum1+fact\n",
    "        n = n//10\n",
    "    if sum1 == temp:\n",
    "        print(\"given value is strong number\",sum1)\n",
    "    x+=1"
   ]
  },
  {
   "cell_type": "code",
   "execution_count": 20,
   "metadata": {},
   "outputs": [
    {
     "name": "stdout",
     "output_type": "stream",
     "text": [
      "1 2 3 4 5 6 7 8 9 10 11 12 13 14 15 16 17 18 19 20 21 22 23 24 25 26 27 28 29 30 31 32 33 34 35 36 37 38 39 40 41 42 43 44 45 46 47 48 49 50 51 52 53 54 55 56 57 58 59 60 61 62 63 64 65 66 67 68 69 70 71 72 73 74 75 76 77 78 79 80 81 82 83 84 85 86 87 88 89 90 91 92 93 94 95 96 97 98 99 100 "
     ]
    }
   ],
   "source": [
    "#wap to generate the sequence of values from 1 to 100\n",
    "start=1\n",
    "end=100\n",
    "while start<=end:\n",
    "    print(start,end=\" \")\n",
    "    start+=1"
   ]
  },
  {
   "cell_type": "code",
   "execution_count": 4,
   "metadata": {},
   "outputs": [
    {
     "name": "stdout",
     "output_type": "stream",
     "text": [
      "given number is not a prime\n"
     ]
    }
   ],
   "source": [
    "#wap to check whether given number is prime number or not.\n",
    "n=12\n",
    "start=1\n",
    "count=0\n",
    "while start<=n:\n",
    "    if n%start==0:\n",
    "        count+=1\n",
    "    start+=1\n",
    "if count==2:\n",
    "    print(\"given number is prime\")\n",
    "else:\n",
    "    print(\"given number is not a prime\")\n"
   ]
  },
  {
   "cell_type": "code",
   "execution_count": 6,
   "metadata": {},
   "outputs": [
    {
     "name": "stdout",
     "output_type": "stream",
     "text": [
      "given number is prime\n"
     ]
    }
   ],
   "source": [
    "# wap to check whether given number is prime number or not.\n",
    "n = 11\n",
    "start = 2\n",
    "count = 0\n",
    "while start < n:\n",
    "    if n % start == 0:\n",
    "        count += 1\n",
    "    start += 1\n",
    "if count == 0:\n",
    "    print(\"given number is prime\")\n",
    "else:\n",
    "    print(\"given number is not a prime\")\n"
   ]
  },
  {
   "cell_type": "code",
   "execution_count": 10,
   "metadata": {},
   "outputs": [
    {
     "name": "stdout",
     "output_type": "stream",
     "text": [
      "given number is prime\n"
     ]
    }
   ],
   "source": [
    "# wap to check whether given number is prime number or not.\n",
    "n = 11\n",
    "start = 2\n",
    "while start < n:\n",
    "    if n % start == 0:\n",
    "        print(\"given number is not a prime\")\n",
    "        break\n",
    "    start += 1\n",
    "else:\n",
    "    print(\"given number is prime\")\n",
    "    \n"
   ]
  },
  {
   "cell_type": "code",
   "execution_count": 11,
   "metadata": {},
   "outputs": [
    {
     "name": "stdout",
     "output_type": "stream",
     "text": [
      "0 1 2 3 5 7 11 13 17 19 23 29 31 37 41 43 47 53 59 61 67 71 73 79 83 89 97 "
     ]
    }
   ],
   "source": [
    "# wap to print the series of prime number's from 1 to 100.\n",
    "\n",
    "i=0\n",
    "j=100\n",
    "while i<=j:\n",
    "    n = i\n",
    "    start = 2\n",
    "    while start < n:\n",
    "        if n % start == 0:\n",
    "            break\n",
    "        start += 1\n",
    "    else:\n",
    "        print(n,end=\" \")\n",
    "    i+=1\n"
   ]
  },
  {
   "cell_type": "code",
   "execution_count": 22,
   "metadata": {},
   "outputs": [
    {
     "name": "stdout",
     "output_type": "stream",
     "text": [
      "7\n"
     ]
    }
   ],
   "source": [
    "# wap to print the no of prime number's in given range.\n",
    "\n",
    "i=int(input(\"enter the start value\"))\n",
    "temp=i\n",
    "j = int(input(\"enter the end value\"))\n",
    "count=0\n",
    "while i<=j:\n",
    "    n = i\n",
    "    start = 2\n",
    "    while start < n:\n",
    "        if n % start == 0:\n",
    "            break\n",
    "        start += 1\n",
    "    else:\n",
    "        count+=1\n",
    "    i+=1\n",
    "print(count)"
   ]
  },
  {
   "cell_type": "code",
   "execution_count": 25,
   "metadata": {},
   "outputs": [
    {
     "name": "stdout",
     "output_type": "stream",
     "text": [
      "7\n"
     ]
    }
   ],
   "source": [
    "# wap to print the no of not a prime number's in given range.\n",
    "i = int(input(\"enter the start value\"))\n",
    "j = int(input(\"enter the end value\"))\n",
    "temp=(j-i)+1\n",
    "count = 0\n",
    "while i <= j:\n",
    "    n = i\n",
    "    start = 2\n",
    "    while start < n:\n",
    "        if n % start == 0:\n",
    "            break\n",
    "        start += 1\n",
    "    else:\n",
    "        count += 1\n",
    "    i += 1\n",
    "print(temp-count)\n"
   ]
  },
  {
   "cell_type": "code",
   "execution_count": 27,
   "metadata": {},
   "outputs": [
    {
     "name": "stdout",
     "output_type": "stream",
     "text": [
      "4 6 8 9 10 "
     ]
    }
   ],
   "source": [
    "# wap to print the not a prime number's in given range.\n",
    "i = int(input(\"enter the start value\"))\n",
    "j = int(input(\"enter the end value\"))\n",
    "while i <= j:\n",
    "    n = i\n",
    "    start = 2\n",
    "    while start < n:\n",
    "        if n % start == 0:\n",
    "            print(n,end=' ')\n",
    "            break\n",
    "        start += 1\n",
    "    i += 1\n"
   ]
  },
  {
   "cell_type": "code",
   "execution_count": 28,
   "metadata": {},
   "outputs": [
    {
     "name": "stdout",
     "output_type": "stream",
     "text": [
      "5\n"
     ]
    }
   ],
   "source": [
    "# wap to print the no of not a prime number's in given range.\n",
    "i = int(input(\"enter the start value\"))\n",
    "j = int(input(\"enter the end value\"))\n",
    "count=0\n",
    "while i <= j:\n",
    "    n = i\n",
    "    start = 2\n",
    "    while start < n:\n",
    "        if n % start == 0:\n",
    "            count+=1\n",
    "            break\n",
    "        start += 1\n",
    "    i += 1\n",
    "print(count)\n"
   ]
  },
  {
   "cell_type": "code",
   "execution_count": 34,
   "metadata": {},
   "outputs": [
    {
     "name": "stdout",
     "output_type": "stream",
     "text": [
      "given number is not a armstrong number\n"
     ]
    }
   ],
   "source": [
    "#wap to count the number of digits in given number.\n",
    "n=int(input(\"enter the number:\"))\n",
    "temp=n\n",
    "temp1=n\n",
    "count=0\n",
    "while n:\n",
    "    n=n//10\n",
    "    count+=1\n",
    "\n",
    "# WAP to check given number is armstrong number or not.without type casting.\n",
    "sum1=0\n",
    "while temp:\n",
    "    d=temp%10\n",
    "    sum1=sum1+(d**count)\n",
    "    temp=temp//10\n",
    "if sum1==temp1:\n",
    "    print(\"given number is armstrong number\")\n",
    "else:\n",
    "    print(\"given number is not a armstrong number\")\n"
   ]
  },
  {
   "cell_type": "code",
   "execution_count": 36,
   "metadata": {},
   "outputs": [
    {
     "name": "stdout",
     "output_type": "stream",
     "text": [
      "153\n",
      "370\n",
      "371\n",
      "407\n",
      "1634\n"
     ]
    }
   ],
   "source": [
    "#wap to print the armstrong number's from 10 to 2000.\n",
    "i=10\n",
    "j=2000\n",
    "while i<=j:\n",
    "    n=i\n",
    "    temp=i\n",
    "    count = 0\n",
    "    while n:\n",
    "        n = n//10\n",
    "        count += 1\n",
    "    sum1 = 0\n",
    "    while temp:\n",
    "        d = temp % 10\n",
    "        sum1 = sum1+(d**count)\n",
    "        temp = temp//10\n",
    "    if sum1 == i:\n",
    "        print(sum1)\n",
    "    i+=1\n"
   ]
  },
  {
   "cell_type": "code",
   "execution_count": 7,
   "metadata": {},
   "outputs": [
    {
     "name": "stdout",
     "output_type": "stream",
     "text": [
      "0 1 1 2 3 5 8 13 21 34 55 89 144 233 377 610 987 1597 2584 4181 6765 10946 17711 28657 46368 75025 121393 196418 317811 514229 832040 1346269 2178309 3524578 5702887 9227465 14930352 24157817 39088169 63245986 102334155 165580141 267914296 433494437 701408733 1134903170 1836311903 2971215073 4807526976 7778742049 12586269025 20365011074 32951280099 53316291173 86267571272 139583862445 225851433717 365435296162 591286729879 956722026041 1548008755920 2504730781961 4052739537881 6557470319842 10610209857723 17167680177565 27777890035288 44945570212853 72723460248141 117669030460994 190392490709135 308061521170129 498454011879264 806515533049393 1304969544928657 2111485077978050 3416454622906707 5527939700884757 8944394323791464 14472334024676221 23416728348467685 37889062373143906 61305790721611591 99194853094755497 160500643816367088 259695496911122585 420196140727489673 679891637638612258 1100087778366101931 1779979416004714189 2880067194370816120 4660046610375530309 7540113804746346429 12200160415121876738 19740274219868223167 31940434634990099905 51680708854858323072 83621143489848422977 135301852344706746049 218922995834555169026 "
     ]
    }
   ],
   "source": [
    "#wap to print the nth fibonacci series. \n",
    "a=0\n",
    "b=1\n",
    "print(a,b,end=\" \")\n",
    "start=3\n",
    "n=int(input(\"enter the value:\"))\n",
    "while start<=n:\n",
    "    c=a+b\n",
    "    a=b\n",
    "    b=c\n",
    "    print(c,end=\" \")\n",
    "    start+=1"
   ]
  },
  {
   "cell_type": "code",
   "execution_count": 3,
   "metadata": {},
   "outputs": [
    {
     "name": "stdout",
     "output_type": "stream",
     "text": [
      "3 9 12 21 33 "
     ]
    }
   ],
   "source": [
    "#wap to print the nth fibonacci series based user inputs. \n",
    "\n",
    "a = int(input(\"enter the value:\"))\n",
    "b = int(input(\"enter the value:\"))\n",
    "print(a,b,end=\" \")\n",
    "start=3\n",
    "n=int(input(\"enter the value:\"))\n",
    "while start<=n:\n",
    "    c=a+b\n",
    "    a=b\n",
    "    b=c\n",
    "    print(c,end=\" \")\n",
    "    start+=1"
   ]
  },
  {
   "cell_type": "code",
   "execution_count": 4,
   "metadata": {},
   "outputs": [
    {
     "name": "stdout",
     "output_type": "stream",
     "text": [
      "3 "
     ]
    }
   ],
   "source": [
    "# wap to print the nth fibonacci number.\n",
    "a = 0\n",
    "b = 1\n",
    "start = 3\n",
    "n = int(input(\"enter the value:\"))\n",
    "while start <= n:\n",
    "    c = a+b\n",
    "    a = b\n",
    "    b = c\n",
    "    start += 1\n",
    "print(c, end=\" \")\n",
    "\n",
    "\n"
   ]
  },
  {
   "cell_type": "code",
   "execution_count": 6,
   "metadata": {},
   "outputs": [
    {
     "name": "stdout",
     "output_type": "stream",
     "text": [
      "3\n",
      "given nth fibo number is not a prefect number\n"
     ]
    }
   ],
   "source": [
    "#wap to check whether nth fibonacci number is prefect number or not.\n",
    "\n",
    "a = 0\n",
    "b = 1\n",
    "start = 3\n",
    "n = int(input(\"enter the value:\"))\n",
    "while start <= n:\n",
    "    c = a+b\n",
    "    a = b\n",
    "    b = c\n",
    "    start += 1\n",
    "print(c)\n",
    "\n",
    "sum1=0\n",
    "start=1\n",
    "while start<c:\n",
    "    if n%start==0:\n",
    "        sum1+=start\n",
    "    start+=1\n",
    "if sum1==c:\n",
    "    print(\"given nth fibo number is a prefect number\")\n",
    "else:\n",
    "    print(\"given nth fibo number is not a prefect number\"\n"
   ]
  },
  {
   "cell_type": "code",
   "execution_count": 2,
   "metadata": {},
   "outputs": [
    {
     "name": "stdout",
     "output_type": "stream",
     "text": [
      "h e l l o w o r l d "
     ]
    }
   ],
   "source": [
    "#wap to print the all the characaters from given string. \n",
    "\n",
    "st=\"helloworld\"\n",
    "start=0\n",
    "end=len(st)\n",
    "while start<end:\n",
    "    print(st[start],end=\" \")\n",
    "    start+=1"
   ]
  },
  {
   "cell_type": "code",
   "execution_count": 3,
   "metadata": {},
   "outputs": [
    {
     "name": "stdout",
     "output_type": "stream",
     "text": [
      "1 2 3 str [10, 20] {1: 20} "
     ]
    }
   ],
   "source": [
    "#wap to print the all the data items from given list. \n",
    "\n",
    "st=[1,2,3,'str',[10,20],{1:20}]\n",
    "start=0\n",
    "end=len(st)\n",
    "while start<end:\n",
    "    print(st[start],end=\" \")\n",
    "    start+=1"
   ]
  },
  {
   "cell_type": "code",
   "execution_count": 4,
   "metadata": {},
   "outputs": [
    {
     "name": "stdout",
     "output_type": "stream",
     "text": [
      "1 2 3 str [10, 20] {1: 20} "
     ]
    }
   ],
   "source": [
    "#wap to print the all the data items from given tuple. \n",
    "\n",
    "st=(1,2,3,'str',[10,20],{1:20})\n",
    "start=0\n",
    "end=len(st)\n",
    "while start<end:\n",
    "    print(st[start],end=\" \")\n",
    "    start+=1"
   ]
  },
  {
   "cell_type": "code",
   "execution_count": 7,
   "metadata": {},
   "outputs": [
    {
     "name": "stdout",
     "output_type": "stream",
     "text": [
      "1 2 3 (1, 2) str (10, 20) "
     ]
    }
   ],
   "source": [
    "#wap to print the all the data items from given set. \n",
    "\n",
    "st={1,2,3,'str',(10,20),(1,2)}\n",
    "st=list(st)\n",
    "start=0\n",
    "end=len(st)\n",
    "while start<end:\n",
    "    print(st[start],end=\" \")\n",
    "    start+=1"
   ]
  },
  {
   "cell_type": "code",
   "execution_count": 8,
   "metadata": {},
   "outputs": [
    {
     "name": "stdout",
     "output_type": "stream",
     "text": [
      "2 str (1, 2) "
     ]
    }
   ],
   "source": [
    "#wap to print the all the data items from given dict. \n",
    "\n",
    "st={1:2,3:'str',(10,20):(1,2)}\n",
    "s=list(st)\n",
    "start=0\n",
    "end=len(st)\n",
    "while start<end:\n",
    "    print(st[s[start]],end=\" \")\n",
    "    start+=1"
   ]
  },
  {
   "cell_type": "code",
   "execution_count": 10,
   "metadata": {},
   "outputs": [
    {
     "name": "stdout",
     "output_type": "stream",
     "text": [
      "S R E D I P S Y P   O T   E M O C L E W "
     ]
    }
   ],
   "source": [
    "#wap to print the all the data items from given string in reverse order. \n",
    "\n",
    "st=\"WELCOME TO PYSPIDERS\"\n",
    "start=-1\n",
    "end=-len(st)\n",
    "while start>=end:\n",
    "    print(st[start],end=\" \")\n",
    "    start-=1"
   ]
  },
  {
   "cell_type": "code",
   "execution_count": 116,
   "metadata": {},
   "outputs": [],
   "source": [
    "#wap to print the all the data items from given string in reverse order. \n",
    "\n",
    "st=\"WELCOME TO PYSPIDERS\"\n",
    "end=-1\n",
    "start=-len(st)\n",
    "while start>=end:\n",
    "    print(st[start],end=\" \")\n",
    "    start+=1"
   ]
  },
  {
   "cell_type": "code",
   "execution_count": 11,
   "metadata": {},
   "outputs": [
    {
     "name": "stdout",
     "output_type": "stream",
     "text": [
      "EOEOIE\n"
     ]
    }
   ],
   "source": [
    "#wap to extract and store the vowels from given string.\n",
    "st=\"WELCOME TO PYSPIDERS\"\n",
    "res=\"\"\n",
    "start=0\n",
    "end=len(st)\n",
    "while start<end:\n",
    "    if st[start] in 'AEIOUaeiou':\n",
    "        res+=st[start]\n",
    "    start+=1\n",
    "\n",
    "print(res)"
   ]
  },
  {
   "cell_type": "code",
   "execution_count": 12,
   "metadata": {},
   "outputs": [
    {
     "name": "stdout",
     "output_type": "stream",
     "text": [
      "123456987\n"
     ]
    }
   ],
   "source": [
    "#wap to extract and store the ascii numbers from given string.\n",
    "st=\"WELCOME123 TO456 PYSP987IDERS\"\n",
    "res=\"\"\n",
    "start=0\n",
    "end=len(st)\n",
    "while start<end:\n",
    "    if '0'<=st[start]<='9':\n",
    "        res+=st[start]\n",
    "    start+=1\n",
    "print(res)"
   ]
  },
  {
   "cell_type": "code",
   "execution_count": 14,
   "metadata": {},
   "outputs": [
    {
     "name": "stdout",
     "output_type": "stream",
     "text": [
      "*123* 456$ #987@*\n"
     ]
    }
   ],
   "source": [
    "#wap to extract and store the ascii numbers as well as special characters from given string.\n",
    "st=\"*WELCOME123* TO456$ #PYSP987IDERS@*\"\n",
    "res=\"\"\n",
    "start=0\n",
    "end=len(st)\n",
    "while start<end:\n",
    "    if not('A'<=st[start]<='Z' or 'a'<=st[start]<='z'):\n",
    "        res+=st[start]\n",
    "    start+=1\n",
    "print(res)\n",
    "\n"
   ]
  },
  {
   "cell_type": "code",
   "execution_count": 13,
   "metadata": {},
   "outputs": [
    {
     "name": "stdout",
     "output_type": "stream",
     "text": [
      "WOETPSDR\n"
     ]
    }
   ],
   "source": [
    "#wap to extract and store the even position uppercase characters from given string.\n",
    "st=\"*WElCOmE123* tO456$ #PySP987IdErS@*\"\n",
    "res=''\n",
    "start=0\n",
    "end=len(st)\n",
    "while start<end:\n",
    "    if start%2!=0 and 'A'<=st[start]<='Z':\n",
    "        res+=st[start]\n",
    "    start+=1\n",
    "print(res)\n"
   ]
  },
  {
   "cell_type": "code",
   "execution_count": 17,
   "metadata": {},
   "outputs": [
    {
     "name": "stdout",
     "output_type": "stream",
     "text": [
      "WECOEOPSPIES\n",
      "lmtydr\n",
      "123456987\n",
      "** $ #@*\n"
     ]
    }
   ],
   "source": [
    "#wap to seperated the all the characters from given string.\n",
    "st=\"*WElCOmE123* tO456$ #PySP987IdErS@*\"\n",
    "uc,lc,an,sp=\"\",\"\",\"\",\"\"\n",
    "start=0\n",
    "end=len(st)\n",
    "while start<end:\n",
    "    if 'A'<=st[start]<='Z':\n",
    "        uc+=st[start]\n",
    "    elif 'a'<=st[start]<='z':\n",
    "        lc+=st[start]\n",
    "    elif '0'<=st[start]<='9':\n",
    "        an+=st[start]\n",
    "    else:\n",
    "        sp+=st[start]\n",
    "    start+=1\n",
    "\n",
    "print(uc)\n",
    "print(lc)\n",
    "print(an)\n",
    "print(sp)"
   ]
  },
  {
   "cell_type": "code",
   "execution_count": 19,
   "metadata": {},
   "outputs": [
    {
     "name": "stdout",
     "output_type": "stream",
     "text": [
      "4\n"
     ]
    }
   ],
   "source": [
    "#wap to count the no of times given character is occurence in given string.\n",
    "st=\"Welcome to pyspiders e\"\n",
    "s='e'\n",
    "count=0\n",
    "start=0\n",
    "end=len(st)\n",
    "while start<end:\n",
    "    if s == st[start]:\n",
    "        count+=1\n",
    "    start+=1\n",
    "print(count)\n"
   ]
  },
  {
   "cell_type": "code",
   "execution_count": 21,
   "metadata": {},
   "outputs": [
    {
     "name": "stdout",
     "output_type": "stream",
     "text": [
      "HELOWRD\n",
      "H1E1L3O2W1R1D1\n"
     ]
    }
   ],
   "source": [
    "#wap to eliminate the duplicate characters from given string.\n",
    "st=\"HELLOWORLD\"\n",
    "res=''\n",
    "start=0\n",
    "end=len(st)\n",
    "while start<end:\n",
    "    if st[start] not in res:\n",
    "        res+=st[start]\n",
    "    start+=1\n",
    "print(res)\n",
    "\n",
    "#wap to find out the frequency of each character from given string.\n",
    "temp=''\n",
    "i=0\n",
    "j=len(res)\n",
    "while i<j:\n",
    "    count=0\n",
    "    x=0\n",
    "    y=len(st)\n",
    "    while x<y:\n",
    "        if res[i]==st[x]:\n",
    "            count+=1\n",
    "        x+=1\n",
    "    temp+=res[i]+str(count)\n",
    "    i+=1\n",
    "print(temp)\n",
    "    \n"
   ]
  },
  {
   "cell_type": "code",
   "execution_count": 26,
   "metadata": {},
   "outputs": [
    {
     "name": "stdout",
     "output_type": "stream",
     "text": [
      "3\n"
     ]
    }
   ],
   "source": [
    "#wap to count the duplicate characters from given string.\n",
    "st=\"HELLOWORLD\"\n",
    "res=''\n",
    "start=0\n",
    "count=0\n",
    "end=len(st)\n",
    "while start<end:\n",
    "    if st[start] not in res:\n",
    "        res+=st[start]\n",
    "    else:\n",
    "        count+=1\n",
    "    start+=1\n",
    "print(count)"
   ]
  },
  {
   "cell_type": "code",
   "execution_count": 7,
   "metadata": {},
   "outputs": [
    {
     "name": "stdout",
     "output_type": "stream",
     "text": [
      "{'H': 1, 'E': 1, 'L': 3, 'O': 2, 'W': 1, 'R': 1, 'D': 1}\n",
      "H1E1L3O2W1R1D1\n"
     ]
    }
   ],
   "source": [
    "\n",
    "#wap to find out the frequency of each character from given string.\n",
    "st=\"HELLOWORLD\"\n",
    "d={}\n",
    "\n",
    "start=0\n",
    "end=len(st)\n",
    "while start<end:\n",
    "    if st[start] not in d:\n",
    "        d[st[start]]=1\n",
    "    else:\n",
    "        d[st[start]]+=1\n",
    "    start+=1\n",
    "print(d)\n",
    "\n",
    "s=\"\"\n",
    "l=list(d)\n",
    "i=0\n",
    "j=len(l)\n",
    "while i<j:\n",
    "    s+=l[i]+str(d[l[i]])\n",
    "    i+=1\n",
    "print(s)\n"
   ]
  },
  {
   "cell_type": "code",
   "execution_count": 8,
   "metadata": {},
   "outputs": [
    {
     "name": "stdout",
     "output_type": "stream",
     "text": [
      "{'H': 1, 'E': 1, 'L': 3, 'O': 2, 'W': 1, 'R': 1, 'D': 1}\n",
      "H1E1L3O2W1R1D1\n",
      "L 3\n"
     ]
    }
   ],
   "source": [
    "#wap to find out the highest frequency character from given string and display the character and count.\n",
    "st=\"HELLOWORLD\"\n",
    "d={}\n",
    "start=0\n",
    "end=len(st)\n",
    "while start<end:\n",
    "    if st[start] not in d:\n",
    "        d[st[start]]=1\n",
    "    else:\n",
    "        d[st[start]]+=1\n",
    "    start+=1\n",
    "print(d)\n",
    "\n",
    "high=0\n",
    "ch=\"\"\n",
    "s=\"\"\n",
    "l=list(d)\n",
    "i=0\n",
    "j=len(l)\n",
    "while i<j:\n",
    "    if high<d[l[i]]:\n",
    "        high=d[l[i]]\n",
    "        ch=l[i]\n",
    "    s+=l[i]+str(d[l[i]])\n",
    "    i+=1\n",
    "print(s)\n",
    "print(ch,high)"
   ]
  },
  {
   "cell_type": "code",
   "execution_count": 12,
   "metadata": {},
   "outputs": [
    {
     "name": "stdout",
     "output_type": "stream",
     "text": [
      "{'H': 2, 'E': 1, 'L': 3, 'O': 2, 'W': 1, 'R': 1, 'D': 1}\n",
      "H2E1L3O2W1R1D1\n",
      "E1W1R1D1\n"
     ]
    }
   ],
   "source": [
    "#wap to find out the first lowest frequency character from given string and display the character and count.\n",
    "st=\"HHELLOWORLD\"\n",
    "d={}\n",
    "\n",
    "start=0\n",
    "end=len(st)\n",
    "while start<end:\n",
    "    if st[start] not in d:\n",
    "        d[st[start]]=1\n",
    "    else:\n",
    "        d[st[start]]+=1\n",
    "    start+=1\n",
    "print(d)\n",
    "low=len(st)\n",
    "ch=\"\"\n",
    "s=\"\"\n",
    "l=list(d)\n",
    "i=0\n",
    "j=len(l)\n",
    "while i<j:\n",
    "    if low>d[l[i]]:\n",
    "        low=d[l[i]]\n",
    "        ch=l[i]+str(d[l[i]])\n",
    "    elif low==d[l[i]]:\n",
    "        ch+=l[i]+str(d[l[i]])\n",
    "    s+=l[i]+str(d[l[i]])\n",
    "    i+=1\n",
    "print(s)\n",
    "print(ch)\n"
   ]
  },
  {
   "cell_type": "code",
   "execution_count": 18,
   "metadata": {},
   "outputs": [
    {
     "name": "stdout",
     "output_type": "stream",
     "text": [
      "H2E2L2O2W2R2D5\n",
      "H2E2L2O2W2R2\n"
     ]
    }
   ],
   "source": [
    "#wap to extract the lowest common values form the given dict. and to display the keys with count values,   \n",
    "d={'H': 2, 'E': 2, 'L': 2, 'O': 2, 'W': 2, 'R': 2, 'D': 5}\n",
    "low=len(d)\n",
    "ch=\"\"\n",
    "s=\"\"\n",
    "l=list(d)\n",
    "i=0\n",
    "j=len(l)\n",
    "while i<j:\n",
    "    if low>d[l[i]]:\n",
    "        low=d[l[i]]\n",
    "        ch=l[i]+str(d[l[i]])\n",
    "    elif low==d[l[i]]:\n",
    "        ch+=l[i]+str(d[l[i]])\n",
    "    s+=l[i]+str(d[l[i]])\n",
    "    i+=1\n",
    "print(s)\n",
    "print(ch)"
   ]
  },
  {
   "cell_type": "code",
   "execution_count": 21,
   "metadata": {},
   "outputs": [
    {
     "name": "stdout",
     "output_type": "stream",
     "text": [
      "H2E2L2O2W2R5D5\n",
      "R5D5\n"
     ]
    }
   ],
   "source": [
    "#wap to extract the highest common values form the given dict. and to display the keys with count values,   \n",
    "d={'H': 2, 'E': 2, 'L': 2, 'O': 2, 'W': 2, 'R': 5, 'D': 5}\n",
    "high=0\n",
    "ch=\"\"\n",
    "s=\"\"\n",
    "l=list(d)\n",
    "i=0\n",
    "j=len(l)\n",
    "while i<j:\n",
    "    if high<d[l[i]]:\n",
    "        high=d[l[i]]\n",
    "        ch=l[i]+str(d[l[i]])\n",
    "    elif high==d[l[i]]:\n",
    "        ch+=l[i]+str(d[l[i]])\n",
    "    s+=l[i]+str(d[l[i]])\n",
    "    i+=1\n",
    "print(s)\n",
    "print(ch)"
   ]
  },
  {
   "cell_type": "code",
   "execution_count": 22,
   "metadata": {},
   "outputs": [
    {
     "name": "stdout",
     "output_type": "stream",
     "text": [
      "unique characaters HELOWRD\n",
      "duplicate characters LOL\n"
     ]
    }
   ],
   "source": [
    "#wap to extract the duplicate characters from given string.\n",
    "st=\"HELLOWORLD\"\n",
    "start=0\n",
    "res=\"\"\n",
    "dup=\"\"\n",
    "end=len(st)\n",
    "while start<end:\n",
    "    if st[start] not in res:\n",
    "        res+=st[start]\n",
    "    else:\n",
    "        dup+=st[start]\n",
    "    start+=1\n",
    "print(\"unique characaters\",res)\n",
    "print(\"duplicate characters\",dup)\n",
    "\n",
    "\n"
   ]
  },
  {
   "cell_type": "code",
   "execution_count": 32,
   "metadata": {},
   "outputs": [
    {
     "name": "stdout",
     "output_type": "stream",
     "text": [
      "A B C D E F G H I J K L M N O P Q R S T U V W X Y Z \n",
      "a b c d e f g h i j k l m n o p q r s t u v w x y z \n",
      "0 1 2 3 4 5 6 7 8 9 \n",
      "\u0000 \u0001 \u0002 \u0003 \u0004 \u0005 \u0006 \u0007 \t \n",
      " \u000e \u000f \u0010 \u0011 \u0012 \u0013 \u0014 \u0015 \u0016 \u0017 \u0018 \u0019 \u001a \u001b \u001c \u001d \u001e \u001f   ! \" # $ % & ' ( ) * + , - . / 0 1 2 3 4 5 6 7 8 9 : ; < = > ? @ A B C D E F G H I J K L M N O P Q R S T U V W X Y Z [ \\ ] ^ _ ` a b c d e f g h i j k l m n o p q r s t u v w x y z { | } ~  \n"
     ]
    }
   ],
   "source": [
    "#wap to print the ascii characters from given range  using function.\n",
    "\n",
    "#procedural programming language\n",
    "\n",
    "# start=48\n",
    "# end=57\n",
    "# while start<=end:\n",
    "#     print(chr(start),end=\" \")\n",
    "#     start+=1\n",
    "\n",
    "#functional programming language\n",
    "\n",
    "def alphabets(start,end):\n",
    "    while start<=end:\n",
    "        print(chr(start),end=\" \")\n",
    "        start+=1\n",
    "    print()\n",
    "alphabets(65,90)\n",
    "alphabets(97,122)\n",
    "alphabets(48,57)\n",
    "alphabets(0,127)"
   ]
  },
  {
   "cell_type": "code",
   "execution_count": 37,
   "metadata": {},
   "outputs": [
    {
     "name": "stdout",
     "output_type": "stream",
     "text": [
      "4\n",
      "3\n",
      "3\n"
     ]
    }
   ],
   "source": [
    "#wap to count the no of times given element is present in given collection.\n",
    "\n",
    "\n",
    "def ucount(coll,ele):\n",
    "    start=0\n",
    "    count=0\n",
    "    while start<len(coll):\n",
    "        if ele==coll[start]:\n",
    "            count+=1\n",
    "        start+=1\n",
    "    return count\n",
    "\n",
    "print(ucount([1,2,3,1,4,5,1,1],1))\n",
    "print(ucount(\"hello world\",'l'))\n",
    "print(ucount((10,\"str\",20,15,20,16,10,80,20),20))"
   ]
  },
  {
   "cell_type": "code",
   "execution_count": 97,
   "metadata": {},
   "outputs": [
    {
     "name": "stdout",
     "output_type": "stream",
     "text": [
      "3\n",
      "2\n",
      "1\n",
      "3\n",
      "------------------------------\n",
      "3\n",
      "2\n",
      "1\n",
      "0\n"
     ]
    }
   ],
   "source": [
    "#count(): it is predefined string function.\n",
    "#this function will accept four argument 1)collection, element, startindex, endindex values.\n",
    "#based on the with range value or without the range value, \n",
    "#it return number of times given element is repetated in given collection\n",
    "#it returns integer count value based on element occurs.\n",
    "# syntax:     varname.count(element,startindex,endindex) -----> it returns int value.\n",
    "\n",
    "l=\"helloworld\"\n",
    "print(l.count('l'))\n",
    "print(l.count('l',3))\n",
    "print(l.count('l',3,8))\n",
    "print(l.count('l',0,80))\n",
    "\n",
    "print('-'*30)\n",
    "# #wap to count the no of times given element is present in range of given collection.\n",
    "\n",
    "def ucount(coll,ele,start=0,end=None):\n",
    "    if end==None:\n",
    "        end=len(coll)\n",
    "    count=0\n",
    "    while start<end:\n",
    "        if start==len(coll):\n",
    "            return count\n",
    "        if ele==coll[start]:\n",
    "            count+=1\n",
    "        start+=1\n",
    "    return count\n",
    "print(ucount(l,'l'))\n",
    "print(ucount(l,'l',3))\n",
    "print(ucount(l,'l',3,8))\n",
    "print(ucount(l,'l',0,80))\n",
    "\n"
   ]
  },
  {
   "cell_type": "code",
   "execution_count": 9,
   "metadata": {},
   "outputs": [
    {
     "name": "stdout",
     "output_type": "stream",
     "text": [
      "welcome @#& to 123 python class\n",
      "welcome @#& to 123 python class\n"
     ]
    }
   ],
   "source": [
    "#wap to convert uppercase to lowercase from given string.\n",
    "\n",
    "st=\"WELCOME @#& TO 123 PYTHON class\"\n",
    "print(st.lower()) \n",
    "\n",
    "#lower(): it is predefine  string function\n",
    "#this function will convert uppercase characters to lowercase characters.\n",
    "#it will consider only uppercase characters.\n",
    "#this function will not accept any additional arguments.\n",
    "#it will return converted output in form of lower case characters. \n",
    "\n",
    "st=\"WELCOME @#& TO 123 PYTHON class\"\n",
    "def u_lower(coll):\n",
    "    if type(coll)!=str:\n",
    "        raise AttributeError(\"This function will accept only string data type.\")\n",
    "    start=0\n",
    "    res=\"\"\n",
    "    end=len(coll)\n",
    "    while start<end:\n",
    "        if 'A'<=coll[start]<='Z':\n",
    "            res+=chr(ord(coll[start])+32)\n",
    "        else:\n",
    "            res+=coll[start]\n",
    "        start+=1\n",
    "    return res\n",
    "temp=u_lower(st)\n",
    "print(temp)\n",
    "\n"
   ]
  },
  {
   "cell_type": "code",
   "execution_count": 21,
   "metadata": {},
   "outputs": [
    {
     "name": "stdout",
     "output_type": "stream",
     "text": [
      "welcome\n"
     ]
    }
   ],
   "source": [
    "#wap to convert uppercase to lowercase from given string with in the range and display the converted value.\n",
    "st=\"WELCOME @#& TO 123 PYTHON class\"\n",
    "def u_lower(coll,start=0,end=None):\n",
    "    if type(coll)!=str:\n",
    "       return -1\n",
    "    if end==None:\n",
    "        end=len(coll)\n",
    "    res=\"\"\n",
    "    while start<end:\n",
    "        if 'A'<=coll[start]<='Z':\n",
    "            res+=chr(ord(coll[start])+32)\n",
    "        else:\n",
    "            res+=coll[start]\n",
    "        start+=1\n",
    "    return res\n",
    "temp=u_lower(st,0,7)\n",
    "print(temp)"
   ]
  },
  {
   "cell_type": "code",
   "execution_count": 14,
   "metadata": {},
   "outputs": [
    {
     "name": "stdout",
     "output_type": "stream",
     "text": [
      "WELcome #tO123 PYTHON class\n"
     ]
    }
   ],
   "source": [
    "#wap to convert uppercase to lowercase from given string with in the range and .\n",
    "st=\"WELCOME #TO123 PYTHON class\"\n",
    "def u_lower(coll,start=0,end=None):\n",
    "    if type(coll)!=str:\n",
    "        raise AttributeError(\"This function will accept only string data type.\")\n",
    "    if end==None:\n",
    "        end=len(coll)\n",
    "    res=\"\"\n",
    "    i=0\n",
    "    j=len(coll)\n",
    "    while i<j:\n",
    "        if start<=i<=end:\n",
    "            if 'A'<=coll[i]<='Z':\n",
    "                res+=chr(ord(coll[i])+32)\n",
    "            else:\n",
    "                res+=coll[i]\n",
    "        else:\n",
    "            res+=coll[i]\n",
    "        i+=1\n",
    "    return res\n",
    "temp=u_lower(st,3,9)\n",
    "print(temp)"
   ]
  },
  {
   "cell_type": "code",
   "execution_count": null,
   "metadata": {},
   "outputs": [],
   "source": [
    "#wap to convert uppercase to lowercase for even index position characters from given string.\n",
    "#wap to convert uppercase to lowercase only for vowels characters from given string."
   ]
  },
  {
   "cell_type": "code",
   "execution_count": 25,
   "metadata": {},
   "outputs": [
    {
     "name": "stdout",
     "output_type": "stream",
     "text": [
      "WELCOME @#& TO 123 PYTHON CLASS\n",
      "WELCOME @#& TO 123 PYTHON CLASS\n"
     ]
    }
   ],
   "source": [
    "st=\"WELCOME @#& To 123 PYthON class\"\n",
    "print(st.upper()) \n",
    "\n",
    "#Upper(): it is predefine  string function\n",
    "#this function will convert lowercase characters to uppercase characters.\n",
    "#it will consider only lowercase characters.\n",
    "#this function will not accept any additional arguments.\n",
    "#it will return converted output in form of uppercase characters. \n",
    "\n",
    "st=\"WELCOME @#& TO 123 PYTHON class\"\n",
    "def u_upper(coll):\n",
    "    if type(coll)!=str:\n",
    "        raise AttributeError(\"This function will accept only string data type.\")\n",
    "    start=0\n",
    "    res=\"\"\n",
    "    end=len(coll)\n",
    "    while start<end:\n",
    "        if 'a'<=coll[start]<='z':\n",
    "            res+=chr(ord(coll[start])-32)\n",
    "        else:\n",
    "            res+=coll[start]\n",
    "        start+=1\n",
    "    return res\n",
    "temp=u_upper(st)\n",
    "print(temp)"
   ]
  },
  {
   "cell_type": "code",
   "execution_count": 35,
   "metadata": {},
   "outputs": [
    {
     "name": "stdout",
     "output_type": "stream",
     "text": [
      "True\n",
      "True\n"
     ]
    }
   ],
   "source": [
    "#wap to check whether given string is uppercase or not.\n",
    "st=\"WELCOME @#& TO 123 PYTHON CLASS\"\n",
    "print(st.isupper()) \n",
    "\n",
    "#isupper(): it is predefine  string function\n",
    "#this function will check given entire string is uppercase characters or not.\n",
    "#if uppercase characters it will return True otherwise False\n",
    "#it will consider only uppercase characters.\n",
    "#this function will not accept any additional arguments.\n",
    "\n",
    "def u_isupper(coll):\n",
    "    if type(coll)!=str:\n",
    "        return -1\n",
    "    start=0\n",
    "    while start<len(coll):\n",
    "        if 'a'<=coll[start]<='z':\n",
    "            return False\n",
    "        start+=1\n",
    "    return True\n",
    "\n",
    "\n",
    "st=\"WELCOME @#& TO 123 PYTHON CLASS\"\n",
    "print(u_isupper(st))\n"
   ]
  },
  {
   "cell_type": "code",
   "execution_count": 44,
   "metadata": {},
   "outputs": [
    {
     "name": "stdout",
     "output_type": "stream",
     "text": [
      "True\n",
      "True\n"
     ]
    }
   ],
   "source": [
    "#wap to check whether given string is lowercase or not.\n",
    "st=\"welcome to python\"\n",
    "print(st.islower()) \n",
    "\n",
    "#islower(): it is predefine  string function\n",
    "#this function will check given entire string is lowercase characters or not.\n",
    "#if lowercase characters it will return True otherwise False\n",
    "#it will consider only lowercase characters.\n",
    "#this function will not accept any additional arguments.\n",
    "\n",
    "def u_islower(coll):\n",
    "    if type(coll)!=str:\n",
    "        return -1\n",
    "    start=0\n",
    "    while start<len(coll):\n",
    "        if 'A'<=coll[start]<='Z':\n",
    "            return False\n",
    "        start+=1\n",
    "    return True\n",
    "\n",
    "\n",
    "st=\"welcome to python@123\"\n",
    "print(u_islower(st))\n"
   ]
  },
  {
   "cell_type": "code",
   "execution_count": 1,
   "metadata": {},
   "outputs": [
    {
     "name": "stdout",
     "output_type": "stream",
     "text": [
      "True\n",
      "True\n"
     ]
    }
   ],
   "source": [
    "#wap to check whether given string is alphabets or not.\n",
    "st=\"welcometopython\"\n",
    "print(st.isalpha()) \n",
    "\n",
    "#isalpha(): it is predefine  string function\n",
    "#this function will check given entire string is lowercase and/or uppercase characters or not.\n",
    "#if only alphabets it will return True otherwise False\n",
    "#it will consider only lowercase or uppercase characters.\n",
    "#this function will not accept any additional arguments.\n",
    "\n",
    "def u_isalpha(coll):\n",
    "    if type(coll)!=str:\n",
    "        return -1\n",
    "    start=0\n",
    "    while start<len(coll):\n",
    "        if not('A'<=coll[start]<='Z' or 'a'<=coll[start]<='z'):\n",
    "            return False\n",
    "        start+=1\n",
    "    return True\n",
    "\n",
    "\n",
    "st=\"welcometopython\"\n",
    "print(u_isalpha(st))"
   ]
  },
  {
   "cell_type": "code",
   "execution_count": 7,
   "metadata": {},
   "outputs": [
    {
     "name": "stdout",
     "output_type": "stream",
     "text": [
      "False\n",
      "False\n"
     ]
    }
   ],
   "source": [
    "#wap to check whether given string is alphanumeric or not.\n",
    "st=\"welcome123*topython\"\n",
    "print(st.isalnum()) \n",
    "\n",
    "#isalpha(): it is predefine  string function\n",
    "#this function will check given entire string is alphanumeric or not.\n",
    "#if only alphabets or numeric it will return True otherwise False\n",
    "#it will consider only lowercase or uppercase or ascii numbers characters.\n",
    "#this function will not accept any additional arguments.\n",
    "\n",
    "def u_isalnum(coll):\n",
    "    if type(coll)!=str:\n",
    "        return -1\n",
    "    start=0\n",
    "    while start<len(coll):\n",
    "        if not('A'<=coll[start]<='Z' or 'a'<=coll[start]<='z' or '0'<=coll[start]<='9'):\n",
    "            return False\n",
    "        start+=1\n",
    "    return True\n",
    "\n",
    "\n",
    "st=\"welcom122*etopython\"\n",
    "print(u_isalnum(st))"
   ]
  },
  {
   "cell_type": "code",
   "execution_count": 16,
   "metadata": {},
   "outputs": [
    {
     "name": "stdout",
     "output_type": "stream",
     "text": [
      "True\n",
      "True\n"
     ]
    }
   ],
   "source": [
    "#wap to check whether given string is numeric or not.\n",
    "st=\"123\"\n",
    "print(st.isnumeric()) \n",
    "\n",
    "#isnumeric(): it is predefine  string function\n",
    "#this function will check given entire string is numeric or not.\n",
    "#if only numeric it will return True otherwise False\n",
    "#it will consider only ascii numbers characters.\n",
    "#this function will not accept any additional arguments.\n",
    "\n",
    "def u_isnumeric(coll):\n",
    "    if type(coll)!=str:\n",
    "        return -1\n",
    "    start=0\n",
    "    while start<len(coll):\n",
    "        if not('0'<=coll[start]<='9'):\n",
    "            return False\n",
    "        start+=1\n",
    "    return True\n",
    "\n",
    "\n",
    "st=\"123456\"\n",
    "print(u_isnumeric(st))"
   ]
  },
  {
   "cell_type": "code",
   "execution_count": 21,
   "metadata": {},
   "outputs": [
    {
     "name": "stdout",
     "output_type": "stream",
     "text": [
      "True\n"
     ]
    }
   ],
   "source": [
    "#wap to check whether given string is special char or not.\n",
    "def u_isspecial(coll):\n",
    "    if type(coll)!=str:\n",
    "        return -1\n",
    "    start=0\n",
    "    while start<len(coll):\n",
    "        if '0'<=coll[start]<='9' or 'a'<=coll[start]<='z' or 'A'<=coll[start]<='Z':\n",
    "            return False\n",
    "        start+=1\n",
    "    return True\n",
    "\n",
    "\n",
    "\n",
    "st=\"#$^&%$\"\n",
    "print(u_isspecial(st))\n",
    "\n",
    "#isspecial(): it is userdefine  string function\n",
    "#this  function will check given entire string is special characters or not.\n",
    "#if only special characters it will return True otherwise False\n",
    "#it will consider only special characters.\n",
    "#this function will not accept any additional arguments."
   ]
  },
  {
   "cell_type": "code",
   "execution_count": 37,
   "metadata": {},
   "outputs": [
    {
     "name": "stdout",
     "output_type": "stream",
     "text": [
      "4\n",
      "True\n",
      "True\n"
     ]
    }
   ],
   "source": [
    "#wap to check whether given character is ascii character or not in the range (0,127)\n",
    "res=chr(52)\n",
    "print(res)\n",
    "print(res.isascii())\n",
    "\n",
    "#isascii(): it is predefine  string function\n",
    "#this function will check given character is ascii character or not.\n",
    "#if ascii character, it will return True otherwise False\n",
    "#it will consider only ascii character from 0 to 127 ascii values.\n",
    "#this function will not accept any additional arguments.\n",
    "\n",
    "def u_isascii(coll):\n",
    "    if not(chr(0)<=coll<=chr(127)):\n",
    "        return False\n",
    "    return True\n",
    "print(u_isascii(res))\n",
    "\n"
   ]
  },
  {
   "cell_type": "code",
   "execution_count": 61,
   "metadata": {},
   "outputs": [
    {
     "name": "stdout",
     "output_type": "stream",
     "text": [
      "True\n",
      "True\n"
     ]
    }
   ],
   "source": [
    "#wap to check whether given character is space or not.res\n",
    "res=' '\n",
    "print(res.isspace())\n",
    "\n",
    "#isspace(): it is predefine  string function\n",
    "#this function will check given character/string is space's or not.\n",
    "#if space's, it will return True otherwise False\n",
    "#it will consider only space.\n",
    "#this function will not accept any extra arguments.\n",
    "\n",
    "def u_isspace(coll):\n",
    "    if type(coll)!=str:\n",
    "        return -1\n",
    "    if len(coll)==0:\n",
    "        return False\n",
    "    start=0\n",
    "    while start<len(coll):\n",
    "        if coll[start] !=\" \":\n",
    "            return False\n",
    "        start+=1\n",
    "    return True\n",
    "print(u_isspace(res))\n"
   ]
  },
  {
   "cell_type": "code",
   "execution_count": 97,
   "metadata": {},
   "outputs": [
    {
     "name": "stdout",
     "output_type": "stream",
     "text": [
      "False\n",
      "False\n"
     ]
    }
   ],
   "source": [
    "#wap to check whether given string is following the identifier rules or not.\n",
    "res='if*'\n",
    "print(res.isidentifier())\n",
    "\n",
    "#isidentifider(): it is predefine  string function\n",
    "#this function will check given string is  following the identifier rules or not.\n",
    "#if rules are satisfied it will return True otherwise False\n",
    "#this function will not accept any extra arguments.\n",
    "from keyword import kwlist\n",
    "\n",
    "def u_isidentifier(coll):\n",
    "    if  type(coll)!=str:\n",
    "        return -1\n",
    "    if coll in kwlist  or len(coll)==0 or '0'<=coll[0]<='9' or ' ' in coll:\n",
    "        return False\n",
    "    start=0\n",
    "    while start<len(coll):\n",
    "        if not('A'<=coll[start]<='Z' or 'a'<=coll[start]<='z' or '0'<=coll[start]<='9' or coll[start]=='_'):\n",
    "            return False\n",
    "        start+=1\n",
    "    return True\n",
    "print(u_isidentifier(res))"
   ]
  },
  {
   "cell_type": "code",
   "execution_count": 102,
   "metadata": {},
   "outputs": [
    {
     "name": "stdout",
     "output_type": "stream",
     "text": [
      "HELLOworld&123\n",
      "HELLOworld&123\n"
     ]
    }
   ],
   "source": [
    "#WAP to convert uppercase to lowercase character and viceversa. \n",
    "\n",
    "s=\"helloWORLD&123\"\n",
    "print(s.swapcase())\n",
    "\n",
    "#swapcase(): it is predefine  string function\n",
    "#this function will perform lowercase characters convert to uppercase as well as uppercase characters convert to lowercase and remaining character as it is.\n",
    "#it will return viceversa string \n",
    "#it will consider only lowercase and uppercase characters.\n",
    "#this function will not accept any additional arguments.\n",
    "\n",
    "\n",
    "def u_swapcase(coll):\n",
    "    res=\"\"\n",
    "    start=0\n",
    "    while start<len(coll):\n",
    "        if 'A'<=coll[start]<='Z':\n",
    "            res+=chr(ord(coll[start])+32)\n",
    "        elif 'a'<=coll[start]<='z':\n",
    "            res+=chr(ord(coll[start])-32)\n",
    "        else:\n",
    "            res+=coll[start]\n",
    "        start+=1\n",
    "    return res\n",
    "print(u_swapcase(s))"
   ]
  },
  {
   "cell_type": "code",
   "execution_count": 112,
   "metadata": {},
   "outputs": [
    {
     "name": "stdout",
     "output_type": "stream",
     "text": [
      "Pyspider qspsider *aplle12\n",
      "Pyspider qspsider *aplle12\n"
     ]
    }
   ],
   "source": [
    "#WAP to convert given string into capitalize. \n",
    "s=\"pySpiDEr qsPSIder *Aplle12\"\n",
    "print(s.capitalize())\n",
    "\n",
    "#capitalize(): it is predefine  string function\n",
    "#this function will perform capitalization(first character should be capital remaining all the characters should be lowercase).\n",
    "#it will return capitalize \n",
    "#it will consider only alphabets.\n",
    "#this function will not accept any additional arguments.\n",
    "\n",
    "def u_capitalize(coll):\n",
    "    if type(coll)!=str:\n",
    "        return -1\n",
    "    res=\"\"\n",
    "    if 'a'<=coll[0]<='z':\n",
    "        res+=chr(ord(coll[0])-32)\n",
    "    else:\n",
    "        res+=coll[0]\n",
    "    start=1\n",
    "    while start<len(coll):\n",
    "        if 'A'<=coll[start]<='Z':\n",
    "            res+=chr(ord(coll[start])+32)\n",
    "        else:\n",
    "            res+=coll[start]\n",
    "        start+=1\n",
    "    return res\n",
    "print(u_capitalize(s))"
   ]
  },
  {
   "cell_type": "code",
   "execution_count": 7,
   "metadata": {},
   "outputs": [
    {
     "name": "stdout",
     "output_type": "stream",
     "text": [
      "_aii123_hello*&_world\n"
     ]
    }
   ],
   "source": [
    "#WAP to convert given string into snake case. \n",
    "\n",
    "#'Haii123_hello*&_world'\n",
    "\n",
    "#starts with uppercase\n",
    "#space is replace to underscore\n",
    "#except firstcharacter remaining all the characters should be lowercase.\n",
    "\n",
    "st=' aii123 heLLo*& woRld'\n",
    "def snake(coll):\n",
    "    res=\"\"\n",
    "    if 'a'<=coll[0]<='z':\n",
    "        res+=chr(ord(coll[0])-32)\n",
    "    elif ' '==coll[0]:\n",
    "        res+=\"_\"\n",
    "    else:\n",
    "        res+=coll[0]\n",
    "    start=1\n",
    "    while start<len(coll):\n",
    "        if 'A'<=coll[start]<='Z':\n",
    "            res+=chr(ord(coll[start])+32)\n",
    "        elif coll[start]==' ':\n",
    "            res+='_'\n",
    "        else:\n",
    "            res+=coll[start]\n",
    "        start+=1\n",
    "    return res\n",
    "print(snake(st))\n",
    "\n"
   ]
  },
  {
   "cell_type": "code",
   "execution_count": 18,
   "metadata": {},
   "outputs": [
    {
     "name": "stdout",
     "output_type": "stream",
     "text": [
      "False\n"
     ]
    }
   ],
   "source": [
    "#WAP to check whether given string is snake case or not.\n",
    "\n",
    "st=\"Taii123_hello &_world\"\n",
    "def u_check_snake(coll):\n",
    "    if 'a'<=coll[0]<='z' or coll[0]==' ':\n",
    "        return False\n",
    "    start=1\n",
    "    while start<len(coll):\n",
    "        if 'A'<=coll[start]<='Z':\n",
    "            return False\n",
    "        elif coll[start]==' ':\n",
    "            return False\n",
    "        start+=1\n",
    "    return True\n",
    "print(u_check_snake(st))"
   ]
  },
  {
   "cell_type": "code",
   "execution_count": 62,
   "metadata": {},
   "outputs": [
    {
     "name": "stdout",
     "output_type": "stream",
     "text": [
      "__hello_haii_hello__\n"
     ]
    }
   ],
   "source": [
    "#WAP to convert given string into dragon case or not.\n",
    "#hello__\n",
    "#__hello__\n",
    "\n",
    "#string starts with and end's with minimum two underscore's.\n",
    "#string should not contain space.(if space then space is replace to underscore).\n",
    "#all the characters should be lowercase.\n",
    "#string should not contain special characters and ascii numbers.\n",
    "\n",
    "st=\"hello @#HAII125_hello\"\n",
    "def dragon(coll):\n",
    "    res=\"\"\n",
    "    if len(coll)>=1:\n",
    "        start=0\n",
    "        while start<len(coll):\n",
    "            if 'A'<=coll[start]<='Z':\n",
    "                res+=chr(ord(coll[start])+32)\n",
    "            elif 'a'<=coll[start]<='z':\n",
    "                res+=coll[start]\n",
    "            elif coll[start]=='_':\n",
    "                res+=coll[start]\n",
    "            elif coll[start]==' ':\n",
    "                res+=\"_\"\n",
    "            start+=1\n",
    "        coll=res\n",
    "        res=\"\"\n",
    "        if coll[0]!='_':\n",
    "            res='__'+res+coll\n",
    "        elif coll[0]=='_' and coll[1]!='_':\n",
    "            res='_'+res+coll\n",
    "        else:\n",
    "            res=coll\n",
    "        if res[-1]!='_':\n",
    "            res=res+'__'\n",
    "        elif res[-1]=='_' and res[-2]!=\"_\":\n",
    "            res=res+'_'\n",
    "    return res\n",
    "print(dragon(st))"
   ]
  },
  {
   "cell_type": "code",
   "execution_count": 8,
   "metadata": {},
   "outputs": [
    {
     "data": {
      "text/plain": [
       "True"
      ]
     },
     "execution_count": 8,
     "metadata": {},
     "output_type": "execute_result"
    }
   ],
   "source": [
    "#WAP to check whether given string is dragon case or not.\n",
    "\n",
    "def check_dragon(coll):\n",
    "    if not(coll[0]==\"_\" and coll[1]=='_' and coll[-1]=='_' and coll[-2]=='_'):\n",
    "        return False\n",
    "    start=2\n",
    "    end=len(coll)-2\n",
    "    while start<end:\n",
    "        if not('a'<=coll[start]<='z' or coll[start]=='_'):\n",
    "            return False\n",
    "        start+=1\n",
    "    return True\n",
    "st=\"__hello_haii_hello__\"\n",
    "check_dragon(st)\n"
   ]
  },
  {
   "cell_type": "code",
   "execution_count": 19,
   "metadata": {},
   "outputs": [
    {
     "data": {
      "text/plain": [
       "True"
      ]
     },
     "execution_count": 19,
     "metadata": {},
     "output_type": "execute_result"
    }
   ],
   "source": [
    "#wap to check whether even index position are lowercase characters or not.\n",
    "\n",
    "st=\"bAlAyAisacinemahero\"\n",
    "def check_even(coll):\n",
    "    start=0\n",
    "    while start<len(coll):\n",
    "        if start%2==0 and not('a'<=coll[start]<='z'):\n",
    "            return False\n",
    "        start+=1\n",
    "    return True\n",
    "check_even(st)\n",
    "\n"
   ]
  },
  {
   "cell_type": "code",
   "execution_count": 21,
   "metadata": {},
   "outputs": [
    {
     "data": {
      "text/plain": [
       "'APPLE*BALL*****CAT****'"
      ]
     },
     "execution_count": 21,
     "metadata": {},
     "output_type": "execute_result"
    }
   ],
   "source": [
    "#wap to convert(replace) special characters or ascii numbers into * symbol.\n",
    "\n",
    "def replace_char(coll):\n",
    "    res=\"\"\n",
    "    start=0\n",
    "    while start<len(coll):\n",
    "        if 'A'<=coll[start]<='Z' or 'a'<=coll[start]<='z':\n",
    "            res+=coll[start]\n",
    "        else:\n",
    "            res+='*'\n",
    "        start+=1\n",
    "    return res\n",
    "replace_char(\"APPLE BALL 123 CAT #$%\")\n"
   ]
  },
  {
   "cell_type": "code",
   "execution_count": 49,
   "metadata": {},
   "outputs": [
    {
     "name": "stdout",
     "output_type": "stream",
     "text": [
      "hello world #$%ndfjsd546df\n",
      "hello world #$%ndfjsd546df\n"
     ]
    }
   ],
   "source": [
    "st=\"HELLO world #$%ndfjsd546df\"\n",
    "print(st.casefold())\n",
    "\n",
    "#casefold(): it is predefine  string function\n",
    "#this function will convert uppercase characters to lowercase characters.\n",
    "#it will consider only uppercase characters.\n",
    "#this function will not accept any additional arguments.\n",
    "#it will return converted output in form of lower case characters.\n",
    "\n",
    "\n",
    "def u_casefold(coll):\n",
    "    res=\"\"\n",
    "    start=0\n",
    "    while start<len(coll):\n",
    "        if 'A'<=coll[start]<='Z':\n",
    "            res+=chr(ord(coll[start])+32)\n",
    "        else:\n",
    "            res+=coll[start]\n",
    "        start+=1\n",
    "    return res\n",
    "print(u_casefold(st))\n",
    "\n",
    "\n"
   ]
  },
  {
   "cell_type": "code",
   "execution_count": 71,
   "metadata": {},
   "outputs": [
    {
     "name": "stdout",
     "output_type": "stream",
     "text": [
      "123Hello World125S#&R *Haii\n",
      "123Hello World125S#&R *Haii\n"
     ]
    }
   ],
   "source": [
    "st=\"123hello world125s#&r *haii\"\n",
    "print(st.title())\n",
    "\n",
    "\n",
    "#title(): it is predefine  string function\n",
    "# first character should be uppercase.\n",
    "# after special character or ascii number characters, the next character should be uppercase.\n",
    "# remaining characters should be lower case,\n",
    "# spacial characters or ascii number as it is.\n",
    "#this function will not accept any additional arguments.\n",
    "#it will return converted output.\n",
    "\n",
    "\n",
    "def u_title(coll):\n",
    "    res=\"\"\n",
    "    start=None\n",
    "    if 'a'<=coll[0]<='z':\n",
    "        res+=chr(ord(coll[0])-32)\n",
    "        start=1\n",
    "    elif 'A'<=coll[0]<='Z':\n",
    "        res+=coll[0]\n",
    "        start=1\n",
    "    else:\n",
    "        start=0\n",
    "    while start<len(coll):\n",
    "        if not('A'<=coll[start]<='Z' or 'a'<=coll[start]<='z'):\n",
    "            res+=coll[start]\n",
    "            if 'a'<=coll[start+1]<='z':\n",
    "                res+=chr(ord(coll[start+1])-32)\n",
    "                start+=1\n",
    "            elif 'A'<=coll[start+1]<='Z':\n",
    "                res+=coll[start+1]\n",
    "                start+=1\n",
    "        elif 'A'<=coll[start]<='Z':\n",
    "            res+=chr(ord(coll[start])+32)\n",
    "        else:\n",
    "            res+=coll[start]\n",
    "        start+=1\n",
    "    return res\n",
    "print(u_title(st))"
   ]
  },
  {
   "cell_type": "code",
   "execution_count": 82,
   "metadata": {},
   "outputs": [
    {
     "name": "stdout",
     "output_type": "stream",
     "text": [
      "True\n",
      "True\n"
     ]
    }
   ],
   "source": [
    "#wap to check whether given string is title case or not.\n",
    "st=\"Hello World125S#&R Haii\"\n",
    "print(st.istitle())\n",
    "\n",
    "def is_title(coll):\n",
    "    if 'a'<=coll[0]<='z':\n",
    "        return False\n",
    "    start=1\n",
    "    while start<(len(coll)):\n",
    "        if not('A'<=coll[start]<='Z' or 'a'<=coll[start]<='z'):\n",
    "            if 'a'<=coll[start+1]<='z':\n",
    "                return False\n",
    "        start+=1\n",
    "    return True\n",
    "print(is_title(st))"
   ]
  },
  {
   "cell_type": "code",
   "execution_count": 42,
   "metadata": {},
   "outputs": [
    {
     "name": "stdout",
     "output_type": "stream",
     "text": [
      "$$$hello$$$\n",
      "$$$hello$$$\n"
     ]
    }
   ],
   "source": [
    "#wap to display the string, in center of the user define length of the string.\n",
    "st=\"hello\"\n",
    "print(st.center(11,'$'))\n",
    "\n",
    "\n",
    "#center(): it is a predefine built-in function.\n",
    "#this function will accept the two inputs \n",
    "#   1) length of new string\n",
    "#   2) filling character.\n",
    "# it will perform the padding operation based on filled character with actual string.\n",
    "# it consider default filling character is space.\n",
    "# we should mention the width of the new string.\n",
    "# this function will return new generated string based on the width of the string value \n",
    "# and filling character with actual string.\n",
    "# the actual string will present center of the new string.\n",
    "\n",
    "def u_center(coll,num=0,sym=' '):\n",
    "    if len(coll)>=num:\n",
    "        return coll\n",
    "    res=num-len(coll)\n",
    "    left=res//2\n",
    "    right=res-left\n",
    "    return left*sym+coll+right*sym\n",
    "\n",
    "print(u_center('hello',11,'$'))\n"
   ]
  },
  {
   "cell_type": "code",
   "execution_count": 10,
   "metadata": {},
   "outputs": [
    {
     "name": "stdout",
     "output_type": "stream",
     "text": [
      "hello***************\n",
      "hello***************\n"
     ]
    }
   ],
   "source": [
    "st='hello'\n",
    "print(st.ljust(20,'*'))\n",
    "# ljust(): it is a predefine built-in function.\n",
    "# this function will accept the two inputs \n",
    "#   1) length of new string\n",
    "#   2) filling character.\n",
    "# it will perform the left justify operation based on filled character with actual string.\n",
    "# it consider default filling character is space.\n",
    "# we should mention the width of the new string.\n",
    "# this function will return new generated string based on the width of the string value \n",
    "# and filling character with actual string.\n",
    "# the actual string will present left side of the new string.\n",
    "\n",
    "def u_ljust(coll,num,ele=' '):\n",
    "    if num>len(coll):\n",
    "        res=num-len(coll)\n",
    "        return coll+res*ele\n",
    "    else:\n",
    "        return coll\n",
    "print(u_ljust('hello',20,'*'))"
   ]
  },
  {
   "cell_type": "code",
   "execution_count": 12,
   "metadata": {},
   "outputs": [
    {
     "name": "stdout",
     "output_type": "stream",
     "text": [
      "***************hello\n",
      "***************hello\n"
     ]
    }
   ],
   "source": [
    "st='hello'\n",
    "print(st.rjust(20,'*'))\n",
    "# rjust(): it is a predefine built-in function.\n",
    "# this function will accept the two inputs \n",
    "#   1) length of new string\n",
    "#   2) filling character.\n",
    "# it will perform the right justify operation based on filled character with actual string.\n",
    "# it consider default filling character is space.\n",
    "# we should mention the width of the new string.\n",
    "# this function will return new generated string based on the width of the string value \n",
    "# and filling character with actual string.\n",
    "# the actual string will present right side of the new string.\n",
    "\n",
    "def u_rjust(coll,num,ele=' '):\n",
    "    if num>len(coll):\n",
    "        res=num-len(coll)\n",
    "        return res*ele+coll\n",
    "    else:\n",
    "        return coll\n",
    "print(u_rjust('hello',20,'*'))"
   ]
  },
  {
   "cell_type": "code",
   "execution_count": 64,
   "metadata": {},
   "outputs": [
    {
     "name": "stdout",
     "output_type": "stream",
     "text": [
      "ohello\n",
      "ohello\n"
     ]
    }
   ],
   "source": [
    "s='hellohello'\n",
    "print(s.lstrip('hel'))\n",
    "\n",
    "# lstrip(): it is a predefine built-in function.\n",
    "# this function will accept the one inputs \n",
    "#   1) substring\n",
    "# it will perform eliminating the whitespaces or specified substring left side of the given string.\n",
    "# default, it will eliminating the whitespace character's. \n",
    "# this function will return new generated string based on the eliminate whitespace or specified string.\n",
    "# the actual string will present left side of the new string.\n",
    "\n",
    "def u_lstrip(coll,ele=' '):\n",
    "    res=''\n",
    "    start=0\n",
    "    while start<len(coll):\n",
    "        if coll[start] in ele:\n",
    "            res+=''\n",
    "        else:\n",
    "            res+=coll[start:]\n",
    "            return res\n",
    "        start+=1\n",
    "    return res\n",
    "print(u_lstrip(s,'hel'))\n",
    "\n",
    "\n"
   ]
  },
  {
   "cell_type": "code",
   "execution_count": 76,
   "metadata": {},
   "outputs": [
    {
     "name": "stdout",
     "output_type": "stream",
     "text": [
      "hellohe\n",
      "hellohe\n"
     ]
    }
   ],
   "source": [
    "s='hellohello'\n",
    "print(s.rstrip('llo'))\n",
    "\n",
    "# rstrip(): it is a predefine built-in function.\n",
    "# this function will accept the two inputs \n",
    "#   1) substring\n",
    "# it will perform eliminating the whitespaces or specified substring right side of the given string.\n",
    "# default, it eliminating whitespace character. \n",
    "# this function will return new generated string based on the eliminate whitespace or specified string.\n",
    "\n",
    "def u_rstrip(coll,ele=' '):\n",
    "    coll=coll[::-1]\n",
    "    ele=ele[::-1]\n",
    "    res=''\n",
    "    start=0\n",
    "    while start<len(coll):\n",
    "        if coll[start] in ele:\n",
    "            res+=''\n",
    "        else:\n",
    "            res+=coll[start:]\n",
    "            return res[::-1]\n",
    "        start+=1\n",
    "    return res[::-1]\n",
    "print(u_rstrip(s,'llo'))"
   ]
  },
  {
   "cell_type": "code",
   "execution_count": null,
   "metadata": {},
   "outputs": [],
   "source": [
    "#wap to eliminate  the first and last spaces from given string.\n",
    "def u_strip(coll,ele=' '):\n",
    "    lres=''\n",
    "    rres=''\n",
    "    left=0\n",
    "    right=len(coll)-1\n",
    "    start=0\n",
    "    while start<len(coll)//2:\n",
    "        if coll[left] in ele:\n",
    "            lres+=''\n",
    "        else:\n",
    "            lres+=coll[left]\n",
    "        if coll[right] in ele:\n",
    "            rres+=''\n",
    "        else:\n",
    "            rres+=coll[right]\n",
    "        left+=1\n",
    "        right-=1\n",
    "        start+=1\n",
    "    return lres+rres[::-1]\n",
    "print(u_strip(st))"
   ]
  },
  {
   "cell_type": "code",
   "execution_count": 6,
   "metadata": {},
   "outputs": [
    {
     "name": "stdout",
     "output_type": "stream",
     "text": [
      "hel    lohe\n",
      "hel    lohe\n"
     ]
    }
   ],
   "source": [
    "st='     hel    lohe    '\n",
    "print(st.strip())\n",
    "\n",
    "# strip(): it is a predefine built-in function.\n",
    "# this function will accept the two inputs \n",
    "#   1) substring\n",
    "# it will perform eliminating the whitespaces or specified substring left side as well as right side also from given string.\n",
    "# default, it eliminating whitespace character's. \n",
    "# this function will return new generated string based on the eliminate whitespace or specified string.\n",
    "\n",
    "def u_strip(coll,ele=' '):\n",
    "    res=''\n",
    "    start=0\n",
    "    while start<len(coll):\n",
    "        if coll[start] in ele: \n",
    "            res+=''\n",
    "        else:\n",
    "            res+=coll[start:]\n",
    "            break\n",
    "        start+=1\n",
    "    coll=res[::-1]\n",
    "    ele=ele[::-1]\n",
    "    res=''\n",
    "    start=0\n",
    "    while start<len(coll):\n",
    "        if coll[start] in ele:\n",
    "            res+=''\n",
    "        else:\n",
    "            res+=coll[start:]\n",
    "            return res[::-1]\n",
    "        start+=1\n",
    "    return res[::-1]\n",
    "   \n",
    "print(u_strip(st))"
   ]
  },
  {
   "cell_type": "code",
   "execution_count": 38,
   "metadata": {},
   "outputs": [
    {
     "name": "stdout",
     "output_type": "stream",
     "text": [
      "IBALL IS A HARDISWARE COMPISISANY IS hkjdg IS\n"
     ]
    }
   ],
   "source": [
    "s=\"IBALL IS A HARDISWARE COMPANY IS \"\n",
    "s.replace('IS','ARE') \n",
    "\n",
    "# replace(): it is predefine user defined function.\n",
    "# it is used for the replace the specific string into new string from the given collection.\n",
    "# it will replace the all the occurrences or certain number of times also.\n",
    "# it will accept three inputs:\n",
    "#    1)old string value\n",
    "#    2)new string value\n",
    "#    3)count ( number of times replace)\n",
    "#     default replace occurences is maximum number of occurence.\n",
    "#     otherwise number of count. \n",
    "# it will return a copy with all the occurrences of substring old substring is replaced to new substring.\n",
    "\n",
    "s=\"IBALL IS A HARDISWARE COMPISISANY IS hkjdg IS\"\n",
    "\n",
    "def u_replace(coll,old,new,count=-1):\n",
    "    if count==-1:\n",
    "        count=len(coll)\n",
    "    temp=0\n",
    "    res=\"\"\n",
    "    start=0\n",
    "    while start<len(coll):\n",
    "        if temp<count:\n",
    "            if old==coll[start:start+len(old)]:\n",
    "                res+=new\n",
    "                temp+=1\n",
    "                start+=len(old)-1\n",
    "            else:\n",
    "                res+=coll[start]\n",
    "        else:\n",
    "            res+=coll[start]\n",
    "        start+=1\n",
    "    return res\n",
    "\n",
    "print(u_replace(s,'IS','ARE',0))\n"
   ]
  },
  {
   "cell_type": "code",
   "execution_count": 2,
   "metadata": {},
   "outputs": [
    {
     "name": "stdout",
     "output_type": "stream",
     "text": [
      "IB*LL IS * H*RDW*RE COMP*NY\n"
     ]
    }
   ],
   "source": [
    "#WAP TO REPLACE THE SPECIFIC CHARACTER INTO NEW CHARACTER FROM GIVEN STRING.\n",
    "s=\"IBALL IS A HARDWARE COMPANY\"\n",
    "\n",
    "def u_replace(coll,new,old):\n",
    "    res=\"\"\n",
    "    start=0\n",
    "    while start<len(coll):\n",
    "        if old==coll[start]:\n",
    "            res+=new\n",
    "        else:\n",
    "            res+=coll[start]\n",
    "        start+=1\n",
    "    return res\n",
    "\n",
    "print(u_replace(s,'*','A'))\n",
    "\n"
   ]
  },
  {
   "cell_type": "code",
   "execution_count": 32,
   "metadata": {},
   "outputs": [
    {
     "name": "stdout",
     "output_type": "stream",
     "text": [
      "IBALL ARE A HARDAREWARE COMPAREAREANY ARE hkjdg ARE\n"
     ]
    }
   ],
   "source": [
    "#WAP TO REPLACE THE SPECIFIC substring INTO NEW substring FROM GIVEN STRING .\n",
    "s=\"IBALL IS A HARDISWARE COMPISISANY IS hkjdg IS\"\n",
    "\n",
    "def u_replace(coll,old,new):\n",
    "    res=\"\"\n",
    "    start=0\n",
    "    while start<len(coll):\n",
    "        if old==coll[start:start+len(old)]:\n",
    "            res+=new\n",
    "            start+=len(old)-1\n",
    "        else:\n",
    "            res+=coll[start]\n",
    "        start+=1\n",
    "    return res\n",
    "\n",
    "print(u_replace(s,'IS','ARE'))"
   ]
  },
  {
   "cell_type": "code",
   "execution_count": 37,
   "metadata": {},
   "outputs": [
    {
     "name": "stdout",
     "output_type": "stream",
     "text": [
      "IBALL IS A HARDISWARE COMPISISANY IS hkjdg IS\n"
     ]
    }
   ],
   "source": [
    "#WAP TO REPLACE THE SPECIFIC substring INTO NEW substring FROM GIVEN STRING based on the specific times.\n",
    "s=\"IBALL IS A HARDISWARE COMPISISANY IS hkjdg IS\"\n",
    "\n",
    "def u_replace(coll,old,new,count=-1):\n",
    "    if count==-1:\n",
    "        count=len(coll)\n",
    "    temp=0\n",
    "    res=\"\"\n",
    "    start=0\n",
    "    while start<len(coll):\n",
    "        if temp<count:\n",
    "            if old==coll[start:start+len(old)]:\n",
    "                res+=new\n",
    "                temp+=1\n",
    "                start+=len(old)-1\n",
    "            else:\n",
    "                res+=coll[start]\n",
    "        else:\n",
    "            res+=coll[start]\n",
    "        start+=1\n",
    "    return res\n",
    "\n",
    "print(u_replace(s,'IS','ARE',0))"
   ]
  },
  {
   "cell_type": "code",
   "execution_count": 12,
   "metadata": {},
   "outputs": [
    {
     "name": "stdout",
     "output_type": "stream",
     "text": [
      "PYTHON IS A PROGRAMMING LANAGUAGE java IS A SCRIPT LANGUAGE PYTHON IS A OOPS LANGUAGE PYTHON PYTHON\n"
     ]
    }
   ],
   "source": [
    "#WAP TO REPLACE THE SPECIFIC substring INTO NEW substring FROM GIVEN STRING within the range.\n",
    "\n",
    "st=\"PYTHON IS A PROGRAMMING LANAGUAGE PYTHON IS A SCRIPT LANGUAGE PYTHON IS A OOPS LANGUAGE PYTHON PYTHON\"\n",
    "\n",
    "def u_replace(coll,old,new,start=0,end=None):\n",
    "    res=\"\"\n",
    "    if end==None:\n",
    "        end=len(coll)\n",
    "    temp=start\n",
    "    while start<end:\n",
    "        if coll[start:start+len(old)]==old:\n",
    "            res+=new\n",
    "            start+=len(old)-1\n",
    "        else:\n",
    "            res+=coll[start]\n",
    "        start+=1\n",
    "    return coll[:temp]+res+coll[end:]\n",
    "print(u_replace(st,'PYTHON','java',5,50))\n"
   ]
  },
  {
   "cell_type": "code",
   "execution_count": 21,
   "metadata": {},
   "outputs": [
    {
     "name": "stdout",
     "output_type": "stream",
     "text": [
      "java IS A PROGRAMMING LANAGUAGE java IS A SCRIPT LANGUAGE PYTHON IS A OOPS LANGUAGE PYTHON PYTHON\n"
     ]
    }
   ],
   "source": [
    "#WAP TO REPLACE THE SPECIFIC substring INTO NEW substring FROM GIVEN STRING within the range.\n",
    "\n",
    "st=\"PYTHON IS A PROGRAMMING LANAGUAGE PYTHON IS A SCRIPT LANGUAGE PYTHON IS A OOPS LANGUAGE PYTHON PYTHON\"\n",
    "\n",
    "def u_replace(coll,old,new,start=0,end=None,count=0):\n",
    "    if type(coll)!=str:\n",
    "        return -1\n",
    "    res=\"\"\n",
    "    if end==None:\n",
    "        end=len(coll)\n",
    "    if count==0:\n",
    "        count=len(coll)\n",
    "    temp=start\n",
    "    cou=0\n",
    "    while start<end:\n",
    "        if cou<count:\n",
    "            if coll[start:start+len(old)]==old:\n",
    "                res+=new\n",
    "                start+=len(old)-1\n",
    "                cou+=1\n",
    "            else:\n",
    "                res+=coll[start]\n",
    "        else:\n",
    "            res+=coll[start]\n",
    "        start+=1\n",
    "    return coll[:temp]+res+coll[end:]\n",
    "print(u_replace(st,'PYTHON','java',start=0,end=50,count=3))\n"
   ]
  },
  {
   "cell_type": "code",
   "execution_count": 37,
   "metadata": {},
   "outputs": [
    {
     "name": "stdout",
     "output_type": "stream",
     "text": [
      "-1\n",
      "-1\n"
     ]
    }
   ],
   "source": [
    "st='PYTHON PYTHON'\n",
    "print(st.find('O',5,7))\n",
    "\n",
    "#find(): it is a predefine string function\n",
    "#it will find the element in given string and it return first occurence index position value either with or with out range.\n",
    "#this function will accept three arguments(inputs)\n",
    "# 1)Substring(element)\n",
    "# 2)start index position value\n",
    "# 3)end index position value\n",
    "# based on the range or without range it will finding element and it found the index position value.\n",
    "#if element is present it returns first occurence index position values.\n",
    "# if element is not present it returns -1\n",
    "\n",
    "def u_find(coll,ele,start=0,end=0):\n",
    "    if end==0:\n",
    "        end=len(coll)\n",
    "    while start<end:\n",
    "        if coll[start]==ele:\n",
    "            return start\n",
    "        start+=1\n",
    "    return -1\n",
    "print(u_find(st,'O',5,7))"
   ]
  },
  {
   "cell_type": "code",
   "execution_count": null,
   "metadata": {},
   "outputs": [],
   "source": [
    "#wap to print the specific element first occurence index position value.\n",
    "st='PYTHON PYTHON'\n",
    "print(st.index('O',5,7))\n",
    "\n",
    "#index(): it is a predefine string function\n",
    "#it will find the element in given string and it return first occurence index position value either with or with out range.\n",
    "#this function will accept three arguments(inputs)\n",
    "# 1)Substring(element)\n",
    "# 2)start index position value\n",
    "# 3)end index position value\n",
    "# based on the range or without range it will finding element from left to right \n",
    "# and it found the positive index position value.\n",
    "#if element is present it returns first occurence index position values.\n",
    "# if element is not present it returns value error\n",
    "\n",
    "def u_index(coll,ele,start=0,end=0):\n",
    "    if end==0:\n",
    "        end=len(coll)\n",
    "    while start<end:\n",
    "        if coll[start]==ele:\n",
    "            return start\n",
    "        start+=1\n",
    "    raise ValueError(\"sub string is not found\")\n",
    "print(u_index(st,'O',5,7))"
   ]
  },
  {
   "cell_type": "code",
   "execution_count": 49,
   "metadata": {},
   "outputs": [
    {
     "name": "stdout",
     "output_type": "stream",
     "text": [
      "25\n",
      "17\n"
     ]
    }
   ],
   "source": [
    "#wap to find and print the specific occurence index position value for specific element from given string.\n",
    "\n",
    "st=\"PYTHON IS A PROGRAMMING LANGUAGE\"\n",
    "\n",
    "\n",
    "def u_specific_index(coll,ele,occur=1,start=0,end=0,):\n",
    "    if end==0:\n",
    "        end=len(coll)\n",
    "    count=0\n",
    "    while start<end:\n",
    "        if coll[start]==ele:\n",
    "            count+=1\n",
    "            if count==occur:\n",
    "                return start\n",
    "        start+=1\n",
    "    return -1\n",
    "print(u_specific_index(st,'A',3))\n",
    "print(u_specific_index(st,'A',2,10,20))\n",
    "\n",
    "\n"
   ]
  },
  {
   "cell_type": "code",
   "execution_count": 50,
   "metadata": {},
   "outputs": [
    {
     "data": {
      "text/plain": [
       "7"
      ]
     },
     "execution_count": 50,
     "metadata": {},
     "output_type": "execute_result"
    }
   ],
   "source": [
    "st=\"python on\"\n",
    "st.rfind('o')"
   ]
  },
  {
   "cell_type": "code",
   "execution_count": 48,
   "metadata": {},
   "outputs": [
    {
     "name": "stdout",
     "output_type": "stream",
     "text": [
      "6\n",
      "6\n"
     ]
    }
   ],
   "source": [
    "#wap to print the specific element first occurence index position value in reverse order.\n",
    "\n",
    "\n",
    "#rindex(): it is a predefine string function\n",
    "#it will find the element in given string and it return first occurence index position value from right to left by using with or with out range.\n",
    "#this function will accept three arguments(inputs)\n",
    "# 1)Substring(element)\n",
    "# 2)start index position value\n",
    "# 3)end index position value\n",
    "# based on the range or without range it will finding element from right to left \n",
    "# and it found the positive index position value.\n",
    "#if element is present it returns first occurence index position values.\n",
    "# if element is not present it returns value error\n",
    "\n",
    "\n",
    "st='HELLOWORLD'\n",
    "print(st.rindex('O',-15,-1))\n",
    "\n",
    "def rindex(coll,ele,start=0,end=0):\n",
    "    if start<0 and end<0:\n",
    "        start,end=end,start\n",
    "        temp1=True\n",
    "    if start>0 and end>0:\n",
    "        start,end=end,start\n",
    "        temp1=False\n",
    "        if len(coll)<start:\n",
    "            start=len(coll)-1\n",
    "    if start==0:\n",
    "        start=len(coll)-1\n",
    "    while start>end:\n",
    "        if ele==coll[start]:\n",
    "            if temp1==True:\n",
    "                return len(coll)+(start)\n",
    "            else:\n",
    "                return start\n",
    "        start-=1\n",
    "print(rindex(st,'O',-15,-1))\n"
   ]
  },
  {
   "cell_type": "code",
   "execution_count": 39,
   "metadata": {},
   "outputs": [
    {
     "name": "stdout",
     "output_type": "stream",
     "text": [
      "0\n",
      "0\n"
     ]
    }
   ],
   "source": [
    "#wap to print the specific element first occurence index position value in reverse order.\n",
    "st='HELLOWORLD'\n",
    "print(st.rindex('H',-11,-1))\n",
    "\n",
    "def rindex(coll,ele,start=-1,end=0):\n",
    "    if end==0:\n",
    "        end=len(coll)\n",
    "    if start<=-len(coll):\n",
    "        start=-2\n",
    "    while start<end:\n",
    "        if ele==coll[start]:\n",
    "            return len(coll)+start\n",
    "        start-=1\n",
    "print(rindex(st,'H',-11,-1))"
   ]
  },
  {
   "cell_type": "code",
   "execution_count": 44,
   "metadata": {},
   "outputs": [
    {
     "name": "stdout",
     "output_type": "stream",
     "text": [
      "2\n"
     ]
    }
   ],
   "source": [
    "#wap to print the specific element nth occurence index position value in reverse order.\n",
    "\n",
    "st='HELLOWORLD'\n",
    "def rindex(coll,ele,start=-1,end=0,count=1):\n",
    "    if end==0:\n",
    "        end=len(coll)\n",
    "    if start<=-len(coll):\n",
    "        start=-2\n",
    "    cou=0\n",
    "    while start<end:\n",
    "        if ele==coll[start]:\n",
    "            cou+=1\n",
    "            if cou==count:\n",
    "                return len(coll)+start\n",
    "        start-=1\n",
    "print(rindex(st,'L',count=3))\n"
   ]
  },
  {
   "cell_type": "code",
   "execution_count": 59,
   "metadata": {},
   "outputs": [
    {
     "name": "stdout",
     "output_type": "stream",
     "text": [
      "True\n",
      "True\n"
     ]
    }
   ],
   "source": [
    "st=\"helloworld\"\n",
    "print(st.startswith('wor',-5,-1))\n",
    "\n",
    "# startswith(): it is a predefine string function\n",
    "# it will check if element is present in starting of the string or not\n",
    "# if element is present it return true otherwise false.\n",
    "# this function will accept three arguments(inputs)\n",
    "# 1)Substring(element)\n",
    "# 2)start index position value\n",
    "# 3)end index position value\n",
    "# based on with range or without range it will finding element is present or not.\n",
    "\n",
    "def u_startswith(coll,ele,start=0,end=0):\n",
    "    if end==0:\n",
    "        end=len(coll)\n",
    "    while start<end:\n",
    "        if coll[start:start+len(ele)]==ele:\n",
    "            return True\n",
    "        start+=1\n",
    "    return False\n",
    "print(u_startswith(st,'wor',-5,-1))"
   ]
  },
  {
   "cell_type": "code",
   "execution_count": 43,
   "metadata": {},
   "outputs": [
    {
     "name": "stdout",
     "output_type": "stream",
     "text": [
      "True\n",
      "dlrow\n",
      "0 d\n",
      "True\n"
     ]
    }
   ],
   "source": [
    "st=\"helloworld\"\n",
    "print(st.endswith('d',5,10))\n",
    "\n",
    "# endswith(): it is a predefine string function\n",
    "# it will check if element is present in ending of the string or not\n",
    "# if element is present it return true otherwise false.\n",
    "# this function will accept three arguments(inputs)\n",
    "# 1)Substring(element)\n",
    "# 2)start index position value\n",
    "# 3)end index position value\n",
    "# based on with range or without range it will finding element is present or not.\n",
    "\n",
    "def u_endswith(coll,ele,start=0,end=0):\n",
    "    if end==0:\n",
    "        end=len(coll)\n",
    "    coll=coll[start:end+1][::-1]\n",
    "    ele=ele[::-1]\n",
    "    i=0\n",
    "    j=len(coll)\n",
    "    while i<j:\n",
    "        print(i,coll[i:i+len(ele)])\n",
    "        if  coll[i:i+len(ele)]==ele:\n",
    "            return True\n",
    "        i+=1\n",
    "    return False\n",
    "\n",
    "print(u_endswith(st,'d',5,10))"
   ]
  },
  {
   "cell_type": "code",
   "execution_count": 53,
   "metadata": {},
   "outputs": [
    {
     "name": "stdout",
     "output_type": "stream",
     "text": [
      "RTH rth\n",
      "RTH rth\n"
     ]
    }
   ],
   "source": [
    "#Wap to eliminate the vowels from given string.\n",
    "\n",
    "def remove_vowels(coll):\n",
    "    res=\"\"\n",
    "    start=0\n",
    "    while start<len(coll):\n",
    "        if coll[start] not in 'AEIOUaeiou':\n",
    "            res+=coll[start]\n",
    "        start+=1\n",
    "    return res\n",
    "print(remove_vowels(\"REETHU reethu\"))\n",
    "\n",
    "\n",
    "def remove_vowels(coll):\n",
    "    res=\"\"\n",
    "    start=0\n",
    "    while start<len(coll):\n",
    "        if coll[start] in 'AEIOUaeiou':\n",
    "            res+=\"\"\n",
    "        else:\n",
    "            res+=coll[start]\n",
    "        start+=1\n",
    "    return res\n",
    "print(remove_vowels(\"REETHU reethu\"))"
   ]
  },
  {
   "cell_type": "code",
   "execution_count": 55,
   "metadata": {},
   "outputs": [
    {
     "name": "stdout",
     "output_type": "stream",
     "text": [
      "RTHU reethu\n",
      "RTHU reethu\n"
     ]
    }
   ],
   "source": [
    "#Wap to eliminate the specific character from given string.\n",
    "\n",
    "def remove_vowels(coll,ele):\n",
    "    res=\"\"\n",
    "    start=0\n",
    "    while start<len(coll):\n",
    "        if coll[start] not in ele:\n",
    "            res+=coll[start]\n",
    "        start+=1\n",
    "    return res\n",
    "print(remove_vowels(\"REETHU reethu\",'E'))\n",
    "\n",
    "\n",
    "def remove_vowels(coll,ele):\n",
    "    res=\"\"\n",
    "    start=0\n",
    "    while start<len(coll):\n",
    "        if coll[start] in ele:\n",
    "            res+=\"\"\n",
    "        else:\n",
    "            res+=coll[start]\n",
    "        start+=1\n",
    "    return res\n",
    "print(remove_vowels(\"REETHU reethu\",'E'))"
   ]
  },
  {
   "cell_type": "code",
   "execution_count": 71,
   "metadata": {},
   "outputs": [
    {
     "name": "stdout",
     "output_type": "stream",
     "text": [
      "REETHU rhu\n"
     ]
    }
   ],
   "source": [
    "#Wap to eliminate the specific substring from given string.\n",
    "\n",
    "def remove_substring(coll,ele):\n",
    "    res=\"\"\n",
    "    start=0\n",
    "    while start<len(coll):\n",
    "        if coll[start:start+len(ele)]==ele:\n",
    "            start+=len(ele)-1\n",
    "        else:\n",
    "            res+=coll[start]\n",
    "        start+=1\n",
    "    return res\n",
    "            \n",
    "   \n",
    "print(remove_substring(\"REETHU reethu\",'eet'))\n",
    "\n",
    "\n",
    "# def remove_vowels(coll,ele):\n",
    "  \n",
    "# print(remove_vowels(\"REETHU reethu\",'E'))"
   ]
  },
  {
   "cell_type": "code",
   "execution_count": 6,
   "metadata": {},
   "outputs": [
    {
     "name": "stdout",
     "output_type": "stream",
     "text": [
      "helloworld\n",
      "helloworld\n"
     ]
    }
   ],
   "source": [
    "#Wap to eliminate the specific substring from given string.\n",
    "st=\"helloworld\"\n",
    "print(st.removeprefix('ell'))\n",
    "\n",
    "# removeprefix(): it is a predefine string function\n",
    "# it will check if element is present in starting of the string or not, \n",
    "# if element is present, then  it remove prefix element and it return remaining string, otherwise it return same string as it is.\n",
    "# this function will accept one arguments(inputs)\n",
    "# 1)Substring(prefix element).\n",
    "# it return string element. \n",
    "\n",
    "def u_removeprefix(coll,ele):\n",
    "    if ele==coll[:len(ele)]:\n",
    "        return coll[len(ele):]\n",
    "    else:\n",
    "        return coll\n",
    "print(u_removeprefix(st,'ell'))\n"
   ]
  },
  {
   "cell_type": "code",
   "execution_count": 13,
   "metadata": {},
   "outputs": [
    {
     "name": "stdout",
     "output_type": "stream",
     "text": [
      "helloworld\n",
      "helloworld\n"
     ]
    }
   ],
   "source": [
    "#Wap to eliminate the specific substring from ending of given string.\n",
    "st=\"helloworld\"\n",
    "print(st.removesuffix('rl'))\n",
    "\n",
    "# removesuffix(): it is a predefine string function\n",
    "# it will check if element is present in starting of the string or not, \n",
    "# if element is present, then  it remove suffix element and it return remaining string, otherwise it return same string as it is.\n",
    "# this function will accept one arguments(inputs)\n",
    "# 1)Substring(suffix element).\n",
    "# it return string element. \n",
    "\n",
    "def u_removesuffix(coll,ele):\n",
    "    if ele==coll[len(coll)-len(ele):]:\n",
    "        return coll[:len(coll)-len(ele)]\n",
    "    else:\n",
    "        return coll\n",
    "print(u_removesuffix(st,'rl'))"
   ]
  },
  {
   "cell_type": "code",
   "execution_count": 18,
   "metadata": {},
   "outputs": [
    {
     "name": "stdout",
     "output_type": "stream",
     "text": [
      "I LOVE INDIA I LIKE PYTHON I HATE LOVE I  DJANGO\n"
     ]
    }
   ],
   "source": [
    "#WAP to eliminate the specific substring based on the occurence from given string.\n",
    "\n",
    "\n",
    "def specific_occur(coll,ele,occur=1,start=0,end=0):\n",
    "    res=\"\"\n",
    "    if end==0:\n",
    "        end=len(coll)\n",
    "    count=0\n",
    "    while start<end:\n",
    "        if ele==coll[start:start+len(ele)]:\n",
    "            count+=1\n",
    "            if count!=occur:\n",
    "                res+=coll[start]\n",
    "            else:\n",
    "                res+=''\n",
    "                start+=len(ele)-1\n",
    "        else:\n",
    "            res+=coll[start]\n",
    "        start+=1\n",
    "    return res\n",
    "st=\"I LOVE INDIA I LIKE PYTHON I HATE LOVE I LOVE DJANGO\"\n",
    "print(specific_occur(st,'LOVE',3))"
   ]
  },
  {
   "cell_type": "code",
   "execution_count": 4,
   "metadata": {},
   "outputs": [
    {
     "name": "stdout",
     "output_type": "stream",
     "text": [
      "hello**********\n",
      "**********hello\n"
     ]
    }
   ],
   "source": [
    "st='hello'\n",
    "print(st.ljust(15,'*'))\n",
    "\n",
    "st='hello'\n",
    "print(st.rjust(15,'*'))"
   ]
  },
  {
   "cell_type": "code",
   "execution_count": 41,
   "metadata": {},
   "outputs": [
    {
     "name": "stdout",
     "output_type": "stream",
     "text": [
      "9 4\n",
      "8 5\n"
     ]
    }
   ],
   "source": [
    "def sample(m):\n",
    "    n=m\n",
    "    large=-1\n",
    "    small=9\n",
    "    while m:\n",
    "        res=m%10\n",
    "        if res>large:\n",
    "            large=res\n",
    "        if res<small:\n",
    "            small=res\n",
    "        m//=10\n",
    "    l=-1\n",
    "    s=9\n",
    "    while n:\n",
    "        res=n%10\n",
    "        if res>l:\n",
    "            if large>res:\n",
    "                l=res\n",
    "        if res<s:\n",
    "            if small<res:\n",
    "                s=res\n",
    "        n//=10\n",
    "    print(l,s)\n",
    "sample(987456)"
   ]
  },
  {
   "cell_type": "code",
   "execution_count": 14,
   "metadata": {},
   "outputs": [
    {
     "name": "stdout",
     "output_type": "stream",
     "text": [
      "8\n"
     ]
    }
   ],
   "source": [
    "def sample(num):\n",
    "    large=-1\n",
    "    sec_large=0\n",
    "    count=0\n",
    "    while num:\n",
    "        res=num%10\n",
    "        if large<res:\n",
    "            sec_large=large\n",
    "            large=res\n",
    "        elif res>=sec_large:\n",
    "            sec_large=res\n",
    "        num//=10\n",
    "    print(sec_large)\n",
    "sample(896547)"
   ]
  },
  {
   "cell_type": "code",
   "execution_count": 25,
   "metadata": {},
   "outputs": [
    {
     "name": "stdout",
     "output_type": "stream",
     "text": [
      "[6, 6, 4, 7, 8, 9]\n",
      "6 8\n"
     ]
    }
   ],
   "source": [
    "def sample(m):\n",
    "    l=[]\n",
    "    while m:\n",
    "        l+=[m%10]\n",
    "        m//=10\n",
    "    print(l)\n",
    "    for i in range(0,len(l)):\n",
    "        for j in range(0,len(l)-1):\n",
    "            if l[j]>l[j+1]:\n",
    "                l[j],l[j+1]=l[j+1],l[j]\n",
    "    print(l[1],l[-2])\n",
    "sample(987466)\n"
   ]
  }
 ],
 "metadata": {
  "kernelspec": {
   "display_name": "Python 3",
   "language": "python",
   "name": "python3"
  },
  "language_info": {
   "codemirror_mode": {
    "name": "ipython",
    "version": 3
   },
   "file_extension": ".py",
   "mimetype": "text/x-python",
   "name": "python",
   "nbconvert_exporter": "python",
   "pygments_lexer": "ipython3",
   "version": "3.11.4"
  },
  "orig_nbformat": 4
 },
 "nbformat": 4,
 "nbformat_minor": 2
}
