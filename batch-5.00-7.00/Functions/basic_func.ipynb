{
 "cells": [
  {
   "cell_type": "code",
   "execution_count": 2,
   "metadata": {},
   "outputs": [
    {
     "name": "stdout",
     "output_type": "stream",
     "text": [
      "30\n"
     ]
    }
   ],
   "source": [
    "def sample():\n",
    "    a=10\n",
    "    b=20\n",
    "    c=a+b\n",
    "    print(c)\n",
    "sample()"
   ]
  },
  {
   "cell_type": "code",
   "execution_count": 7,
   "metadata": {},
   "outputs": [
    {
     "name": "stdout",
     "output_type": "stream",
     "text": [
      "30\n",
      "300\n",
      "hellohaii\n",
      "[10, 20, 20, 60]\n",
      "(10, 20, 20, 60)\n"
     ]
    }
   ],
   "source": [
    "def sample(a,b):\n",
    "    c=a+b\n",
    "    print(c)\n",
    "sample(10,20)\n",
    "sample(100,200)\n",
    "sample('hello','haii')\n",
    "sample([10,20],[20,60])\n",
    "sample((10,20),(20,60))"
   ]
  },
  {
   "cell_type": "code",
   "execution_count": 11,
   "metadata": {},
   "outputs": [
    {
     "name": "stdout",
     "output_type": "stream",
     "text": [
      "1\n",
      "2\n",
      "3\n",
      "4\n",
      "5\n",
      "6\n",
      "7\n",
      "8\n",
      "9\n",
      "10\n"
     ]
    }
   ],
   "source": [
    "start=1\n",
    "end=10\n",
    "while start<=end:\n",
    "    print(start)\n",
    "    start+=1"
   ]
  },
  {
   "cell_type": "code",
   "execution_count": 19,
   "metadata": {},
   "outputs": [
    {
     "name": "stdout",
     "output_type": "stream",
     "text": [
      "0 1 2 3 4 5 6 7 8 9 10 "
     ]
    }
   ],
   "source": [
    "#wap to print the series of values from given range\n",
    "def series(start,end):\n",
    "    while start<=end:\n",
    "        print(start,end=\" \")\n",
    "        start+=1\n",
    "series(0,10)"
   ]
  },
  {
   "cell_type": "code",
   "execution_count": 24,
   "metadata": {},
   "outputs": [
    {
     "name": "stdout",
     "output_type": "stream",
     "text": [
      "24\n"
     ]
    }
   ],
   "source": [
    "def fact(n):\n",
    "    prod=1\n",
    "    while 1<=n:\n",
    "        prod*=n\n",
    "        n-=1\n",
    "    print(prod)\n",
    "fact(4)\n"
   ]
  },
  {
   "cell_type": "code",
   "execution_count": 40,
   "metadata": {},
   "outputs": [
    {
     "name": "stdout",
     "output_type": "stream",
     "text": [
      "strong number 1\n",
      "strong number 2\n",
      "strong number 145\n",
      "strong number 40585\n"
     ]
    }
   ],
   "source": [
    "#WAP TO check whether given number is strong number or not.\n",
    "def fact(n):\n",
    "    prod = 1\n",
    "    while 1 <= n:\n",
    "        prod *= n\n",
    "        n -= 1\n",
    "    return prod\n",
    "\n",
    "def strong(num):\n",
    "    sum=0\n",
    "    temp=num\n",
    "    while num:\n",
    "        d=num%10\n",
    "        sum+=fact(d)\n",
    "        num=num//10\n",
    "    if sum==temp:\n",
    "        print(\"strong number\",sum)\n",
    "def series(start,end):\n",
    "    while start<=end:\n",
    "        strong(start)\n",
    "        start+=1\n",
    "series(1,1000000)"
   ]
  },
  {
   "cell_type": "code",
   "execution_count": null,
   "metadata": {},
   "outputs": [],
   "source": [
    "# WAP TO check whether given number is strong number or not.\n",
    "def fact(n):\n",
    "    prod = 1\n",
    "    while 1 <= n:\n",
    "        prod *= n\n",
    "        n -= 1\n",
    "    return prod\n",
    "\n",
    "\n",
    "def strong(num):\n",
    "    sum = 0\n",
    "    temp = num\n",
    "    while num:\n",
    "        d = num % 10\n",
    "        print(fact(d))\n",
    "        sum += fact(d)\n",
    "        num = num//10\n",
    "    if sum == temp:\n",
    "        print(\"strong number\", sum)\n",
    "    else:\n",
    "        print(\"not a strong number\")\n",
    "\n",
    "\n",
    "strong(145)\n"
   ]
  },
  {
   "cell_type": "code",
   "execution_count": 41,
   "metadata": {},
   "outputs": [
    {
     "name": "stdout",
     "output_type": "stream",
     "text": [
      "4321\n"
     ]
    }
   ],
   "source": [
    "#wap to reverse the given number without using type casting.\n",
    "\n",
    "num=1234\n",
    "res=0\n",
    "while num:\n",
    "    digit=num%10\n",
    "    res=(res*10)+digit\n",
    "    num=num//10\n",
    "print(res)\n"
   ]
  },
  {
   "cell_type": "code",
   "execution_count": 43,
   "metadata": {},
   "outputs": [
    {
     "name": "stdout",
     "output_type": "stream",
     "text": [
      "42124\n",
      "given value is palindrome\n"
     ]
    }
   ],
   "source": [
    "#wap to check whether given number is palindrome or not without typecasting.\n",
    "num = 42124\n",
    "temp=num\n",
    "res = 0\n",
    "while num:\n",
    "    digit = num % 10\n",
    "    res = (res*10)+digit\n",
    "    num = num//10\n",
    "print(res)\n",
    "if res==temp:\n",
    "    print(\"given value is palindrome\")\n",
    "else:\n",
    "    print(\"given value is not a palindrome\")\n"
   ]
  },
  {
   "cell_type": "code",
   "execution_count": 51,
   "metadata": {},
   "outputs": [
    {
     "name": "stdout",
     "output_type": "stream",
     "text": [
      "given value is palindrome 1\n",
      "given value is palindrome 2\n",
      "given value is palindrome 3\n",
      "given value is palindrome 4\n",
      "given value is palindrome 5\n",
      "given value is palindrome 6\n",
      "given value is palindrome 7\n",
      "given value is palindrome 8\n",
      "given value is palindrome 9\n",
      "given value is palindrome 11\n",
      "given value is palindrome 22\n",
      "given value is palindrome 33\n",
      "given value is palindrome 44\n",
      "given value is palindrome 55\n",
      "given value is palindrome 66\n",
      "given value is palindrome 77\n",
      "given value is palindrome 88\n",
      "given value is palindrome 99\n"
     ]
    }
   ],
   "source": [
    "# wap to check whether given number is palindrome or not without typecasting.\n",
    "start=1\n",
    "end=100\n",
    "while start<=end:\n",
    "    num = start\n",
    "    temp = num\n",
    "    res = 0\n",
    "    while num:\n",
    "        digit = num % 10\n",
    "        res = (res*10)+digit\n",
    "        num = num//10\n",
    "    if res == temp:\n",
    "        print(\"given value is palindrome\",res)\n",
    "    start+=1\n"
   ]
  },
  {
   "cell_type": "code",
   "execution_count": null,
   "metadata": {},
   "outputs": [],
   "source": []
  },
  {
   "cell_type": "code",
   "execution_count": 47,
   "metadata": {},
   "outputs": [
    {
     "name": "stdout",
     "output_type": "stream",
     "text": [
      "given value is palindrome 1\n",
      "given value is palindrome 2\n",
      "given value is palindrome 3\n",
      "given value is palindrome 4\n",
      "given value is palindrome 5\n",
      "given value is palindrome 6\n",
      "given value is palindrome 7\n",
      "given value is palindrome 8\n",
      "given value is palindrome 9\n",
      "given value is palindrome 11\n",
      "given value is palindrome 22\n",
      "given value is palindrome 33\n",
      "given value is palindrome 44\n",
      "given value is palindrome 55\n",
      "given value is palindrome 66\n",
      "given value is palindrome 77\n",
      "given value is palindrome 88\n",
      "given value is palindrome 99\n",
      "given value is palindrome 101\n",
      "given value is palindrome 111\n",
      "given value is palindrome 121\n",
      "given value is palindrome 131\n",
      "given value is palindrome 141\n",
      "given value is palindrome 151\n",
      "given value is palindrome 161\n",
      "given value is palindrome 171\n",
      "given value is palindrome 181\n",
      "given value is palindrome 191\n",
      "given value is palindrome 202\n",
      "given value is palindrome 212\n",
      "given value is palindrome 222\n",
      "given value is palindrome 232\n",
      "given value is palindrome 242\n",
      "given value is palindrome 252\n",
      "given value is palindrome 262\n",
      "given value is palindrome 272\n",
      "given value is palindrome 282\n",
      "given value is palindrome 292\n",
      "given value is palindrome 303\n",
      "given value is palindrome 313\n",
      "given value is palindrome 323\n",
      "given value is palindrome 333\n",
      "given value is palindrome 343\n",
      "given value is palindrome 353\n",
      "given value is palindrome 363\n",
      "given value is palindrome 373\n",
      "given value is palindrome 383\n",
      "given value is palindrome 393\n",
      "given value is palindrome 404\n",
      "given value is palindrome 414\n",
      "given value is palindrome 424\n",
      "given value is palindrome 434\n",
      "given value is palindrome 444\n",
      "given value is palindrome 454\n",
      "given value is palindrome 464\n",
      "given value is palindrome 474\n",
      "given value is palindrome 484\n",
      "given value is palindrome 494\n",
      "given value is palindrome 505\n",
      "given value is palindrome 515\n",
      "given value is palindrome 525\n",
      "given value is palindrome 535\n",
      "given value is palindrome 545\n",
      "given value is palindrome 555\n",
      "given value is palindrome 565\n",
      "given value is palindrome 575\n",
      "given value is palindrome 585\n",
      "given value is palindrome 595\n",
      "given value is palindrome 606\n",
      "given value is palindrome 616\n",
      "given value is palindrome 626\n",
      "given value is palindrome 636\n",
      "given value is palindrome 646\n",
      "given value is palindrome 656\n",
      "given value is palindrome 666\n",
      "given value is palindrome 676\n",
      "given value is palindrome 686\n",
      "given value is palindrome 696\n",
      "given value is palindrome 707\n",
      "given value is palindrome 717\n",
      "given value is palindrome 727\n",
      "given value is palindrome 737\n",
      "given value is palindrome 747\n",
      "given value is palindrome 757\n",
      "given value is palindrome 767\n",
      "given value is palindrome 777\n",
      "given value is palindrome 787\n",
      "given value is palindrome 797\n",
      "given value is palindrome 808\n",
      "given value is palindrome 818\n",
      "given value is palindrome 828\n",
      "given value is palindrome 838\n",
      "given value is palindrome 848\n",
      "given value is palindrome 858\n",
      "given value is palindrome 868\n",
      "given value is palindrome 878\n",
      "given value is palindrome 888\n",
      "given value is palindrome 898\n",
      "given value is palindrome 909\n",
      "given value is palindrome 919\n",
      "given value is palindrome 929\n",
      "given value is palindrome 939\n",
      "given value is palindrome 949\n",
      "given value is palindrome 959\n",
      "given value is palindrome 969\n",
      "given value is palindrome 979\n",
      "given value is palindrome 989\n",
      "given value is palindrome 999\n"
     ]
    }
   ],
   "source": [
    "# wap to series of palindrome numbers from 1 to nth without typecasting.\n",
    "\n",
    "def palion(num):\n",
    "    temp = num\n",
    "    res = 0\n",
    "    while num:\n",
    "        digit = num % 10\n",
    "        res = (res*10)+digit\n",
    "        num = num//10\n",
    "    if res == temp:\n",
    "        print(\"given value is palindrome\",res)\n",
    "\n",
    "def series(start, end):\n",
    "    while start <= end:\n",
    "        palion(start)\n",
    "        start += 1\n",
    "series(1,1000)\n",
    "\n"
   ]
  },
  {
   "cell_type": "code",
   "execution_count": 59,
   "metadata": {},
   "outputs": [
    {
     "name": "stdout",
     "output_type": "stream",
     "text": [
      "14\n"
     ]
    }
   ],
   "source": [
    "#wap to find out the number of occurences in given number from 1 to 35\n",
    "I/p:2\n",
    "o/p:14\n",
    "def occur(num):\n",
    "    start=1\n",
    "    end=35\n",
    "    count=0\n",
    "    while start<=end:\n",
    "        temp=start\n",
    "        while temp:\n",
    "            d=temp%10\n",
    "            if num==d:\n",
    "                count+=1\n",
    "            temp=temp//10\n",
    "        start+=1\n",
    "    print(count)\n",
    "\n",
    "occur(int(input(\"enter the value\")))\n"
   ]
  },
  {
   "cell_type": "code",
   "execution_count": 67,
   "metadata": {},
   "outputs": [
    {
     "name": "stdout",
     "output_type": "stream",
     "text": [
      "prime number 2\n",
      "prime number 3\n",
      "prime number 5\n",
      "prime number 7\n",
      "prime number 11\n",
      "prime number 13\n",
      "prime number 17\n",
      "prime number 19\n",
      "prime number 23\n",
      "prime number 29\n",
      "prime number 31\n",
      "prime number 37\n",
      "prime number 41\n",
      "prime number 43\n",
      "prime number 47\n"
     ]
    }
   ],
   "source": [
    "#wap to find the given number is a prime or not.\n",
    "\n",
    "def prime(num):\n",
    "    count=0\n",
    "    start=1\n",
    "    while start<=num:\n",
    "        if num%start==0:\n",
    "            count+=1\n",
    "        start+=1\n",
    "    if count==2:\n",
    "        print(\"prime number\",num)\n",
    "\n",
    "#wap  to print the series of prime number from 1 to nth.\n",
    "def series(start,end):\n",
    "    while start<=end:\n",
    "        prime(start)\n",
    "        start+=1\n",
    "series(1,50)\n"
   ]
  },
  {
   "cell_type": "code",
   "execution_count": 69,
   "metadata": {},
   "outputs": [
    {
     "name": "stdout",
     "output_type": "stream",
     "text": [
      "0 1 1 2 3 5 8 13 21 34 55 89 144 233 377 610 987 1597 2584 4181 "
     ]
    }
   ],
   "source": [
    "# WAP TO PRINT THE SERIES OF FIBONACCI SERIES FROM 1 TO NTH.\n",
    "\n",
    "def fibo(num):\n",
    "    a=0\n",
    "    b=1\n",
    "    print(a,b,end=\" \")\n",
    "    start=3\n",
    "    while start<=num:\n",
    "        c=a+b\n",
    "        a=b\n",
    "        b=c\n",
    "        print(c,end=\" \")\n",
    "        start+=1\n",
    "fibo(20)\n",
    "\n"
   ]
  },
  {
   "cell_type": "code",
   "execution_count": 72,
   "metadata": {},
   "outputs": [
    {
     "name": "stdout",
     "output_type": "stream",
     "text": [
      "0 1 \n",
      "0 1 1 \n",
      "0 1 1 2 3 \n",
      "0 1 1 2 3 5 8 \n",
      "0 1 1 2 3 5 8 13 21 34 55 \n",
      "0 1 1 2 3 5 8 13 21 34 55 89 144 \n",
      "0 1 1 2 3 5 8 13 21 34 55 89 144 233 377 610 987 \n",
      "0 1 1 2 3 5 8 13 21 34 55 89 144 233 377 610 987 1597 2584 \n",
      "0 1 1 2 3 5 8 13 21 34 55 89 144 233 377 610 987 1597 2584 4181 6765 10946 17711 \n",
      "0 1 1 2 3 5 8 13 21 34 55 89 144 233 377 610 987 1597 2584 4181 6765 10946 17711 28657 46368 75025 121393 196418 317811 \n",
      "0 1 1 2 3 5 8 13 21 34 55 89 144 233 377 610 987 1597 2584 4181 6765 10946 17711 28657 46368 75025 121393 196418 317811 514229 832040 \n",
      "0 1 1 2 3 5 8 13 21 34 55 89 144 233 377 610 987 1597 2584 4181 6765 10946 17711 28657 46368 75025 121393 196418 317811 514229 832040 1346269 2178309 3524578 5702887 9227465 14930352 \n",
      "0 1 1 2 3 5 8 13 21 34 55 89 144 233 377 610 987 1597 2584 4181 6765 10946 17711 28657 46368 75025 121393 196418 317811 514229 832040 1346269 2178309 3524578 5702887 9227465 14930352 24157817 39088169 63245986 102334155 \n",
      "0 1 1 2 3 5 8 13 21 34 55 89 144 233 377 610 987 1597 2584 4181 6765 10946 17711 28657 46368 75025 121393 196418 317811 514229 832040 1346269 2178309 3524578 5702887 9227465 14930352 24157817 39088169 63245986 102334155 165580141 267914296 \n",
      "0 1 1 2 3 5 8 13 21 34 55 89 144 233 377 610 987 1597 2584 4181 6765 10946 17711 28657 46368 75025 121393 196418 317811 514229 832040 1346269 2178309 3524578 5702887 9227465 14930352 24157817 39088169 63245986 102334155 165580141 267914296 433494437 701408733 1134903170 1836311903 \n"
     ]
    }
   ],
   "source": [
    "#wap to print the prime with fibonacci series from 1 to nth.\n",
    "\n",
    "def prime(num):\n",
    "    count = 0\n",
    "    start = 1\n",
    "    while start <= num:\n",
    "        if num % start == 0:\n",
    "            count += 1\n",
    "        start += 1\n",
    "    if count == 2:\n",
    "        return num\n",
    "    return None\n",
    "\n",
    "\n",
    "def fibo(num):\n",
    "    a = 0\n",
    "    b = 1\n",
    "    print(a, b, end=\" \")\n",
    "    start = 3\n",
    "    while start <= num:\n",
    "        c = a+b\n",
    "        a = b\n",
    "        b = c\n",
    "        print(c, end=\" \")\n",
    "        start += 1\n",
    "\n",
    "def series(start, end):\n",
    "    while start <= end:\n",
    "        res=prime(start)\n",
    "        if res!=None:\n",
    "            fibo(res)\n",
    "            print()\n",
    "        start += 1\n",
    "series(1, 50)\n"
   ]
  },
  {
   "cell_type": "code",
   "execution_count": 78,
   "metadata": {},
   "outputs": [
    {
     "name": "stdout",
     "output_type": "stream",
     "text": [
      "prime number is: 2 fibo series= 0 1 \n",
      "prime number is: 3 fibo series= 0 1 1 \n",
      "prime number is: 5 fibo series= 0 1 1 2 3 \n",
      "prime number is: 7 fibo series= 0 1 1 2 3 5 8 \n",
      "prime number is: 11 fibo series= 0 1 1 2 3 5 8 13 21 34 55 \n",
      "prime number is: 13 fibo series= 0 1 1 2 3 5 8 13 21 34 55 89 144 \n",
      "prime number is: 17 fibo series= 0 1 1 2 3 5 8 13 21 34 55 89 144 233 377 610 987 \n",
      "prime number is: 19 fibo series= 0 1 1 2 3 5 8 13 21 34 55 89 144 233 377 610 987 1597 2584 \n"
     ]
    }
   ],
   "source": [
    "start=1\n",
    "end=20\n",
    "while start<=end:\n",
    "    num=start\n",
    "    count=0\n",
    "    i=1\n",
    "    while i<=num:\n",
    "        if num%i==0:\n",
    "            count+=1\n",
    "        i+=1\n",
    "    if count==2:\n",
    "        res=num\n",
    "        a,b=0,1\n",
    "        print(\"prime number is:\",res,'fibo series=',a,b,end=\" \")\n",
    "        j=3\n",
    "        while j<=res:\n",
    "            c=a+b\n",
    "            a=b\n",
    "            b=c\n",
    "            print(c,end=\" \")\n",
    "            j+=1\n",
    "        print()\n",
    "    start+=1"
   ]
  },
  {
   "cell_type": "code",
   "execution_count": 1,
   "metadata": {},
   "outputs": [
    {
     "name": "stdout",
     "output_type": "stream",
     "text": [
      "9\n"
     ]
    }
   ],
   "source": [
    "n = int(input())\n",
    "arr = list(map(int, input().split()))\n",
    "arr.sort()\n",
    "md = float('inf')\n",
    "for i in range(n-1):\n",
    "    diff = arr[i+1] - arr[i]\n",
    "    newMD = 0\n",
    "    for j in range(n-1):\n",
    "        if j == i:\n",
    "            newMD += (arr[j]+diff-arr[j+1])**2\n",
    "        else:\n",
    "            newMD += (arr[j]-arr[j+1])**2\n",
    "    md = min(md, newMD)\n",
    "print(md)\n"
   ]
  },
  {
   "cell_type": "code",
   "execution_count": 2,
   "metadata": {},
   "outputs": [
    {
     "name": "stdout",
     "output_type": "stream",
     "text": [
      "-1\n"
     ]
    }
   ],
   "source": [
    "n = int(input())\n",
    "a = list(map(int, input().split()))\n",
    "\n",
    "valid_trips = set([(1, 2, 1, 2, 1), (1, 2, 1, 3, 1),\n",
    "                  (1, 3, 1, 2, 1), (1, 3, 1, 3, 1)])\n",
    "\n",
    "for i in range(n - 4 + 1):\n",
    "    if tuple(a[i:i+5]) not in valid_trips:\n",
    "        valid_trips = set()\n",
    "        break\n",
    "\n",
    "if valid_trips:\n",
    "    print(len(valid_trips))\n",
    "else:\n",
    "    print(-1)\n"
   ]
  },
  {
   "cell_type": "code",
   "execution_count": 3,
   "metadata": {},
   "outputs": [
    {
     "name": "stdout",
     "output_type": "stream",
     "text": [
      "0\n"
     ]
    }
   ],
   "source": [
    "MOD = 998244353\n",
    "\n",
    "n, m, k = map(int, input().split())\n",
    "\n",
    "# Initialize dp table\n",
    "dp = [[0 for _ in range(k+1)] for _ in range(n+1)]\n",
    "dp[1][0] = 1\n",
    "\n",
    "# Build graph\n",
    "graph = [[] for _ in range(n+1)]\n",
    "for _ in range(m):\n",
    "    u, v = map(int, input().split())\n",
    "    graph[u].append(v)\n",
    "    graph[v].append(u)\n",
    "\n",
    "# Dynamic programming\n",
    "for j in range(1, k+1):\n",
    "    for i in range(1, n+1):\n",
    "        for neighbor in graph[i]:\n",
    "            dp[i][j] = (dp[i][j] + dp[neighbor][j-1]) % MOD\n",
    "\n",
    "# Print answer\n",
    "print(dp[1][k])\n"
   ]
  },
  {
   "cell_type": "code",
   "execution_count": 4,
   "metadata": {},
   "outputs": [
    {
     "name": "stdout",
     "output_type": "stream",
     "text": [
      "4\n"
     ]
    }
   ],
   "source": [
    "MOD = 998244353\n",
    "\n",
    "\n",
    "def count_trips(n, m, k, edges):\n",
    "    # Initialize dp table\n",
    "    dp = [[0] * (k+1) for _ in range(n+1)]\n",
    "    dp[1][0] = 1\n",
    "\n",
    "    # Mark unusable edges\n",
    "    unusable = set()\n",
    "    for i, j in edges:\n",
    "        unusable.add((i, j))\n",
    "        unusable.add((j, i))\n",
    "\n",
    "    # Update dp table\n",
    "    for j in range(1, k+1):\n",
    "        for i in range(1, n+1):\n",
    "            for neighbor in range(1, n+1):\n",
    "                if i == neighbor or (i, neighbor) in unusable:\n",
    "                    continue\n",
    "                dp[i][j] = (dp[i][j] + dp[neighbor][j-1]) % MOD\n",
    "\n",
    "    # Return answer\n",
    "    return dp[1][k]\n",
    "\n",
    "\n",
    "# Example usage:\n",
    "n = 3\n",
    "m = 1\n",
    "k = 4\n",
    "edges = [(2, 3)]\n",
    "print(count_trips(n, m, k, edges))  # Output: 6\n"
   ]
  },
  {
   "cell_type": "code",
   "execution_count": 3,
   "metadata": {},
   "outputs": [
    {
     "data": {
      "text/plain": [
       "'USERNAME INCORRCET'"
      ]
     },
     "execution_count": 3,
     "metadata": {},
     "output_type": "execute_result"
    }
   ],
   "source": [
    "d=[{'user':'sai','pass':123},{'user':'gopal','pass':456}]\n",
    "\n",
    "def sample(d,name,pas):\n",
    "    fuser=False\n",
    "    fpas=False\n",
    "    fuser_pas=False\n",
    "    for i in d:\n",
    "        if i['user']==name:\n",
    "            if i['pass']==pas:\n",
    "                return \"username_password_correct\"\n",
    "            else:\n",
    "                fpas=True\n",
    "        else:\n",
    "            fuser=True\n",
    "        if not(i['user']==name and i['pass']==pas):\n",
    "            fuser_pas=True\n",
    "\n",
    "    if fuser:\n",
    "        return \"USERNAME INCORRCET\"\n",
    "    elif fpas:\n",
    "        return \"PASSWORD INCORRECT\"\n",
    "    elif fuser_pas:\n",
    "        return \"USERNAME AND PASSWORD INCORRECT\"\n",
    "\n",
    "            \n",
    "sample(d,'gopal',123)"
   ]
  },
  {
   "cell_type": "code",
   "execution_count": 38,
   "metadata": {},
   "outputs": [
    {
     "name": "stdout",
     "output_type": "stream",
     "text": [
      "USERNAME AND PASSWORD InCORRECT\n",
      "USERNAME AND PASSWORD CORRECT\n"
     ]
    }
   ],
   "source": [
    "d=[{'user':'sai','pass':123},{'user':'gopal','pass':456}]\n",
    "\n",
    "def sample(i,name,pas):\n",
    "        if i['user']==name and i['pass']==pas:\n",
    "            return \"USERNAME AND PASSWORD CORRECT\"\n",
    "        elif i['user']==name and i['pass']!=pas:\n",
    "                return \"password incorrect\"\n",
    "        elif i['pass']==pas and i['user']!=name:\n",
    "                return 'username incorrect'\n",
    "        elif i['user']!=name and i['pass']!=pas:\n",
    "            return \"USERNAME AND PASSWORD InCORRECT\"            \n",
    "\n",
    "\n",
    "for i in d:\n",
    "      print(sample(i,'gopal',456))\n",
    "\n",
    "\n"
   ]
  },
  {
   "cell_type": "code",
   "execution_count": 89,
   "metadata": {},
   "outputs": [
    {
     "name": "stdout",
     "output_type": "stream",
     "text": [
      "['sai', 'gopal']\n",
      "[123, 456]\n",
      "[['sai', 123], ['gopal', 456]]\n"
     ]
    },
    {
     "data": {
      "text/plain": [
       "'username and password correct'"
      ]
     },
     "execution_count": 89,
     "metadata": {},
     "output_type": "execute_result"
    }
   ],
   "source": [
    "d=[{'user':'sai','pass':123},{'user':'gopal','pass':456}]\n",
    "def sample(d,name,pas):\n",
    "      user=[]\n",
    "      password=[]\n",
    "      user_pass=[]\n",
    "      for i in d:\n",
    "            user+=[i['user']]\n",
    "            password+=[i['pass']]\n",
    "            user_pass+=[[i['user'],i['pass']]]\n",
    "      print(user)\n",
    "      print(password)\n",
    "      print(user_pass)\n",
    "\n",
    "      if [name,pas] in user_pass:\n",
    "            return \"username and password correct\"\n",
    "      if name in user:\n",
    "            if password[user.index(name)]!=pas:\n",
    "                  return \"password incorrect\"\n",
    "      if pas in password and name not in user:\n",
    "            return \"username incorrect\"\n",
    "      if [name,pas] not in user_pass:\n",
    "            return \"username and password incorrect\"\n",
    "        \n",
    "sample(d,'gopal',456)"
   ]
  },
  {
   "cell_type": "code",
   "execution_count": 4,
   "metadata": {},
   "outputs": [
    {
     "data": {
      "text/plain": [
       "'2023-05-04 08:40:39.654385'"
      ]
     },
     "execution_count": 4,
     "metadata": {},
     "output_type": "execute_result"
    }
   ],
   "source": [
    "from datetime import datetime\n",
    "str(datetime.now())\n"
   ]
  },
  {
   "cell_type": "code",
   "execution_count": 19,
   "metadata": {},
   "outputs": [
    {
     "data": {
      "text/plain": [
       "100"
      ]
     },
     "execution_count": 19,
     "metadata": {},
     "output_type": "execute_result"
    }
   ],
   "source": [
    "def verify_balance():\n",
    "        num=int(input(\"Enter the balance:\"))\n",
    "        if 0<=num:\n",
    "                return num\n",
    "        return verify_balance()\n",
    "verify_balance()"
   ]
  },
  {
   "cell_type": "code",
   "execution_count": 22,
   "metadata": {},
   "outputs": [
    {
     "name": "stdout",
     "output_type": "stream",
     "text": [
      "Your email is invalid\n"
     ]
    },
    {
     "data": {
      "text/plain": [
       "'venu@gmail.com'"
      ]
     },
     "execution_count": 22,
     "metadata": {},
     "output_type": "execute_result"
    }
   ],
   "source": [
    "def verify_email():\n",
    "    email=input(\"Enter the Email_ID:\")\n",
    "    if '@' in email and len(email)>9:\n",
    "        for i in range(0,len(email)):\n",
    "            if '@'==email[i]:\n",
    "                if '.' in email[i:]:\n",
    "                    return email\n",
    "    print(\"Your email is invalid\")\n",
    "    return verify_email()\n",
    "verify_email()\n"
   ]
  },
  {
   "cell_type": "code",
   "execution_count": 25,
   "metadata": {},
   "outputs": [
    {
     "name": "stdout",
     "output_type": "stream",
     "text": [
      "Phone Number should start with either 9,8,7,6\n",
      "Phone Number should be 10 digits\n",
      "9966885544\n"
     ]
    }
   ],
   "source": [
    "def verify_phone():\n",
    "    phone=input(\"Enter the Phone:\")\n",
    "    if phone[0] not in '9876':\n",
    "        print(\"Phone Number should start with either 9,8,7,6\")\n",
    "        verify_phone()\n",
    "    elif len(phone)!=10:\n",
    "        print(\"Phone Number should be 10 digits\")\n",
    "        verify_phone()\n",
    "    else:\n",
    "        print(phone)\n",
    "verify_phone()\n"
   ]
  },
  {
   "cell_type": "code",
   "execution_count": 30,
   "metadata": {},
   "outputs": [
    {
     "name": "stdout",
     "output_type": "stream",
     "text": [
      "password and reenter password should be same\n",
      "Password should start with Uppercase character\n",
      "Venugopal@1\n"
     ]
    }
   ],
   "source": [
    "def verify_password():\n",
    "    pass1=input(\"Enter the Password:\")\n",
    "    pass2=input(\"REEnter the Password:\")\n",
    "    spcount=0\n",
    "    asscount=0\n",
    "    lccount=0\n",
    "    for i in pass1:\n",
    "        if 'a'<=i<='z':\n",
    "            lccount+=1\n",
    "        elif '0'<=i<='9':\n",
    "            asscount+=1\n",
    "        elif not('A'<=i<='Z'):\n",
    "            spcount+=1\n",
    "\n",
    "    if not('A'<=pass1[0]<='Z'):\n",
    "        print(\"Password should start with Uppercase character\")\n",
    "        verify_password()\n",
    "    elif len(pass1)<5:\n",
    "        print(\"password should be 5 digits\")\n",
    "        verify_password()\n",
    "    elif not(spcount>0 and asscount>0 and lccount>0):\n",
    "        print(\"password should contain one special character and one numeric character and atleast one lowercase character\")\n",
    "        verify_password()\n",
    "    elif pass1!=pass2:\n",
    "        print(\"password and reenter password should be same\")\n",
    "        verify_password()\n",
    "    else:\n",
    "        print(pass1)\n",
    "verify_password()\n"
   ]
  },
  {
   "cell_type": "code",
   "execution_count": 15,
   "metadata": {},
   "outputs": [
    {
     "name": "stdout",
     "output_type": "stream",
     "text": [
      "2023-05-04\n"
     ]
    },
    {
     "ename": "AttributeError",
     "evalue": "'datetime.time' object has no attribute 'day'",
     "output_type": "error",
     "traceback": [
      "\u001b[1;31m---------------------------------------------------------------------------\u001b[0m",
      "\u001b[1;31mAttributeError\u001b[0m                            Traceback (most recent call last)",
      "\u001b[1;32mc:\\Users\\QSP\\Documents\\python_programs\\Functions\\basic_func.ipynb Cell 25\u001b[0m in \u001b[0;36m2\n\u001b[0;32m      <a href='vscode-notebook-cell:/c%3A/Users/QSP/Documents/python_programs/Functions/basic_func.ipynb#X33sZmlsZQ%3D%3D?line=0'>1</a>\u001b[0m \u001b[39mprint\u001b[39m(\u001b[39mstr\u001b[39m(datetime\u001b[39m.\u001b[39mnow()\u001b[39m.\u001b[39mdate()))\n\u001b[1;32m----> <a href='vscode-notebook-cell:/c%3A/Users/QSP/Documents/python_programs/Functions/basic_func.ipynb#X33sZmlsZQ%3D%3D?line=1'>2</a>\u001b[0m \u001b[39mprint\u001b[39m(datetime\u001b[39m.\u001b[39;49mnow()\u001b[39m.\u001b[39;49mtime()\u001b[39m.\u001b[39;49mday())\n",
      "\u001b[1;31mAttributeError\u001b[0m: 'datetime.time' object has no attribute 'day'"
     ]
    }
   ],
   "source": [
    "print(str(datetime.now().date()))\n",
    "print(datetime.now().time())\n"
   ]
  },
  {
   "cell_type": "code",
   "execution_count": 4,
   "metadata": {},
   "outputs": [
    {
     "name": "stdout",
     "output_type": "stream",
     "text": [
      "[{'name': 'sairam', 'age': '23', 'phone': '9988556622', 'email': 'sai@gmail.com'}, {'name': 'rani', 'age': '23', 'phone': '9966554411', 'email': 'rani@gmail.com'}, {'name': 'raja', 'age': '26', 'phone': '9977441133', 'email': 'raja@gmail.com'}]\n"
     ]
    }
   ],
   "source": [
    "def person(**kwargs):\n",
    "    return kwargs\n",
    "\n",
    "def storedetails():\n",
    "    l=[]\n",
    "    for i in range(0,3):\n",
    "        l+=[person(name=input(\"enter the name:\"),age=input(\"enter the age\"),phone=input(\"enter the phone\"),email=input(\"enter the email\"))]\n",
    "    for i in l:\n",
    "        print(i)\n",
    "storedetails()\n",
    "\n",
    "\n",
    "\n",
    "#person(name='saikumar',age=23,email=\"sai@gmail.com\",phone=\"9966885522\")\n",
    "#person(age=26,email=\"kiran@gmail.com\",phone=\"9966557744\",name=\"kiran\")\n",
    "#person(name=input(\"enter the name:\"),age=input(\"enter the age\"),phone=input(\"enter the phone\"),email=input(\"enter the email\"))\n"
   ]
  },
  {
   "cell_type": "code",
   "execution_count": 14,
   "metadata": {},
   "outputs": [
    {
     "name": "stdout",
     "output_type": "stream",
     "text": [
      "1 2 (3, 4, 7, 5, 8, 6)\n",
      "1 2 {'c': 3, 'd': 4, 'e': 7, 'f': 5, 'g': 8, 'h': 6}\n",
      "() {'a': 1, 'b': 2, 'c': 3, 'd': 4, 'e': 7, 'f': 5, 'g': 8, 'h': 6}\n",
      "(10, 20, 50, 40, 80) {}\n",
      "(10, 20) {'a': 50, 'b': 40, 'c': 80}\n"
     ]
    }
   ],
   "source": [
    "def sample(a,b,*args):\n",
    "    print(a,b,args)\n",
    "sample(1,2,3,4,7,5,8,6)\n",
    "\n",
    "def sample(a,b,**kwargs):\n",
    "    print(a,b,kwargs)\n",
    "sample(a=1,b=2,c=3,d=4,e=7,f=5,g=8,h=6)\n",
    "\n",
    "def sample(*args,**kwargs):\n",
    "    print(args,kwargs)\n",
    "sample(a=1,b=2,c=3,d=4,e=7,f=5,g=8,h=6)\n",
    "\n",
    "\n",
    "def sample(*args,**kwargs):\n",
    "    print(args,kwargs)\n",
    "sample(10,20,50,40,80)\n",
    "\n",
    "\n",
    "def sample(*args,**kwargs):\n",
    "    print(args,kwargs)\n",
    "sample(10,20,a=50,b=40,c=80)"
   ]
  },
  {
   "cell_type": "code",
   "execution_count": 16,
   "metadata": {},
   "outputs": [
    {
     "name": "stdout",
     "output_type": "stream",
     "text": [
      "10 20 30 40\n"
     ]
    }
   ],
   "source": [
    "l=[10,20,30,40]\n",
    "def sample(a,b,c,d):\n",
    "    print(a,b,c,d)\n",
    "sample(*l)"
   ]
  },
  {
   "cell_type": "code",
   "execution_count": 20,
   "metadata": {},
   "outputs": [
    {
     "name": "stdout",
     "output_type": "stream",
     "text": [
      "10 20 30 40\n"
     ]
    }
   ],
   "source": [
    "l=[10,20,30,40]\n",
    "def sample(a,b,c,d):\n",
    "    print(a,b,c,d)\n",
    "sample(*l)"
   ]
  },
  {
   "cell_type": "code",
   "execution_count": 24,
   "metadata": {},
   "outputs": [
    {
     "ename": "TypeError",
     "evalue": "sample() got an unexpected keyword argument 'e'",
     "output_type": "error",
     "traceback": [
      "\u001b[1;31m---------------------------------------------------------------------------\u001b[0m",
      "\u001b[1;31mTypeError\u001b[0m                                 Traceback (most recent call last)",
      "\u001b[1;32mc:\\Users\\QSP\\Documents\\python_programs\\Functions\\basic_func.ipynb Cell 34\u001b[0m in \u001b[0;36m4\n\u001b[0;32m      <a href='vscode-notebook-cell:/c%3A/Users/QSP/Documents/python_programs/Functions/basic_func.ipynb#X45sZmlsZQ%3D%3D?line=1'>2</a>\u001b[0m \u001b[39mdef\u001b[39;00m \u001b[39msample\u001b[39m(a,b,c,d):\n\u001b[0;32m      <a href='vscode-notebook-cell:/c%3A/Users/QSP/Documents/python_programs/Functions/basic_func.ipynb#X45sZmlsZQ%3D%3D?line=2'>3</a>\u001b[0m     \u001b[39mprint\u001b[39m(a,b,c,d)\n\u001b[1;32m----> <a href='vscode-notebook-cell:/c%3A/Users/QSP/Documents/python_programs/Functions/basic_func.ipynb#X45sZmlsZQ%3D%3D?line=3'>4</a>\u001b[0m sample(\u001b[39m*\u001b[39;49m\u001b[39m*\u001b[39;49ml)\n",
      "\u001b[1;31mTypeError\u001b[0m: sample() got an unexpected keyword argument 'e'"
     ]
    }
   ],
   "source": [
    "l={'a':10,'b':20,'d':30,'e':40}\n",
    "def sample(a,b,c,d):\n",
    "    print(a,b,c,d)\n",
    "sample(**l)"
   ]
  },
  {
   "cell_type": "code",
   "execution_count": 26,
   "metadata": {},
   "outputs": [
    {
     "name": "stdout",
     "output_type": "stream",
     "text": [
      "10 20 30 40\n"
     ]
    }
   ],
   "source": [
    "l={'a':10,'b':20,'c':30,'d':40}\n",
    "def sample(a,b,c,d):\n",
    "    print(a,b,c,d)\n",
    "sample(**l)"
   ]
  },
  {
   "cell_type": "code",
   "execution_count": 28,
   "metadata": {},
   "outputs": [
    {
     "name": "stdout",
     "output_type": "stream",
     "text": [
      "1 2 3 4\n"
     ]
    }
   ],
   "source": [
    "a,b,c,d=(1,2,3,4)\n",
    "print(a,b,c,d)"
   ]
  },
  {
   "cell_type": "code",
   "execution_count": 32,
   "metadata": {},
   "outputs": [
    {
     "name": "stdout",
     "output_type": "stream",
     "text": [
      "1 2 3 4\n",
      "a b c d\n",
      "1 2 3 4\n",
      "(10, 50, 60, 40)\n"
     ]
    }
   ],
   "source": [
    "a,b,c,d=[1,2,3,4]\n",
    "print(a,b,c,d)\n",
    "\n",
    "a,b,c,d={'a':1,'b':2,'c':3,'d':4}\n",
    "print(a,b,c,d)\n",
    "\n",
    "a,b,c,d={'a':1,'b':2,'c':3,'d':4}.values()\n",
    "print(a,b,c,d)\n",
    "\n",
    "\n",
    "a=10,50,60,40\n",
    "print(a)"
   ]
  },
  {
   "cell_type": "code",
   "execution_count": 3,
   "metadata": {},
   "outputs": [
    {
     "ename": "TypeError",
     "evalue": "sub() missing 2 required positional arguments: 'a' and 'b'",
     "output_type": "error",
     "traceback": [
      "\u001b[1;31m---------------------------------------------------------------------------\u001b[0m",
      "\u001b[1;31mTypeError\u001b[0m                                 Traceback (most recent call last)",
      "\u001b[1;32mc:\\Users\\QSP\\Documents\\python_programs\\batch-5.00-7.00\\Functions\\basic_func.ipynb Cell 38\u001b[0m in \u001b[0;36m3\n\u001b[0;32m      <a href='vscode-notebook-cell:/c%3A/Users/QSP/Documents/python_programs/batch-5.00-7.00/Functions/basic_func.ipynb#X52sZmlsZQ%3D%3D?line=0'>1</a>\u001b[0m \u001b[39mdef\u001b[39;00m \u001b[39msub\u001b[39m(a,b):\n\u001b[0;32m      <a href='vscode-notebook-cell:/c%3A/Users/QSP/Documents/python_programs/batch-5.00-7.00/Functions/basic_func.ipynb#X52sZmlsZQ%3D%3D?line=1'>2</a>\u001b[0m     \u001b[39mreturn\u001b[39;00m a\u001b[39m-\u001b[39mb\n\u001b[1;32m----> <a href='vscode-notebook-cell:/c%3A/Users/QSP/Documents/python_programs/batch-5.00-7.00/Functions/basic_func.ipynb#X52sZmlsZQ%3D%3D?line=2'>3</a>\u001b[0m res\u001b[39m=\u001b[39msub()\n\u001b[0;32m      <a href='vscode-notebook-cell:/c%3A/Users/QSP/Documents/python_programs/batch-5.00-7.00/Functions/basic_func.ipynb#X52sZmlsZQ%3D%3D?line=3'>4</a>\u001b[0m \u001b[39mprint\u001b[39m(res)\n",
      "\u001b[1;31mTypeError\u001b[0m: sub() missing 2 required positional arguments: 'a' and 'b'"
     ]
    }
   ],
   "source": [
    "def sub(a,b):\n",
    "    return a-b\n",
    "res=sub()\n",
    "print(res)"
   ]
  },
  {
   "cell_type": "code",
   "execution_count": 4,
   "metadata": {},
   "outputs": [
    {
     "ename": "TypeError",
     "evalue": "sub() missing 1 required positional argument: 'b'",
     "output_type": "error",
     "traceback": [
      "\u001b[1;31m---------------------------------------------------------------------------\u001b[0m",
      "\u001b[1;31mTypeError\u001b[0m                                 Traceback (most recent call last)",
      "\u001b[1;32mc:\\Users\\QSP\\Documents\\python_programs\\batch-5.00-7.00\\Functions\\basic_func.ipynb Cell 39\u001b[0m in \u001b[0;36m3\n\u001b[0;32m      <a href='vscode-notebook-cell:/c%3A/Users/QSP/Documents/python_programs/batch-5.00-7.00/Functions/basic_func.ipynb#X53sZmlsZQ%3D%3D?line=0'>1</a>\u001b[0m \u001b[39mdef\u001b[39;00m \u001b[39msub\u001b[39m(a,b):\n\u001b[0;32m      <a href='vscode-notebook-cell:/c%3A/Users/QSP/Documents/python_programs/batch-5.00-7.00/Functions/basic_func.ipynb#X53sZmlsZQ%3D%3D?line=1'>2</a>\u001b[0m     \u001b[39mreturn\u001b[39;00m a\u001b[39m-\u001b[39mb\n\u001b[1;32m----> <a href='vscode-notebook-cell:/c%3A/Users/QSP/Documents/python_programs/batch-5.00-7.00/Functions/basic_func.ipynb#X53sZmlsZQ%3D%3D?line=2'>3</a>\u001b[0m res\u001b[39m=\u001b[39msub(\u001b[39m10\u001b[39;49m)\n\u001b[0;32m      <a href='vscode-notebook-cell:/c%3A/Users/QSP/Documents/python_programs/batch-5.00-7.00/Functions/basic_func.ipynb#X53sZmlsZQ%3D%3D?line=3'>4</a>\u001b[0m \u001b[39mprint\u001b[39m(res)\n",
      "\u001b[1;31mTypeError\u001b[0m: sub() missing 1 required positional argument: 'b'"
     ]
    }
   ],
   "source": [
    "def sub(a,b):\n",
    "    return a-b\n",
    "res=sub(10)\n",
    "print(res)"
   ]
  },
  {
   "cell_type": "code",
   "execution_count": 5,
   "metadata": {},
   "outputs": [
    {
     "name": "stdout",
     "output_type": "stream",
     "text": [
      "-10\n"
     ]
    }
   ],
   "source": [
    "def sub(a,b):\n",
    "    return a-b\n",
    "res=sub(10,20)\n",
    "print(res)"
   ]
  },
  {
   "cell_type": "code",
   "execution_count": 6,
   "metadata": {},
   "outputs": [
    {
     "name": "stdout",
     "output_type": "stream",
     "text": [
      "10\n"
     ]
    }
   ],
   "source": [
    "def sub(a,b):\n",
    "    return a-b\n",
    "res=sub(20,10)\n",
    "print(res)"
   ]
  },
  {
   "cell_type": "code",
   "execution_count": 7,
   "metadata": {},
   "outputs": [
    {
     "ename": "TypeError",
     "evalue": "sub() takes 2 positional arguments but 3 were given",
     "output_type": "error",
     "traceback": [
      "\u001b[1;31m---------------------------------------------------------------------------\u001b[0m",
      "\u001b[1;31mTypeError\u001b[0m                                 Traceback (most recent call last)",
      "\u001b[1;32mc:\\Users\\QSP\\Documents\\python_programs\\batch-5.00-7.00\\Functions\\basic_func.ipynb Cell 42\u001b[0m in \u001b[0;36m3\n\u001b[0;32m      <a href='vscode-notebook-cell:/c%3A/Users/QSP/Documents/python_programs/batch-5.00-7.00/Functions/basic_func.ipynb#X56sZmlsZQ%3D%3D?line=0'>1</a>\u001b[0m \u001b[39mdef\u001b[39;00m \u001b[39msub\u001b[39m(a,b):\n\u001b[0;32m      <a href='vscode-notebook-cell:/c%3A/Users/QSP/Documents/python_programs/batch-5.00-7.00/Functions/basic_func.ipynb#X56sZmlsZQ%3D%3D?line=1'>2</a>\u001b[0m     \u001b[39mreturn\u001b[39;00m a\u001b[39m-\u001b[39mb\n\u001b[1;32m----> <a href='vscode-notebook-cell:/c%3A/Users/QSP/Documents/python_programs/batch-5.00-7.00/Functions/basic_func.ipynb#X56sZmlsZQ%3D%3D?line=2'>3</a>\u001b[0m res\u001b[39m=\u001b[39msub(\u001b[39m20\u001b[39;49m,\u001b[39m10\u001b[39;49m,\u001b[39m30\u001b[39;49m)\n\u001b[0;32m      <a href='vscode-notebook-cell:/c%3A/Users/QSP/Documents/python_programs/batch-5.00-7.00/Functions/basic_func.ipynb#X56sZmlsZQ%3D%3D?line=3'>4</a>\u001b[0m \u001b[39mprint\u001b[39m(res)\n",
      "\u001b[1;31mTypeError\u001b[0m: sub() takes 2 positional arguments but 3 were given"
     ]
    }
   ],
   "source": [
    "def sub(a,b):\n",
    "    return a-b\n",
    "res=sub(20,10,30)\n",
    "print(res)"
   ]
  },
  {
   "cell_type": "code",
   "execution_count": 8,
   "metadata": {},
   "outputs": [
    {
     "name": "stdout",
     "output_type": "stream",
     "text": [
      "-100\n"
     ]
    }
   ],
   "source": [
    "x,y=100,200\n",
    "def sub(a,b):\n",
    "    return a-b\n",
    "res=sub(x,y)\n",
    "print(res)"
   ]
  },
  {
   "cell_type": "code",
   "execution_count": 9,
   "metadata": {},
   "outputs": [
    {
     "name": "stdout",
     "output_type": "stream",
     "text": [
      "30\n"
     ]
    }
   ],
   "source": [
    "def sample(a=10,b=20):\n",
    "    return a+b\n",
    "res=sample()\n",
    "print(res)"
   ]
  },
  {
   "cell_type": "code",
   "execution_count": 10,
   "metadata": {},
   "outputs": [
    {
     "name": "stdout",
     "output_type": "stream",
     "text": [
      "300\n"
     ]
    }
   ],
   "source": [
    "def sample(a=10,b=20):\n",
    "    return a+b\n",
    "res=sample(100,200)\n",
    "print(res)"
   ]
  },
  {
   "cell_type": "code",
   "execution_count": 11,
   "metadata": {},
   "outputs": [
    {
     "name": "stdout",
     "output_type": "stream",
     "text": [
      "3000\n"
     ]
    }
   ],
   "source": [
    "x=1000\n",
    "y=2000\n",
    "def sample(a=10,b=20):\n",
    "    return a+b\n",
    "res=sample(x,y)\n",
    "print(res)"
   ]
  },
  {
   "cell_type": "code",
   "execution_count": 12,
   "metadata": {},
   "outputs": [
    {
     "ename": "TypeError",
     "evalue": "sample() takes from 0 to 2 positional arguments but 3 were given",
     "output_type": "error",
     "traceback": [
      "\u001b[1;31m---------------------------------------------------------------------------\u001b[0m",
      "\u001b[1;31mTypeError\u001b[0m                                 Traceback (most recent call last)",
      "\u001b[1;32mc:\\Users\\QSP\\Documents\\python_programs\\batch-5.00-7.00\\Functions\\basic_func.ipynb Cell 47\u001b[0m in \u001b[0;36m3\n\u001b[0;32m      <a href='vscode-notebook-cell:/c%3A/Users/QSP/Documents/python_programs/batch-5.00-7.00/Functions/basic_func.ipynb#X65sZmlsZQ%3D%3D?line=0'>1</a>\u001b[0m \u001b[39mdef\u001b[39;00m \u001b[39msample\u001b[39m(a\u001b[39m=\u001b[39m\u001b[39m10\u001b[39m,b\u001b[39m=\u001b[39m\u001b[39m20\u001b[39m):\n\u001b[0;32m      <a href='vscode-notebook-cell:/c%3A/Users/QSP/Documents/python_programs/batch-5.00-7.00/Functions/basic_func.ipynb#X65sZmlsZQ%3D%3D?line=1'>2</a>\u001b[0m     \u001b[39mreturn\u001b[39;00m a\u001b[39m+\u001b[39mb\n\u001b[1;32m----> <a href='vscode-notebook-cell:/c%3A/Users/QSP/Documents/python_programs/batch-5.00-7.00/Functions/basic_func.ipynb#X65sZmlsZQ%3D%3D?line=2'>3</a>\u001b[0m res\u001b[39m=\u001b[39msample(\u001b[39m100\u001b[39;49m,\u001b[39m200\u001b[39;49m,\u001b[39m300\u001b[39;49m)\n\u001b[0;32m      <a href='vscode-notebook-cell:/c%3A/Users/QSP/Documents/python_programs/batch-5.00-7.00/Functions/basic_func.ipynb#X65sZmlsZQ%3D%3D?line=3'>4</a>\u001b[0m \u001b[39mprint\u001b[39m(res)\n",
      "\u001b[1;31mTypeError\u001b[0m: sample() takes from 0 to 2 positional arguments but 3 were given"
     ]
    }
   ],
   "source": [
    "def sample(a=10,b=20):\n",
    "    return a+b\n",
    "res=sample(100,200,300)\n",
    "print(res)"
   ]
  },
  {
   "cell_type": "code",
   "execution_count": 13,
   "metadata": {},
   "outputs": [
    {
     "name": "stdout",
     "output_type": "stream",
     "text": [
      "120\n"
     ]
    }
   ],
   "source": [
    "def sample(a=10,b=20):\n",
    "    return a+b\n",
    "res=sample(100)\n",
    "print(res)"
   ]
  },
  {
   "cell_type": "code",
   "execution_count": 14,
   "metadata": {},
   "outputs": [
    {
     "name": "stdout",
     "output_type": "stream",
     "text": [
      "120\n"
     ]
    }
   ],
   "source": [
    "def sample(a,b=20):\n",
    "    return a+b\n",
    "res=sample(100)\n",
    "print(res)"
   ]
  },
  {
   "cell_type": "code",
   "execution_count": 15,
   "metadata": {},
   "outputs": [
    {
     "name": "stdout",
     "output_type": "stream",
     "text": [
      "300\n"
     ]
    }
   ],
   "source": [
    "def sample(a,b=20):\n",
    "    return a+b\n",
    "res=sample(100,200)\n",
    "print(res)"
   ]
  },
  {
   "cell_type": "code",
   "execution_count": 16,
   "metadata": {},
   "outputs": [
    {
     "ename": "SyntaxError",
     "evalue": "non-default argument follows default argument (1037768133.py, line 1)",
     "output_type": "error",
     "traceback": [
      "\u001b[1;36m  Cell \u001b[1;32mIn [16], line 1\u001b[1;36m\u001b[0m\n\u001b[1;33m    def sample(a=10,b):\u001b[0m\n\u001b[1;37m                    ^\u001b[0m\n\u001b[1;31mSyntaxError\u001b[0m\u001b[1;31m:\u001b[0m non-default argument follows default argument\n"
     ]
    }
   ],
   "source": [
    "def sample(a=10,b):\n",
    "    return a+b\n",
    "res=sample(100)\n",
    "print(res)"
   ]
  },
  {
   "cell_type": "code",
   "execution_count": 6,
   "metadata": {},
   "outputs": [
    {
     "name": "stdout",
     "output_type": "stream",
     "text": [
      "(10, 20, 30)\n",
      "(10, 30, 20)\n"
     ]
    }
   ],
   "source": [
    "def sample(a,b,c):\n",
    "    return (a,b,c)\n",
    "print(sample(10,20,30))\n",
    "print(sample(10,30,20))"
   ]
  },
  {
   "cell_type": "code",
   "execution_count": 7,
   "metadata": {},
   "outputs": [
    {
     "name": "stdout",
     "output_type": "stream",
     "text": [
      "(10, 20, 30)\n"
     ]
    }
   ],
   "source": [
    "def sample(a,b,c):\n",
    "    return (a,b,c)\n",
    "print(sample(c=30,a=10,b=20))"
   ]
  },
  {
   "cell_type": "code",
   "execution_count": 9,
   "metadata": {},
   "outputs": [
    {
     "ename": "TypeError",
     "evalue": "sample() got an unexpected keyword argument 'd'",
     "output_type": "error",
     "traceback": [
      "\u001b[1;31m---------------------------------------------------------------------------\u001b[0m",
      "\u001b[1;31mTypeError\u001b[0m                                 Traceback (most recent call last)",
      "\u001b[1;32mc:\\Users\\QSP\\Documents\\python_programs\\batch-5.00-7.00\\Functions\\basic_func.ipynb Cell 55\u001b[0m in \u001b[0;36m3\n\u001b[0;32m      <a href='vscode-notebook-cell:/c%3A/Users/QSP/Documents/python_programs/batch-5.00-7.00/Functions/basic_func.ipynb#Y105sZmlsZQ%3D%3D?line=0'>1</a>\u001b[0m \u001b[39mdef\u001b[39;00m \u001b[39msample\u001b[39m(a,b,c):\n\u001b[0;32m      <a href='vscode-notebook-cell:/c%3A/Users/QSP/Documents/python_programs/batch-5.00-7.00/Functions/basic_func.ipynb#Y105sZmlsZQ%3D%3D?line=1'>2</a>\u001b[0m     \u001b[39mreturn\u001b[39;00m (a,b,c)\n\u001b[1;32m----> <a href='vscode-notebook-cell:/c%3A/Users/QSP/Documents/python_programs/batch-5.00-7.00/Functions/basic_func.ipynb#Y105sZmlsZQ%3D%3D?line=2'>3</a>\u001b[0m \u001b[39mprint\u001b[39m(sample(c\u001b[39m=\u001b[39;49m\u001b[39m30\u001b[39;49m,a\u001b[39m=\u001b[39;49m\u001b[39m10\u001b[39;49m,d\u001b[39m=\u001b[39;49m\u001b[39m20\u001b[39;49m))\n",
      "\u001b[1;31mTypeError\u001b[0m: sample() got an unexpected keyword argument 'd'"
     ]
    }
   ],
   "source": [
    "def sample(a,b,c):\n",
    "    return (a,b,c)\n",
    "print(sample(c=30,a=10,d=20))"
   ]
  },
  {
   "cell_type": "code",
   "execution_count": 10,
   "metadata": {},
   "outputs": [
    {
     "ename": "SyntaxError",
     "evalue": "keyword argument repeated: c (1187082897.py, line 3)",
     "output_type": "error",
     "traceback": [
      "\u001b[1;36m  Cell \u001b[1;32mIn [10], line 3\u001b[1;36m\u001b[0m\n\u001b[1;33m    print(sample(c=30,a=10,d=20,c=50))\u001b[0m\n\u001b[1;37m                                ^\u001b[0m\n\u001b[1;31mSyntaxError\u001b[0m\u001b[1;31m:\u001b[0m keyword argument repeated: c\n"
     ]
    }
   ],
   "source": [
    "def sample(a,b,c):\n",
    "    return (a,b,c)\n",
    "print(sample(c=30,a=10,d=20,c=50))"
   ]
  },
  {
   "cell_type": "code",
   "execution_count": 12,
   "metadata": {},
   "outputs": [
    {
     "ename": "TypeError",
     "evalue": "sample() got an unexpected keyword argument 'd'",
     "output_type": "error",
     "traceback": [
      "\u001b[1;31m---------------------------------------------------------------------------\u001b[0m",
      "\u001b[1;31mTypeError\u001b[0m                                 Traceback (most recent call last)",
      "\u001b[1;32mc:\\Users\\QSP\\Documents\\python_programs\\batch-5.00-7.00\\Functions\\basic_func.ipynb Cell 57\u001b[0m in \u001b[0;36m3\n\u001b[0;32m      <a href='vscode-notebook-cell:/c%3A/Users/QSP/Documents/python_programs/batch-5.00-7.00/Functions/basic_func.ipynb#Y110sZmlsZQ%3D%3D?line=0'>1</a>\u001b[0m \u001b[39mdef\u001b[39;00m \u001b[39msample\u001b[39m(a,b,c):\n\u001b[0;32m      <a href='vscode-notebook-cell:/c%3A/Users/QSP/Documents/python_programs/batch-5.00-7.00/Functions/basic_func.ipynb#Y110sZmlsZQ%3D%3D?line=1'>2</a>\u001b[0m     \u001b[39mreturn\u001b[39;00m (a,b,c)\n\u001b[1;32m----> <a href='vscode-notebook-cell:/c%3A/Users/QSP/Documents/python_programs/batch-5.00-7.00/Functions/basic_func.ipynb#Y110sZmlsZQ%3D%3D?line=2'>3</a>\u001b[0m \u001b[39mprint\u001b[39m(sample(c\u001b[39m=\u001b[39;49m\u001b[39m30\u001b[39;49m,a\u001b[39m=\u001b[39;49m\u001b[39m10\u001b[39;49m,b\u001b[39m=\u001b[39;49m\u001b[39m20\u001b[39;49m,d\u001b[39m=\u001b[39;49m\u001b[39m50\u001b[39;49m))\n",
      "\u001b[1;31mTypeError\u001b[0m: sample() got an unexpected keyword argument 'd'"
     ]
    }
   ],
   "source": [
    "def sample(a,b,c):\n",
    "    return (a,b,c)\n",
    "print(sample(c=30,a=10,b=20,d=50))"
   ]
  },
  {
   "cell_type": "code",
   "execution_count": 13,
   "metadata": {},
   "outputs": [
    {
     "ename": "TypeError",
     "evalue": "sample() missing 1 required positional argument: 'c'",
     "output_type": "error",
     "traceback": [
      "\u001b[1;31m---------------------------------------------------------------------------\u001b[0m",
      "\u001b[1;31mTypeError\u001b[0m                                 Traceback (most recent call last)",
      "\u001b[1;32mc:\\Users\\QSP\\Documents\\python_programs\\batch-5.00-7.00\\Functions\\basic_func.ipynb Cell 58\u001b[0m in \u001b[0;36m3\n\u001b[0;32m      <a href='vscode-notebook-cell:/c%3A/Users/QSP/Documents/python_programs/batch-5.00-7.00/Functions/basic_func.ipynb#Y111sZmlsZQ%3D%3D?line=0'>1</a>\u001b[0m \u001b[39mdef\u001b[39;00m \u001b[39msample\u001b[39m(a,b,c):\n\u001b[0;32m      <a href='vscode-notebook-cell:/c%3A/Users/QSP/Documents/python_programs/batch-5.00-7.00/Functions/basic_func.ipynb#Y111sZmlsZQ%3D%3D?line=1'>2</a>\u001b[0m     \u001b[39mreturn\u001b[39;00m (a,b,c)\n\u001b[1;32m----> <a href='vscode-notebook-cell:/c%3A/Users/QSP/Documents/python_programs/batch-5.00-7.00/Functions/basic_func.ipynb#Y111sZmlsZQ%3D%3D?line=2'>3</a>\u001b[0m \u001b[39mprint\u001b[39m(sample(b\u001b[39m=\u001b[39;49m\u001b[39m20\u001b[39;49m,a\u001b[39m=\u001b[39;49m\u001b[39m10\u001b[39;49m))\n",
      "\u001b[1;31mTypeError\u001b[0m: sample() missing 1 required positional argument: 'c'"
     ]
    }
   ],
   "source": [
    "def sample(a,b,c):\n",
    "    return (a,b,c)\n",
    "print(sample(b=20,a=10))"
   ]
  },
  {
   "cell_type": "code",
   "execution_count": 14,
   "metadata": {},
   "outputs": [
    {
     "data": {
      "text/plain": [
       "(10, 20, 30)"
      ]
     },
     "execution_count": 14,
     "metadata": {},
     "output_type": "execute_result"
    }
   ],
   "source": [
    "def sample(a,b,c):\n",
    "    return(a,b,c)\n",
    "sample(10,c=30,b=20)"
   ]
  },
  {
   "cell_type": "code",
   "execution_count": 15,
   "metadata": {},
   "outputs": [
    {
     "ename": "SyntaxError",
     "evalue": "positional argument follows keyword argument (2104240614.py, line 3)",
     "output_type": "error",
     "traceback": [
      "\u001b[1;36m  Cell \u001b[1;32mIn [15], line 3\u001b[1;36m\u001b[0m\n\u001b[1;33m    sample(c=30,b=20,10)\u001b[0m\n\u001b[1;37m                       ^\u001b[0m\n\u001b[1;31mSyntaxError\u001b[0m\u001b[1;31m:\u001b[0m positional argument follows keyword argument\n"
     ]
    }
   ],
   "source": [
    "def sample(a,b,c):\n",
    "    return(a,b,c)\n",
    "sample(c=30,b=20,10)"
   ]
  },
  {
   "cell_type": "code",
   "execution_count": 16,
   "metadata": {},
   "outputs": [
    {
     "data": {
      "text/plain": [
       "(10, 20, 30)"
      ]
     },
     "execution_count": 16,
     "metadata": {},
     "output_type": "execute_result"
    }
   ],
   "source": [
    "def sample(a=10,b=20,c=30):\n",
    "    return (a,b,c)\n",
    "sample()"
   ]
  },
  {
   "cell_type": "code",
   "execution_count": 17,
   "metadata": {},
   "outputs": [
    {
     "data": {
      "text/plain": [
       "(100, 200, 300)"
      ]
     },
     "execution_count": 17,
     "metadata": {},
     "output_type": "execute_result"
    }
   ],
   "source": [
    "def sample(a=10,b=20,c=30):\n",
    "    return (a,b,c)\n",
    "sample(100,200,300)"
   ]
  },
  {
   "cell_type": "code",
   "execution_count": 18,
   "metadata": {},
   "outputs": [
    {
     "data": {
      "text/plain": [
       "(100, 200, 300)"
      ]
     },
     "execution_count": 18,
     "metadata": {},
     "output_type": "execute_result"
    }
   ],
   "source": [
    "def sample(a=10,b=20,c=30):\n",
    "    return (a,b,c)\n",
    "sample(c=300,b=200,a=100)\n"
   ]
  },
  {
   "cell_type": "code",
   "execution_count": 19,
   "metadata": {},
   "outputs": [
    {
     "data": {
      "text/plain": [
       "(10, 200, 300)"
      ]
     },
     "execution_count": 19,
     "metadata": {},
     "output_type": "execute_result"
    }
   ],
   "source": [
    "def sample(a=10,b=20,c=30):\n",
    "    return (a,b,c)\n",
    "sample(c=300,b=200)"
   ]
  },
  {
   "cell_type": "code",
   "execution_count": 20,
   "metadata": {},
   "outputs": [
    {
     "ename": "TypeError",
     "evalue": "sample() got an unexpected keyword argument 'd'",
     "output_type": "error",
     "traceback": [
      "\u001b[1;31m---------------------------------------------------------------------------\u001b[0m",
      "\u001b[1;31mTypeError\u001b[0m                                 Traceback (most recent call last)",
      "\u001b[1;32mc:\\Users\\QSP\\Documents\\python_programs\\batch-5.00-7.00\\Functions\\basic_func.ipynb Cell 65\u001b[0m in \u001b[0;36m3\n\u001b[0;32m      <a href='vscode-notebook-cell:/c%3A/Users/QSP/Documents/python_programs/batch-5.00-7.00/Functions/basic_func.ipynb#Y121sZmlsZQ%3D%3D?line=0'>1</a>\u001b[0m \u001b[39mdef\u001b[39;00m \u001b[39msample\u001b[39m(a\u001b[39m=\u001b[39m\u001b[39m10\u001b[39m,b\u001b[39m=\u001b[39m\u001b[39m20\u001b[39m,c\u001b[39m=\u001b[39m\u001b[39m30\u001b[39m):\n\u001b[0;32m      <a href='vscode-notebook-cell:/c%3A/Users/QSP/Documents/python_programs/batch-5.00-7.00/Functions/basic_func.ipynb#Y121sZmlsZQ%3D%3D?line=1'>2</a>\u001b[0m     \u001b[39mreturn\u001b[39;00m (a,b,c)\n\u001b[1;32m----> <a href='vscode-notebook-cell:/c%3A/Users/QSP/Documents/python_programs/batch-5.00-7.00/Functions/basic_func.ipynb#Y121sZmlsZQ%3D%3D?line=2'>3</a>\u001b[0m sample(c\u001b[39m=\u001b[39;49m\u001b[39m300\u001b[39;49m,b\u001b[39m=\u001b[39;49m\u001b[39m200\u001b[39;49m,a\u001b[39m=\u001b[39;49m\u001b[39m100\u001b[39;49m,d\u001b[39m=\u001b[39;49m\u001b[39m500\u001b[39;49m)\n",
      "\u001b[1;31mTypeError\u001b[0m: sample() got an unexpected keyword argument 'd'"
     ]
    }
   ],
   "source": [
    "def sample(a=10,b=20,c=30):\n",
    "    return (a,b,c)\n",
    "sample(c=300,b=200,a=100,d=500)"
   ]
  },
  {
   "cell_type": "code",
   "execution_count": 26,
   "metadata": {},
   "outputs": [
    {
     "data": {
      "text/plain": [
       "(60, 80, 10, 50)"
      ]
     },
     "execution_count": 26,
     "metadata": {},
     "output_type": "execute_result"
    }
   ],
   "source": [
    "def sample(d,a=10,b=20,c=30):\n",
    "    return (a,b,c,d)\n",
    "sample(50,60,80,10)"
   ]
  },
  {
   "cell_type": "code",
   "execution_count": 27,
   "metadata": {},
   "outputs": [
    {
     "ename": "TypeError",
     "evalue": "sample() takes from 1 to 4 positional arguments but 5 were given",
     "output_type": "error",
     "traceback": [
      "\u001b[1;31m---------------------------------------------------------------------------\u001b[0m",
      "\u001b[1;31mTypeError\u001b[0m                                 Traceback (most recent call last)",
      "\u001b[1;32mc:\\Users\\QSP\\Documents\\python_programs\\batch-5.00-7.00\\Functions\\basic_func.ipynb Cell 67\u001b[0m in \u001b[0;36m3\n\u001b[0;32m      <a href='vscode-notebook-cell:/c%3A/Users/QSP/Documents/python_programs/batch-5.00-7.00/Functions/basic_func.ipynb#Y126sZmlsZQ%3D%3D?line=0'>1</a>\u001b[0m \u001b[39mdef\u001b[39;00m \u001b[39msample\u001b[39m(d,a\u001b[39m=\u001b[39m\u001b[39m10\u001b[39m,b\u001b[39m=\u001b[39m\u001b[39m20\u001b[39m,c\u001b[39m=\u001b[39m\u001b[39m30\u001b[39m):\n\u001b[0;32m      <a href='vscode-notebook-cell:/c%3A/Users/QSP/Documents/python_programs/batch-5.00-7.00/Functions/basic_func.ipynb#Y126sZmlsZQ%3D%3D?line=1'>2</a>\u001b[0m     \u001b[39mreturn\u001b[39;00m (a,b,c,d)\n\u001b[1;32m----> <a href='vscode-notebook-cell:/c%3A/Users/QSP/Documents/python_programs/batch-5.00-7.00/Functions/basic_func.ipynb#Y126sZmlsZQ%3D%3D?line=2'>3</a>\u001b[0m sample(\u001b[39m50\u001b[39;49m,\u001b[39m60\u001b[39;49m,\u001b[39m80\u001b[39;49m,\u001b[39m10\u001b[39;49m,\u001b[39m500\u001b[39;49m)\n",
      "\u001b[1;31mTypeError\u001b[0m: sample() takes from 1 to 4 positional arguments but 5 were given"
     ]
    }
   ],
   "source": [
    "def sample(d,a=10,b=20,c=30):\n",
    "    return (a,b,c,d)\n",
    "sample(50,60,80,10,500)"
   ]
  },
  {
   "cell_type": "code",
   "execution_count": null,
   "metadata": {},
   "outputs": [],
   "source": []
  },
  {
   "cell_type": "code",
   "execution_count": 22,
   "metadata": {},
   "outputs": [
    {
     "ename": "TypeError",
     "evalue": "sample() missing 1 required positional argument: 'a'",
     "output_type": "error",
     "traceback": [
      "\u001b[1;31m---------------------------------------------------------------------------\u001b[0m",
      "\u001b[1;31mTypeError\u001b[0m                                 Traceback (most recent call last)",
      "\u001b[1;32mc:\\Users\\QSP\\Documents\\python_programs\\batch-5.00-7.00\\Functions\\basic_func.ipynb Cell 66\u001b[0m in \u001b[0;36m3\n\u001b[0;32m      <a href='vscode-notebook-cell:/c%3A/Users/QSP/Documents/python_programs/batch-5.00-7.00/Functions/basic_func.ipynb#Y122sZmlsZQ%3D%3D?line=0'>1</a>\u001b[0m \u001b[39mdef\u001b[39;00m \u001b[39msample\u001b[39m(a,b\u001b[39m=\u001b[39m\u001b[39m20\u001b[39m,c\u001b[39m=\u001b[39m\u001b[39m30\u001b[39m):\n\u001b[0;32m      <a href='vscode-notebook-cell:/c%3A/Users/QSP/Documents/python_programs/batch-5.00-7.00/Functions/basic_func.ipynb#Y122sZmlsZQ%3D%3D?line=1'>2</a>\u001b[0m     \u001b[39mreturn\u001b[39;00m (a,b,c)\n\u001b[1;32m----> <a href='vscode-notebook-cell:/c%3A/Users/QSP/Documents/python_programs/batch-5.00-7.00/Functions/basic_func.ipynb#Y122sZmlsZQ%3D%3D?line=2'>3</a>\u001b[0m sample(c\u001b[39m=\u001b[39;49m\u001b[39m300\u001b[39;49m,b\u001b[39m=\u001b[39;49m\u001b[39m200\u001b[39;49m)\n",
      "\u001b[1;31mTypeError\u001b[0m: sample() missing 1 required positional argument: 'a'"
     ]
    }
   ],
   "source": [
    "def sample(a,b=20,c=30):\n",
    "    return (a,b,c)\n",
    "sample(c=300,b=200)"
   ]
  },
  {
   "cell_type": "code",
   "execution_count": 23,
   "metadata": {},
   "outputs": [
    {
     "data": {
      "text/plain": [
       "(100, 200, 300)"
      ]
     },
     "execution_count": 23,
     "metadata": {},
     "output_type": "execute_result"
    }
   ],
   "source": [
    "def sample(a,b=20,c=30):\n",
    "    return (a,b,c)\n",
    "sample(c=300,b=200,a=100)"
   ]
  },
  {
   "cell_type": "code",
   "execution_count": 24,
   "metadata": {},
   "outputs": [
    {
     "ename": "SyntaxError",
     "evalue": "non-default argument follows default argument (1611623376.py, line 1)",
     "output_type": "error",
     "traceback": [
      "\u001b[1;36m  Cell \u001b[1;32mIn [24], line 1\u001b[1;36m\u001b[0m\n\u001b[1;33m    def sample(b=20,c=30,a):\u001b[0m\n\u001b[1;37m                         ^\u001b[0m\n\u001b[1;31mSyntaxError\u001b[0m\u001b[1;31m:\u001b[0m non-default argument follows default argument\n"
     ]
    }
   ],
   "source": [
    "def sample(b=20,c=30,a):\n",
    "    return (a,b,c)\n",
    "sample(c=300,b=200,a=100)"
   ]
  },
  {
   "cell_type": "code",
   "execution_count": 39,
   "metadata": {},
   "outputs": [
    {
     "name": "stdout",
     "output_type": "stream",
     "text": [
      "10 20 30 40 (50,)\n",
      "10 20 30 40 (50, 60, 70, 80, 90)\n",
      "10 20 30 40 ()\n"
     ]
    }
   ],
   "source": [
    "def sample(a=0,b=0,c=0,d=0,*args):\n",
    "    print(a,b,c,d,args)\n",
    "sample(10,20,30,40,50)\n",
    "sample(10,20,30,40,50,60,70,80,90)\n",
    "sample(10,20,30,40)"
   ]
  },
  {
   "cell_type": "code",
   "execution_count": 41,
   "metadata": {},
   "outputs": [
    {
     "name": "stdout",
     "output_type": "stream",
     "text": [
      "10 20 30 40 {'e': 50}\n",
      "10 20 30 40 {'e': 50, 'f': 60, 'g': 70, 'h': 80, 'i': 90}\n",
      "10 20 30 40 {}\n"
     ]
    }
   ],
   "source": [
    "def sample(a=0,b=0,c=0,d=0,**kwargs):\n",
    "    print(a,b,c,d,kwargs)\n",
    "sample(a=10,b=20,c=30,d=40,e=50)\n",
    "sample(a=10,b=20,c=30,d=40,e=50,f=60,g=70,h=80,i=90)\n",
    "sample(a=10,b=20,c=30,d=40)"
   ]
  },
  {
   "cell_type": "code",
   "execution_count": null,
   "metadata": {},
   "outputs": [],
   "source": []
  },
  {
   "cell_type": "code",
   "execution_count": 2,
   "metadata": {},
   "outputs": [
    {
     "name": "stdout",
     "output_type": "stream",
     "text": [
      "10\n"
     ]
    },
    {
     "ename": "TypeError",
     "evalue": "app() takes 1 positional argument but 2 were given",
     "output_type": "error",
     "traceback": [
      "\u001b[1;31m---------------------------------------------------------------------------\u001b[0m",
      "\u001b[1;31mTypeError\u001b[0m                                 Traceback (most recent call last)",
      "\u001b[1;32mc:\\Users\\QSP\\Documents\\python_programs\\batch-5.00-7.00\\Functions\\basic_func.ipynb Cell 75\u001b[0m in \u001b[0;36m4\n\u001b[0;32m      <a href='vscode-notebook-cell:/c%3A/Users/QSP/Documents/python_programs/batch-5.00-7.00/Functions/basic_func.ipynb#Y134sZmlsZQ%3D%3D?line=1'>2</a>\u001b[0m     \u001b[39mprint\u001b[39m(x)\n\u001b[0;32m      <a href='vscode-notebook-cell:/c%3A/Users/QSP/Documents/python_programs/batch-5.00-7.00/Functions/basic_func.ipynb#Y134sZmlsZQ%3D%3D?line=2'>3</a>\u001b[0m app(\u001b[39m10\u001b[39m)\n\u001b[1;32m----> <a href='vscode-notebook-cell:/c%3A/Users/QSP/Documents/python_programs/batch-5.00-7.00/Functions/basic_func.ipynb#Y134sZmlsZQ%3D%3D?line=3'>4</a>\u001b[0m app(\u001b[39m10\u001b[39;49m,\u001b[39m20\u001b[39;49m)\n",
      "\u001b[1;31mTypeError\u001b[0m: app() takes 1 positional argument but 2 were given"
     ]
    }
   ],
   "source": [
    "def app(x):\n",
    "    print(x)\n",
    "app(10)\n",
    "app(10,20)"
   ]
  },
  {
   "cell_type": "code",
   "execution_count": 6,
   "metadata": {},
   "outputs": [
    {
     "name": "stdout",
     "output_type": "stream",
     "text": [
      "()\n",
      "(10,)\n",
      "(10, 20)\n",
      "(10, 20, 30, 40, 50, 60)\n"
     ]
    }
   ],
   "source": [
    "def app(*x):  #tuple variable length arguments\n",
    "    print(x)\n",
    "app() #positional arguments\n",
    "app(10)\n",
    "app(10,20)\n",
    "app(10,20,30,40,50,60)"
   ]
  },
  {
   "cell_type": "code",
   "execution_count": null,
   "metadata": {},
   "outputs": [],
   "source": []
  },
  {
   "cell_type": "code",
   "execution_count": 10,
   "metadata": {},
   "outputs": [
    {
     "name": "stdout",
     "output_type": "stream",
     "text": [
      "{}\n",
      "{'a': 10}\n",
      "{'a': 10, 'b': 20}\n",
      "{'a': 10, 'b': 20, 'c': 30, 'd': 40, 'e': 50, 'f': 60}\n"
     ]
    }
   ],
   "source": [
    "def app(**x):  #dict variable length arguments\n",
    "    print(x)\n",
    "app() #keyword arguments\n",
    "app(a=10)\n",
    "app(a=10,b=20)\n",
    "app(a=10,b=20,c=30,d=40,e=50,f=60)"
   ]
  },
  {
   "cell_type": "code",
   "execution_count": 15,
   "metadata": {},
   "outputs": [
    {
     "name": "stdout",
     "output_type": "stream",
     "text": [
      "(1, 2, 3, 4, 5, 60) {}\n",
      "() {'x': 10, 'y': 2, 'z': 3, 'i': 4, 'j': 5, 'l': 60}\n",
      "('A', 'b', 'c', 'd') {'x': 10, 'y': 2, 'z': 3, 'i': 4, 'j': 5, 'l': 60}\n"
     ]
    }
   ],
   "source": [
    "def sample(*a,**b):\n",
    "    print(a,b)\n",
    "sample(1,2,3,4,5,60)\n",
    "sample(x=10,y=2,z=3,i=4,j=5,l=60)\n",
    "sample('A','b','c','d',x=10,y=2,z=3,i=4,j=5,l=60)"
   ]
  },
  {
   "cell_type": "code",
   "execution_count": 17,
   "metadata": {},
   "outputs": [
    {
     "ename": "SyntaxError",
     "evalue": "arguments cannot follow var-keyword argument (2305501707.py, line 1)",
     "output_type": "error",
     "traceback": [
      "\u001b[1;36m  Cell \u001b[1;32mIn [17], line 1\u001b[1;36m\u001b[0m\n\u001b[1;33m    def sample(**a,*b):\u001b[0m\n\u001b[1;37m                   ^\u001b[0m\n\u001b[1;31mSyntaxError\u001b[0m\u001b[1;31m:\u001b[0m arguments cannot follow var-keyword argument\n"
     ]
    }
   ],
   "source": [
    "def sample(**a,*b):\n",
    "    print(a,b)\n",
    "sample(1,2,3,4,5,60)"
   ]
  },
  {
   "cell_type": "code",
   "execution_count": 20,
   "metadata": {},
   "outputs": [
    {
     "ename": "SyntaxError",
     "evalue": "non-default argument follows default argument (3213205559.py, line 1)",
     "output_type": "error",
     "traceback": [
      "\u001b[1;36m  Cell \u001b[1;32mIn [20], line 1\u001b[1;36m\u001b[0m\n\u001b[1;33m    def pys(a=0,b,*args):\u001b[0m\n\u001b[1;37m                ^\u001b[0m\n\u001b[1;31mSyntaxError\u001b[0m\u001b[1;31m:\u001b[0m non-default argument follows default argument\n"
     ]
    }
   ],
   "source": [
    "def pys(a=0,b,*args):\n",
    "    print(a,b,args)\n",
    "pys(10,20,30,40,50,60,70)"
   ]
  },
  {
   "cell_type": "code",
   "execution_count": 21,
   "metadata": {},
   "outputs": [
    {
     "ename": "TypeError",
     "evalue": "pys() missing 1 required keyword-only argument: 'a'",
     "output_type": "error",
     "traceback": [
      "\u001b[1;31m---------------------------------------------------------------------------\u001b[0m",
      "\u001b[1;31mTypeError\u001b[0m                                 Traceback (most recent call last)",
      "\u001b[1;32mc:\\Users\\QSP\\Documents\\python_programs\\batch-5.00-7.00\\Functions\\basic_func.ipynb Cell 82\u001b[0m in \u001b[0;36m3\n\u001b[0;32m      <a href='vscode-notebook-cell:/c%3A/Users/QSP/Documents/python_programs/batch-5.00-7.00/Functions/basic_func.ipynb#Y145sZmlsZQ%3D%3D?line=0'>1</a>\u001b[0m \u001b[39mdef\u001b[39;00m \u001b[39mpys\u001b[39m(\u001b[39m*\u001b[39margs,a,b\u001b[39m=\u001b[39m\u001b[39m0\u001b[39m):\n\u001b[0;32m      <a href='vscode-notebook-cell:/c%3A/Users/QSP/Documents/python_programs/batch-5.00-7.00/Functions/basic_func.ipynb#Y145sZmlsZQ%3D%3D?line=1'>2</a>\u001b[0m     \u001b[39mprint\u001b[39m(a,b,args)\n\u001b[1;32m----> <a href='vscode-notebook-cell:/c%3A/Users/QSP/Documents/python_programs/batch-5.00-7.00/Functions/basic_func.ipynb#Y145sZmlsZQ%3D%3D?line=2'>3</a>\u001b[0m pys(\u001b[39m10\u001b[39;49m,\u001b[39m20\u001b[39;49m,\u001b[39m30\u001b[39;49m,\u001b[39m40\u001b[39;49m,\u001b[39m50\u001b[39;49m,\u001b[39m60\u001b[39;49m,\u001b[39m70\u001b[39;49m)\n",
      "\u001b[1;31mTypeError\u001b[0m: pys() missing 1 required keyword-only argument: 'a'"
     ]
    }
   ],
   "source": [
    "def pys(*args,a,b=0):\n",
    "    print(a,b,args)\n",
    "pys(10,20,30,40,50,60,70)"
   ]
  },
  {
   "cell_type": "code",
   "execution_count": 19,
   "metadata": {},
   "outputs": [
    {
     "name": "stdout",
     "output_type": "stream",
     "text": [
      "10 20 (30, 40, 50, 60, 70)\n"
     ]
    }
   ],
   "source": [
    "def pys(a,b=0,*args):\n",
    "    print(a,b,args)\n",
    "pys(10,20,30,40,50,60,70)"
   ]
  },
  {
   "cell_type": "code",
   "execution_count": 2,
   "metadata": {},
   "outputs": [
    {
     "name": "stdout",
     "output_type": "stream",
     "text": [
      "(1, 2, 3, 4, 5, 6, 7, 8)\n",
      "(1, 2, 3, 4, 5, 6, 7, 8, 9)\n"
     ]
    }
   ],
   "source": [
    "st=(1,2,3,4,5,6,7,8)\n",
    "print(st)\n",
    "\n",
    "def demo(*args):\n",
    "    print(args)\n",
    "demo(1,2,3,4,5,6,7,8,9)"
   ]
  },
  {
   "cell_type": "code",
   "execution_count": 4,
   "metadata": {},
   "outputs": [
    {
     "name": "stdout",
     "output_type": "stream",
     "text": [
      "10 20 30 40\n",
      "(10, 20, 30, 40)\n",
      "10 20 30 40\n"
     ]
    }
   ],
   "source": [
    "a=10\n",
    "b=20\n",
    "c=30\n",
    "d=40\n",
    "\n",
    "print(a,b,c,d) \n",
    "\n",
    "#packing without function\n",
    "t=(a,b,c,d)\n",
    "print(t)\n",
    "\n",
    "#unpacking without function\n",
    "x=t[0]\n",
    "y=t[1]\n",
    "z=t[2]\n",
    "m=t[3]\n",
    "\n",
    "print(x,y,z,m)"
   ]
  },
  {
   "cell_type": "code",
   "execution_count": null,
   "metadata": {},
   "outputs": [],
   "source": []
  },
  {
   "cell_type": "code",
   "execution_count": 8,
   "metadata": {},
   "outputs": [
    {
     "name": "stdout",
     "output_type": "stream",
     "text": [
      "(10, 20, 30, 40)\n",
      "10 20 30 40\n"
     ]
    }
   ],
   "source": [
    "a=10\n",
    "b=20\n",
    "c=30\n",
    "d=40\n",
    "\n",
    "#packing with function\n",
    "def sample(*args):\n",
    "    return args\n",
    "res=sample(a,b,c,d)\n",
    "print(res)\n",
    "\n",
    "\n",
    "#unpacking with function\n",
    "def demo(x,y,z,m):\n",
    "    print(x,y,z,m)\n",
    "demo(*res)"
   ]
  },
  {
   "cell_type": "code",
   "execution_count": 14,
   "metadata": {},
   "outputs": [
    {
     "ename": "TypeError",
     "evalue": "apple() missing 4 required positional arguments: 'b', 'c', 'd', and 'e'",
     "output_type": "error",
     "traceback": [
      "\u001b[1;31m---------------------------------------------------------------------------\u001b[0m",
      "\u001b[1;31mTypeError\u001b[0m                                 Traceback (most recent call last)",
      "\u001b[1;32mc:\\Users\\QSP\\Documents\\python_programs\\batch-5.00-7.00\\Functions\\basic_func.ipynb Cell 87\u001b[0m in \u001b[0;36m4\n\u001b[0;32m      <a href='vscode-notebook-cell:/c%3A/Users/QSP/Documents/python_programs/batch-5.00-7.00/Functions/basic_func.ipynb#Y152sZmlsZQ%3D%3D?line=1'>2</a>\u001b[0m \u001b[39mdef\u001b[39;00m \u001b[39mapple\u001b[39m(a,b,c,d,e):\n\u001b[0;32m      <a href='vscode-notebook-cell:/c%3A/Users/QSP/Documents/python_programs/batch-5.00-7.00/Functions/basic_func.ipynb#Y152sZmlsZQ%3D%3D?line=2'>3</a>\u001b[0m     \u001b[39mprint\u001b[39m(a,b,c,d,e)\n\u001b[1;32m----> <a href='vscode-notebook-cell:/c%3A/Users/QSP/Documents/python_programs/batch-5.00-7.00/Functions/basic_func.ipynb#Y152sZmlsZQ%3D%3D?line=3'>4</a>\u001b[0m apple(l)\n",
      "\u001b[1;31mTypeError\u001b[0m: apple() missing 4 required positional arguments: 'b', 'c', 'd', and 'e'"
     ]
    }
   ],
   "source": [
    "l=[10,20,30,40,50]\n",
    "def apple(a,b,c,d,e):\n",
    "    print(a,b,c,d,e)\n",
    "apple(l)"
   ]
  },
  {
   "cell_type": "code",
   "execution_count": 13,
   "metadata": {},
   "outputs": [
    {
     "name": "stdout",
     "output_type": "stream",
     "text": [
      "10 20 30 40 50\n"
     ]
    }
   ],
   "source": [
    "l=[10,20,30,40,50]\n",
    "def apple(a,b,c,d,e):\n",
    "    print(a,b,c,d,e)\n",
    "apple(*l)"
   ]
  },
  {
   "cell_type": "code",
   "execution_count": 15,
   "metadata": {},
   "outputs": [
    {
     "ename": "TypeError",
     "evalue": "apple() takes 5 positional arguments but 6 were given",
     "output_type": "error",
     "traceback": [
      "\u001b[1;31m---------------------------------------------------------------------------\u001b[0m",
      "\u001b[1;31mTypeError\u001b[0m                                 Traceback (most recent call last)",
      "\u001b[1;32mc:\\Users\\QSP\\Documents\\python_programs\\batch-5.00-7.00\\Functions\\basic_func.ipynb Cell 89\u001b[0m in \u001b[0;36m4\n\u001b[0;32m      <a href='vscode-notebook-cell:/c%3A/Users/QSP/Documents/python_programs/batch-5.00-7.00/Functions/basic_func.ipynb#Y154sZmlsZQ%3D%3D?line=1'>2</a>\u001b[0m \u001b[39mdef\u001b[39;00m \u001b[39mapple\u001b[39m(a,b,c,d,e):\n\u001b[0;32m      <a href='vscode-notebook-cell:/c%3A/Users/QSP/Documents/python_programs/batch-5.00-7.00/Functions/basic_func.ipynb#Y154sZmlsZQ%3D%3D?line=2'>3</a>\u001b[0m     \u001b[39mprint\u001b[39m(a,b,c,d,e)\n\u001b[1;32m----> <a href='vscode-notebook-cell:/c%3A/Users/QSP/Documents/python_programs/batch-5.00-7.00/Functions/basic_func.ipynb#Y154sZmlsZQ%3D%3D?line=3'>4</a>\u001b[0m apple(\u001b[39m*\u001b[39;49ml)\n",
      "\u001b[1;31mTypeError\u001b[0m: apple() takes 5 positional arguments but 6 were given"
     ]
    }
   ],
   "source": [
    "l=[10,20,30,40,50,60]\n",
    "def apple(a,b,c,d,e):\n",
    "    print(a,b,c,d,e)\n",
    "apple(*l)"
   ]
  },
  {
   "cell_type": "code",
   "execution_count": 16,
   "metadata": {},
   "outputs": [
    {
     "ename": "TypeError",
     "evalue": "apple() missing 1 required positional argument: 'e'",
     "output_type": "error",
     "traceback": [
      "\u001b[1;31m---------------------------------------------------------------------------\u001b[0m",
      "\u001b[1;31mTypeError\u001b[0m                                 Traceback (most recent call last)",
      "\u001b[1;32mc:\\Users\\QSP\\Documents\\python_programs\\batch-5.00-7.00\\Functions\\basic_func.ipynb Cell 90\u001b[0m in \u001b[0;36m4\n\u001b[0;32m      <a href='vscode-notebook-cell:/c%3A/Users/QSP/Documents/python_programs/batch-5.00-7.00/Functions/basic_func.ipynb#Y155sZmlsZQ%3D%3D?line=1'>2</a>\u001b[0m \u001b[39mdef\u001b[39;00m \u001b[39mapple\u001b[39m(a,b,c,d,e):\n\u001b[0;32m      <a href='vscode-notebook-cell:/c%3A/Users/QSP/Documents/python_programs/batch-5.00-7.00/Functions/basic_func.ipynb#Y155sZmlsZQ%3D%3D?line=2'>3</a>\u001b[0m     \u001b[39mprint\u001b[39m(a,b,c,d,e)\n\u001b[1;32m----> <a href='vscode-notebook-cell:/c%3A/Users/QSP/Documents/python_programs/batch-5.00-7.00/Functions/basic_func.ipynb#Y155sZmlsZQ%3D%3D?line=3'>4</a>\u001b[0m apple(\u001b[39m*\u001b[39;49ml)\n",
      "\u001b[1;31mTypeError\u001b[0m: apple() missing 1 required positional argument: 'e'"
     ]
    }
   ],
   "source": [
    "l=[10,20,30,40]\n",
    "def apple(a,b,c,d,e):\n",
    "    print(a,b,c,d,e)\n",
    "apple(*l)"
   ]
  },
  {
   "cell_type": "code",
   "execution_count": 19,
   "metadata": {},
   "outputs": [
    {
     "ename": "TypeError",
     "evalue": "pys() got an unexpected keyword argument 'c'",
     "output_type": "error",
     "traceback": [
      "\u001b[1;31m---------------------------------------------------------------------------\u001b[0m",
      "\u001b[1;31mTypeError\u001b[0m                                 Traceback (most recent call last)",
      "\u001b[1;32mc:\\Users\\QSP\\Documents\\python_programs\\batch-5.00-7.00\\Functions\\basic_func.ipynb Cell 92\u001b[0m in \u001b[0;36m4\n\u001b[0;32m      <a href='vscode-notebook-cell:/c%3A/Users/QSP/Documents/python_programs/batch-5.00-7.00/Functions/basic_func.ipynb#Y160sZmlsZQ%3D%3D?line=1'>2</a>\u001b[0m \u001b[39mdef\u001b[39;00m \u001b[39mpys\u001b[39m(a,b,d):\n\u001b[0;32m      <a href='vscode-notebook-cell:/c%3A/Users/QSP/Documents/python_programs/batch-5.00-7.00/Functions/basic_func.ipynb#Y160sZmlsZQ%3D%3D?line=2'>3</a>\u001b[0m     \u001b[39mprint\u001b[39m(a,b,d)\n\u001b[1;32m----> <a href='vscode-notebook-cell:/c%3A/Users/QSP/Documents/python_programs/batch-5.00-7.00/Functions/basic_func.ipynb#Y160sZmlsZQ%3D%3D?line=3'>4</a>\u001b[0m pys(\u001b[39m*\u001b[39;49m\u001b[39m*\u001b[39;49md)\n",
      "\u001b[1;31mTypeError\u001b[0m: pys() got an unexpected keyword argument 'c'"
     ]
    }
   ],
   "source": [
    "d={'a':10,'b':20,'c':30}\n",
    "def pys(a,b,d):\n",
    "    print(a,b,d)\n",
    "pys(**d)"
   ]
  },
  {
   "cell_type": "code",
   "execution_count": 22,
   "metadata": {},
   "outputs": [
    {
     "ename": "TypeError",
     "evalue": "pys() got an unexpected keyword argument 'APPLE'",
     "output_type": "error",
     "traceback": [
      "\u001b[1;31m---------------------------------------------------------------------------\u001b[0m",
      "\u001b[1;31mTypeError\u001b[0m                                 Traceback (most recent call last)",
      "\u001b[1;32mc:\\Users\\QSP\\Documents\\python_programs\\batch-5.00-7.00\\Functions\\basic_func.ipynb Cell 93\u001b[0m in \u001b[0;36m4\n\u001b[0;32m      <a href='vscode-notebook-cell:/c%3A/Users/QSP/Documents/python_programs/batch-5.00-7.00/Functions/basic_func.ipynb#Y161sZmlsZQ%3D%3D?line=1'>2</a>\u001b[0m \u001b[39mdef\u001b[39;00m \u001b[39mpys\u001b[39m(a,b,c,apple):\n\u001b[0;32m      <a href='vscode-notebook-cell:/c%3A/Users/QSP/Documents/python_programs/batch-5.00-7.00/Functions/basic_func.ipynb#Y161sZmlsZQ%3D%3D?line=2'>3</a>\u001b[0m     \u001b[39mprint\u001b[39m(a,b,c,APPLE)\n\u001b[1;32m----> <a href='vscode-notebook-cell:/c%3A/Users/QSP/Documents/python_programs/batch-5.00-7.00/Functions/basic_func.ipynb#Y161sZmlsZQ%3D%3D?line=3'>4</a>\u001b[0m pys(\u001b[39m*\u001b[39;49m\u001b[39m*\u001b[39;49md)\n",
      "\u001b[1;31mTypeError\u001b[0m: pys() got an unexpected keyword argument 'APPLE'"
     ]
    }
   ],
   "source": [
    "d={'a':10,'b':20,'c':30,'APPLE':200}\n",
    "def pys(a,b,c,apple):\n",
    "    print(a,b,c,APPLE)\n",
    "pys(**d)"
   ]
  },
  {
   "cell_type": "code",
   "execution_count": 23,
   "metadata": {},
   "outputs": [
    {
     "ename": "TypeError",
     "evalue": "pys() got an unexpected keyword argument 'c'",
     "output_type": "error",
     "traceback": [
      "\u001b[1;31m---------------------------------------------------------------------------\u001b[0m",
      "\u001b[1;31mTypeError\u001b[0m                                 Traceback (most recent call last)",
      "\u001b[1;32mc:\\Users\\QSP\\Documents\\python_programs\\batch-5.00-7.00\\Functions\\basic_func.ipynb Cell 94\u001b[0m in \u001b[0;36m4\n\u001b[0;32m      <a href='vscode-notebook-cell:/c%3A/Users/QSP/Documents/python_programs/batch-5.00-7.00/Functions/basic_func.ipynb#Y162sZmlsZQ%3D%3D?line=1'>2</a>\u001b[0m \u001b[39mdef\u001b[39;00m \u001b[39mpys\u001b[39m(a,b):\n\u001b[0;32m      <a href='vscode-notebook-cell:/c%3A/Users/QSP/Documents/python_programs/batch-5.00-7.00/Functions/basic_func.ipynb#Y162sZmlsZQ%3D%3D?line=2'>3</a>\u001b[0m     \u001b[39mprint\u001b[39m(a,b)\n\u001b[1;32m----> <a href='vscode-notebook-cell:/c%3A/Users/QSP/Documents/python_programs/batch-5.00-7.00/Functions/basic_func.ipynb#Y162sZmlsZQ%3D%3D?line=3'>4</a>\u001b[0m pys(\u001b[39m*\u001b[39;49m\u001b[39m*\u001b[39;49md)\n",
      "\u001b[1;31mTypeError\u001b[0m: pys() got an unexpected keyword argument 'c'"
     ]
    }
   ],
   "source": [
    "d={'a':10,'b':20,'c':30}\n",
    "def pys(a,b):\n",
    "    print(a,b)\n",
    "pys(**d)"
   ]
  },
  {
   "cell_type": "code",
   "execution_count": 24,
   "metadata": {},
   "outputs": [
    {
     "ename": "TypeError",
     "evalue": "pys() missing 1 required positional argument: 'b'",
     "output_type": "error",
     "traceback": [
      "\u001b[1;31m---------------------------------------------------------------------------\u001b[0m",
      "\u001b[1;31mTypeError\u001b[0m                                 Traceback (most recent call last)",
      "\u001b[1;32mc:\\Users\\QSP\\Documents\\python_programs\\batch-5.00-7.00\\Functions\\basic_func.ipynb Cell 95\u001b[0m in \u001b[0;36m4\n\u001b[0;32m      <a href='vscode-notebook-cell:/c%3A/Users/QSP/Documents/python_programs/batch-5.00-7.00/Functions/basic_func.ipynb#Y163sZmlsZQ%3D%3D?line=1'>2</a>\u001b[0m \u001b[39mdef\u001b[39;00m \u001b[39mpys\u001b[39m(a,b):\n\u001b[0;32m      <a href='vscode-notebook-cell:/c%3A/Users/QSP/Documents/python_programs/batch-5.00-7.00/Functions/basic_func.ipynb#Y163sZmlsZQ%3D%3D?line=2'>3</a>\u001b[0m     \u001b[39mprint\u001b[39m(a,b)\n\u001b[1;32m----> <a href='vscode-notebook-cell:/c%3A/Users/QSP/Documents/python_programs/batch-5.00-7.00/Functions/basic_func.ipynb#Y163sZmlsZQ%3D%3D?line=3'>4</a>\u001b[0m pys(\u001b[39m*\u001b[39;49m\u001b[39m*\u001b[39;49md)\n",
      "\u001b[1;31mTypeError\u001b[0m: pys() missing 1 required positional argument: 'b'"
     ]
    }
   ],
   "source": [
    "d={'a':10}\n",
    "def pys(a,b):\n",
    "    print(a,b)\n",
    "pys(**d)"
   ]
  },
  {
   "cell_type": "code",
   "execution_count": 25,
   "metadata": {},
   "outputs": [
    {
     "name": "stdout",
     "output_type": "stream",
     "text": [
      "10 30 40\n"
     ]
    }
   ],
   "source": [
    "d={'a':10,'b':30,'c':40}\n",
    "def pys(a,b,c):\n",
    "    print(a,b,c)\n",
    "pys(**d)"
   ]
  },
  {
   "cell_type": "code",
   "execution_count": 26,
   "metadata": {},
   "outputs": [
    {
     "name": "stdout",
     "output_type": "stream",
     "text": [
      "(10, 20, 30, 40) {'a': 10, 'b': 30, 'c': 40}\n"
     ]
    }
   ],
   "source": [
    "l=[10,20,30,40]\n",
    "d={'a':10,'b':30,'c':40}\n",
    "def sample(*args,**kwargs):\n",
    "    print(args,kwargs)\n",
    "sample(*l,**d)"
   ]
  },
  {
   "cell_type": "code",
   "execution_count": 28,
   "metadata": {},
   "outputs": [
    {
     "name": "stdout",
     "output_type": "stream",
     "text": [
      "() {'a': 10, 'b': 30, 'c': 40}\n"
     ]
    }
   ],
   "source": [
    "d={'a':10,'b':30,'c':40}\n",
    "def sample(*args,**kwargs):\n",
    "    print(args,kwargs)\n",
    "sample(**d)"
   ]
  },
  {
   "cell_type": "code",
   "execution_count": 29,
   "metadata": {},
   "outputs": [
    {
     "name": "stdout",
     "output_type": "stream",
     "text": [
      "(10, 20, 30, 40) {}\n"
     ]
    }
   ],
   "source": [
    "l=[10,20,30,40]\n",
    "def sample(*args,**kwargs):\n",
    "    print(args,kwargs)\n",
    "sample(*l)"
   ]
  },
  {
   "cell_type": "code",
   "execution_count": null,
   "metadata": {},
   "outputs": [],
   "source": []
  },
  {
   "cell_type": "code",
   "execution_count": 27,
   "metadata": {},
   "outputs": [
    {
     "name": "stdout",
     "output_type": "stream",
     "text": [
      "() {}\n"
     ]
    }
   ],
   "source": [
    "l=[]\n",
    "d={}\n",
    "def sample(*args,**kwargs):\n",
    "    print(args,kwargs)\n",
    "sample(*l,**d)"
   ]
  },
  {
   "cell_type": "code",
   "execution_count": 1,
   "metadata": {},
   "outputs": [
    {
     "name": "stdout",
     "output_type": "stream",
     "text": [
      "10\n"
     ]
    }
   ],
   "source": [
    "x=10\n",
    "def sample():\n",
    "    print(x)\n",
    "sample()"
   ]
  },
  {
   "cell_type": "code",
   "execution_count": 8,
   "metadata": {},
   "outputs": [
    {
     "name": "stdout",
     "output_type": "stream",
     "text": [
      "HELLOOLLEH\n"
     ]
    }
   ],
   "source": [
    "#I/p  \"HELLO\"\n",
    "#o/p   \"HELLOOLLEH\"\n",
    "\n",
    "\n",
    "l=\"\"\n",
    "def sample(coll,i=0):\n",
    "    global l\n",
    "    if i==len(coll):\n",
    "        return \n",
    "    l+=coll[i]\n",
    "    sample(coll,i+1)\n",
    "    l+=coll[i]\n",
    "sample(\"HELLO\")\n",
    "print(l)\n"
   ]
  },
  {
   "cell_type": "code",
   "execution_count": 21,
   "metadata": {},
   "outputs": [
    {
     "name": "stdout",
     "output_type": "stream",
     "text": [
      "hello\n"
     ]
    }
   ],
   "source": [
    "#HELLO\n",
    "#hello\n",
    "\n",
    "def is_lower(coll,i=0,res=\"\"):\n",
    "    if i==len(coll):\n",
    "        return res\n",
    "    if 'A'<=coll[i]<='Z':\n",
    "        res+=chr(ord(coll[i])+32)\n",
    "    else:\n",
    "        res+=coll[i]\n",
    "    return is_lower(coll,i+1,res)\n",
    "print(is_lower(\"HELLO\"))\n"
   ]
  },
  {
   "cell_type": "code",
   "execution_count": 23,
   "metadata": {},
   "outputs": [
    {
     "data": {
      "text/plain": [
       "'helo'"
      ]
     },
     "execution_count": 23,
     "metadata": {},
     "output_type": "execute_result"
    }
   ],
   "source": [
    "#extract the unique data items from the collection\n",
    "st=\"hello\"\n",
    "def duplicate(coll,i=0,res=\"\"):\n",
    "    if i==len(coll):\n",
    "        return res\n",
    "    if coll[i] not in res:\n",
    "        res+=coll[i]\n",
    "    return duplicate(coll,i+1,res)\n",
    "duplicate(st)\n"
   ]
  },
  {
   "cell_type": "code",
   "execution_count": 26,
   "metadata": {},
   "outputs": [
    {
     "data": {
      "text/plain": [
       "'l'"
      ]
     },
     "execution_count": 26,
     "metadata": {},
     "output_type": "execute_result"
    }
   ],
   "source": [
    "#extract the duplicate data items from the collection\n",
    "st=\"hello\"\n",
    "def duplicate(coll,i=0,uni=\"\",dupli=\"\"):\n",
    "    if i==len(coll):\n",
    "        return dupli\n",
    "    if coll[i] not in uni:\n",
    "        uni+=coll[i]\n",
    "    else:\n",
    "        dupli+=coll[i]\n",
    "    return duplicate(coll,i+1,uni,dupli)\n",
    "duplicate(st)"
   ]
  },
  {
   "cell_type": "code",
   "execution_count": 28,
   "metadata": {},
   "outputs": [
    {
     "data": {
      "text/plain": [
       "104"
      ]
     },
     "execution_count": 28,
     "metadata": {},
     "output_type": "execute_result"
    }
   ],
   "source": [
    "#wap to sum of the even values from the collection.\n",
    "l=[10,20,15,-5,-86,15,-76,96,154,-14]\n",
    "def sum_off(coll,i=0,sum1=0):\n",
    "    if i==len(coll):\n",
    "        return sum1\n",
    "    if coll[i]%2==0:\n",
    "        sum1+=coll[i]\n",
    "    return sum_off(coll,i+1,sum1)\n",
    "sum_off(l)\n"
   ]
  },
  {
   "cell_type": "code",
   "execution_count": 30,
   "metadata": {},
   "outputs": [
    {
     "data": {
      "text/plain": [
       "62"
      ]
     },
     "execution_count": 30,
     "metadata": {},
     "output_type": "execute_result"
    }
   ],
   "source": [
    "#wap to find out the difference of the all odd values from the collection.\n",
    "l=[10,20,15,-5,-87,15,-76,96,154,-14]\n",
    "def sum_off(coll,i=0,sum1=0):\n",
    "    if i==len(coll):\n",
    "        return sum1\n",
    "    if coll[i]%2!=0:\n",
    "        sum1-=coll[i]\n",
    "    return sum_off(coll,i+1,sum1)\n",
    "sum_off(l)"
   ]
  },
  {
   "cell_type": "code",
   "execution_count": 33,
   "metadata": {},
   "outputs": [
    {
     "data": {
      "text/plain": [
       "120"
      ]
     },
     "execution_count": 33,
     "metadata": {},
     "output_type": "execute_result"
    }
   ],
   "source": [
    "#wap to find out the factorial of the given number.\n",
    "\n",
    "s=5\n",
    "def fact(n,f=1):\n",
    "    if n==0:\n",
    "        return f\n",
    "    f*=n\n",
    "    return fact(n-1,f)\n",
    "fact(s)"
   ]
  },
  {
   "cell_type": "code",
   "execution_count": 35,
   "metadata": {},
   "outputs": [
    {
     "data": {
      "text/plain": [
       "120"
      ]
     },
     "execution_count": 35,
     "metadata": {},
     "output_type": "execute_result"
    }
   ],
   "source": [
    "s=5\n",
    "def fact(n):\n",
    "    if n==0:\n",
    "        return 1\n",
    "    return n*fact(n-1)\n",
    "fact(s)"
   ]
  }
 ],
 "metadata": {
  "kernelspec": {
   "display_name": "Python 3",
   "language": "python",
   "name": "python3"
  },
  "language_info": {
   "codemirror_mode": {
    "name": "ipython",
    "version": 3
   },
   "file_extension": ".py",
   "mimetype": "text/x-python",
   "name": "python",
   "nbconvert_exporter": "python",
   "pygments_lexer": "ipython3",
   "version": "3.11.4"
  },
  "orig_nbformat": 4
 },
 "nbformat": 4,
 "nbformat_minor": 2
}
