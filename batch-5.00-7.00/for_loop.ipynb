{
 "cells": [
  {
   "cell_type": "code",
   "execution_count": 3,
   "metadata": {},
   "outputs": [
    {
     "name": "stdout",
     "output_type": "stream",
     "text": [
      "M O B I L E "
     ]
    }
   ],
   "source": [
    "st='MOBILE'\n",
    "for i in st:\n",
    "    print(i,end=\" \")"
   ]
  },
  {
   "cell_type": "code",
   "execution_count": 4,
   "metadata": {},
   "outputs": [
    {
     "name": "stdout",
     "output_type": "stream",
     "text": [
      "1 2 3 4 5 6 "
     ]
    }
   ],
   "source": [
    "st=[1,2,3,4,5,6]\n",
    "for i in st:\n",
    "    print(i,end=\" \")"
   ]
  },
  {
   "cell_type": "code",
   "execution_count": 5,
   "metadata": {},
   "outputs": [
    {
     "name": "stdout",
     "output_type": "stream",
     "text": [
      "1 2 3 4 5 6 "
     ]
    }
   ],
   "source": [
    "st=(1,2,3,4,5,6)\n",
    "for i in st:\n",
    "    print(i,end=\" \")"
   ]
  },
  {
   "cell_type": "code",
   "execution_count": 6,
   "metadata": {},
   "outputs": [
    {
     "name": "stdout",
     "output_type": "stream",
     "text": [
      "1 2 3 4 5 6 "
     ]
    }
   ],
   "source": [
    "st={1,2,3,4,5,6}\n",
    "for i in st:\n",
    "    print(i,end=\" \")"
   ]
  },
  {
   "cell_type": "code",
   "execution_count": 7,
   "metadata": {},
   "outputs": [
    {
     "name": "stdout",
     "output_type": "stream",
     "text": [
      "1 2 3 4 5 6 "
     ]
    }
   ],
   "source": [
    "st={1:10,2:20,3:30,4:40,5:50,6:60}\n",
    "for i in st:\n",
    "    print(i,end=\" \")"
   ]
  },
  {
   "cell_type": "code",
   "execution_count": 8,
   "metadata": {},
   "outputs": [
    {
     "name": "stdout",
     "output_type": "stream",
     "text": [
      "10 20 30 40 50 60 "
     ]
    }
   ],
   "source": [
    "st={1:10,2:20,3:30,4:40,5:50,6:60}\n",
    "for i in st:\n",
    "    print(st[i],end=\" \")"
   ]
  },
  {
   "cell_type": "code",
   "execution_count": 11,
   "metadata": {},
   "outputs": [
    {
     "name": "stdout",
     "output_type": "stream",
     "text": [
      "1 3 5 7 9 "
     ]
    }
   ],
   "source": [
    "for i in range(1,10,2):\n",
    "    print(i,end=\" \")"
   ]
  },
  {
   "cell_type": "code",
   "execution_count": 19,
   "metadata": {},
   "outputs": [
    {
     "name": "stdout",
     "output_type": "stream",
     "text": [
      "HELLO WORLD\n",
      "[10, 50, 'haii', 'hello', [100, 200]]\n",
      "(10, 50, 'haii', 'hello', [100, 200])\n",
      "{(100, 200), 50, 'haii', 10, 'hello'}\n",
      "{10: 50, 'haii': 'hello', (100, 200): 10}\n"
     ]
    }
   ],
   "source": [
    "#wap to extract and store the dataitems in different from given collection.\n",
    "\n",
    "s='HELLO WORLD'\n",
    "res=''\n",
    "for i in s:\n",
    "    res+=i\n",
    "print(res)\n",
    "\n",
    "s=[10,50,'haii','hello',[100,200]]\n",
    "res=[]\n",
    "for i in s:\n",
    "    res+=[i]\n",
    "print(res)\n",
    "\n",
    "s=(10,50,'haii','hello',[100,200])\n",
    "res=()\n",
    "for i in s:\n",
    "    res+=(i,)\n",
    "print(res)\n",
    "\n",
    "s={10,50,'haii','hello',(100,200)}\n",
    "res=set()\n",
    "for i in s:\n",
    "    res|={i}\n",
    "print(res)\n",
    "\n",
    "\n",
    "s={10:50,'haii':'hello',(100,200):10}\n",
    "res={}\n",
    "for i in s:\n",
    "    res|={i:s[i]}\n",
    "print(res)"
   ]
  },
  {
   "cell_type": "code",
   "execution_count": 20,
   "metadata": {},
   "outputs": [
    {
     "name": "stdout",
     "output_type": "stream",
     "text": [
      "PYSP\n"
     ]
    }
   ],
   "source": [
    "#wap to extract and store the uppercase characters from given string.\n",
    "st=\"PYSPiders\"\n",
    "res=''\n",
    "for i in st:\n",
    "    if 'A'<=i<='Z':\n",
    "        res+=i\n",
    "print(res)\n"
   ]
  },
  {
   "cell_type": "code",
   "execution_count": 21,
   "metadata": {},
   "outputs": [
    {
     "name": "stdout",
     "output_type": "stream",
     "text": [
      "123!@#$%\n"
     ]
    }
   ],
   "source": [
    "#wap to extract and store the special characters and ascii numbers from given string.\n",
    "st=\"PYSPiders123!@#$%\"\n",
    "res=''\n",
    "for i in st:\n",
    "    if not('A'<=i<='Z' or 'a'<=i<='z'):\n",
    "        res+=i\n",
    "print(res)"
   ]
  },
  {
   "cell_type": "code",
   "execution_count": 22,
   "metadata": {},
   "outputs": [
    {
     "name": "stdout",
     "output_type": "stream",
     "text": [
      "P80Y89S83P80i105d100e101r114s115149250351!33@64#35$36%37\n"
     ]
    }
   ],
   "source": [
    "#wap to extract and store the character with ascii value from given string.\n",
    "st=\"PYSPiders123!@#$%\"\n",
    "res=''\n",
    "for i in st:\n",
    "    res+=i+str(ord(i))\n",
    "print(res)"
   ]
  },
  {
   "cell_type": "code",
   "execution_count": 23,
   "metadata": {},
   "outputs": [
    {
     "name": "stdout",
     "output_type": "stream",
     "text": [
      "PYSP iders !@#$% 123\n"
     ]
    }
   ],
   "source": [
    "#wap to seperate the characters from given string.\n",
    "st=\"PYSPiders123!@#$%\"\n",
    "uc,lc,sp,an='','','',''\n",
    "for i in st:\n",
    "    if 'A'<=i<='Z':\n",
    "        uc+=i\n",
    "    elif 'a'<=i<='z':\n",
    "        lc+=i\n",
    "    elif '0'<=i<='9':\n",
    "        an+=i\n",
    "    else:\n",
    "        sp+=i\n",
    "print(uc,lc,sp,an)\n"
   ]
  },
  {
   "cell_type": "code",
   "execution_count": 26,
   "metadata": {},
   "outputs": [
    {
     "name": "stdout",
     "output_type": "stream",
     "text": [
      "password is valid\n"
     ]
    }
   ],
   "source": [
    "#wap to given string(password) is valid or not.\n",
    "#string should contain one uppercase/one lowercase/one numeric/one special character.\n",
    "\n",
    "st=\"PYSPiders!@#1$%\"\n",
    "uc,lc,sp,an='','','',''\n",
    "for i in st:\n",
    "    if 'A'<=i<='Z':\n",
    "        uc+=i\n",
    "    elif 'a'<=i<='z':\n",
    "        lc+=i\n",
    "    elif '0'<=i<='9':\n",
    "        an+=i\n",
    "    else:\n",
    "        sp+=i\n",
    "if len(uc)>=1 and len(lc)>=1 and len(sp)>=1 and len(an)>=1:\n",
    "    print(\"password is valid\")\n",
    "else:\n",
    "    print(\"password is invalid\")"
   ]
  },
  {
   "cell_type": "code",
   "execution_count": 30,
   "metadata": {},
   "outputs": [
    {
     "name": "stdout",
     "output_type": "stream",
     "text": [
      "password is valid\n"
     ]
    }
   ],
   "source": [
    "#wap to given string(password) is valid or not. string should be morethan 5 and less than 15 characters.\n",
    "#string should contain one uppercase/one lowercase/one numeric/one special character.\n",
    "st=\"P*145t\"\n",
    "if len(st)>5 and len(st)<=15:\n",
    "    uc,lc,sp,an='','','',''\n",
    "    for i in st:\n",
    "        if 'A'<=i<='Z':\n",
    "            uc+=i\n",
    "        elif 'a'<=i<='z':\n",
    "            lc+=i\n",
    "        elif '0'<=i<='9':\n",
    "            an+=i\n",
    "        else:\n",
    "            sp+=i\n",
    "    if len(uc)>=1 and len(lc)>=1 and len(sp)>=1 and len(an)>=1:\n",
    "        print(\"password is valid\")\n",
    "    else:\n",
    "        print(\"password is invalid\")\n",
    "else:\n",
    "    print(\"password is invalid\")"
   ]
  },
  {
   "cell_type": "code",
   "execution_count": 2,
   "metadata": {},
   "outputs": [
    {
     "name": "stdout",
     "output_type": "stream",
     "text": [
      "helloworld#123\n"
     ]
    }
   ],
   "source": [
    "#wap to convert uppercase to lowercase in given string.\n",
    "st='HElLoWorld#123'\n",
    "s=''\n",
    "for i in st:\n",
    "    if 'A'<=i<='Z':\n",
    "        s+=chr(ord(i)+32)\n",
    "    else:\n",
    "        s+=i\n",
    "print(s)"
   ]
  },
  {
   "cell_type": "code",
   "execution_count": 3,
   "metadata": {},
   "outputs": [
    {
     "name": "stdout",
     "output_type": "stream",
     "text": [
      "HELLOWORLD#123\n"
     ]
    }
   ],
   "source": [
    "#wap to convert lowercase to uppercase  in given string.\n",
    "st='HElLoWorld#123'\n",
    "s=''\n",
    "for i in st:\n",
    "    if 'a'<=i<='z':\n",
    "        s+=chr(ord(i)-32)\n",
    "    else:\n",
    "        s+=i\n",
    "print(s)"
   ]
  },
  {
   "cell_type": "code",
   "execution_count": 4,
   "metadata": {},
   "outputs": [
    {
     "name": "stdout",
     "output_type": "stream",
     "text": [
      "heLlOwORLD#123\n"
     ]
    }
   ],
   "source": [
    "#wap to convert lowercase to uppercase and vice verse in given string.\n",
    "st='HElLoWorld#123'\n",
    "s=''\n",
    "for i in st:\n",
    "    if 'a'<=i<='z':\n",
    "        s+=chr(ord(i)-32)\n",
    "    elif 'A'<=i<='Z':\n",
    "        s+=chr(ord(i)+32)\n",
    "    else:\n",
    "        s+=i\n",
    "print(s)"
   ]
  },
  {
   "cell_type": "code",
   "execution_count": 5,
   "metadata": {},
   "outputs": [
    {
     "name": "stdout",
     "output_type": "stream",
     "text": [
      "H\n",
      "e\n",
      "l\n",
      "l\n",
      "o\n",
      "w\n",
      "o\n",
      "r\n",
      "l\n",
      "d\n"
     ]
    }
   ],
   "source": [
    "st=\"Helloworld\"\n",
    "for i in st:\n",
    "    print(i)"
   ]
  },
  {
   "cell_type": "code",
   "execution_count": 17,
   "metadata": {},
   "outputs": [
    {
     "name": "stdout",
     "output_type": "stream",
     "text": [
      "d\n",
      "l\n",
      "r\n",
      "o\n",
      "w\n",
      "o\n",
      "l\n",
      "l\n",
      "e\n",
      "H\n"
     ]
    }
   ],
   "source": [
    "st=\"Helloworld\"\n",
    "s=\"\"\n",
    "for i in st:\n",
    "    s=i+s\n",
    "print(s)\n",
    "\n",
    "st=\"Helloworld\"\n",
    "s=\"\"\n",
    "for i in st:\n",
    "    s+=i\n",
    "print(s[::-1])\n",
    "\n",
    "\n",
    "st=\"Helloworld\"\n",
    "s=\"\"\n",
    "for i in st[::-1]:\n",
    "    s+=i\n",
    "print(s)\n",
    "\n",
    "\n",
    "st=\"Helloworld\"\n",
    "for i in st[::-1]:\n",
    "    print(i)\n",
    "\n",
    "\n",
    "\n",
    "\n",
    "st=\"Helloworld\"\n",
    "for i in range(len(st)-1,-1,-1):\n",
    "    print(i)\n",
    "\n",
    "\n",
    "st=\"Helloworld\"\n",
    "ind=len(st)-1\n",
    "for i in st:\n",
    "    print(st[ind])\n",
    "    ind-=1\n",
    "\n"
   ]
  },
  {
   "cell_type": "code",
   "execution_count": 25,
   "metadata": {},
   "outputs": [
    {
     "name": "stdout",
     "output_type": "stream",
     "text": [
      "P\n",
      "S\n",
      "I\n",
      "E\n",
      "S\n"
     ]
    }
   ],
   "source": [
    "st=\"PYSPIDERS\"\n",
    "count=0\n",
    "for i in st:\n",
    "    if count%2==0:\n",
    "        print(i)\n",
    "    count+=1\n",
    "\n",
    "\n",
    "\n",
    "st=\"PYSPIDERS\"\n",
    "for i in range(0,len(st),2):\n",
    "    print(st[i])\n",
    "\n",
    "\n",
    "\n",
    "st=\"PYSPIDERS\"\n",
    "for i in range(0,len(st)):\n",
    "    if i%2==0:\n",
    "        print(st[i])\n",
    "\n",
    "\n",
    "st=\"PYSPIDERS\"\n",
    "for i in st[::2]:\n",
    "    print(i)"
   ]
  },
  {
   "cell_type": "code",
   "execution_count": 26,
   "metadata": {},
   "outputs": [
    {
     "name": "stdout",
     "output_type": "stream",
     "text": [
      "HEL$O$AI$\n"
     ]
    }
   ],
   "source": [
    "st=\"HELLOHAII\"\n",
    "s=''\n",
    "for i in st:\n",
    "    if i not in s:\n",
    "        s+=i\n",
    "    else:\n",
    "        s+='$'\n",
    "print(s)\n"
   ]
  },
  {
   "cell_type": "code",
   "execution_count": 2,
   "metadata": {},
   "outputs": [
    {
     "name": "stdout",
     "output_type": "stream",
     "text": [
      "[10, 20, 60, 80, 77, 59]\n"
     ]
    },
    {
     "data": {
      "text/plain": [
       "[10, 20, 60, 80, 77, 59]"
      ]
     },
     "execution_count": 2,
     "metadata": {},
     "output_type": "execute_result"
    }
   ],
   "source": [
    "l=[10,20,60,80,77,59]\n",
    "t=[]\n",
    "for i in l:\n",
    "    t+=[i]\n",
    "print(t)\n",
    "\n",
    "\n",
    "def extract(coll):\n",
    "    t=[]\n",
    "    for i in coll:\n",
    "        t+=[i]\n",
    "    return t\n",
    "extract(l)"
   ]
  },
  {
   "cell_type": "code",
   "execution_count": 3,
   "metadata": {},
   "outputs": [
    {
     "data": {
      "text/plain": [
       "[10, 18, 16, 14, 176]"
      ]
     },
     "execution_count": 3,
     "metadata": {},
     "output_type": "execute_result"
    }
   ],
   "source": [
    "#wap to extract and store the even values from given list.\n",
    "l=[10,15,19,18,16,14,176,177]\n",
    "\n",
    "def sample(coll):\n",
    "    t=[]\n",
    "    for i in coll:\n",
    "        if i%2==0:\n",
    "            t+=[i]\n",
    "    return t\n",
    "sample(l) "
   ]
  },
  {
   "cell_type": "code",
   "execution_count": 4,
   "metadata": {},
   "outputs": [
    {
     "data": {
      "text/plain": [
       "234"
      ]
     },
     "execution_count": 4,
     "metadata": {},
     "output_type": "execute_result"
    }
   ],
   "source": [
    "#wap to sum of the even values from given list.\n",
    "l=[10,15,19,18,16,14,176,177]\n",
    "\n",
    "def sample(coll):\n",
    "    t=0\n",
    "    for i in coll:\n",
    "        if i%2==0:\n",
    "            t+=i\n",
    "    return t\n",
    "sample(l) "
   ]
  },
  {
   "cell_type": "code",
   "execution_count": 5,
   "metadata": {},
   "outputs": [
    {
     "data": {
      "text/plain": [
       "[177, 176, 14, 16, 18, 19, 15, 10]"
      ]
     },
     "execution_count": 5,
     "metadata": {},
     "output_type": "execute_result"
    }
   ],
   "source": [
    "#wap to reverse the values from given list.\n",
    "l=[10,15,19,18,16,14,176,177]\n",
    "\n",
    "def sample(coll):\n",
    "    t=[]\n",
    "    for i in coll:\n",
    "        t=[i]+t\n",
    "    return t\n",
    "sample(l) "
   ]
  },
  {
   "cell_type": "code",
   "execution_count": 9,
   "metadata": {},
   "outputs": [
    {
     "name": "stdout",
     "output_type": "stream",
     "text": [
      "[10, 150, 20, 30, 40]\n"
     ]
    }
   ],
   "source": [
    "l=[10,20,30,40]\n",
    "l[1:1]=[150]\n",
    "print(l)"
   ]
  },
  {
   "cell_type": "code",
   "execution_count": 7,
   "metadata": {},
   "outputs": [
    {
     "name": "stdout",
     "output_type": "stream",
     "text": [
      "1456027383616\n",
      "1456027383616\n",
      "1456027372352\n",
      "1456027372352\n",
      "[1, 2, 3, 4] 1456027383616\n",
      "[1, 2, 3, 4, 5] 1456027383616\n",
      "1456027382464\n",
      "1456027372352\n"
     ]
    }
   ],
   "source": [
    "l=[10,20,30]\n",
    "print(id(l))\n",
    "l.append(40)\n",
    "print(id(l))\n",
    "\n",
    "# append(): it is a predefine built-in function.\n",
    "# this function will accept the one input. \n",
    "#   1) new element/value\n",
    "# it will perform adding the new value end of the given collection.(it will concat the exact given value.)\n",
    "# it will accept any type of data. \n",
    "# this function will return existing list of old values with new values. but it will not change the existing memory address \n",
    "# the actual given value will present in right side of the collection.\n",
    "\n",
    "l=[10,20,30]\n",
    "print(id(l))\n",
    "l+=[40]\n",
    "print(id(l))\n",
    "\n",
    "\n",
    "T=[1,2,3,4]\n",
    "print(T,id(T))\n",
    "def u_append(coll,ele):\n",
    "    coll+=[ele]\n",
    "    return coll\n",
    "res=u_append(T,5)\n",
    "print(res,id(res))\n",
    "\n",
    "\n",
    "l=[10,20,30]\n",
    "print(id(l))\n",
    "l=l+[40]\n",
    "print(id(l))"
   ]
  },
  {
   "cell_type": "code",
   "execution_count": 19,
   "metadata": {},
   "outputs": [
    {
     "name": "stdout",
     "output_type": "stream",
     "text": [
      "[10, 20, 30, 'A', 'B', [10, 20]]\n",
      "[10, 20, 30, 'A', 'B', 10, 20]\n",
      "[10, 20, 30, 'A', 'B', 10, 20]\n",
      "[10, 20, 30, 'A', 'B', 10, 20]\n",
      "[10, 20, 30, 'A', 'B', 10, '10']\n",
      "[10, 20, 30, 'A', 'B', 'h', 'e', 'l', 'l', 'o']\n",
      "[10, 20, 30, 'A', 'B'] 1456027803008\n",
      "-1\n",
      "[10, 20, 30, 'A', 'B'] 1456027803008\n"
     ]
    }
   ],
   "source": [
    "x=[10,20,30,'A','B']\n",
    "x.append([10,20])\n",
    "print(x)\n",
    "\n",
    "x=[10,20,30,'A','B']\n",
    "x.extend([10,20])\n",
    "print(x)\n",
    "\n",
    "x=[10,20,30,'A','B']\n",
    "x.extend((10,20))\n",
    "print(x)\n",
    "\n",
    "\n",
    "x=[10,20,30,'A','B']\n",
    "x.extend({10,20})\n",
    "print(x)\n",
    "\n",
    "x=[10,20,30,'A','B']\n",
    "x.extend({10:20,'10':50})\n",
    "print(x)\n",
    "\n",
    "x=[10,20,30,'A','B']\n",
    "x.extend(\"hello\")\n",
    "print(x)\n",
    "\n",
    "# extend(): it is a predefine built-in function.\n",
    "# this function will accept the one input. \n",
    "#   1) new element/value (new value should be iterable value)\n",
    "# it will perform adding the new values ending of the given collection.(it will concat the only data items from iterable value.)\n",
    "# it will accept any type of collection data. \n",
    "# this function will return existing list of old values with new values. but it will not change the existing memory address \n",
    "# the actual given value's are present in right side of the collection.\n",
    "\n",
    "\n",
    "def u_extend(coll,ele):\n",
    "    if type(ele) not in [str,list,tuple,set,dict]:\n",
    "        return -1\n",
    "    for i in ele:\n",
    "        coll+=[i]\n",
    "x=[10,20,30,'A','B']\n",
    "print(x,id(x))\n",
    "print(u_extend(x,10))\n",
    "print(x,id(x))\n",
    "\n"
   ]
  },
  {
   "attachments": {},
   "cell_type": "markdown",
   "metadata": {},
   "source": []
  },
  {
   "cell_type": "code",
   "execution_count": 38,
   "metadata": {},
   "outputs": [
    {
     "name": "stdout",
     "output_type": "stream",
     "text": [
      " 7\n"
     ]
    }
   ],
   "source": [
    "t=[-5,1,6,-7,2,0,-1]\n",
    "max=0\n",
    "res=\"\"\n",
    "for i in range(0,len(t)-1):\n",
    "    l=[]\n",
    "    for j in range(i,len(t)):\n",
    "        l+=[t[j]]\n",
    "    for i in range(0,len(l)-1):\n",
    "        y=0\n",
    "        for j in range(i,len(l)):\n",
    "            y+=t[j]\n",
    "        if max<y:\n",
    "            max=y\n",
    "            \n",
    "print(res,max)"
   ]
  },
  {
   "cell_type": "code",
   "execution_count": 51,
   "metadata": {},
   "outputs": [
    {
     "name": "stdout",
     "output_type": "stream",
     "text": [
      "[-5, 1, 6, -7, 2, 0, -1] -4\n",
      "[1, 6, -7, 2, 0, -1] 1\n",
      "[6, -7, 2, 0, -1] 0\n",
      "[-7, 2, 0, -1] -6\n",
      "[2, 0, -1] 1\n",
      "[0, -1] -1\n",
      "[-5, 1, 6, -7, 2, 0] -3\n",
      "[1, 6, -7, 2, 0] 2\n",
      "[6, -7, 2, 0] 1\n",
      "[-7, 2, 0] -5\n",
      "[2, 0] 2\n",
      "[-5, 1, 6, -7, 2] -3\n",
      "[1, 6, -7, 2] 2\n",
      "[6, -7, 2] 1\n",
      "[-7, 2] -5\n",
      "[-5, 1, 6, -7] -5\n",
      "[1, 6, -7] 0\n",
      "[6, -7] -1\n",
      "[-5, 1, 6] 2\n",
      "[1, 6] 7\n",
      "[-5, 1] -4\n",
      "result [1, 6] 7\n"
     ]
    }
   ],
   "source": [
    "t=[-5,1,6,-7,2,0,-1]\n",
    "max=0\n",
    "res=\"\"\n",
    "for i in range(0,len(t)-1):\n",
    "    l=[]\n",
    "    for j in range(i,len(t)):\n",
    "        l+=[t[j]]\n",
    "    for i in range(0,len(l)-1):\n",
    "        y=[]\n",
    "        sum1=0\n",
    "        for j in range(i,len(l)):\n",
    "            y+=[t[j]]\n",
    "            sum1+=t[j]\n",
    "        print(y,sum1)\n",
    "        if max<sum1:\n",
    "            max=sum1\n",
    "            res=y\n",
    "    \n",
    "print(\"result\",res,max)"
   ]
  },
  {
   "cell_type": "code",
   "execution_count": 5,
   "metadata": {},
   "outputs": [
    {
     "name": "stdout",
     "output_type": "stream",
     "text": [
      "[10, 20, 30, 40, 50] 2052593521344\n",
      "2052593529792 2052593521344\n",
      "[10, 20, 1000, 30, 40, 50] 2052593521344\n"
     ]
    }
   ],
   "source": [
    "# l=[1,2,3]\n",
    "# l.insert(6,560)\n",
    "# print(l)\n",
    "# insert(): it is a predefine built-in function.\n",
    "# this function will accept the two inputs. \n",
    "#   1) index position\n",
    "#   1) new element/value.\n",
    "# it will adding the new values in specific position of the given collection.(it will concat the data items in specific position.)\n",
    "# it will accept any type of data. \n",
    "# this function will return existing list of old values with new values. but it will not change the existing memory address \n",
    "# the actual given value's are present in specific position of the collection.\n",
    "# if given index value is out of range this time it will add the value ending of the collection.\n",
    "\n",
    "l=[1,2,3,4,5,6]\n",
    "print(l,id(l))\n",
    "def u_insert(coll,ind,ele):\n",
    "    if len(coll)<ind:\n",
    "        coll+=[ele]\n",
    "    else:\n",
    "        coll[ind:ind]=[ele]\n",
    "u_insert(l,8,160)\n",
    "print(id(l),l)\n",
    "\n",
    "\n",
    "u=[10,20,30,40,50]\n",
    "print(u,id(u))\n",
    "def u_insert(coll,ind,ele):\n",
    "    temp=coll.copy()\n",
    "    print(id(temp),id(coll))\n",
    "    start=0\n",
    "    while start<len(temp):\n",
    "        del coll[0]\n",
    "        start+=1\n",
    "\n",
    "    i=0\n",
    "    while i<len(temp):\n",
    "        if ind==i:\n",
    "            coll+=[ele]\n",
    "            coll+=[temp[i]]\n",
    "        else:\n",
    "            coll+=[temp[i]]\n",
    "        i+=1\n",
    "u_insert(u,2,1000)\n",
    "print(u,id(u))\n",
    "\n",
    "\n",
    "\n",
    "st=\"Tinava bangaram\""
   ]
  },
  {
   "cell_type": "code",
   "execution_count": null,
   "metadata": {},
   "outputs": [],
   "source": []
  },
  {
   "cell_type": "code",
   "execution_count": 7,
   "metadata": {},
   "outputs": [
    {
     "name": "stdout",
     "output_type": "stream",
     "text": [
      "['a', 'b', 10, 'c', 'd', 'e']\n"
     ]
    }
   ],
   "source": [
    "x=['a','b','c','d','e']\n",
    "def l_insert(coll,ind,ele):\n",
    "    res=[]\n",
    "    for i in  range(0,len(coll)):\n",
    "        if ind==i:\n",
    "            res+=[ele,coll[i]]\n",
    "        else:\n",
    "            res+=coll[i]\n",
    "    print(res)\n",
    "l_insert(x,2,10)"
   ]
  },
  {
   "cell_type": "code",
   "execution_count": 11,
   "metadata": {},
   "outputs": [
    {
     "name": "stdout",
     "output_type": "stream",
     "text": [
      "[1, 2, 3] 2052598792448\n",
      "[] 2052598792448\n",
      "[10, 20, 30] 2052598839808\n",
      "[] 2052598839808\n"
     ]
    }
   ],
   "source": [
    "l=[1,2,3]\n",
    "print(l,id(l))\n",
    "l.clear()\n",
    "print(l,id(l))\n",
    "\n",
    "# clear(): it is a predefine built-in function.\n",
    "# this function will not accept any inputs. \n",
    "# it will clear the all values from the given collection.(it will delete each data items in the collection but it will not change the memory address.)\n",
    "# this function will return empty existing list, but it will not change the existing memory address.\n",
    "\n",
    "u=[10,20,30]\n",
    "print(u,id(u))\n",
    "\n",
    "def u_clear(coll):\n",
    "    for i in range(0,len(coll)):\n",
    "        del coll[0]\n",
    "u_clear(u)\n",
    "\n",
    "print(u,id(u))\n",
    "\n",
    "    "
   ]
  },
  {
   "cell_type": "code",
   "execution_count": 15,
   "metadata": {},
   "outputs": [
    {
     "name": "stdout",
     "output_type": "stream",
     "text": [
      "[1, 2, 3] 2052598943360\n",
      "[1, 2, 3] 2052598410816\n",
      "[10, 20, 30] 2052598928064\n",
      "[10, 20, 30] 2052598839808\n"
     ]
    }
   ],
   "source": [
    "l=[1,2,3]\n",
    "print(l,id(l))\n",
    "t=l.copy()\n",
    "print(t,id(t))\n",
    "\n",
    "\n",
    "\n",
    "# copy(): it is a predefine built-in function.\n",
    "# this function will not accept any inputs. \n",
    "# this function will return new collection but existing list same values.\n",
    "# internally it will perform the shallow copy operation.\n",
    "\n",
    "u=[10,20,30]\n",
    "print(u,id(u))\n",
    "\n",
    "def u_copy(coll):\n",
    "    res=[]\n",
    "    for i in coll:\n",
    "        res+=[i]\n",
    "    return res\n",
    "v=u_copy(u)\n",
    "\n",
    "print(v,id(v))"
   ]
  },
  {
   "cell_type": "code",
   "execution_count": 23,
   "metadata": {},
   "outputs": [
    {
     "name": "stdout",
     "output_type": "stream",
     "text": [
      "3\n",
      "3\n"
     ]
    }
   ],
   "source": [
    "l=[10,20,30,10,50,30,90,10]\n",
    "res=l.count(10)\n",
    "print(res)\n",
    "\n",
    "# count(): it is a predefine built-in function.\n",
    "# this function will accept the one input. \n",
    "#   1) new element/value.\n",
    "# if element is present. it will count the number of times the given values is occured in given list.\n",
    "# it will accept any type of data. \n",
    "# this function will return integer count value. \n",
    "#if given element is not present it return zero.\n",
    "\n",
    "def u_count(coll,ele):\n",
    "    count=0\n",
    "    for i in coll:\n",
    "        if i == ele:\n",
    "            count+=1\n",
    "    return count\n",
    "\n",
    "res=u_count(l,10)\n",
    "print(res)"
   ]
  },
  {
   "cell_type": "code",
   "execution_count": null,
   "metadata": {},
   "outputs": [],
   "source": [
    "def u_index(coll,ele):\n",
    "    for i in range(0,len(coll)):\n",
    "        if coll[i]==ele:\n",
    "            return i\n",
    "    return -1\n",
    "print(u_index(l,10))"
   ]
  },
  {
   "cell_type": "code",
   "execution_count": 39,
   "metadata": {},
   "outputs": [
    {
     "name": "stdout",
     "output_type": "stream",
     "text": [
      "2\n",
      "-1\n",
      "2\n"
     ]
    }
   ],
   "source": [
    "l=[10,20,30,40,50,60]\n",
    "print(l.index(30,1,-1))\n",
    "\n",
    "#index(): it is a predefine list function\n",
    "#it will find the element is present in given list and if element is present it return first occurence index position value either with or with out range.\n",
    "#this function will accept three arguments(inputs)\n",
    "# 1)Substring(element)\n",
    "# 2)start index position value\n",
    "# 3)end index position value\n",
    "# based on the range or without range it will finding element from left to right \n",
    "# and it found the positive index position value.\n",
    "#if element is present it returns first occurence index position values.\n",
    "# if element is not present it returns value error\n",
    "\n",
    "def u_index(coll,ele,start=0,end=0):\n",
    "    if end==0:\n",
    "        end=len(coll)\n",
    "    for i in range(start,end):\n",
    "        if coll[i]==ele:\n",
    "            return [i,len(coll)+(i)][start<0]\n",
    "    return -1\n",
    "print(u_index(l,30,1,-1))\n",
    "\n",
    "def u_index(coll,ele,start=0,end=0):\n",
    "    if start<0:\n",
    "        start=len(coll)+start\n",
    "    if end<0:\n",
    "        end=len(coll)+end\n",
    "    if end==0:\n",
    "        end=len(coll)\n",
    "    for i in range(start,end):\n",
    "        if coll[i]==ele:\n",
    "            return i\n",
    "    return -1\n",
    "print(u_index(l,30,1,10))\n"
   ]
  },
  {
   "cell_type": "code",
   "execution_count": 48,
   "metadata": {},
   "outputs": [
    {
     "name": "stdout",
     "output_type": "stream",
     "text": [
      "8\n"
     ]
    }
   ],
   "source": [
    "l=[10,20,30,40,50,60,10,50,10]\n",
    "def u_index(coll,ele,occur=1,start=0,end=0,):\n",
    "    if start<0:\n",
    "        start=len(coll)+start\n",
    "    if end<0:\n",
    "        end=len(coll)+end\n",
    "    if end==0:\n",
    "        end=len(coll)\n",
    "    count=0\n",
    "    for i in range(start,end):\n",
    "        if coll[i]==ele:\n",
    "            count+=1\n",
    "            if count==occur:\n",
    "                return i\n",
    "    return -1\n",
    "print(u_index(l,10,3,0,10))"
   ]
  },
  {
   "cell_type": "code",
   "execution_count": null,
   "metadata": {},
   "outputs": [],
   "source": [
    "#wap to eliminate last element from given list.\n",
    "t=[10,20,30,40,50,60]\n",
    "print(t,id(t))\n",
    "\n",
    "def u_pop(coll,pos=-1):\n",
    "    res=coll[pos]\n",
    "    del coll[pos]\n",
    "    return res\n",
    "print(u_pop(t))\n",
    "print(t,id(t))\n"
   ]
  },
  {
   "cell_type": "code",
   "execution_count": 56,
   "metadata": {},
   "outputs": [
    {
     "name": "stdout",
     "output_type": "stream",
     "text": [
      "[10, 20, 30, 40, 50, 60] 2215432538240\n",
      "[10, 20, 40, 50, 60] 2215432538240\n",
      "[10, 20, 30, 40, 50, 60] 2215432770368\n",
      "40\n",
      "[10, 20, 30, 50, 60] 2215432770368\n"
     ]
    }
   ],
   "source": [
    "l=[10,20,30,40,50,60]\n",
    "print(l,id(l))\n",
    "l.pop(2)\n",
    "print(l,id(l))\n",
    "\n",
    "\n",
    "#pop(): it is a predefine list function\n",
    "#it will find the element is present in given list and if element is present it delete the first occurence value and return the deleted element.\n",
    "#this function will accept one arguments(inputs)\n",
    "# 1)index position value\n",
    "# if user passed index value it will eliminate that position value otherwise it will eliminate the last index position value.\n",
    "# if element is not present it returns value error\n",
    "\n",
    "#wap to eliminate specific position element from given list.\n",
    "t=[10,20,30,40,50,60]\n",
    "print(t,id(t))\n",
    "\n",
    "def u_pop(coll,pos=-1):\n",
    "    res=coll[pos]\n",
    "    del coll[pos]\n",
    "    return res\n",
    "print(u_pop(t,3))\n",
    "print(t,id(t))\n",
    "\n"
   ]
  },
  {
   "cell_type": "code",
   "execution_count": 66,
   "metadata": {},
   "outputs": [
    {
     "name": "stdout",
     "output_type": "stream",
     "text": [
      "[10, 20, 30, 40, 50, 60, 20] 2215432658432\n",
      "[10, 20, 30, 40, 60, 20] 2215432658432\n",
      "[10, 20, 30, 40, 50, 60] 2215431851392\n",
      "[10, 20, 40, 50, 60] 2215431851392\n"
     ]
    }
   ],
   "source": [
    "l=[10,20,30,40,50,60,20]\n",
    "print(l,id(l))\n",
    "l.remove(50)\n",
    "print(l,id(l))\n",
    "\n",
    "\n",
    "#remove(): it is a predefine list function\n",
    "#it will find the element is present in given list and if element is present it delete the first occurence value.\n",
    "#this function will accept one arguments(inputs)\n",
    "# 1) actual value\n",
    "# if user assign actual value, it will eliminate that specified value only otherwise it will raise the exception.\n",
    "# if element is not present it returns value error\n",
    "\n",
    "#wap to eliminate specific element from given list.\n",
    "t=[10,20,30,40,50,60]\n",
    "print(t,id(t))\n",
    "\n",
    "def u_remove(coll,ele):\n",
    "    for i in range(0,len(coll)):\n",
    "        if coll[i]==ele:\n",
    "            del coll[i]\n",
    "            return None\n",
    "    return -1\n",
    "u_remove(t,30)\n",
    "print(t,id(t))"
   ]
  },
  {
   "cell_type": "code",
   "execution_count": 77,
   "metadata": {},
   "outputs": [
    {
     "name": "stdout",
     "output_type": "stream",
     "text": [
      "[10, 20, 30, 40, 50, 60] 2215431849088\n",
      "[60, 50, 40, 30, 20, 10] 2215431849088\n",
      "[10, 20, 30, 40, 50] 2215431849856\n",
      "[50, 40, 30, 20, 10] 2215431849856\n",
      "[10, 20, 30, 40, 50] 2215431856448\n",
      "[50, 40, 30, 20, 10] 2215431856448\n"
     ]
    }
   ],
   "source": [
    "t=[10,20,30,40,50,60]\n",
    "print(t,id(t))\n",
    "t.reverse()\n",
    "print(t,id(t))\n",
    "\n",
    "\n",
    "\n",
    "#reverse(): it is a predefine list function\n",
    "#it will reverse the all  elements in given list.\n",
    "#this function will not accept arguments(inputs)\n",
    "# if element is not present it returns value error\n",
    "\n",
    "t=[10,20,30,40,50]\n",
    "print(t,id(t))\n",
    "def u_reverse(coll):\n",
    "    j=-1 \n",
    "    for i in range(0,len(coll)//2):\n",
    "        coll[i],coll[j]=coll[j],coll[i]\n",
    "        j-=1\n",
    "u_reverse(t)\n",
    "print(t,id(t))\n",
    "\n",
    "\n",
    "\n",
    "t=[10,20,30,40,50]\n",
    "print(t,id(t))\n",
    "def u_reverse(coll):\n",
    "    for i in range(0,len(coll)//2):\n",
    "        coll[i],coll[(len(coll)-1)-i]=coll[(len(coll)-1)-i],coll[i]\n",
    "u_reverse(t)\n",
    "print(t,id(t))\n",
    "\n",
    "\n"
   ]
  },
  {
   "cell_type": "code",
   "execution_count": 51,
   "metadata": {},
   "outputs": [
    {
     "name": "stdout",
     "output_type": "stream",
     "text": [
      "[50, 20, 60, 10, 30]\n",
      "[10, 20, 30, 50, 60]\n",
      "[50, 20, 60, 10, 30]\n",
      "[10, 20, 30, 50, 60]\n"
     ]
    }
   ],
   "source": [
    "l=[50,20,60,10,30]\n",
    "print(l)\n",
    "def u_sort(coll):\n",
    "    for i in range(0,len(coll)):\n",
    "        for j in range(0,len(coll)-1-i):\n",
    "            if coll[j]>coll[j+1]:\n",
    "                coll[j],coll[j+1]=coll[j+1],coll[j]\n",
    "u_sort(l)\n",
    "print(l)\n",
    "\n",
    "l=[50,20,60,10,30]\n",
    "print(l)\n",
    "def u_sort(coll):\n",
    "    for i in range(0,len(coll)-1):\n",
    "        for j in range(0,len(coll)):\n",
    "            if coll[j]>coll[i+1]:\n",
    "                coll[j],coll[i+1]=coll[i+1],coll[j]\n",
    "u_sort(l)\n",
    "print(l)\n",
    "\n",
    "l=[50,20,60,10,30]\n",
    "print(l)\n",
    "def u_sort(coll):\n",
    "    for i in range(0,len(coll)-1):\n",
    "        for j in range(i+1,len(coll)):\n",
    "            if coll[i]>coll[j]:\n",
    "                coll[i],coll[j]=coll[j],coll[i]\n",
    "\n",
    "u_sort(l)\n",
    "print(l)\n",
    "\n"
   ]
  },
  {
   "cell_type": "code",
   "execution_count": 64,
   "metadata": {},
   "outputs": [
    {
     "name": "stdout",
     "output_type": "stream",
     "text": [
      "[50, 20, 60, 10, 30]\n",
      "[10, 20, 30, 50, 60]\n"
     ]
    }
   ],
   "source": [
    "l=[50,20,60,10,30]\n",
    "print(l)\n",
    "def u_sort(coll):\n",
    "    for i in range(0,len(coll)-1):\n",
    "        for j in range(i+1,len(coll)):\n",
    "            if coll[i]>coll[j]:\n",
    "                coll[i],coll[j]=coll[j],coll[i]\n",
    "\n",
    "u_sort(l)\n",
    "print(l)"
   ]
  },
  {
   "cell_type": "code",
   "execution_count": 10,
   "metadata": {},
   "outputs": [
    {
     "name": "stdout",
     "output_type": "stream",
     "text": [
      "{10, 20, 30} 2142099056544\n",
      "{10, 20, (150, 890), 30} 2142099056544\n",
      "{10, 20, 30} 2142099057888\n",
      "{10, 20, (150, 890), 30} 2142099057888\n"
     ]
    }
   ],
   "source": [
    "#Wap to add the any value inside the set   #except (list,set,dict)\n",
    "s={10,20,30}\n",
    "print(s,id(s))\n",
    "s.add((150,890))\n",
    "print(s,id(s))\n",
    "\n",
    "s={10,20,30}\n",
    "print(s,id(s))\n",
    "def u_add(coll,ele):\n",
    "    if type(ele) in [list,set,dict]:\n",
    "        return -1\n",
    "    coll|={ele}\n",
    "u_add(s,(150,890))\n",
    "print(s,id(s))"
   ]
  },
  {
   "cell_type": "code",
   "execution_count": 23,
   "metadata": {},
   "outputs": [
    {
     "name": "stdout",
     "output_type": "stream",
     "text": [
      "{10, 20, 30} 2142099059904\n",
      "{100, 10, 20, 30}\n",
      "{10, 20, 30} 2142099059904\n",
      "{10, 20, 30} 2142099059456\n",
      "{100, 10, 20, 30}\n",
      "{10, 20, 30} 2142099059456\n",
      "{10, 20, 30}\n"
     ]
    }
   ],
   "source": [
    "#union operation\n",
    "\n",
    "s={10,20,30}\n",
    "print(s,id(s))\n",
    "print(s.union({100}))\n",
    "print(s,id(s))\n",
    "\n",
    "s={10,20,30}\n",
    "print(s,id(s))\n",
    "\n",
    "def U_union(coll,ele):\n",
    "    if type(ele)!=set:\n",
    "        return -1\n",
    "    return coll|ele\n",
    "print(U_union(s,{100}))\n",
    "print(s,id(s))\n",
    "print(s)"
   ]
  },
  {
   "cell_type": "code",
   "execution_count": 24,
   "metadata": {},
   "outputs": [
    {
     "name": "stdout",
     "output_type": "stream",
     "text": [
      "{10, 20, 30} 2142099061024\n",
      "None\n",
      "{100, 10, 20, 30} 2142099061024\n",
      "{10, 20, 30} 2142099059456\n",
      "{100, 10, 20, 30}\n",
      "{100, 10, 20, 30} 2142099059456\n",
      "{100, 10, 20, 30}\n"
     ]
    }
   ],
   "source": [
    "#update operation\n",
    "\n",
    "s={10,20,30}\n",
    "print(s,id(s))\n",
    "print(s.update({100}))\n",
    "print(s,id(s))\n",
    "\n",
    "s={10,20,30}\n",
    "print(s,id(s))\n",
    "\n",
    "def U_update(coll,ele):\n",
    "    if type(ele)!=set:\n",
    "        return -1\n",
    "    coll|=ele\n",
    "    return coll\n",
    "print(U_update(s,{100}))\n",
    "print(s,id(s))\n",
    "print(s)"
   ]
  },
  {
   "cell_type": "code",
   "execution_count": 28,
   "metadata": {},
   "outputs": [
    {
     "name": "stdout",
     "output_type": "stream",
     "text": [
      "{10, 20, 30} 2142099059904\n",
      "{10, 30}\n",
      "{10, 20, 30} 2142099059904\n",
      "{200, 100, 300} 2142099059456 {200, 500, 150} 2142099059904\n",
      "{100, 300}\n",
      "{200, 100, 300} 2142099059456 {200, 500, 150} 2142099059904\n"
     ]
    }
   ],
   "source": [
    "#difference operation\n",
    "\n",
    "s={10,20,30}\n",
    "print(s,id(s))\n",
    "print(s.difference({20,60,40}))\n",
    "print(s,id(s))\n",
    "\n",
    "s={100,200,300}\n",
    "t={150,200,500}\n",
    "print(s,id(s),t,id(t))\n",
    "def u_difference(coll,ele):\n",
    "    if type(ele)!=set:\n",
    "        return -1\n",
    "    return coll-ele\n",
    "print(u_difference(s,t))\n",
    "print(s,id(s),t,id(t))\n"
   ]
  },
  {
   "cell_type": "code",
   "execution_count": null,
   "metadata": {},
   "outputs": [],
   "source": []
  },
  {
   "cell_type": "code",
   "execution_count": 31,
   "metadata": {},
   "outputs": [
    {
     "name": "stdout",
     "output_type": "stream",
     "text": [
      "{10, 20, 30} 2142099061024\n",
      "None\n",
      "{10, 30} 2142099061024\n",
      "{200, 100, 300} 2142099059456 {200, 500, 150} 2142099061024\n",
      "None\n",
      "{100, 300} 2142099059456 {200, 500, 150} 2142099061024\n"
     ]
    }
   ],
   "source": [
    "#difference UPDATE operation\n",
    "\n",
    "s={10,20,30}\n",
    "print(s,id(s))\n",
    "print(s.difference_update({20,60,40}))\n",
    "print(s,id(s))\n",
    "\n",
    "s={100,200,300}\n",
    "t={150,200,500}\n",
    "print(s,id(s),t,id(t))\n",
    "def u_difference_update(coll,ele):\n",
    "    if type(ele)!=set:\n",
    "        return -1\n",
    "    coll-=ele\n",
    "print(u_difference_update(s,t))\n",
    "print(s,id(s),t,id(t))\n"
   ]
  },
  {
   "cell_type": "code",
   "execution_count": 33,
   "metadata": {},
   "outputs": [
    {
     "name": "stdout",
     "output_type": "stream",
     "text": [
      "{10, 20, 30} 2142099061024\n",
      "{20}\n",
      "{10, 20, 30} 2142099061024\n",
      "{10, 20, 30} 2142099059456 {40, 20, 60} 2142099061024\n",
      "{20}\n",
      "{10, 20, 30} 2142099059456 {40, 20, 60} 2142099061024\n"
     ]
    }
   ],
   "source": [
    "#Intersection operation\n",
    "\n",
    "s={10,20,30}\n",
    "print(s,id(s))\n",
    "print(s.intersection({20,60,40}))\n",
    "print(s,id(s))\n",
    "\n",
    "s={10,20,30}\n",
    "t={20,60,40}\n",
    "print(s,id(s),t,id(t))\n",
    "def u_intersection(coll,ele):\n",
    "    if type(ele)!=set:\n",
    "        return -1\n",
    "    return coll&ele\n",
    "print(u_intersection(s,t))\n",
    "print(s,id(s),t,id(t))\n"
   ]
  },
  {
   "cell_type": "code",
   "execution_count": 35,
   "metadata": {},
   "outputs": [
    {
     "name": "stdout",
     "output_type": "stream",
     "text": [
      "{10, 20, 30} 2142099061024\n",
      "None\n",
      "{20} 2142099061024\n",
      "{10, 20, 30} 2142099059456 {40, 20, 60} 2142099061024\n",
      "None\n",
      "{20} 2142099059456 {40, 20, 60} 2142099061024\n"
     ]
    }
   ],
   "source": [
    "#Intersection_update operation\n",
    "\n",
    "s={10,20,30}\n",
    "print(s,id(s))\n",
    "print(s.intersection_update({20,60,40}))\n",
    "print(s,id(s))\n",
    "\n",
    "s={10,20,30}\n",
    "t={20,60,40}\n",
    "print(s,id(s),t,id(t))\n",
    "def u_intersection(coll,ele):\n",
    "    if type(ele)!=set:\n",
    "        return -1\n",
    "    coll&=ele\n",
    "print(u_intersection(s,t))\n",
    "print(s,id(s),t,id(t))\n"
   ]
  },
  {
   "cell_type": "code",
   "execution_count": 40,
   "metadata": {},
   "outputs": [
    {
     "name": "stdout",
     "output_type": "stream",
     "text": [
      "{10, 20, 30} 2142099057440 {40, 20, 60} 2142099058560\n",
      "{40, 10, 60, 30}\n",
      "{10, 20, 30} 2142099057440\n",
      "{10, 20, 30} 2142099060800 {40, 20, 60} 2142099057440\n",
      "{40, 10, 60, 30}\n",
      "{10, 20, 30} 2142099060800 {40, 20, 60} 2142099057440\n"
     ]
    }
   ],
   "source": [
    "#symmetric_difference operation\n",
    "\n",
    "s={10,20,30}\n",
    "t={20,60,40}\n",
    "print(s,id(s),t,id(t))\n",
    "print(s.symmetric_difference(t))\n",
    "print(s,id(s))\n",
    "\n",
    "s={10,20,30}\n",
    "t={20,60,40}\n",
    "print(s,id(s),t,id(t))\n",
    "def u_symmetric_difference(coll,ele):\n",
    "    if type(ele)!=set:\n",
    "        return -1\n",
    "    return coll^ele\n",
    "print(u_symmetric_difference(s,t))\n",
    "print(s,id(s),t,id(t))\n"
   ]
  },
  {
   "cell_type": "code",
   "execution_count": 42,
   "metadata": {},
   "outputs": [
    {
     "name": "stdout",
     "output_type": "stream",
     "text": [
      "{10, 20, 30} 2142099060800 {40, 20, 60} 2142099057440\n",
      "None\n",
      "{40, 10, 60, 30} 2142099060800\n",
      "{10, 20, 30} 2142099058560 {40, 20, 60} 2142099060800\n",
      "None\n",
      "{40, 10, 60, 30} 2142099058560 {40, 20, 60} 2142099060800\n"
     ]
    }
   ],
   "source": [
    "#symmetric_difference_update operation\n",
    "\n",
    "s={10,20,30}\n",
    "t={20,60,40}\n",
    "print(s,id(s),t,id(t))\n",
    "print(s.symmetric_difference_update(t))\n",
    "print(s,id(s))\n",
    "\n",
    "s={10,20,30}\n",
    "t={20,60,40}\n",
    "print(s,id(s),t,id(t))\n",
    "def u_symmetric_difference_update(coll,ele):\n",
    "    if type(ele)!=set:\n",
    "        return -1\n",
    "    coll^=ele\n",
    "print(u_symmetric_difference_update(s,t))\n",
    "print(s,id(s),t,id(t))\n"
   ]
  },
  {
   "cell_type": "code",
   "execution_count": 45,
   "metadata": {},
   "outputs": [
    {
     "name": "stdout",
     "output_type": "stream",
     "text": [
      "{10, 20, 30} 2142099058560\n",
      "set() 2142099058560\n",
      "{10, 20, 30} 2142099057440\n",
      "set() 2142099057440\n"
     ]
    }
   ],
   "source": [
    "s={10,20,30}\n",
    "print(s,id(s))\n",
    "s.clear()\n",
    "print(s,id(s))\n",
    "\n",
    "\n",
    "s={10,20,30}\n",
    "print(s,id(s))\n",
    "def u_clear(coll):\n",
    "    coll-=coll\n",
    "u_clear(s)\n",
    "print(s,id(s))\n",
    "\n"
   ]
  },
  {
   "cell_type": "code",
   "execution_count": 49,
   "metadata": {},
   "outputs": [
    {
     "name": "stdout",
     "output_type": "stream",
     "text": [
      "{20, 10, 15.06, 30, (10, 20)} 2142099058560\n",
      "{20, 10, 15.06, 30, (10, 20)} 2142104689504\n",
      "{20, 10, 15.06, 30, (10, 20)} 2142099057440\n",
      "{(10, 20), 20, 10, 30, 15.06} 2142104690848\n"
     ]
    }
   ],
   "source": [
    "s={10,20,30,(10,20),15.06}\n",
    "print(s,id(s))\n",
    "res=s.copy()\n",
    "print(res,id(res))\n",
    "\n",
    "\n",
    "s={10,20,30,(10,20),15.06}\n",
    "print(s,id(s))\n",
    "def u_copy(coll):\n",
    "    st=set()\n",
    "    for i in coll:\n",
    "        st|={i}\n",
    "    return st\n",
    "res=u_copy(s)\n",
    "print(res,id(res))"
   ]
  },
  {
   "cell_type": "code",
   "execution_count": 20,
   "metadata": {},
   "outputs": [
    {
     "name": "stdout",
     "output_type": "stream",
     "text": [
      "{10} 2298820252768\n",
      "10\n",
      "set() 2298820252768\n",
      "{10} 2298820252992\n",
      "10\n",
      "set() 2298820252992\n"
     ]
    }
   ],
   "source": [
    "s={10}\n",
    "print(s,id(s))\n",
    "print(s.pop())\n",
    "print(s,id(s))\n",
    "\n",
    "#pop(): it is a predefine list function\n",
    "# it will eliminate the one element from the given set.\n",
    "# this function will not accept any arguments(inputs)\n",
    "# it will return deleted element from the set.\n",
    "# if element is not present it returns value error\n",
    "\n",
    "#wap to eliminate specific position element from given set.\n",
    "\n",
    "s={10}\n",
    "print(s,id(s))\n",
    "def u_pop(coll):\n",
    "    if len(coll)==0:\n",
    "        return -1\n",
    "    ele=list(coll)[-1]\n",
    "    coll-={ele}\n",
    "    return ele\n",
    "print(u_pop(s))\n",
    "print(s,id(s))"
   ]
  },
  {
   "cell_type": "code",
   "execution_count": 43,
   "metadata": {},
   "outputs": [
    {
     "name": "stdout",
     "output_type": "stream",
     "text": [
      "{10, 20, 30} 2298820259712\n",
      "None\n",
      "{10, 20} 2298820259712\n",
      "{10, 50, 60} 2298820263520\n",
      "None\n",
      "{10, 60} 2298820263520\n"
     ]
    }
   ],
   "source": [
    "s={10,20,30}\n",
    "print(s,id(s))\n",
    "print(s.remove(30))\n",
    "print(s,id(s))\n",
    "\n",
    "\n",
    "#remove(): it is a predefine list function\n",
    "#it will find the given element is present in given set or not and if element is present it will delete the specified element from the give set. \n",
    "# it will not return any value.\n",
    "# if element is not present is return keyerror.\n",
    "# this function will accept one arguments(inputs)\n",
    "# 1)actual value.\n",
    "#wap to eliminate specific position element from given list.\n",
    "\n",
    "\n",
    "s={10,50,60}\n",
    "print(s,id(s))\n",
    "def u_remove(coll,ele):\n",
    "    if type(coll)!=set:\n",
    "        return -1\n",
    "    if ele not in coll:\n",
    "        return -1\n",
    "    else:\n",
    "        coll-={ele}\n",
    "print(u_remove(s,50))\n",
    "print(s,id(s))\n",
    "\n"
   ]
  },
  {
   "cell_type": "code",
   "execution_count": 48,
   "metadata": {},
   "outputs": [
    {
     "name": "stdout",
     "output_type": "stream",
     "text": [
      "{10, 50, 60} 2298820263296\n",
      "None\n",
      "{10, 50, 60} 2298820263296\n"
     ]
    }
   ],
   "source": [
    "# s={10,20,30}\n",
    "# print(s,id(s))\n",
    "# print(s.discard(50))\n",
    "# print(s,id(s))\n",
    "\n",
    "# s={10,20,30}\n",
    "# print(s,id(s))\n",
    "# print(s.remove(50))\n",
    "# print(s,id(s))\n",
    "\n",
    "\n",
    "#discard(): it is a predefine list function\n",
    "#it will find the given element is present in given set or not and if element is present it will delete the specified element from the give set. \n",
    "# it will not return any value.\n",
    "# if element is not present is return None.\n",
    "# this function will accept one arguments(inputs)\n",
    "# 1)actual value.\n",
    "#wap to eliminate specific position element from given list.\n",
    "\n",
    "\n",
    "s={10,50,60}\n",
    "print(s,id(s))\n",
    "def u_discard(coll,ele):\n",
    "    if type(coll)!=set:\n",
    "        return -1\n",
    "    if ele not in coll:\n",
    "        return None\n",
    "    else:\n",
    "        coll-={ele}\n",
    "print(u_discard(s,40))\n",
    "print(s,id(s))"
   ]
  },
  {
   "cell_type": "code",
   "execution_count": 86,
   "metadata": {},
   "outputs": [
    {
     "name": "stdout",
     "output_type": "stream",
     "text": [
      "True\n",
      "True\n"
     ]
    }
   ],
   "source": [
    "s={10,20}\n",
    "t={30:20}\n",
    "print(s.isdisjoint(t))\n",
    "\n",
    "#isdisjoint(): it is a predefine list function\n",
    "#it will compare the all elements from the both the sets. if two sets have totally null intersections then it returns true otherwise false.\n",
    "#it will compare both the sets. if in case any un commom elements from both sets then it retrun true otherwise false  \n",
    "# this function return boolean values. \n",
    "# this function will accept one arguments(inputs)\n",
    "# 1)actual COLLECTION.\n",
    "#if in case user given any collection for second colletion, internally it will convert to set and it will perform the disjoint operation.\n",
    "\n",
    "\n",
    "def u_isdisjoint(coll,coll1):\n",
    "    if type(coll)!=set:\n",
    "        return -1\n",
    "    if type(coll1) in [int,float,complex,bytes,bool,type(None)]:\n",
    "        return -1\n",
    "    if type(coll1) in [list,dict,tuple,str]:\n",
    "        coll1=set(coll1)\n",
    "    res=coll&coll1\n",
    "    if res==set():\n",
    "        return True\n",
    "    else:\n",
    "        return False\n",
    "print(u_isdisjoint(s,t))\n"
   ]
  },
  {
   "cell_type": "code",
   "execution_count": 109,
   "metadata": {},
   "outputs": [
    {
     "name": "stdout",
     "output_type": "stream",
     "text": [
      "True\n",
      "True\n",
      "True\n"
     ]
    }
   ],
   "source": [
    "s={10,20}\n",
    "t={10,20,30}\n",
    "print(s.issubset(t))\n",
    "\n",
    "#issubset(): it is a predefine list function\n",
    "#it will compare the all elements from the set1 to set2. if set1 each value is present in set2 then it return True otherwise false.\n",
    "# this function return boolean values. \n",
    "# this function will accept one arguments(inputs)\n",
    "# 1)actual COLLECTION.\n",
    "#if in case user given any collection for set2, internally it will convert to set then it will perform the subset operation.\n",
    "\n",
    "\n",
    "\n",
    "def u_issubset(coll,coll1):\n",
    "    if type(coll)!=set:\n",
    "        return -1\n",
    "    if type(coll1) in [int,float,complex,bytes,bool,type(None)]:\n",
    "        return -1\n",
    "    if type(coll1) in [list,dict,tuple,str]:\n",
    "        coll1=set(coll1)\n",
    "\n",
    "    for i in coll:\n",
    "        if i not in coll1:\n",
    "            return False\n",
    "    return True\n",
    "\n",
    "print(u_issubset(s,t))\n",
    "\n",
    "\n",
    "\n",
    "def u_issubset(coll,coll1):\n",
    "    if type(coll)!=set:\n",
    "        return -1\n",
    "    if type(coll1) in [int,float,complex,bytes,bool,type(None)]:\n",
    "        return -1\n",
    "    if type(coll1) in [list,dict,tuple,str]:\n",
    "        coll1=set(coll1)\n",
    "\n",
    "    res=coll&coll1\n",
    "    if res==coll:\n",
    "        return True\n",
    "    else:\n",
    "        return False\n",
    "    print(res)\n",
    "\n",
    "print(u_issubset(s,t))\n",
    "\n"
   ]
  },
  {
   "cell_type": "code",
   "execution_count": 119,
   "metadata": {},
   "outputs": [
    {
     "name": "stdout",
     "output_type": "stream",
     "text": [
      "True\n",
      "True\n",
      "True\n"
     ]
    }
   ],
   "source": [
    "s={10,20,30,40}\n",
    "t={10,20,30}\n",
    "print(s.issuperset(t))\n",
    "\n",
    "\n",
    "#issuperset(): it is a predefine list function\n",
    "#it will compare the all elements from the set2 to set. if set2 each element is present in set1 then it return True otherwise false.\n",
    "# this function return boolean values. \n",
    "# this function will accept one arguments(inputs)\n",
    "# 1)actual COLLECTION.\n",
    "#if in case user given any collection for set2, internally it will convert to set then it will perform the subset operation.\n",
    "\n",
    "def u_issuperset(coll,coll1):\n",
    "    if type(coll)!=set:\n",
    "        return -1\n",
    "    if type(coll1) in [int,float,complex,bytes,bool,type(None)]:\n",
    "        return -1\n",
    "    if type(coll1) in [list,dict,tuple,str]:\n",
    "        coll1=set(coll1)\n",
    "\n",
    "    for i in coll1:\n",
    "        if i not in coll:\n",
    "            return False\n",
    "    return True\n",
    "\n",
    "print(u_issuperset(s,t))\n",
    "\n",
    "def u_issuperset(coll,coll1):\n",
    "    if type(coll)!=set:\n",
    "        return -1\n",
    "    if type(coll1) in [int,float,complex,bytes,bool,type(None)]:\n",
    "        return -1\n",
    "    if type(coll1) in [list,dict,tuple,str]:\n",
    "        coll1=set(coll1)\n",
    "\n",
    "    res=coll1&coll\n",
    "    if res==coll1:\n",
    "        return True\n",
    "    else:\n",
    "        return False\n",
    "\n",
    "print(u_issuperset(s,t))"
   ]
  },
  {
   "cell_type": "code",
   "execution_count": 12,
   "metadata": {},
   "outputs": [
    {
     "name": "stdout",
     "output_type": "stream",
     "text": [
      "{'a': 10, 'b': 20, 'c': 30} 2843708574336\n",
      "{} 2843708574336\n",
      "{'a': 10, 'b': 20, 'c': 30} 2843708574464\n",
      "{} 2843708574464\n"
     ]
    }
   ],
   "source": [
    "d={'a':10,'b':20,'c':30}\n",
    "print(d,id(d))\n",
    "\n",
    "d.clear()\n",
    "\n",
    "print(d,id(d))\n",
    "\n",
    "\n",
    "# clear(): it is a predefine built-in function.\n",
    "# this function will not accept any inputs. \n",
    "# it will clear the all key and values from the given dict.(it will delete each key and value items in the collection but it will not change the memory address.)\n",
    "# this function will return empty existing dict, but it will not change the existing memory address.\n",
    "\n",
    "d={'a':10,'b':20,'c':30}\n",
    "print(d,id(d))\n",
    "def u_clear(coll):\n",
    "    s=list(coll)\n",
    "\n",
    "    for i in s:\n",
    "        del coll[i]\n",
    "    return coll\n",
    "u_clear(d)\n",
    "print(d,id(d))\n"
   ]
  },
  {
   "cell_type": "code",
   "execution_count": 16,
   "metadata": {},
   "outputs": [
    {
     "name": "stdout",
     "output_type": "stream",
     "text": [
      "{'a': 10, 'b': [10, 20], 'c': (10, 20), 'd': 'hello'} 2843708597184\n",
      "{'a': 10, 'b': [10, 20], 'c': (10, 20), 'd': 'hello'} 2843708572992\n",
      "{'a': 10, 'b': [10, 20], 'c': (10, 20), 'd': 'hello'} 2843708479296\n",
      "{'a': 10, 'b': [10, 20], 'c': (10, 20), 'd': 'hello'} 2843708633024\n"
     ]
    }
   ],
   "source": [
    "d={'a':10,'b':[10,20],'c':(10,20),'d':'hello'}\n",
    "print(d,id(d))\n",
    "t=d.copy()\n",
    "print(t,id(t))\n",
    "\n",
    "\n",
    "\n",
    "# copy(): it is a predefine built-in function.\n",
    "# this function will not accept any inputs. \n",
    "# this function will return new dict collection but existing key and value are same.\n",
    "# internally it will perform the shallow copy operation.\n",
    "\n",
    "d={'a':10,'b':[10,20],'c':(10,20),'d':'hello'}\n",
    "print(d,id(d))\n",
    "def u_copy(coll):\n",
    "    res={}\n",
    "    for i in coll:\n",
    "        res[i]=coll[i]\n",
    "    return res\n",
    "temp=u_copy(d)\n",
    "print(temp,id(temp))\n"
   ]
  },
  {
   "cell_type": "code",
   "execution_count": 41,
   "metadata": {},
   "outputs": [
    {
     "name": "stdout",
     "output_type": "stream",
     "text": [
      "18000\n",
      "{'a': 10, 'b': [10, 20], 'c': (10, 20), 'd': 'hello'}\n",
      "10\n"
     ]
    }
   ],
   "source": [
    "d={'a':10,'b':[10,20],'c':(10,20),'d':'hello'}\n",
    "print(d.get('e',18000))\n",
    "print(d)\n",
    "\n",
    "# get(): it is a predefine built-in function.\n",
    "# this function will accept the two inputs. \n",
    "#   1) Key element\n",
    "#   1) Default element/value.\n",
    "# it key is present in dict, it will return the value for the key otherwise None or default value.\n",
    "# if user is not specified the default values it returns None otherwise user defined value.\n",
    "#syntax   ==>   dict.get(key,default) -->value/default value\n",
    "\n",
    "d={'a':10,'b':[10,20],'c':(10,20),'d':'hello'}\n",
    "def u_get(coll,key,default=None):\n",
    "    if key not in coll:\n",
    "        return default\n",
    "    else:\n",
    "        return coll[key]\n",
    "print(u_get(d,'a',15000))\n"
   ]
  },
  {
   "cell_type": "code",
   "execution_count": 58,
   "metadata": {},
   "outputs": [
    {
     "name": "stdout",
     "output_type": "stream",
     "text": [
      "1500\n",
      "{'a': 10, 'b': [10, 20], 'c': (10, 20), 'd': 'hello', 'e': 1500}\n",
      "None\n",
      "{'a': 10, 'b': [10, 20], 'c': (10, 20), 'd': 'hello', 'e': 1500}\n"
     ]
    }
   ],
   "source": [
    "d={'a':10,'b':[10,20],'c':(10,20),'d':'hello'}\n",
    "\n",
    "print(d.setdefault('e',1500))\n",
    "print(d)\n",
    "\n",
    "# setdefault(): it is a predefine built-in function.\n",
    "# this function will accept the two inputs. \n",
    "#   1) Key element\n",
    "#   1) Default element/value.\n",
    "# it key is present in dict, it will return the value for the key otherwise it will store the key with None or Userdefine value.\n",
    "# if user is not specified the default values it will store None otherwise user defined value.\n",
    "\n",
    "#syntax   ==>   dict.setdefault(key,default) -->value/default value\n",
    "\n",
    "d={'a':10,'b':[10,20],'c':(10,20),'d':'hello'}\n",
    "def u_set_default(coll,key,default=None):\n",
    "    if key not in coll:\n",
    "        coll[key]=default\n",
    "    else:\n",
    "        return coll[key]\n",
    "print(u_set_default(d,'e',1500))\n",
    "print(d)"
   ]
  },
  {
   "cell_type": "code",
   "execution_count": 82,
   "metadata": {},
   "outputs": [
    {
     "name": "stdout",
     "output_type": "stream",
     "text": [
      "{'a': 10, 'b': [10, 20], 'c': (10, 20), 'd': 'hello', 'e': 150}\n",
      "{'a': 10, 'b': [10, 20], 'c': (10, 20), 'd': 'hello', 'e': 150}\n",
      "{'a': 10, 'b': [10, 20], 'c': (10, 20), 'd': 'hello', 'e': 150}\n"
     ]
    }
   ],
   "source": [
    "d={'a':10,'b':[10,20],'c':(10,20),'d':'hello'}\n",
    "d.update({'e':150})\n",
    "print(d)\n",
    "\n",
    "# update(): it is a predefine built-in function.\n",
    "# this function will accept the one inputs. \n",
    "#   1) new Dict with key and value pairs\n",
    "# it will adding the new key values in given dict.(it will concat the two dictinary's.)\n",
    "# it will accept only dict. \n",
    "# this function will return existing list of old key values with new key values. but it will not change the existing memory address \n",
    "# the actual given key value's are present in as it is.\n",
    "# if given key is already exist the old value is override to new value. otherwise it will concat new key and value.\n",
    "\n",
    "\n",
    "d={'a':10,'b':[10,20],'c':(10,20),'d':'hello'}\n",
    "def u_update(coll,coll1):\n",
    "    if type(coll)!=dict and type(coll1)!=dict:\n",
    "        return -1\n",
    "    coll|=coll1\n",
    "u_update(d,{'e':150})\n",
    "print(d)\n",
    "\n",
    "\n",
    "d={'a':10,'b':[10,20],'c':(10,20),'d':'hello'}\n",
    "def u_update(coll,coll1):\n",
    "    if type(coll)!=dict and type(coll1)!=dict:\n",
    "        return -1\n",
    "    for i in coll1:\n",
    "        coll[i]=coll1[i]\n",
    "u_update(d,{'e':150})\n",
    "print(d)\n"
   ]
  },
  {
   "cell_type": "code",
   "execution_count": 98,
   "metadata": {},
   "outputs": [
    {
     "name": "stdout",
     "output_type": "stream",
     "text": [
      "10\n",
      "{'b': [10, 20], 'c': (10, 20), 'd': 'hello', 'e': 150}\n",
      "-1\n",
      "{'a': 10, 'b': [10, 20], 'c': (10, 20), 'd': 'hello', 'e': 150}\n"
     ]
    }
   ],
   "source": [
    "d={'a': 10, 'b': [10, 20], 'c': (10, 20), 'd': 'hello', 'e': 150}\n",
    "print(d.pop('a'))\n",
    "print(d)\n",
    "\n",
    "#pop(): it is a predefine list function\n",
    "#it will find the element is present in given dict or not. if element is present it delete the key with value and return the deleted element for the key.\n",
    "#this function will accept one arguments(inputs)\n",
    "# 1) key \n",
    "# if element is not present it returns key error\n",
    "# syntax:     dict.pop(key)\n",
    "\n",
    "d={'a': 10, 'b': [10, 20], 'c': (10, 20), 'd': 'hello', 'e': 150}\n",
    "def u_pop(coll,key):\n",
    "    if key not in coll:\n",
    "        return -1\n",
    "    else:\n",
    "        res=coll[key]\n",
    "        del coll[key]\n",
    "        return res\n",
    "print(u_pop(d,'f'))\n",
    "print(d)\n"
   ]
  },
  {
   "cell_type": "code",
   "execution_count": 114,
   "metadata": {},
   "outputs": [
    {
     "name": "stdout",
     "output_type": "stream",
     "text": [
      "('e', 150)\n",
      "{'a': 10, 'b': [10, 20], 'c': (10, 20), 'd': 'hello'}\n",
      "('e', 150)\n",
      "{'a': 10, 'b': [10, 20], 'c': (10, 20), 'd': 'hello'}\n"
     ]
    }
   ],
   "source": [
    "d={'a': 10, 'b': [10, 20], 'c': (10, 20), 'd': 'hello', 'e': 150}\n",
    "print(d.popitem())\n",
    "print(d)\n",
    "\n",
    "\n",
    "\n",
    "\n",
    "#popitem(): it is a predefine list function\n",
    "#it will remove key and value pair in given dict and it will return the deleted key value in the form of tuple format  (key,value).\n",
    "#it will eliminate last key value pair in dict.\n",
    "#this function will not accept any arguments(inputs)\n",
    "# if empty dict it return key error.\n",
    "# syntax     dict.popitem() ---> (key,value)\n",
    "\n",
    "d={'a': 10, 'b': [10, 20], 'c': (10, 20), 'd': 'hello', 'e': 150}\n",
    "def u_popitem(coll):\n",
    "    if len(coll)==0:\n",
    "        return -1\n",
    "    else:\n",
    "        res=list(coll)[-1]\n",
    "        t=(res,coll[res])\n",
    "        del coll[res]\n",
    "        return t\n",
    "    \n",
    "print(u_popitem(d))\n",
    "print(d)\n",
    "\n",
    "\n",
    "\n"
   ]
  },
  {
   "cell_type": "code",
   "execution_count": 120,
   "metadata": {},
   "outputs": [
    {
     "name": "stdout",
     "output_type": "stream",
     "text": [
      "dict_keys(['a', 'b', 'c', 'd'])\n"
     ]
    },
    {
     "data": {
      "text/plain": [
       "['a', 'b', 'c', 'd']"
      ]
     },
     "execution_count": 120,
     "metadata": {},
     "output_type": "execute_result"
    }
   ],
   "source": [
    "d={'a':10,'b':[10,20],'c':(10,20),'d':'hello'}\n",
    "print(d.keys())\n",
    "\n",
    "# keys(): it is a predefine built-in function.\n",
    "# this function will not accept any inputs. \n",
    "# it will fetch and return the all the keys from the dict in form of dict_keys object.\n",
    "# we can't utilize the dict_keys object. if we want to user do the type casting or give to the dynamic iterator.\n",
    "#syntax   ==>   dict.keys() -->value/default value\n",
    "\n",
    "d={'a':10,'b':[10,20],'c':(10,20),'d':'hello'}\n",
    "def u_keys(coll):\n",
    "    if type(coll)!=dict:\n",
    "        return -1\n",
    "    return list(coll)\n",
    "u_keys(d)\n",
    "\n"
   ]
  },
  {
   "cell_type": "code",
   "execution_count": 121,
   "metadata": {},
   "outputs": [
    {
     "name": "stdout",
     "output_type": "stream",
     "text": [
      "dict_values([10, [10, 20], (10, 20), 'hello'])\n"
     ]
    },
    {
     "data": {
      "text/plain": [
       "[10, [10, 20], (10, 20), 'hello']"
      ]
     },
     "execution_count": 121,
     "metadata": {},
     "output_type": "execute_result"
    }
   ],
   "source": [
    "d={'a':10,'b':[10,20],'c':(10,20),'d':'hello'}\n",
    "print(d.values())\n",
    "\n",
    "# values(): it is a predefine built-in function.\n",
    "# this function will not accept any inputs. \n",
    "# it will fetch and return the all the values from the dict in form of dict_values object.\n",
    "# we can't utilize the dict_values object. if we want to user do the type casting or give to the dynamic iterator.\n",
    "#syntax   ==>   dict.values() -->value/default value\n",
    "\n",
    "d={'a':10,'b':[10,20],'c':(10,20),'d':'hello'}\n",
    "def u_values(coll):\n",
    "    res=[]\n",
    "    if type(coll)!=dict:\n",
    "        return -1\n",
    "    for i in coll:\n",
    "        res+=[coll[i]]\n",
    "    return res\n",
    "u_values(d)"
   ]
  },
  {
   "cell_type": "code",
   "execution_count": 124,
   "metadata": {},
   "outputs": [
    {
     "name": "stdout",
     "output_type": "stream",
     "text": [
      "dict_items([('a', 10), ('b', [10, 20]), ('c', (10, 20)), ('d', 'hello')])\n"
     ]
    },
    {
     "data": {
      "text/plain": [
       "[('a', 10), ('b', [10, 20]), ('c', (10, 20)), ('d', 'hello')]"
      ]
     },
     "execution_count": 124,
     "metadata": {},
     "output_type": "execute_result"
    }
   ],
   "source": [
    "d={'a':10,'b':[10,20],'c':(10,20),'d':'hello'}\n",
    "print(d.items())\n",
    "\n",
    "# items(): it is a predefine built-in function.\n",
    "# this function will not accept any inputs. \n",
    "# it will fetch and return the all the items from the dict in form of dict_items object.\n",
    "# we can't utilize the dict_items object. if we want to user do the type casting or give to the dynamic iterator.\n",
    "#syntax   ==>   dict.items() -->value/default value\n",
    "\n",
    "d={'a':10,'b':[10,20],'c':(10,20),'d':'hello'}\n",
    "def u_items(coll):\n",
    "    res=[]\n",
    "    if type(coll)!=dict:\n",
    "        return -1\n",
    "    for i in coll:\n",
    "        res+=[(i,coll[i])]\n",
    "    return res\n",
    "u_items(d)"
   ]
  }
 ],
 "metadata": {
  "kernelspec": {
   "display_name": "Python 3",
   "language": "python",
   "name": "python3"
  },
  "language_info": {
   "codemirror_mode": {
    "name": "ipython",
    "version": 3
   },
   "file_extension": ".py",
   "mimetype": "text/x-python",
   "name": "python",
   "nbconvert_exporter": "python",
   "pygments_lexer": "ipython3",
   "version": "3.11.4"
  },
  "orig_nbformat": 4
 },
 "nbformat": 4,
 "nbformat_minor": 2
}
