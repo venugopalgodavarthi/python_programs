{
 "cells": [
  {
   "cell_type": "code",
   "execution_count": 2,
   "metadata": {},
   "outputs": [
    {
     "name": "stdout",
     "output_type": "stream",
     "text": [
      "<pymysql.connections.Connection object at 0x0000022E6EA36710>\n",
      "<pymysql.cursors.Cursor object at 0x0000022E6E86FD50>\n"
     ]
    }
   ],
   "source": [
    "import pymysql\n",
    "dbconn=pymysql.connect(host='127.0.0.1',port=3306,user='root',password='root',db='interview')\n",
    "print(dbconn)\n",
    "cus=dbconn.cursor()\n",
    "print(cus)\n",
    "\n"
   ]
  }
 ],
 "metadata": {
  "kernelspec": {
   "display_name": "Python 3",
   "language": "python",
   "name": "python3"
  },
  "language_info": {
   "codemirror_mode": {
    "name": "ipython",
    "version": 3
   },
   "file_extension": ".py",
   "mimetype": "text/x-python",
   "name": "python",
   "nbconvert_exporter": "python",
   "pygments_lexer": "ipython3",
   "version": "3.11.3"
  },
  "orig_nbformat": 4
 },
 "nbformat": 4,
 "nbformat_minor": 2
}
